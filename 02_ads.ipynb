{
 "cells": [
  {
   "cell_type": "code",
   "execution_count": null,
   "metadata": {},
   "outputs": [],
   "source": [
    "# default_exp ads"
   ]
  },
  {
   "cell_type": "code",
   "execution_count": null,
   "metadata": {},
   "outputs": [],
   "source": [
    "%load_ext autoreload\n",
    "%autoreload 2"
   ]
  },
  {
   "cell_type": "code",
   "execution_count": null,
   "metadata": {},
   "outputs": [
    {
     "name": "stdout",
     "output_type": "stream",
     "text": [
      "\u001b[K     |████████████████████████████████| 61kB 2.6MB/s \n",
      "\u001b[K     |████████████████████████████████| 40kB 3.4MB/s \n",
      "\u001b[?25h"
     ]
    }
   ],
   "source": [
    "#hide\n",
    "!pip install -qU nbdev fastcore"
   ]
  },
  {
   "cell_type": "code",
   "execution_count": null,
   "metadata": {},
   "outputs": [
    {
     "name": "stdout",
     "output_type": "stream",
     "text": [
      "\u001b[K     |████████████████████████████████| 1.0MB 7.0MB/s \n",
      "\u001b[K     |████████████████████████████████| 51kB 4.8MB/s \n",
      "\u001b[K     |████████████████████████████████| 1.2MB 17.0MB/s \n",
      "\u001b[K     |████████████████████████████████| 10.1MB 24.7MB/s \n",
      "\u001b[K     |████████████████████████████████| 92kB 7.1MB/s \n",
      "\u001b[K     |████████████████████████████████| 51kB 6.0MB/s \n",
      "\u001b[K     |████████████████████████████████| 266kB 46.9MB/s \n",
      "\u001b[K     |████████████████████████████████| 153kB 45.7MB/s \n",
      "\u001b[K     |████████████████████████████████| 6.5MB 40.6MB/s \n",
      "\u001b[?25h  Building wheel for curlify (setup.py) ... \u001b[?25l\u001b[?25hdone\n",
      "  Building wheel for pycountry (setup.py) ... \u001b[?25l\u001b[?25hdone\n",
      "  Building wheel for idna-ssl (setup.py) ... \u001b[?25l\u001b[?25hdone\n",
      "\u001b[31mERROR: boto3 1.14.63 has requirement botocore<1.18.0,>=1.17.63, but you'll have botocore 1.17.44 which is incompatible.\u001b[0m\n",
      "\u001b[31mERROR: responses 0.11.0 has requirement urllib3>=1.25.10, but you'll have urllib3 1.24.3 which is incompatible.\u001b[0m\n",
      "\u001b[31mERROR: python-facebook-api 0.7.1 has requirement requests<3.0.0,>=2.24.0, but you'll have requests 2.23.0 which is incompatible.\u001b[0m\n"
     ]
    }
   ],
   "source": [
    "#hide\n",
    "!pip install -qU gspread facebook_business python-facebook-api s3fs"
   ]
  },
  {
   "cell_type": "code",
   "execution_count": null,
   "metadata": {},
   "outputs": [
    {
     "name": "stdout",
     "output_type": "stream",
     "text": [
      "/content/drive/My Drive/upwork/Martin followers/tomorrowswig_followers\n"
     ]
    }
   ],
   "source": [
    "#hide\n",
    "from pathlib import Path\n",
    "path = Path(\"/content/drive/My Drive/upwork/Martin followers/tomorrowswig_followers\")\n",
    "%cd \"{path}\""
   ]
  },
  {
   "cell_type": "code",
   "execution_count": null,
   "metadata": {},
   "outputs": [],
   "source": [
    "#hide\n",
    "from nbdev import * \n",
    "from nbdev.showdoc import *\n",
    "from fastcore.test import *"
   ]
  },
  {
   "cell_type": "markdown",
   "metadata": {},
   "source": [
    "## Facebook Auth"
   ]
  },
  {
   "cell_type": "code",
   "execution_count": null,
   "metadata": {},
   "outputs": [],
   "source": [
    "%%capture\n",
    "#hide\n",
    "\n",
    "import yaml\n",
    "with open(\"facebook_creds.yml\") as f:\n",
    "    data = yaml.safe_load(f)\n",
    "    %env APP_ID {data.get(\"APP_ID\")}\n",
    "    %env APP_SECRET {data.get(\"APP_SECRET\")}\n",
    "    %env TOKEN {data.get(\"TOKEN\")}\n",
    "    %env AD_ACC_ID {data.get(\"AD_ACC_ID\")}\n",
    "    %env USER_ID {data.get(\"USER_ID\")}\n",
    "    %env AWS_ACCESS_KEY_ID {data.get(\"AWS_ACCESS_KEY_ID\")}\n",
    "    %env AWS_SECRET_ACCESS_KEY {data.get(\"AWS_SECRET_ACCESS_KEY\")}\n",
    "    %env BUCKET {data.get(\"BUCKET\")}"
   ]
  },
  {
   "cell_type": "code",
   "execution_count": null,
   "metadata": {},
   "outputs": [],
   "source": [
    "#export\n",
    "from tomorrowswig_followers.core import *"
   ]
  },
  {
   "cell_type": "code",
   "execution_count": null,
   "metadata": {},
   "outputs": [],
   "source": [
    "#export\n",
    "import os\n",
    "from typing import *\n",
    "\n",
    "from datetime import datetime, timedelta\n",
    "from functools import partial\n",
    "\n",
    "import pandas as pd\n",
    "import numpy as np\n",
    "from facebook_business.api import FacebookAdsApi\n",
    "from facebook_business.adobjects.ad import Ad\n",
    "from facebook_business.adobjects.adset import AdSet\n",
    "from facebook_business.adobjects.adaccount import AdAccount\n",
    "\n",
    "AD_ACC_ID = os.environ.get(\"AD_ACC_ID\")"
   ]
  },
  {
   "cell_type": "code",
   "execution_count": null,
   "metadata": {},
   "outputs": [],
   "source": [
    "APP_ID = os.environ.get(\"APP_ID\")\n",
    "APP_SECRET = os.environ.get(\"APP_SECRET\")\n",
    "TOKEN = os.environ.get(\"TOKEN\")\n",
    "USER_ID = os.environ.get(\"USER_ID\")"
   ]
  },
  {
   "cell_type": "markdown",
   "metadata": {},
   "source": [
    "## Ads reporting"
   ]
  },
  {
   "cell_type": "code",
   "execution_count": null,
   "metadata": {},
   "outputs": [],
   "source": [
    "#export\n",
    "FacebookAdsApi.init(APP_ID, APP_SECRET, TOKEN)\n",
    "account = AdAccount(AD_ACC_ID)"
   ]
  },
  {
   "cell_type": "code",
   "execution_count": null,
   "metadata": {},
   "outputs": [],
   "source": [
    "# account.get_campaigns(fields=[\"status\", \"effective_status\", \"name\",], params = {\n",
    "#   'effective_status': ['ACTIVE'], \"is_completed\": False,\n",
    "# })"
   ]
  },
  {
   "cell_type": "code",
   "execution_count": null,
   "metadata": {},
   "outputs": [],
   "source": [
    "# account.get_ad_sets(fields=[\"status\", \"effective_status\", \"name\", \"learning_stage_info\"], )"
   ]
  },
  {
   "cell_type": "markdown",
   "metadata": {},
   "source": [
    "https://github.com/facebook/facebook-python-business-sdk/blob/master/facebook_business/adobjects/adsinsights.py"
   ]
  },
  {
   "cell_type": "code",
   "execution_count": null,
   "metadata": {},
   "outputs": [],
   "source": [
    "insights = account.get_insights(fields=[\n",
    "    \"ad_id\",\n",
    "    \"adset_id\",\n",
    "    \"ad_name\",\n",
    "    \"clicks\",\n",
    "    \"cpc\",\n",
    "    \"ctr\",\n",
    "    \"cpm\",\n",
    "    \"cost_per_action_type\",\n",
    "    \"spend\",\n",
    "    \"impressions\",\n",
    "    \"reach\",\n",
    "    \"actions\",\n",
    "    \"video_avg_time_watched_actions\",\n",
    "    \"video_p50_watched_actions\",\n",
    "    \"video_p75_watched_actions\",\n",
    "    \"video_p95_watched_actions\",\n",
    "\n",
    "], params={\n",
    "    'level': \"ad\",\n",
    "    'date_preset': \"yesterday\",\n",
    "    # \"date_start\": \"1595116800\",\n",
    "    # \"date_stop\": \"1595203200\"\n",
    "})\n"
   ]
  },
  {
   "cell_type": "code",
   "execution_count": null,
   "metadata": {},
   "outputs": [],
   "source": [
    "from facebook_business.adobjects.adsinsights import *\n",
    "fields = [f for f in AdsInsights.Field.__dict__ if not f.startswith(\"__\")]"
   ]
  },
  {
   "cell_type": "code",
   "execution_count": null,
   "metadata": {},
   "outputs": [
    {
     "data": {
      "text/plain": [
       "'cost_per_unique_conversion unique_conversions'"
      ]
     },
     "execution_count": null,
     "metadata": {
      "tags": []
     },
     "output_type": "execute_result"
    }
   ],
   "source": [
    "\" \".join([fields[56], fields[105]])"
   ]
  },
  {
   "cell_type": "code",
   "execution_count": null,
   "metadata": {},
   "outputs": [],
   "source": [
    "# account.get_insights(fields=[\"ad_id\", \"quality_ranking\", \"engagement_rate_ranking\",\n",
    "#                              \"conversion_rate_ranking\", \"ad_name\"], params={\n",
    "#     'level': AdsInsights.Level.ad,\n",
    "#     'date_preset': AdsInsights.DatePreset.yesterday,\n",
    "# })"
   ]
  },
  {
   "cell_type": "code",
   "execution_count": null,
   "metadata": {},
   "outputs": [],
   "source": [
    "# account.get_insights(fields=fields[:56] + fields[57:105] + fields[106:], params={\n",
    "#     'level': AdsInsights.Level.ad,\n",
    "#     'date_preset': AdsInsights.DatePreset.last_3d,\n",
    "# })[2]"
   ]
  },
  {
   "cell_type": "code",
   "execution_count": null,
   "metadata": {},
   "outputs": [],
   "source": [
    "#export\n",
    "COLUMNS = [\"Ad Name\", \"Ads Followers Change\", \"% (Clicks)\", \"% (Impressions)\", \"Cost Per Follow\", \"Delivery Type\",\n",
    "           \"Clicks (All)\", \"Link Clicks\", \"CPC (All)\" , \"CPC (Cost per Link Click)\",\n",
    "           \"CTR (All)\", \"CPM (Cost per 1,000 Impressions)\", \"Amount Spent (USD)\", \"Impressions\", \"Reach\", \"Post Reactions\", \"Post Shares\",\n",
    "           \"Video Average Play Time\", \"Video Plays at 50%\", \"Video Plays at 75%\", \"Video Plays at 95%\"]"
   ]
  },
  {
   "cell_type": "code",
   "execution_count": null,
   "metadata": {},
   "outputs": [],
   "source": [
    "#export\n",
    "def get_insights(date: str) -> Dict:\n",
    "    return account.get_insights(fields=[\n",
    "        \"ad_id\",\n",
    "        \"adset_id\",\n",
    "        \"ad_name\",\n",
    "        \"clicks\",\n",
    "        \"cpc\",\n",
    "        \"ctr\",\n",
    "        \"cpm\",\n",
    "        \"cost_per_action_type\",\n",
    "        \"spend\",\n",
    "        \"impressions\",\n",
    "        \"reach\",\n",
    "        \"actions\",\n",
    "        \"video_avg_time_watched_actions\",\n",
    "        \"video_p50_watched_actions\",\n",
    "        \"video_p75_watched_actions\",\n",
    "        \"video_p95_watched_actions\",\n",
    "    ], params={\n",
    "        \"level\": \"ad\",\n",
    "        \"time_range\": {\"since\": date,\n",
    "                       \"until\": date},\n",
    "    })"
   ]
  },
  {
   "cell_type": "code",
   "execution_count": null,
   "metadata": {},
   "outputs": [],
   "source": [
    "#export\n",
    "def get_action(cell, name):\n",
    "    if isinstance(cell, float):\n",
    "        return 0\n",
    "    action = [a for a in cell if a[\"action_type\"] == name]\n",
    "    if action:\n",
    "        return float(action[0][\"value\"])\n",
    "    return 0"
   ]
  },
  {
   "cell_type": "code",
   "execution_count": null,
   "metadata": {},
   "outputs": [],
   "source": [
    "#export\n",
    "def add_country_total(df: pd.DataFrame) -> None:\n",
    "    dupes = df[df.index.duplicated(False)]\n",
    "    if not len(dupes):\n",
    "        return\n",
    "\n",
    "    to_mean = [\"cpc\", \"cpm\", \"ctr\", \"CPC (Cost per Link Click)\"]\n",
    "    to_sum = set(df.columns).difference(set(to_mean + [\"ad_name\", \"Delivery Type\"]))\n",
    "    total = dupes.iloc[0,:].copy()\n",
    "    index = dupes.index[0]\n",
    "    total[\"ad_name\"] = f\"{index} total\"\n",
    "    total[to_mean] = dupes[to_mean].apply(np.mean)\n",
    "    total[to_sum] = dupes[to_sum].astype(int).apply(sum)\n",
    "    df = df.append(total)"
   ]
  },
  {
   "cell_type": "code",
   "execution_count": null,
   "metadata": {},
   "outputs": [],
   "source": [
    "ad = Ad(\"23844751184140691\")"
   ]
  },
  {
   "cell_type": "code",
   "execution_count": null,
   "metadata": {},
   "outputs": [
    {
     "data": {
      "text/plain": [
       "'MX'"
      ]
     },
     "execution_count": null,
     "metadata": {
      "tags": []
     },
     "output_type": "execute_result"
    }
   ],
   "source": [
    "ad = ad.api_get(fields=[\"targeting\"])\n",
    "ad[\"targeting\"][\"geo_locations\"][\"countries\"][0]"
   ]
  },
  {
   "cell_type": "code",
   "execution_count": null,
   "metadata": {},
   "outputs": [
    {
     "data": {
      "text/plain": [
       "<AdSet> {\n",
       "    \"id\": \"23844063827180691\",\n",
       "    \"status\": \"ACTIVE\"\n",
       "}"
      ]
     },
     "execution_count": null,
     "metadata": {
      "tags": []
     },
     "output_type": "execute_result"
    }
   ],
   "source": [
    "AdSet(\"23844063827180691\").api_get(fields=[\"learning_stage_info\", \"status\"])"
   ]
  },
  {
   "cell_type": "code",
   "execution_count": null,
   "metadata": {},
   "outputs": [],
   "source": [
    "#export\n",
    "def get_delivery(ids: List[str]) -> List[Dict]:\n",
    "    deliveries = []\n",
    "    for id in ids:\n",
    "        adset = AdSet(id[0]).api_get(fields=[\"learning_stage_info\", \"status\"])\n",
    "        delivery = adset.get(\"learning_stage_info\")\n",
    "        status = adset.get(\"status\")\n",
    "        if delivery:\n",
    "            delivery = status if delivery.get(\"status\") == \"SUCCESS\" else delivery.get(\"status\")\n",
    "        else:\n",
    "            delivery = status\n",
    "        deliveries.append({\"ad_id\": id[1], \"adset_id\": id[0], \"Delivery Type\": delivery})\n",
    "    return deliveries"
   ]
  },
  {
   "cell_type": "code",
   "execution_count": null,
   "metadata": {},
   "outputs": [],
   "source": [
    "assert get_delivery([[\"23844128955750691\", \"23844703941280691\"],\n",
    "                     [\"23844223938640691\",\"23844703855040691\"],\n",
    "                     [\"23844063827180691\", \"23844751253080691\"]]) == [{'Delivery Type': 'ACTIVE',\n",
    "                                                                       'ad_id': '23844703941280691',\n",
    "                                                                       'adset_id': '23844128955750691'},\n",
    "                                                                      {'Delivery Type': 'PAUSED',\n",
    "                                                                       'ad_id': '23844703855040691',\n",
    "                                                                       'adset_id': '23844223938640691'},\n",
    "                                                                      {'Delivery Type': 'ACTIVE',\n",
    "                                                                       'ad_id': '23844751253080691',\n",
    "                                                                       'adset_id': '23844063827180691'}]"
   ]
  },
  {
   "cell_type": "code",
   "execution_count": null,
   "metadata": {},
   "outputs": [],
   "source": [
    "# Ad.Field.__dict__.keys()"
   ]
  },
  {
   "cell_type": "code",
   "execution_count": null,
   "metadata": {},
   "outputs": [],
   "source": [
    "#export\n",
    "def get_countries() -> pd.DataFrame:\n",
    "    countries = []\n",
    "    ads = account.get_ads(fields=[\"id\", \"targeting\"])\n",
    "    for ad in ads:\n",
    "        # ad = Ad(id).api_get(fields=[\"targeting\"])\n",
    "        locs = ad[\"targeting\"].get(\"geo_locations\")\n",
    "        if locs:\n",
    "            c = locs.get(\"countries\")\n",
    "            if c:\n",
    "                country = c[0]\n",
    "            else:\n",
    "                country = \"US\"\n",
    "            countries.append({\"ad_id\": ad[\"id\"], \"country\": country})\n",
    "    return pd.DataFrame(countries)"
   ]
  },
  {
   "cell_type": "code",
   "execution_count": null,
   "metadata": {},
   "outputs": [],
   "source": [
    "# assert get_countries([\"23844695610150691\", \"23844698190420691\"]) == [{'ad_id': '23844695610150691', 'country': 'CA'},\n",
    "#                                                                      {'ad_id': '23844698190420691', 'country': 'US'}]"
   ]
  },
  {
   "cell_type": "code",
   "execution_count": null,
   "metadata": {},
   "outputs": [],
   "source": [
    "df = pd.DataFrame(get_insights(\"2020-06-10\"))\n",
    "floats = [\"cpc\", \"cpm\", \"ctr\", \"spend\"]\n",
    "df[floats] = df[floats].astype(float)\n",
    "ints = [\"clicks\", \"impressions\", \"reach\"]\n",
    "df[ints] = df[ints].astype(int)"
   ]
  },
  {
   "cell_type": "code",
   "execution_count": null,
   "metadata": {},
   "outputs": [],
   "source": [
    "countries = get_countries()"
   ]
  },
  {
   "cell_type": "code",
   "execution_count": null,
   "metadata": {},
   "outputs": [],
   "source": [
    "df = df.merge(countries)"
   ]
  },
  {
   "cell_type": "code",
   "execution_count": null,
   "metadata": {},
   "outputs": [
    {
     "data": {
      "text/html": [
       "<div>\n",
       "<style scoped>\n",
       "    .dataframe tbody tr th:only-of-type {\n",
       "        vertical-align: middle;\n",
       "    }\n",
       "\n",
       "    .dataframe tbody tr th {\n",
       "        vertical-align: top;\n",
       "    }\n",
       "\n",
       "    .dataframe thead th {\n",
       "        text-align: right;\n",
       "    }\n",
       "</style>\n",
       "<table border=\"1\" class=\"dataframe\">\n",
       "  <thead>\n",
       "    <tr style=\"text-align: right;\">\n",
       "      <th></th>\n",
       "      <th>actions</th>\n",
       "      <th>ad_id</th>\n",
       "      <th>ad_name</th>\n",
       "      <th>adset_id</th>\n",
       "      <th>clicks</th>\n",
       "      <th>cost_per_action_type</th>\n",
       "      <th>cpc</th>\n",
       "      <th>cpm</th>\n",
       "      <th>ctr</th>\n",
       "      <th>date_start</th>\n",
       "      <th>date_stop</th>\n",
       "      <th>impressions</th>\n",
       "      <th>reach</th>\n",
       "      <th>spend</th>\n",
       "      <th>video_avg_time_watched_actions</th>\n",
       "      <th>video_p50_watched_actions</th>\n",
       "      <th>video_p75_watched_actions</th>\n",
       "      <th>video_p95_watched_actions</th>\n",
       "      <th>country</th>\n",
       "      <th>Delivery Type</th>\n",
       "    </tr>\n",
       "  </thead>\n",
       "  <tbody>\n",
       "    <tr>\n",
       "      <th>0</th>\n",
       "      <td>[{'action_type': 'video_view', 'value': '960'}...</td>\n",
       "      <td>23844703855040691</td>\n",
       "      <td>3 - Argentina - General 2-D</td>\n",
       "      <td>23844223938640691</td>\n",
       "      <td>37</td>\n",
       "      <td>[{'action_type': 'video_view', 'value': '0.002...</td>\n",
       "      <td>0.054865</td>\n",
       "      <td>0.278425</td>\n",
       "      <td>0.507475</td>\n",
       "      <td>2020-06-10</td>\n",
       "      <td>2020-06-10</td>\n",
       "      <td>7291</td>\n",
       "      <td>7230</td>\n",
       "      <td>2.03</td>\n",
       "      <td>[{'action_type': 'video_view', 'value': '2'}]</td>\n",
       "      <td>[{'action_type': 'video_view', 'value': '1435'}]</td>\n",
       "      <td>[{'action_type': 'video_view', 'value': '300'}]</td>\n",
       "      <td>[{'action_type': 'video_view', 'value': '192'}]</td>\n",
       "      <td>AR</td>\n",
       "      <td>PAUSED</td>\n",
       "    </tr>\n",
       "    <tr>\n",
       "      <th>1</th>\n",
       "      <td>[{'action_type': 'video_view', 'value': '1880'...</td>\n",
       "      <td>23844703941280691</td>\n",
       "      <td>3 - Indonesia - General Ad 2-D</td>\n",
       "      <td>23844128955750691</td>\n",
       "      <td>139</td>\n",
       "      <td>[{'action_type': 'video_view', 'value': '0.001...</td>\n",
       "      <td>0.018705</td>\n",
       "      <td>0.216992</td>\n",
       "      <td>1.160073</td>\n",
       "      <td>2020-06-10</td>\n",
       "      <td>2020-06-10</td>\n",
       "      <td>11982</td>\n",
       "      <td>11972</td>\n",
       "      <td>2.60</td>\n",
       "      <td>[{'action_type': 'video_view', 'value': '2'}]</td>\n",
       "      <td>[{'action_type': 'video_view', 'value': '2289'}]</td>\n",
       "      <td>[{'action_type': 'video_view', 'value': '693'}]</td>\n",
       "      <td>[{'action_type': 'video_view', 'value': '442'}]</td>\n",
       "      <td>ID</td>\n",
       "      <td>ACTIVE</td>\n",
       "    </tr>\n",
       "    <tr>\n",
       "      <th>2</th>\n",
       "      <td>[{'action_type': 'video_view', 'value': '206'}...</td>\n",
       "      <td>23844751184140691</td>\n",
       "      <td>2 - Mexico - General Ad #2-D</td>\n",
       "      <td>23844063827180691</td>\n",
       "      <td>17</td>\n",
       "      <td>[{'action_type': 'video_view', 'value': '0.003...</td>\n",
       "      <td>0.038235</td>\n",
       "      <td>0.527597</td>\n",
       "      <td>1.379870</td>\n",
       "      <td>2020-06-10</td>\n",
       "      <td>2020-06-10</td>\n",
       "      <td>1232</td>\n",
       "      <td>1232</td>\n",
       "      <td>0.65</td>\n",
       "      <td>[{'action_type': 'video_view', 'value': '2'}]</td>\n",
       "      <td>[{'action_type': 'video_view', 'value': '252'}]</td>\n",
       "      <td>[{'action_type': 'video_view', 'value': '64'}]</td>\n",
       "      <td>[{'action_type': 'video_view', 'value': '35'}]</td>\n",
       "      <td>MX</td>\n",
       "      <td>ACTIVE</td>\n",
       "    </tr>\n",
       "    <tr>\n",
       "      <th>3</th>\n",
       "      <td>[{'action_type': 'video_view', 'value': '354'}...</td>\n",
       "      <td>23844751253080691</td>\n",
       "      <td>2 - Mexico - General Ad 2-I</td>\n",
       "      <td>23844063827180691</td>\n",
       "      <td>30</td>\n",
       "      <td>[{'action_type': 'video_view', 'value': '0.003...</td>\n",
       "      <td>0.035667</td>\n",
       "      <td>0.377425</td>\n",
       "      <td>1.058201</td>\n",
       "      <td>2020-06-10</td>\n",
       "      <td>2020-06-10</td>\n",
       "      <td>2835</td>\n",
       "      <td>2829</td>\n",
       "      <td>1.07</td>\n",
       "      <td>[{'action_type': 'video_view', 'value': '2'}]</td>\n",
       "      <td>[{'action_type': 'video_view', 'value': '570'}]</td>\n",
       "      <td>[{'action_type': 'video_view', 'value': '103'}]</td>\n",
       "      <td>[{'action_type': 'video_view', 'value': '71'}]</td>\n",
       "      <td>MX</td>\n",
       "      <td>ACTIVE</td>\n",
       "    </tr>\n",
       "  </tbody>\n",
       "</table>\n",
       "</div>"
      ],
      "text/plain": [
       "                                             actions  ... Delivery Type\n",
       "0  [{'action_type': 'video_view', 'value': '960'}...  ...        PAUSED\n",
       "1  [{'action_type': 'video_view', 'value': '1880'...  ...        ACTIVE\n",
       "2  [{'action_type': 'video_view', 'value': '206'}...  ...        ACTIVE\n",
       "3  [{'action_type': 'video_view', 'value': '354'}...  ...        ACTIVE\n",
       "\n",
       "[4 rows x 20 columns]"
      ]
     },
     "execution_count": null,
     "metadata": {
      "tags": []
     },
     "output_type": "execute_result"
    }
   ],
   "source": [
    "df.merge(pd.DataFrame(get_delivery(df[[\"adset_id\", \"ad_id\"]].values)))"
   ]
  },
  {
   "cell_type": "code",
   "execution_count": null,
   "metadata": {},
   "outputs": [],
   "source": [
    "def create_first_part(countries: pd.DataFrame, date:str):\n",
    "    df = pd.DataFrame(get_insights(date))\n",
    "    floats = [\"cpc\", \"cpm\", \"ctr\", \"spend\"]\n",
    "    df[floats] = df[floats].astype(float)\n",
    "    ints = [\"clicks\", \"impressions\", \"reach\"]\n",
    "    df[ints] = df[ints].astype(int)\n",
    "\n",
    "    # df = df.merge(pd.DataFrame(get_countries(df[\"ad_id\"].values)))\n",
    "    df = df.merge(countries)\n",
    "    df = df.merge(pd.DataFrame(get_delivery(df[[\"adset_id\", \"ad_id\"]].values)))\n",
    "    df.set_index(df[\"country\"], inplace=True)\n",
    "    df.sort_values(\"ad_name\", inplace=True)\n",
    "\n",
    "    date = datetime.strptime(df[\"date_start\"].values[0], \"%Y-%m-%d\")\n",
    "\n",
    "    df[\"Post Reactions\"] = df[\"actions\"].apply(partial(get_action, name=\"post_reaction\"))\n",
    "    df[\"Post Shares\"] = df[\"actions\"].apply(partial(get_action, name=\"post\"))\n",
    "    df[\"Link Clicks\"] = df[\"actions\"].apply(partial(get_action, name=\"link_click\"))\n",
    "    df[\"CPC (Cost per Link Click)\"] = df[\"cost_per_action_type\"].apply(partial(get_action, name=\"link_click\"))\n",
    "    get_video_action = partial(get_action, name=\"video_view\")\n",
    "    df[\"Video Average Play Time\"] = df[\"video_avg_time_watched_actions\"].apply(get_video_action)\n",
    "    df[\"Video Plays at 50%\"] = df[\"video_p50_watched_actions\"].apply(get_video_action)\n",
    "    df[\"Video Plays at 75%\"] = df[\"video_p75_watched_actions\"].apply(get_video_action)\n",
    "    df[\"Video Plays at 95%\"] = df[\"video_p95_watched_actions\"].apply(get_video_action)\n",
    "\n",
    "    df.drop(columns=[\"actions\", \"cost_per_action_type\", \"date_start\", \"date_stop\",\n",
    "                     \"video_avg_time_watched_actions\", \"ad_id\", \"adset_id\", \"country\"] +\n",
    "            [f\"video_p{p}_watched_actions\" for p in [50,75,95]], inplace=True)\n",
    "    \n",
    "    add_country_total(df)\n",
    "    return df.round(2)"
   ]
  },
  {
   "cell_type": "code",
   "execution_count": null,
   "metadata": {},
   "outputs": [],
   "source": [
    "df = create_first_part(countries, \"2020-08-31\")"
   ]
  },
  {
   "cell_type": "code",
   "execution_count": null,
   "metadata": {},
   "outputs": [
    {
     "data": {
      "text/html": [
       "<div>\n",
       "<style scoped>\n",
       "    .dataframe tbody tr th:only-of-type {\n",
       "        vertical-align: middle;\n",
       "    }\n",
       "\n",
       "    .dataframe tbody tr th {\n",
       "        vertical-align: top;\n",
       "    }\n",
       "\n",
       "    .dataframe thead th {\n",
       "        text-align: right;\n",
       "    }\n",
       "</style>\n",
       "<table border=\"1\" class=\"dataframe\">\n",
       "  <thead>\n",
       "    <tr style=\"text-align: right;\">\n",
       "      <th></th>\n",
       "      <th>ad_name</th>\n",
       "      <th>clicks</th>\n",
       "      <th>cpc</th>\n",
       "      <th>cpm</th>\n",
       "      <th>ctr</th>\n",
       "      <th>impressions</th>\n",
       "      <th>reach</th>\n",
       "      <th>spend</th>\n",
       "      <th>Delivery Type</th>\n",
       "      <th>Post Reactions</th>\n",
       "      <th>Post Shares</th>\n",
       "      <th>Link Clicks</th>\n",
       "      <th>CPC (Cost per Link Click)</th>\n",
       "      <th>Video Average Play Time</th>\n",
       "      <th>Video Plays at 50%</th>\n",
       "      <th>Video Plays at 75%</th>\n",
       "      <th>Video Plays at 95%</th>\n",
       "    </tr>\n",
       "    <tr>\n",
       "      <th>country</th>\n",
       "      <th></th>\n",
       "      <th></th>\n",
       "      <th></th>\n",
       "      <th></th>\n",
       "      <th></th>\n",
       "      <th></th>\n",
       "      <th></th>\n",
       "      <th></th>\n",
       "      <th></th>\n",
       "      <th></th>\n",
       "      <th></th>\n",
       "      <th></th>\n",
       "      <th></th>\n",
       "      <th></th>\n",
       "      <th></th>\n",
       "      <th></th>\n",
       "      <th></th>\n",
       "    </tr>\n",
       "  </thead>\n",
       "  <tbody>\n",
       "    <tr>\n",
       "      <th>CA</th>\n",
       "      <td>1 - Canada - Gen #2 - D</td>\n",
       "      <td>12</td>\n",
       "      <td>0.14</td>\n",
       "      <td>2.71</td>\n",
       "      <td>1.95</td>\n",
       "      <td>616</td>\n",
       "      <td>616</td>\n",
       "      <td>1.67</td>\n",
       "      <td>ACTIVE</td>\n",
       "      <td>0.0</td>\n",
       "      <td>0.0</td>\n",
       "      <td>9.0</td>\n",
       "      <td>0.19</td>\n",
       "      <td>2.0</td>\n",
       "      <td>101.0</td>\n",
       "      <td>40.0</td>\n",
       "      <td>31.0</td>\n",
       "    </tr>\n",
       "    <tr>\n",
       "      <th>US</th>\n",
       "      <td>1 - USA - Gen 2d - STORIES+FEED</td>\n",
       "      <td>50</td>\n",
       "      <td>0.18</td>\n",
       "      <td>3.53</td>\n",
       "      <td>1.92</td>\n",
       "      <td>2601</td>\n",
       "      <td>2598</td>\n",
       "      <td>9.17</td>\n",
       "      <td>ACTIVE</td>\n",
       "      <td>2.0</td>\n",
       "      <td>1.0</td>\n",
       "      <td>25.0</td>\n",
       "      <td>0.37</td>\n",
       "      <td>3.0</td>\n",
       "      <td>464.0</td>\n",
       "      <td>234.0</td>\n",
       "      <td>174.0</td>\n",
       "    </tr>\n",
       "    <tr>\n",
       "      <th>MX</th>\n",
       "      <td>2 - Mexico - General Ad #2-D</td>\n",
       "      <td>54</td>\n",
       "      <td>0.08</td>\n",
       "      <td>0.36</td>\n",
       "      <td>0.46</td>\n",
       "      <td>11787</td>\n",
       "      <td>11468</td>\n",
       "      <td>4.30</td>\n",
       "      <td>ACTIVE</td>\n",
       "      <td>3.0</td>\n",
       "      <td>1.0</td>\n",
       "      <td>28.0</td>\n",
       "      <td>0.15</td>\n",
       "      <td>1.0</td>\n",
       "      <td>1533.0</td>\n",
       "      <td>404.0</td>\n",
       "      <td>226.0</td>\n",
       "    </tr>\n",
       "    <tr>\n",
       "      <th>BR</th>\n",
       "      <td>3 - Brasil - General Ad 2-D</td>\n",
       "      <td>1</td>\n",
       "      <td>0.06</td>\n",
       "      <td>0.69</td>\n",
       "      <td>1.15</td>\n",
       "      <td>87</td>\n",
       "      <td>86</td>\n",
       "      <td>0.06</td>\n",
       "      <td>ACTIVE</td>\n",
       "      <td>0.0</td>\n",
       "      <td>0.0</td>\n",
       "      <td>1.0</td>\n",
       "      <td>0.06</td>\n",
       "      <td>1.0</td>\n",
       "      <td>15.0</td>\n",
       "      <td>1.0</td>\n",
       "      <td>1.0</td>\n",
       "    </tr>\n",
       "    <tr>\n",
       "      <th>ID</th>\n",
       "      <td>3 - Indonesia - General Ad 2-D</td>\n",
       "      <td>249</td>\n",
       "      <td>0.03</td>\n",
       "      <td>0.20</td>\n",
       "      <td>0.74</td>\n",
       "      <td>33801</td>\n",
       "      <td>33248</td>\n",
       "      <td>6.86</td>\n",
       "      <td>ACTIVE</td>\n",
       "      <td>59.0</td>\n",
       "      <td>2.0</td>\n",
       "      <td>94.0</td>\n",
       "      <td>0.07</td>\n",
       "      <td>2.0</td>\n",
       "      <td>3686.0</td>\n",
       "      <td>1392.0</td>\n",
       "      <td>924.0</td>\n",
       "    </tr>\n",
       "    <tr>\n",
       "      <th>PH</th>\n",
       "      <td>3 - Philippines</td>\n",
       "      <td>63</td>\n",
       "      <td>0.04</td>\n",
       "      <td>0.45</td>\n",
       "      <td>1.12</td>\n",
       "      <td>5601</td>\n",
       "      <td>5601</td>\n",
       "      <td>2.53</td>\n",
       "      <td>ACTIVE</td>\n",
       "      <td>6.0</td>\n",
       "      <td>1.0</td>\n",
       "      <td>30.0</td>\n",
       "      <td>0.08</td>\n",
       "      <td>2.0</td>\n",
       "      <td>815.0</td>\n",
       "      <td>333.0</td>\n",
       "      <td>201.0</td>\n",
       "    </tr>\n",
       "  </tbody>\n",
       "</table>\n",
       "</div>"
      ],
      "text/plain": [
       "                                 ad_name  ...  Video Plays at 95%\n",
       "country                                   ...                    \n",
       "CA               1 - Canada - Gen #2 - D  ...                31.0\n",
       "US       1 - USA - Gen 2d - STORIES+FEED  ...               174.0\n",
       "MX          2 - Mexico - General Ad #2-D  ...               226.0\n",
       "BR           3 - Brasil - General Ad 2-D  ...                 1.0\n",
       "ID        3 - Indonesia - General Ad 2-D  ...               924.0\n",
       "PH                       3 - Philippines  ...               201.0\n",
       "\n",
       "[6 rows x 17 columns]"
      ]
     },
     "execution_count": null,
     "metadata": {
      "tags": []
     },
     "output_type": "execute_result"
    }
   ],
   "source": [
    "df"
   ]
  },
  {
   "cell_type": "code",
   "execution_count": null,
   "metadata": {},
   "outputs": [],
   "source": [
    "def update_insights_df(new_df: pd.DataFrame, date: str, name: str):\n",
    "    path = f\"{os.environ.get('BUCKET')}/{name}\"\n",
    "    try:\n",
    "        df = pd.read_csv(path)\n",
    "    except FileNotFoundError:\n",
    "        df = pd.DataFrame()\n",
    "    new_df.reset_index(inplace=True)\n",
    "    new_df[\"date\"] = date\n",
    "    df = df.append(new_df)\n",
    "    df.to_csv(path)"
   ]
  },
  {
   "cell_type": "code",
   "execution_count": null,
   "metadata": {},
   "outputs": [],
   "source": [
    "# update_insights_df(df, \"2020-08-31\", \"insights_df.csv\")"
   ]
  },
  {
   "cell_type": "code",
   "execution_count": null,
   "metadata": {},
   "outputs": [],
   "source": [
    "# pd.read_csv(f\"{os.environ.get('BUCKET')}/insights_df.csv\")"
   ]
  },
  {
   "cell_type": "code",
   "execution_count": null,
   "metadata": {},
   "outputs": [],
   "source": [
    "to_mean = [\"cpc\", \"cpm\", \"ctr\", \"CPC (Cost per Link Click)\", \"Video Average Play Time\"]\n",
    "empty = [\"Ads Followers Change\", \"% (Clicks)\", \"% (Impressions)\", \"Cost Per Follow\", \"ad_name\", \"Delivery Type\"]\n",
    "to_sum = df.columns.difference(to_mean + empty)\n",
    "total = pd.Series(name=\"total\", index=df.columns, dtype=float)"
   ]
  },
  {
   "cell_type": "code",
   "execution_count": null,
   "metadata": {},
   "outputs": [],
   "source": [
    "total[to_mean] = df[to_mean].apply(np.mean)\n",
    "total[to_sum] = df[to_sum].apply(sum)"
   ]
  },
  {
   "cell_type": "code",
   "execution_count": null,
   "metadata": {},
   "outputs": [],
   "source": [
    "df = df.append(total)"
   ]
  },
  {
   "cell_type": "code",
   "execution_count": null,
   "metadata": {},
   "outputs": [],
   "source": [
    "#export\n",
    "def add_total(df: pd.DataFrame) -> pd.DataFrame:\n",
    "    to_mean = [\"cpc\", \"cpm\", \"ctr\", \"CPC (Cost per Link Click)\", \"Video Average Play Time\"]\n",
    "    empty = [\"Ads Followers Change\", \"% (Clicks)\", \"% (Impressions)\", \"Cost Per Follow\", \"ad_name\", \"Delivery Type\"]\n",
    "    to_sum = df.columns.difference(to_mean + empty)\n",
    "    total = pd.Series(name=\"total\", index=df.columns, dtype=float)\n",
    "    total[to_mean] = df[to_mean].apply(np.mean)\n",
    "    total[to_sum] = df[to_sum].apply(sum)\n",
    "    df = df.append(total)\n",
    "    return pd.concat([df.iloc[-1:], df.iloc[:-1]])"
   ]
  },
  {
   "cell_type": "code",
   "execution_count": null,
   "metadata": {},
   "outputs": [],
   "source": [
    "df = pd.DataFrame(insights)"
   ]
  },
  {
   "cell_type": "code",
   "execution_count": null,
   "metadata": {},
   "outputs": [],
   "source": [
    "#export\n",
    "def get_insights_df(countries: pd.DataFrame, insights: List) -> pd.DataFrame:\n",
    "    df = pd.DataFrame(insights)\n",
    "    floats = [\"cpc\", \"cpm\", \"ctr\", \"spend\"]\n",
    "    df[floats] = df[floats].astype(float)\n",
    "    ints = [\"clicks\", \"impressions\", \"reach\"]\n",
    "    df[ints] = df[ints].astype(int)\n",
    "\n",
    "    df = df.merge(countries)\n",
    "    df = df.merge(pd.DataFrame(get_delivery(df[[\"adset_id\", \"ad_id\"]].values)))\n",
    "    df.set_index(df[\"country\"], inplace=True)\n",
    "    df.sort_values(\"ad_name\", inplace=True)\n",
    "\n",
    "    df[\"Post Reactions\"] = df[\"actions\"].apply(partial(get_action, name=\"post_reaction\"))\n",
    "    df[\"Post Shares\"] = df[\"actions\"].apply(partial(get_action, name=\"post\"))\n",
    "    df[\"Link Clicks\"] = df[\"actions\"].apply(partial(get_action, name=\"link_click\"))\n",
    "    df[\"CPC (Cost per Link Click)\"] = df[\"cost_per_action_type\"].apply(partial(get_action, name=\"link_click\"))\n",
    "    get_video_action = partial(get_action, name=\"video_view\")\n",
    "    df[\"Video Average Play Time\"] = df[\"video_avg_time_watched_actions\"].apply(get_video_action)\n",
    "    df[\"Video Plays at 50%\"] = df[\"video_p50_watched_actions\"].apply(get_video_action)\n",
    "    df[\"Video Plays at 75%\"] = df[\"video_p75_watched_actions\"].apply(get_video_action)\n",
    "    df[\"Video Plays at 95%\"] = df[\"video_p95_watched_actions\"].apply(get_video_action)\n",
    "\n",
    "    df.drop(columns=[\"actions\", \"cost_per_action_type\", \"date_start\", \"date_stop\",\n",
    "                     \"video_avg_time_watched_actions\", \"ad_id\", \"adset_id\", \"country\"] +\n",
    "            [f\"video_p{p}_watched_actions\" for p in [50,75,95]], inplace=True)\n",
    "    add_country_total(df)\n",
    "    \n",
    "    df = add_total(df)\n",
    "    df.rename(columns={\"ad_name\": \"Ad Name\", \"clicks\": \"Clicks (All)\", \"cpc\": \"CPC (All)\",\n",
    "                       \"ctr\": \"CTR (All)\", \"cpm\": \"CPM (Cost per 1,000 Impressions)\",\n",
    "                       \"reach\": \"Reach\", \"impressions\": \"Impressions\", \"spend\": \"Amount Spent (USD)\"}, inplace=True)\n",
    "    df[\"Ads Followers Change\"] = 0\n",
    "    df[\"% (Clicks)\"] = 0\n",
    "    df[\"% (Impressions)\"] = 0\n",
    "    df[\"Cost Per Follow\"] = 0\n",
    "    return df[COLUMNS].round(2)"
   ]
  },
  {
   "cell_type": "code",
   "execution_count": null,
   "metadata": {},
   "outputs": [],
   "source": [
    "#export\n",
    "def create_insights(event: Dict = None, context=None,) -> str:\n",
    "    yesterday = datetime.today() - timedelta(days=1)\n",
    "    insights = get_insights(yesterday.strftime(\"%Y-%m-%d\"))\n",
    "    if not insights:\n",
    "        return f\"No insights found for {yesterday.strftime('%Y-%m-%d')}\"\n",
    "    countries = get_countries()\n",
    "    df = get_insights_df(countries, insights)\n",
    "    df_size = len(df)\n",
    "\n",
    "    empty = pd.Series(name=\"\", dtype=str)\n",
    "    df = df.append([empty] * 25)\n",
    "\n",
    "    worksheet_name = yesterday.strftime(\"%b %d %Y\")\n",
    "    write_df(df, worksheet_name)\n",
    "    notes_df = pd.DataFrame([[\"\", \"CONSIDER:\", \"\", \"\", \"TO DO:\"]], index=[\"PERFORMANCE:\"], columns=[\"\"] * 5)\n",
    "    write_df(notes_df, worksheet_name, loc=f\"A{df_size+10}\")\n",
    "\n",
    "    wsh = get_worksheet(worksheet_name)\n",
    "    wsh.format(f\"C1:F{df_size+1}\", {\"textFormat\": {\n",
    "        \"foregroundColor\": {\n",
    "            \"red\": 0.45,\n",
    "            \"green\": 0.0,\n",
    "            \"blue\": 0.0\n",
    "        }}},)\n",
    "    wsh.format(f\"D:E\", {\"numberFormat\": {\"type\": \"PERCENT\"}},)\n",
    "    wsh.format(f\"F\", {\"numberFormat\": {\"type\": \"CURRENCY\"}},)\n",
    "    return f\"Created insights in '{worksheet_name}'\""
   ]
  },
  {
   "cell_type": "code",
   "execution_count": null,
   "metadata": {},
   "outputs": [
    {
     "data": {
      "text/plain": [
       "\"Created insights in 'Sep 21 2020'\""
      ]
     },
     "execution_count": null,
     "metadata": {
      "tags": []
     },
     "output_type": "execute_result"
    }
   ],
   "source": [
    "create_insights()"
   ]
  },
  {
   "cell_type": "code",
   "execution_count": null,
   "metadata": {},
   "outputs": [],
   "source": [
    ""
   ]
  },
  {
   "cell_type": "code",
   "execution_count": null,
   "metadata": {},
   "outputs": [],
   "source": [
    "history_df = get_df(\"History\")"
   ]
  },
  {
   "cell_type": "code",
   "execution_count": null,
   "metadata": {},
   "outputs": [],
   "source": [
    "# for column in history_df:\n",
    "#     if len(column.split()) == 2:\n",
    "#         datetime =  datetime.strptime(column, \"%b %d\")\n",
    "#         if datetime.year == 1900:\n",
    "#             datetime = datetime.replace(year=2019) if datetime.month >= 6 else datetime.replace(year=2020)\n",
    "#             history_df.rename(columns={column: datetime.strftime(\"%b %d %Y\")}, inplace=True)"
   ]
  },
  {
   "cell_type": "code",
   "execution_count": null,
   "metadata": {},
   "outputs": [],
   "source": [
    "#export\n",
    "def add_followers(df: pd.DataFrame, new_followers: pd.DataFrame):\n",
    "    df[\"Ads Followers Change\"] = new_followers\n",
    "    df.fillna(0, inplace=True)\n",
    "    df[\"% (Clicks)\"] = (df[\"Ads Followers Change\"] / df[\"Clicks (All)\"])\n",
    "    df[\"% (Impressions)\"] = (df[\"Ads Followers Change\"] / df[\"Impressions\"])\n",
    "    df[\"Cost Per Follow\"] = (df[\"Amount Spent (USD)\"] / df[\"Ads Followers Change\"])\n",
    "    df.replace([np.inf], 0, inplace=True)\n",
    "    df[\"% (Impressions)\"] = df[\"% (Impressions)\"].round(4)\n",
    "    df[df.columns.difference([\"% (Impressions)\"])] = df[df.columns.difference([\"% (Impressions)\"])].round(2)"
   ]
  },
  {
   "cell_type": "code",
   "execution_count": null,
   "metadata": {},
   "outputs": [],
   "source": [
    "#export\n",
    "def get_insights_for(date: str, countries: pd.DataFrame, followers_change: pd.DataFrame) -> pd.DataFrame:\n",
    "    iso_date = datetime.strptime(date, \"%b %d %Y\").strftime(\"%Y-%m-%d\")\n",
    "    insights = get_insights(iso_date)\n",
    "    if not insights:\n",
    "        return pd.DataFrame()\n",
    "    df = get_insights_df(countries, insights).drop(\"total\")\n",
    "    if followers_change.empty:\n",
    "        followers_change[date] = 0\n",
    "    add_followers(df, followers_change)\n",
    "    df[\"Ads Followers Change\"] = followers_change\n",
    "    df[\"Date\"] = iso_date\n",
    "    df.reset_index(inplace=True)\n",
    "    df.set_index(df[\"Date\"], inplace=True)\n",
    "    return df.drop(columns=[\"Date\"])"
   ]
  },
  {
   "cell_type": "code",
   "execution_count": null,
   "metadata": {},
   "outputs": [],
   "source": [
    "get_new_followers(iso_date)[1]"
   ]
  },
  {
   "cell_type": "code",
   "execution_count": null,
   "metadata": {},
   "outputs": [],
   "source": [
    "# from tqdm.notebook import tqdm"
   ]
  },
  {
   "cell_type": "code",
   "execution_count": null,
   "metadata": {},
   "outputs": [],
   "source": [
    "# # insights_dfs = []\n",
    "# # countries = get_countries()\n",
    "# for column in tqdm(history_df.columns[345:-1]):\n",
    "#     date = \" \".join(column.split()[:3])\n",
    "#     time.sleep(10)\n",
    "#     try:\n",
    "#         insights_df = get_insights_for(date, history_df, countries)\n",
    "#         insights_dfs.append(insights_df)\n",
    "#     except Exception as e:\n",
    "#         display(e)\n",
    "#         display(column)"
   ]
  },
  {
   "cell_type": "code",
   "execution_count": null,
   "metadata": {},
   "outputs": [],
   "source": [
    "#export\n",
    "def update_dashboard(date: str, followers_change: pd.DataFrame):\n",
    "    sheet = \"Dashboard - Ad Data\"\n",
    "    df = get_df(sheet)\n",
    "    insights_df = get_insights_for(date, countries, followers_change)\n",
    "    write_df(pd.concat([insights_df, df]), sheet)\n",
    "    return f\"Updated {sheet} with {date} data\""
   ]
  },
  {
   "cell_type": "code",
   "execution_count": null,
   "metadata": {},
   "outputs": [
    {
     "data": {
      "text/html": [
       "<div>\n",
       "<style scoped>\n",
       "    .dataframe tbody tr th:only-of-type {\n",
       "        vertical-align: middle;\n",
       "    }\n",
       "\n",
       "    .dataframe tbody tr th {\n",
       "        vertical-align: top;\n",
       "    }\n",
       "\n",
       "    .dataframe thead th {\n",
       "        text-align: right;\n",
       "    }\n",
       "</style>\n",
       "<table border=\"1\" class=\"dataframe\">\n",
       "  <thead>\n",
       "    <tr style=\"text-align: right;\">\n",
       "      <th></th>\n",
       "      <th>country</th>\n",
       "      <th>Ad Name</th>\n",
       "      <th>Ads Followers Change</th>\n",
       "      <th>% (Clicks)</th>\n",
       "      <th>% (Impressions)</th>\n",
       "      <th>Cost Per Follow</th>\n",
       "      <th>Delivery Type</th>\n",
       "      <th>Clicks (All)</th>\n",
       "      <th>Link Clicks</th>\n",
       "      <th>CPC (All)</th>\n",
       "      <th>CPC (Cost per Link Click)</th>\n",
       "      <th>CTR (All)</th>\n",
       "      <th>CPM (Cost per 1,000 Impressions)</th>\n",
       "      <th>Amount Spent (USD)</th>\n",
       "      <th>Impressions</th>\n",
       "      <th>Reach</th>\n",
       "      <th>Post Reactions</th>\n",
       "      <th>Post Shares</th>\n",
       "      <th>Video Average Play Time</th>\n",
       "      <th>Video Plays at 50%</th>\n",
       "      <th>Video Plays at 75%</th>\n",
       "      <th>Video Plays at 95%</th>\n",
       "    </tr>\n",
       "    <tr>\n",
       "      <th>Date</th>\n",
       "      <th></th>\n",
       "      <th></th>\n",
       "      <th></th>\n",
       "      <th></th>\n",
       "      <th></th>\n",
       "      <th></th>\n",
       "      <th></th>\n",
       "      <th></th>\n",
       "      <th></th>\n",
       "      <th></th>\n",
       "      <th></th>\n",
       "      <th></th>\n",
       "      <th></th>\n",
       "      <th></th>\n",
       "      <th></th>\n",
       "      <th></th>\n",
       "      <th></th>\n",
       "      <th></th>\n",
       "      <th></th>\n",
       "      <th></th>\n",
       "      <th></th>\n",
       "      <th></th>\n",
       "    </tr>\n",
       "  </thead>\n",
       "  <tbody>\n",
       "    <tr>\n",
       "      <th>2020-07-21</th>\n",
       "      <td>MX</td>\n",
       "      <td>2 - Mexico - General Ad #2-D</td>\n",
       "      <td>NaN</td>\n",
       "      <td>0.0</td>\n",
       "      <td>0.0000</td>\n",
       "      <td>0.00</td>\n",
       "      <td>ACTIVE</td>\n",
       "      <td>75.0</td>\n",
       "      <td>36.0</td>\n",
       "      <td>0.04</td>\n",
       "      <td>0.08</td>\n",
       "      <td>1.12</td>\n",
       "      <td>0.44</td>\n",
       "      <td>2.92</td>\n",
       "      <td>6689.0</td>\n",
       "      <td>6584.0</td>\n",
       "      <td>2.0</td>\n",
       "      <td>0.0</td>\n",
       "      <td>2.0</td>\n",
       "      <td>1146.0</td>\n",
       "      <td>283.0</td>\n",
       "      <td>172.0</td>\n",
       "    </tr>\n",
       "    <tr>\n",
       "      <th>2020-07-21</th>\n",
       "      <td>AR</td>\n",
       "      <td>3 - Argentina - General 2-D</td>\n",
       "      <td>100.0</td>\n",
       "      <td>2.0</td>\n",
       "      <td>0.0116</td>\n",
       "      <td>0.03</td>\n",
       "      <td>PAUSED</td>\n",
       "      <td>50.0</td>\n",
       "      <td>25.0</td>\n",
       "      <td>0.06</td>\n",
       "      <td>0.12</td>\n",
       "      <td>0.58</td>\n",
       "      <td>0.34</td>\n",
       "      <td>2.96</td>\n",
       "      <td>8587.0</td>\n",
       "      <td>8587.0</td>\n",
       "      <td>0.0</td>\n",
       "      <td>1.0</td>\n",
       "      <td>1.0</td>\n",
       "      <td>1205.0</td>\n",
       "      <td>250.0</td>\n",
       "      <td>168.0</td>\n",
       "    </tr>\n",
       "    <tr>\n",
       "      <th>2020-07-21</th>\n",
       "      <td>ID</td>\n",
       "      <td>3 - Indonesia - General Ad 2-D</td>\n",
       "      <td>NaN</td>\n",
       "      <td>0.0</td>\n",
       "      <td>0.0000</td>\n",
       "      <td>0.00</td>\n",
       "      <td>ACTIVE</td>\n",
       "      <td>132.0</td>\n",
       "      <td>59.0</td>\n",
       "      <td>0.03</td>\n",
       "      <td>0.08</td>\n",
       "      <td>0.96</td>\n",
       "      <td>0.33</td>\n",
       "      <td>4.52</td>\n",
       "      <td>13740.0</td>\n",
       "      <td>13620.0</td>\n",
       "      <td>4.0</td>\n",
       "      <td>1.0</td>\n",
       "      <td>2.0</td>\n",
       "      <td>2060.0</td>\n",
       "      <td>645.0</td>\n",
       "      <td>409.0</td>\n",
       "    </tr>\n",
       "  </tbody>\n",
       "</table>\n",
       "</div>"
      ],
      "text/plain": [
       "           country  ... Video Plays at 95%\n",
       "Date                ...                   \n",
       "2020-07-21      MX  ...              172.0\n",
       "2020-07-21      AR  ...              168.0\n",
       "2020-07-21      ID  ...              409.0\n",
       "\n",
       "[3 rows x 22 columns]"
      ]
     },
     "execution_count": null,
     "metadata": {
      "tags": []
     },
     "output_type": "execute_result"
    }
   ],
   "source": [
    "followers_change = pd.DataFrame({\"2020-07-21\": {'AR': 100, 'AU': 70, 'BD': 0, 'BR': 0, 'CA': 0, 'CL': 0, 'CO': 0}})\n",
    "get_insights_for(\"Jul 21 2020\", countries, followers_change)"
   ]
  },
  {
   "cell_type": "code",
   "execution_count": null,
   "metadata": {},
   "outputs": [
    {
     "name": "stdout",
     "output_type": "stream",
     "text": [
      "Converted 00_core.ipynb.\n",
      "Converted 01_followers.ipynb.\n",
      "Converted 02_ads.ipynb.\n",
      "Converted index.ipynb.\n"
     ]
    }
   ],
   "source": [
    "#hide\n",
    "from nbdev.export import notebook2script\n",
    "notebook2script()"
   ]
  },
  {
   "cell_type": "code",
   "execution_count": null,
   "metadata": {},
   "outputs": [],
   "source": [
    ""
   ]
  }
 ],
 "metadata": {
  "kernelspec": {
   "display_name": "Python 3",
   "name": "python3"
  }
 },
 "nbformat": 4,
 "nbformat_minor": 0
}
