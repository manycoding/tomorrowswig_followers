{
 "cells": [
  {
   "cell_type": "code",
   "execution_count": null,
   "metadata": {},
   "outputs": [],
   "source": [
    "# default_exp ads"
   ]
  },
  {
   "cell_type": "code",
   "execution_count": null,
   "metadata": {},
   "outputs": [
    {
     "name": "stdout",
     "output_type": "stream",
     "text": [
      "The autoreload extension is already loaded. To reload it, use:\n",
      "  %reload_ext autoreload\n"
     ]
    }
   ],
   "source": [
    "%load_ext autoreload\n",
    "%autoreload 2"
   ]
  },
  {
   "cell_type": "code",
   "execution_count": null,
   "metadata": {},
   "outputs": [],
   "source": [
    "#hide\n",
    "!pip install -qU nbdev fastcore"
   ]
  },
  {
   "cell_type": "code",
   "execution_count": null,
   "metadata": {},
   "outputs": [],
   "source": [
    "#hide\n",
    "!pip install -qU gspread facebook_business pycountry python-facebook-api"
   ]
  },
  {
   "cell_type": "code",
   "execution_count": null,
   "metadata": {},
   "outputs": [
    {
     "name": "stdout",
     "output_type": "stream",
     "text": [
      "/content/drive/My Drive/upwork/Martin followers/tomorrowswig_followers\n"
     ]
    }
   ],
   "source": [
    "#hide\n",
    "from pathlib import Path\n",
    "path = Path(\"/content/drive/My Drive/upwork/Martin followers/tomorrowswig_followers\")\n",
    "%cd \"{path}\""
   ]
  },
  {
   "cell_type": "code",
   "execution_count": null,
   "metadata": {},
   "outputs": [],
   "source": [
    "#hide\n",
    "#not deps but we need them to use nbdev and run tests\n",
    "from nbdev import * \n",
    "from nbdev.showdoc import *\n",
    "from fastcore.test import *"
   ]
  },
  {
   "cell_type": "markdown",
   "metadata": {},
   "source": [
    "## Facebook Auth"
   ]
  },
  {
   "cell_type": "code",
   "execution_count": null,
   "metadata": {},
   "outputs": [],
   "source": [
    "#hide\n",
    "%%capture\n",
    "\n",
    "import yaml\n",
    "with open(path.parent/\"facebook_creds.yml\") as f:\n",
    "    data = yaml.safe_load(f)\n",
    "    %env APP_ID {data.get(\"APP_ID\")}\n",
    "    %env APP_SECRET {data.get(\"APP_SECRET\")}\n",
    "    %env TOKEN {data.get(\"TOKEN\")}\n",
    "    %env AD_ACC_ID {data.get(\"AD_ACC_ID\")}\n",
    "    %env USER_ID {data.get(\"USER_ID\")}"
   ]
  },
  {
   "cell_type": "code",
   "execution_count": null,
   "metadata": {},
   "outputs": [],
   "source": [
    "#export\n",
    "from tomorrowswig_followers.core import *\n",
    "from tomorrowswig_followers.followers import get_new_followers"
   ]
  },
  {
   "cell_type": "code",
   "execution_count": null,
   "metadata": {},
   "outputs": [],
   "source": [
    "#export\n",
    "import os\n",
    "from typing import *\n",
    "\n",
    "from datetime import datetime, timedelta\n",
    "from functools import partial\n",
    "\n",
    "import pandas as pd\n",
    "import numpy as np\n",
    "from facebook_business.api import FacebookAdsApi\n",
    "from facebook_business.adobjects.adaccount import AdAccount\n",
    "import pycountry\n",
    "\n",
    "AD_ACC_ID = os.environ.get(\"AD_ACC_ID\")"
   ]
  },
  {
   "cell_type": "code",
   "execution_count": null,
   "metadata": {},
   "outputs": [],
   "source": [
    "APP_ID = os.environ.get(\"APP_ID\")\n",
    "APP_SECRET = os.environ.get(\"APP_SECRET\")\n",
    "TOKEN = os.environ.get(\"TOKEN\")\n",
    "USER_ID = os.environ.get(\"USER_ID\")"
   ]
  },
  {
   "cell_type": "markdown",
   "metadata": {},
   "source": [
    "## Ads reporting"
   ]
  },
  {
   "cell_type": "code",
   "execution_count": null,
   "metadata": {},
   "outputs": [],
   "source": [
    "#export\n",
    "FacebookAdsApi.init(APP_ID, APP_SECRET, TOKEN)\n",
    "account = AdAccount(AD_ACC_ID)"
   ]
  },
  {
   "cell_type": "code",
   "execution_count": null,
   "metadata": {},
   "outputs": [
    {
     "data": {
      "text/plain": [
       "datetime.datetime(2020, 7, 28, 14, 31, 58)"
      ]
     },
     "execution_count": null,
     "metadata": {
      "tags": []
     },
     "output_type": "execute_result"
    }
   ],
   "source": [
    "datetime.fromtimestamp(1595946718)"
   ]
  },
  {
   "cell_type": "code",
   "execution_count": null,
   "metadata": {},
   "outputs": [
    {
     "data": {
      "application/vnd.google.colaboratory.intrinsic+json": {
       "type": "string"
      },
      "text/plain": [
       "'1595203200'"
      ]
     },
     "execution_count": null,
     "metadata": {
      "tags": []
     },
     "output_type": "execute_result"
    }
   ],
   "source": [
    "datetime(2020,7,20,0,0).strftime('%s')"
   ]
  },
  {
   "cell_type": "code",
   "execution_count": null,
   "metadata": {},
   "outputs": [],
   "source": [
    "insights = account.get_insights(fields=[\n",
    "    \"ad_name\",\n",
    "    \"clicks\",\n",
    "    \"cpc\",\n",
    "    \"ctr\",\n",
    "    \"cpm\",\n",
    "    \"cost_per_action_type\",\n",
    "    # AdsInsights.Field.cost_per_one_thousand_ad_impression, permissions\n",
    "    \"spend\",\n",
    "    # \"adset_budget_value\", permissions\n",
    "    \"impressions\",\n",
    "    \"reach\",\n",
    "    \"actions\",\n",
    "    \"video_avg_time_watched_actions\",\n",
    "    \"video_p50_watched_actions\",\n",
    "    \"video_p75_watched_actions\",\n",
    "    \"video_p95_watched_actions\",\n",
    "\n",
    "], params={\n",
    "    'level': \"ad\",\n",
    "    'date_preset': \"yesterday\",\n",
    "    # \"date_start\": \"1595116800\",\n",
    "    # \"date_stop\": \"1595203200\"\n",
    "})\n"
   ]
  },
  {
   "cell_type": "code",
   "execution_count": null,
   "metadata": {},
   "outputs": [],
   "source": [
    "def get_action(cell, name):\n",
    "    action = [a for a in cell if a[\"action_type\"] == name]\n",
    "    if action:\n",
    "        return action[0][\"value\"]\n",
    "    return 0"
   ]
  },
  {
   "cell_type": "code",
   "execution_count": null,
   "metadata": {},
   "outputs": [],
   "source": [
    "# fields = [f for f in AdsInsights.Field.__dict__ if not f.startswith(\"__\")]"
   ]
  },
  {
   "cell_type": "code",
   "execution_count": null,
   "metadata": {},
   "outputs": [],
   "source": [
    "# account.get_insights(fields=[fields[53]], params={\n",
    "#     'level': AdsInsights.Level.ad,\n",
    "#     'date_preset': AdsInsights.DatePreset.last_3d,\n",
    "# })[-1]"
   ]
  },
  {
   "cell_type": "code",
   "execution_count": null,
   "metadata": {},
   "outputs": [],
   "source": [
    "# account.get_insights(fields=fields[:53], params={\n",
    "#     'level': AdsInsights.Level.ad,\n",
    "#     'date_preset': AdsInsights.DatePreset.last_3d,\n",
    "# })"
   ]
  },
  {
   "cell_type": "code",
   "execution_count": null,
   "metadata": {},
   "outputs": [],
   "source": [
    "# account.get_insights(\n",
    "#     # fields=fields[:53],\n",
    "#     fields = [\"actions\"],\n",
    "#     params={\n",
    "#     'level': \"ad\",\n",
    "#     'date_preset': \"this_week_sun_today\",\n",
    "# })"
   ]
  },
  {
   "cell_type": "code",
   "execution_count": null,
   "metadata": {},
   "outputs": [],
   "source": [
    "#export\n",
    "def get_dif(df: pd.DataFrame) -> pd.DataFrame:\n",
    "    change_df = df.diff(axis=1, periods=-1)\n",
    "    change_df = change_df.fillna(0).astype(int)\n",
    "    return change_df"
   ]
  },
  {
   "cell_type": "code",
   "execution_count": null,
   "metadata": {},
   "outputs": [],
   "source": [
    "#export\n",
    "# \"Relevance Score\",\n",
    "COLUMNS = [\"Ad Name\", \"New Followers\", \"% (Clicks)\", \"% (Impressions)\", \"Cost Per Follow\",\n",
    "           \"Clicks (All)\", \"Link Clicks\", \"CPC (All)\" , \"CPC (Cost per Link Click)\",\n",
    "           \"CTR (All)\", \"CPM (Cost per 1,000 Impressions)\", \"Amount Spent (USD)\", \"Impressions\", \"Reach\", \"Post Reactions\", \"Post Shares\",\n",
    "           \"Video Average Play Time\", \"Video Plays at 50%\", \"Video Plays at 75%\", \"Video Plays at 95%\"]"
   ]
  },
  {
   "cell_type": "code",
   "execution_count": null,
   "metadata": {},
   "outputs": [],
   "source": [
    "#export\n",
    "get_insights = partial(account.get_insights, fields=[\n",
    "        \"ad_name\",\n",
    "        \"clicks\",\n",
    "        \"cpc\",\n",
    "        \"ctr\",\n",
    "        \"cpm\",\n",
    "        \"cost_per_action_type\",\n",
    "        \"spend\",\n",
    "        \"impressions\",\n",
    "        \"reach\",\n",
    "        \"actions\",\n",
    "        \"video_avg_time_watched_actions\",\n",
    "        \"video_p50_watched_actions\",\n",
    "        \"video_p75_watched_actions\",\n",
    "        \"video_p95_watched_actions\",\n",
    "    ], params={\n",
    "        'level': \"ad\",\n",
    "        'date_preset': \"yesterday\",\n",
    "    })"
   ]
  },
  {
   "cell_type": "code",
   "execution_count": null,
   "metadata": {},
   "outputs": [],
   "source": [
    "#export\n",
    "def get_action(cell, name):\n",
    "    action = [a for a in cell if a[\"action_type\"] == name]\n",
    "    if action:\n",
    "        return action[0][\"value\"]\n",
    "    return 0"
   ]
  },
  {
   "cell_type": "code",
   "execution_count": null,
   "metadata": {},
   "outputs": [],
   "source": [
    "#export\n",
    "def get_followers_change(date: datetime) -> pd.DataFrame:\n",
    "    history_df = get_df(\"History\")\n",
    "    new_followers = get_dif(history_df)\n",
    "    followers_date = (date + timedelta(days=1)).strftime(\"%b %d %Y\")\n",
    "    new_followers = new_followers.iloc[:,new_followers.columns.str.startswith(followers_date)].replace(0, np.nan)\n",
    "    return new_followers.dropna(axis=1, how=\"all\").iloc[:, :1].dropna().astype(int)"
   ]
  },
  {
   "cell_type": "code",
   "execution_count": null,
   "metadata": {},
   "outputs": [],
   "source": [
    "assert get_followers_change(datetime.strptime(\"2020-07-25\", \"%Y-%m-%d\")).columns[0] == \"Jul 26 2020                 2020-07-26 19:10:34\""
   ]
  },
  {
   "cell_type": "code",
   "execution_count": null,
   "metadata": {},
   "outputs": [],
   "source": [
    "#export\n",
    "def match_country(x):\n",
    "    try:\n",
    "        return pycountry.countries.search_fuzzy(x)[0].alpha_2\n",
    "    except LookupError as e:\n",
    "        return \"not found\""
   ]
  },
  {
   "cell_type": "code",
   "execution_count": null,
   "metadata": {},
   "outputs": [],
   "source": [
    "assert match_country(\"brasil\") == \"not found\"\n",
    "assert match_country(\"brazil\") == \"BR\""
   ]
  },
  {
   "cell_type": "code",
   "execution_count": null,
   "metadata": {},
   "outputs": [],
   "source": [
    "#export\n",
    "def add_country_total(df: pd.DataFrame) -> Tuple[pd.DataFrame, str]:\n",
    "    dupes = df[df.index.duplicated(False)]\n",
    "    if not len(dupes):\n",
    "        return\n",
    "\n",
    "    to_mean = [\"cpc\", \"cpm\", \"ctr\", \"CPC (Cost per Link Click)\"]\n",
    "    to_sum = set(df.columns).difference(set(to_mean + [\"ad_name\"]))\n",
    "    total = dupes.iloc[0,:].copy()\n",
    "    index = dupes.index[0]\n",
    "    total[\"ad_name\"] = f\"{index} total\"\n",
    "    total[to_mean] = dupes[to_mean].apply(np.mean)\n",
    "    total[to_sum] = dupes[to_sum].astype(int).apply(sum)\n",
    "    return df.append(total), index"
   ]
  },
  {
   "cell_type": "code",
   "execution_count": null,
   "metadata": {},
   "outputs": [],
   "source": [
    "#export\n",
    "def add_followers(df: pd.DataFrame, date: datetime):\n",
    "    new_followers = get_followers_change(date)\n",
    "    if not new_followers.values.size:\n",
    "        new_followers[\"no change\"] = 0\n",
    "    df[\"New Followers\"] = new_followers\n",
    "    df.fillna(0, inplace=True)\n",
    "    df[\"% (Clicks)\"] = (df[\"New Followers\"] / df[\"clicks\"]* 100).round().astype(int)\n",
    "    df[\"% (Impressions)\"] = (df[\"New Followers\"] / df[\"impressions\"] * 100)\n",
    "    df[\"Cost Per Follow\"] = (df[\"spend\"] / df[\"New Followers\"])\n",
    "    df.replace([np.inf], 0, inplace=True)"
   ]
  },
  {
   "cell_type": "code",
   "execution_count": null,
   "metadata": {},
   "outputs": [],
   "source": [
    "def create_first_part():\n",
    "    df = pd.DataFrame(get_insights())\n",
    "    floats = [\"cpc\", \"cpm\", \"ctr\", \"spend\"]\n",
    "    df[floats] = df[floats].astype(float).round(2)\n",
    "    ints = [\"clicks\", \"impressions\", \"reach\"]\n",
    "    df[ints] = df[ints].astype(int)\n",
    "    index = df[\"ad_name\"].apply(lambda x: match_country(x.split(\"-\")[1].strip()))\n",
    "    index.name = \"countries\"\n",
    "    df.set_index(index, inplace=True)\n",
    "    df.sort_values(\"ad_name\", inplace=True)\n",
    "\n",
    "    date = datetime.strptime(df[\"date_start\"].values[0], \"%Y-%m-%d\")\n",
    "    worksheet_name = date.strftime(\"%b %d %Y\")\n",
    "\n",
    "    df[\"Post Reactions\"] = df[\"actions\"].apply(partial(get_action, name=\"post_reaction\"))\n",
    "    df[\"Post Shares\"] = df[\"actions\"].apply(partial(get_action, name=\"post\"))\n",
    "    df[\"Link Clicks\"] = df[\"actions\"].apply(partial(get_action, name=\"link_click\"))\n",
    "    df[\"CPC (Cost per Link Click)\"] = df[\"cost_per_action_type\"].apply(partial(get_action, name=\"link_click\")).astype(float)\n",
    "    get_video_action = partial(get_action, name=\"video_view\")\n",
    "    df[\"Video Average Play Time\"] = df[\"video_avg_time_watched_actions\"].apply(get_video_action)\n",
    "    df[\"Video Plays at 50%\"] = df[\"video_p50_watched_actions\"].apply(get_video_action)\n",
    "    df[\"Video Plays at 75%\"] = df[\"video_p75_watched_actions\"].apply(get_video_action)\n",
    "    df[\"Video Plays at 95%\"] = df[\"video_p95_watched_actions\"].apply(get_video_action)\n",
    "\n",
    "    df.drop(columns=[\"actions\", \"cost_per_action_type\", \"date_start\", \"date_stop\",\n",
    "                        \"video_avg_time_watched_actions\"] +\n",
    "            [f\"video_p{p}_watched_actions\" for p in [50,75,95]], inplace=True)\n",
    "    \n",
    "    dupes = add_country_total(df)\n",
    "    add_followers(df, date)\n",
    "    return df"
   ]
  },
  {
   "cell_type": "code",
   "execution_count": null,
   "metadata": {},
   "outputs": [],
   "source": [
    "df = create_first_part()"
   ]
  },
  {
   "cell_type": "code",
   "execution_count": null,
   "metadata": {},
   "outputs": [],
   "source": [
    "to_mean = [\"cpc\", \"cpm\", \"ctr\", \"CPC (Cost per Link Click)\", \"Video Average Play Time\",\n",
    "            \"% (Clicks)\", \"% (Impressions)\", \"Cost Per Follow\"]\n",
    "to_sum = set(df.columns).difference(set(to_mean + [\"ad_name\"]))\n",
    "total = pd.Series(name=\"total\", index=df.columns, dtype=float)"
   ]
  },
  {
   "cell_type": "code",
   "execution_count": null,
   "metadata": {},
   "outputs": [],
   "source": [
    "total[to_mean] = df[to_mean].apply(np.mean)"
   ]
  },
  {
   "cell_type": "code",
   "execution_count": null,
   "metadata": {},
   "outputs": [],
   "source": [
    "total[to_sum] = df[to_sum].astype(int).apply(sum)"
   ]
  },
  {
   "cell_type": "code",
   "execution_count": null,
   "metadata": {},
   "outputs": [
    {
     "data": {
      "text/html": [
       "<div>\n",
       "<style scoped>\n",
       "    .dataframe tbody tr th:only-of-type {\n",
       "        vertical-align: middle;\n",
       "    }\n",
       "\n",
       "    .dataframe tbody tr th {\n",
       "        vertical-align: top;\n",
       "    }\n",
       "\n",
       "    .dataframe thead th {\n",
       "        text-align: right;\n",
       "    }\n",
       "</style>\n",
       "<table border=\"1\" class=\"dataframe\">\n",
       "  <thead>\n",
       "    <tr style=\"text-align: right;\">\n",
       "      <th></th>\n",
       "      <th>ad_name</th>\n",
       "      <th>clicks</th>\n",
       "      <th>cpc</th>\n",
       "      <th>cpm</th>\n",
       "      <th>ctr</th>\n",
       "      <th>impressions</th>\n",
       "      <th>reach</th>\n",
       "      <th>spend</th>\n",
       "      <th>Post Reactions</th>\n",
       "      <th>Post Shares</th>\n",
       "      <th>Link Clicks</th>\n",
       "      <th>CPC (Cost per Link Click)</th>\n",
       "      <th>Video Average Play Time</th>\n",
       "      <th>Video Plays at 50%</th>\n",
       "      <th>Video Plays at 75%</th>\n",
       "      <th>Video Plays at 95%</th>\n",
       "      <th>New Followers</th>\n",
       "      <th>% (Clicks)</th>\n",
       "      <th>% (Impressions)</th>\n",
       "      <th>Cost Per Follow</th>\n",
       "    </tr>\n",
       "    <tr>\n",
       "      <th>countries</th>\n",
       "      <th></th>\n",
       "      <th></th>\n",
       "      <th></th>\n",
       "      <th></th>\n",
       "      <th></th>\n",
       "      <th></th>\n",
       "      <th></th>\n",
       "      <th></th>\n",
       "      <th></th>\n",
       "      <th></th>\n",
       "      <th></th>\n",
       "      <th></th>\n",
       "      <th></th>\n",
       "      <th></th>\n",
       "      <th></th>\n",
       "      <th></th>\n",
       "      <th></th>\n",
       "      <th></th>\n",
       "      <th></th>\n",
       "      <th></th>\n",
       "    </tr>\n",
       "  </thead>\n",
       "  <tbody>\n",
       "    <tr>\n",
       "      <th>AU</th>\n",
       "      <td>1 - Australia - General Ad 2-D</td>\n",
       "      <td>2.0</td>\n",
       "      <td>0.270</td>\n",
       "      <td>2.920</td>\n",
       "      <td>1.080</td>\n",
       "      <td>185.0</td>\n",
       "      <td>185.0</td>\n",
       "      <td>0.54</td>\n",
       "      <td>0</td>\n",
       "      <td>0</td>\n",
       "      <td>2</td>\n",
       "      <td>0.270000</td>\n",
       "      <td>3</td>\n",
       "      <td>56</td>\n",
       "      <td>17</td>\n",
       "      <td>11</td>\n",
       "      <td>5.0</td>\n",
       "      <td>250.0</td>\n",
       "      <td>2.702703</td>\n",
       "      <td>0.108000</td>\n",
       "    </tr>\n",
       "    <tr>\n",
       "      <th>US</th>\n",
       "      <td>1 - USA - Gen 2d - STORIES+FEED</td>\n",
       "      <td>69.0</td>\n",
       "      <td>0.140</td>\n",
       "      <td>3.350</td>\n",
       "      <td>2.330</td>\n",
       "      <td>2964.0</td>\n",
       "      <td>2956.0</td>\n",
       "      <td>9.93</td>\n",
       "      <td>4</td>\n",
       "      <td>1</td>\n",
       "      <td>30</td>\n",
       "      <td>0.331000</td>\n",
       "      <td>3</td>\n",
       "      <td>647</td>\n",
       "      <td>292</td>\n",
       "      <td>207</td>\n",
       "      <td>0.0</td>\n",
       "      <td>0.0</td>\n",
       "      <td>0.000000</td>\n",
       "      <td>0.000000</td>\n",
       "    </tr>\n",
       "    <tr>\n",
       "      <th>MX</th>\n",
       "      <td>2 - Mexico - General Ad #2-D</td>\n",
       "      <td>52.0</td>\n",
       "      <td>0.050</td>\n",
       "      <td>0.450</td>\n",
       "      <td>0.910</td>\n",
       "      <td>5706.0</td>\n",
       "      <td>5706.0</td>\n",
       "      <td>2.56</td>\n",
       "      <td>3</td>\n",
       "      <td>0</td>\n",
       "      <td>24</td>\n",
       "      <td>0.106667</td>\n",
       "      <td>2</td>\n",
       "      <td>972</td>\n",
       "      <td>244</td>\n",
       "      <td>150</td>\n",
       "      <td>23.0</td>\n",
       "      <td>44.0</td>\n",
       "      <td>0.403084</td>\n",
       "      <td>0.111304</td>\n",
       "    </tr>\n",
       "    <tr>\n",
       "      <th>AR</th>\n",
       "      <td>3 - Argentina - General 2-D</td>\n",
       "      <td>41.0</td>\n",
       "      <td>0.070</td>\n",
       "      <td>0.420</td>\n",
       "      <td>0.570</td>\n",
       "      <td>7217.0</td>\n",
       "      <td>7112.0</td>\n",
       "      <td>3.03</td>\n",
       "      <td>3</td>\n",
       "      <td>0</td>\n",
       "      <td>23</td>\n",
       "      <td>0.131739</td>\n",
       "      <td>1</td>\n",
       "      <td>1031</td>\n",
       "      <td>245</td>\n",
       "      <td>158</td>\n",
       "      <td>14.0</td>\n",
       "      <td>34.0</td>\n",
       "      <td>0.193986</td>\n",
       "      <td>0.216429</td>\n",
       "    </tr>\n",
       "    <tr>\n",
       "      <th>ID</th>\n",
       "      <td>3 - Indonesia - General Ad 2-D</td>\n",
       "      <td>94.0</td>\n",
       "      <td>0.050</td>\n",
       "      <td>0.420</td>\n",
       "      <td>0.840</td>\n",
       "      <td>11133.0</td>\n",
       "      <td>10688.0</td>\n",
       "      <td>4.67</td>\n",
       "      <td>7</td>\n",
       "      <td>0</td>\n",
       "      <td>44</td>\n",
       "      <td>0.106136</td>\n",
       "      <td>2</td>\n",
       "      <td>1618</td>\n",
       "      <td>563</td>\n",
       "      <td>379</td>\n",
       "      <td>18.0</td>\n",
       "      <td>19.0</td>\n",
       "      <td>0.161681</td>\n",
       "      <td>0.259444</td>\n",
       "    </tr>\n",
       "    <tr>\n",
       "      <th>total</th>\n",
       "      <td>NaN</td>\n",
       "      <td>258.0</td>\n",
       "      <td>0.116</td>\n",
       "      <td>1.512</td>\n",
       "      <td>1.146</td>\n",
       "      <td>27205.0</td>\n",
       "      <td>26647.0</td>\n",
       "      <td>18.00</td>\n",
       "      <td>17</td>\n",
       "      <td>1</td>\n",
       "      <td>123</td>\n",
       "      <td>0.189108</td>\n",
       "      <td>6642.4</td>\n",
       "      <td>4324</td>\n",
       "      <td>1361</td>\n",
       "      <td>905</td>\n",
       "      <td>60.0</td>\n",
       "      <td>69.4</td>\n",
       "      <td>0.692291</td>\n",
       "      <td>0.139035</td>\n",
       "    </tr>\n",
       "  </tbody>\n",
       "</table>\n",
       "</div>"
      ],
      "text/plain": [
       "                                   ad_name  ...  Cost Per Follow\n",
       "countries                                   ...                 \n",
       "AU          1 - Australia - General Ad 2-D  ...         0.108000\n",
       "US         1 - USA - Gen 2d - STORIES+FEED  ...         0.000000\n",
       "MX            2 - Mexico - General Ad #2-D  ...         0.111304\n",
       "AR             3 - Argentina - General 2-D  ...         0.216429\n",
       "ID          3 - Indonesia - General Ad 2-D  ...         0.259444\n",
       "total                                  NaN  ...         0.139035\n",
       "\n",
       "[6 rows x 20 columns]"
      ]
     },
     "execution_count": null,
     "metadata": {
      "tags": []
     },
     "output_type": "execute_result"
    }
   ],
   "source": [
    "df.append(total)"
   ]
  },
  {
   "cell_type": "code",
   "execution_count": null,
   "metadata": {},
   "outputs": [],
   "source": [
    "#export\n",
    "def add_total(df: pd.DataFrame) -> pd.DataFrame:\n",
    "    to_mean = [\"cpc\", \"cpm\", \"ctr\", \"CPC (Cost per Link Click)\", \"Video Average Play Time\",\n",
    "                \"% (Clicks)\", \"% (Impressions)\", \"Cost Per Follow\"]\n",
    "    to_sum = set(df.columns).difference(set(to_mean + [\"ad_name\"]))\n",
    "    total = pd.Series(name=\"total\", index=df.columns)\n",
    "    total[to_mean] = df[to_mean].apply(np.mean)\n",
    "    total[to_sum] = df[to_sum].astype(int).apply(sum)\n",
    "    return df.append(total)"
   ]
  },
  {
   "cell_type": "code",
   "execution_count": null,
   "metadata": {},
   "outputs": [],
   "source": [
    "#export\n",
    "def get_insights_df(insights: List) -> Tuple[pd.DataFrame, str]:\n",
    "    df = pd.DataFrame(insights)\n",
    "    floats = [\"cpc\", \"cpm\", \"ctr\", \"spend\"]\n",
    "    df[floats] = df[floats].astype(float).round(2)\n",
    "    ints = [\"clicks\", \"impressions\", \"reach\"]\n",
    "    df[ints] = df[ints].astype(int)\n",
    "    index = df[\"ad_name\"].apply(lambda x: match_country(x.split(\"-\")[1].strip()))\n",
    "    index.name = \"countries\"\n",
    "    df.set_index(index, inplace=True)\n",
    "    df.sort_values(\"ad_name\", inplace=True)\n",
    "\n",
    "    date = datetime.strptime(df[\"date_start\"].values[0], \"%Y-%m-%d\")\n",
    "    worksheet_name = date.strftime(\"%b %d %Y\")\n",
    "\n",
    "    df[\"Post Reactions\"] = df[\"actions\"].apply(partial(get_action, name=\"post_reaction\"))\n",
    "    df[\"Post Shares\"] = df[\"actions\"].apply(partial(get_action, name=\"post\"))\n",
    "    df[\"Link Clicks\"] = df[\"actions\"].apply(partial(get_action, name=\"link_click\"))\n",
    "    df[\"CPC (Cost per Link Click)\"] = df[\"cost_per_action_type\"].apply(partial(get_action, name=\"link_click\")).astype(float)\n",
    "    get_video_action = partial(get_action, name=\"video_view\")\n",
    "    df[\"Video Average Play Time\"] = df[\"video_avg_time_watched_actions\"].apply(get_video_action)\n",
    "    df[\"Video Plays at 50%\"] = df[\"video_p50_watched_actions\"].apply(get_video_action)\n",
    "    df[\"Video Plays at 75%\"] = df[\"video_p75_watched_actions\"].apply(get_video_action)\n",
    "    df[\"Video Plays at 95%\"] = df[\"video_p95_watched_actions\"].apply(get_video_action)\n",
    "\n",
    "    df.drop(columns=[\"actions\", \"cost_per_action_type\", \"date_start\", \"date_stop\",\n",
    "                     \"video_avg_time_watched_actions\"] +\n",
    "            [f\"video_p{p}_watched_actions\" for p in [50,75,95]], inplace=True)\n",
    "    \n",
    "    dupes = add_country_total(df)\n",
    "    add_followers(df, date)\n",
    "    df = add_total(df)\n",
    "    to_round = [\"Cost Per Follow\", \"% (Impressions)\", \"CPC (Cost per Link Click)\"]\n",
    "    df[to_round] = df[to_round].round(2)\n",
    "    df.rename(columns={\"ad_name\": \"Ad Name\", \"clicks\": \"Clicks (All)\", \"cpc\": \"CPC (All)\",\n",
    "                   \"ctr\": \"CTR (All)\", \"cpm\": \"CPM (Cost per 1,000 Impressions)\",\n",
    "                   \"reach\": \"Reach\", \"impressions\": \"Impressions\", \"spend\": \"Amount Spent (USD)\"}, inplace=True)\n",
    "    return df[COLUMNS], worksheet_name"
   ]
  },
  {
   "cell_type": "code",
   "execution_count": null,
   "metadata": {},
   "outputs": [
    {
     "name": "stderr",
     "output_type": "stream",
     "text": [
      "/usr/local/lib/python3.6/dist-packages/ipykernel_launcher.py:6: DeprecationWarning: The default dtype for empty Series will be 'object' instead of 'float64' in a future version. Specify a dtype explicitly to silence this warning.\n",
      "  \n"
     ]
    }
   ],
   "source": [
    "insights = get_insights()\n",
    "df, worksheet_name = get_insights_df(insights)"
   ]
  },
  {
   "cell_type": "code",
   "execution_count": null,
   "metadata": {},
   "outputs": [],
   "source": [
    "add_stats = pd.Series(dtype=float)\n",
    "total_new_followers = df.loc[\"total\", \"New Followers\"]\n",
    "spent = df.loc[\"total\", \"Amount Spent (USD)\"]\n",
    "add_stats[\"Conversion Rate\"] = total_new_followers / df.loc[\"total\", \"Clicks (All)\"]\n",
    "add_stats[\"Cost of New Follower\"] = spent / total_new_followers"
   ]
  },
  {
   "cell_type": "code",
   "execution_count": null,
   "metadata": {},
   "outputs": [],
   "source": [
    "add_stats[\"Total Followers\"] = get_new_followers()[1]\n",
    "add_stats[\"Random Followers\"] = add_stats[\"Total Followers\"] - total_new_followers\n",
    "add_stats[\"Cost of New Follower per Total\"] = spent / add_stats[\"Total Followers\"]"
   ]
  },
  {
   "cell_type": "code",
   "execution_count": null,
   "metadata": {},
   "outputs": [],
   "source": [
    "add_stats[\"Unfollowers\"] = add_stats[\"Total Followers\"] - total_new_followers"
   ]
  },
  {
   "cell_type": "code",
   "execution_count": null,
   "metadata": {},
   "outputs": [],
   "source": [
    "add_stats[\"Unconversion Rate\"] = total_new_followers / df.loc[\"total\", \"Clicks (All)\"]"
   ]
  },
  {
   "cell_type": "code",
   "execution_count": null,
   "metadata": {},
   "outputs": [],
   "source": [
    "add_stats[\"Followers from ads guess\"] = total_new_followers + add_stats[\"Random Followers\"] - add_stats[\"Unfollowers\"]\n",
    "add_stats[\"Real cost guess\"] = spent / add_stats[\"Followers from ads guess\"]"
   ]
  },
  {
   "cell_type": "code",
   "execution_count": null,
   "metadata": {},
   "outputs": [],
   "source": [
    "#export\n",
    "def more_stats(df: pd.DataFrame) -> pd.Series:\n",
    "    add_stats = pd.Series(dtype=float)\n",
    "    total_new_followers = df.loc[\"total\", \"New Followers\"]\n",
    "    spent = df.loc[\"total\", \"Amount Spent (USD)\"]\n",
    "    add_stats[\"Conversion Rate\"] = total_new_followers / df.loc[\"total\", \"Clicks (All)\"]\n",
    "    add_stats[\"Cost of New Follower\"] = spent / total_new_followers\n",
    "    add_stats[\"Total Followers\"] = get_new_followers()[1]\n",
    "    add_stats[\"Random Followers\"] = add_stats[\"Total Followers\"] - total_new_followers\n",
    "    add_stats[\"Cost of New Follower per Total\"] = spent / add_stats[\"Total Followers\"]\n",
    "    add_stats[\"Unfollowers\"] = add_stats[\"Total Followers\"] - total_new_followers\n",
    "    add_stats[\"Unconversion Rate\"] = total_new_followers / df.loc[\"total\", \"Clicks (All)\"]\n",
    "    add_stats[\"Followers from ads guess\"] = total_new_followers + add_stats[\"Random Followers\"] - add_stats[\"Unfollowers\"]\n",
    "    add_stats[\"Real cost guess\"] = spent / add_stats[\"Followers from ads guess\"]\n",
    "    return add_stats"
   ]
  },
  {
   "cell_type": "code",
   "execution_count": null,
   "metadata": {},
   "outputs": [],
   "source": [
    "#export\n",
    "\n",
    "def create_insights(event: Dict = None, context=None,) -> str:\n",
    "    insights = get_insights()\n",
    "    df, worksheet_name = get_insights_df(insights)\n",
    "    add_stats = more_stats(df)\n",
    "    empty = pd.Series(name=\"\", dtype=str)\n",
    "    df = df.append([empty, empty, empty])\n",
    "    write_df(df, f\"{worksheet_name}\")\n",
    "    write_series(add_stats, f\"{worksheet_name}\", loc=f\"A{len(df)}\")\n",
    "    return \"Success\""
   ]
  },
  {
   "cell_type": "code",
   "execution_count": null,
   "metadata": {},
   "outputs": [
    {
     "name": "stderr",
     "output_type": "stream",
     "text": [
      "/usr/local/lib/python3.6/dist-packages/ipykernel_launcher.py:6: DeprecationWarning: The default dtype for empty Series will be 'object' instead of 'float64' in a future version. Specify a dtype explicitly to silence this warning.\n",
      "  \n"
     ]
    },
    {
     "data": {
      "application/vnd.google.colaboratory.intrinsic+json": {
       "type": "string"
      },
      "text/plain": [
       "'Success'"
      ]
     },
     "execution_count": null,
     "metadata": {
      "tags": []
     },
     "output_type": "execute_result"
    }
   ],
   "source": [
    "create_insights()"
   ]
  },
  {
   "cell_type": "code",
   "execution_count": null,
   "metadata": {},
   "outputs": [],
   "source": [
    "## TODO\n",
    "## total\n",
    "## unfollowers\n",
    "## relevance score\n",
    "\n",
    "## Next\n",
    "# Match country - rename ads?"
   ]
  },
  {
   "cell_type": "code",
   "execution_count": null,
   "metadata": {},
   "outputs": [
    {
     "name": "stdout",
     "output_type": "stream",
     "text": [
      "Converted 00_core.ipynb.\n",
      "Converted 01_followers.ipynb.\n",
      "Converted 02_ads.ipynb.\n",
      "Converted index.ipynb.\n"
     ]
    }
   ],
   "source": [
    "#hide\n",
    "from nbdev.export import notebook2script\n",
    "notebook2script()"
   ]
  },
  {
   "cell_type": "code",
   "execution_count": null,
   "metadata": {},
   "outputs": [],
   "source": [
    ""
   ]
  }
 ],
 "metadata": {
  "kernelspec": {
   "display_name": "Python 3",
   "name": "python3"
  }
 },
 "nbformat": 4,
 "nbformat_minor": 0
}
