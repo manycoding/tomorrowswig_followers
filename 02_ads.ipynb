{
 "cells": [
  {
   "cell_type": "code",
   "execution_count": null,
   "metadata": {},
   "outputs": [],
   "source": [
    "# default_exp ads"
   ]
  },
  {
   "cell_type": "code",
   "execution_count": null,
   "metadata": {},
   "outputs": [],
   "source": [
    "%load_ext autoreload\n",
    "%autoreload 2"
   ]
  },
  {
   "cell_type": "code",
   "execution_count": null,
   "metadata": {},
   "outputs": [
    {
     "name": "stdout",
     "output_type": "stream",
     "text": [
      "\u001b[?25l\r\u001b[K     |██████▍                         | 10kB 20.0MB/s eta 0:00:01\r\u001b[K     |████████████▊                   | 20kB 3.4MB/s eta 0:00:01\r\u001b[K     |███████████████████             | 30kB 4.1MB/s eta 0:00:01\r\u001b[K     |█████████████████████████▍      | 40kB 4.4MB/s eta 0:00:01\r\u001b[K     |███████████████████████████████▊| 51kB 3.9MB/s eta 0:00:01\r\u001b[K     |████████████████████████████████| 61kB 3.1MB/s \n",
      "\u001b[?25h"
     ]
    }
   ],
   "source": [
    "#hide\n",
    "!pip install -qU nbdev fastcore"
   ]
  },
  {
   "cell_type": "code",
   "execution_count": null,
   "metadata": {},
   "outputs": [
    {
     "name": "stdout",
     "output_type": "stream",
     "text": [
      "\u001b[K     |████████████████████████████████| 1.0MB 6.5MB/s \n",
      "\u001b[K     |████████████████████████████████| 10.1MB 36.4MB/s \n",
      "\u001b[K     |████████████████████████████████| 51kB 6.2MB/s \n",
      "\u001b[K     |████████████████████████████████| 81kB 8.8MB/s \n",
      "\u001b[?25h  Building wheel for pycountry (setup.py) ... \u001b[?25l\u001b[?25hdone\n",
      "  Building wheel for curlify (setup.py) ... \u001b[?25l\u001b[?25hdone\n",
      "  Building wheel for typing (setup.py) ... \u001b[?25l\u001b[?25hdone\n"
     ]
    }
   ],
   "source": [
    "#hide\n",
    "!pip install -qU gspread facebook_business pycountry python-facebook-api"
   ]
  },
  {
   "cell_type": "code",
   "execution_count": null,
   "metadata": {},
   "outputs": [
    {
     "name": "stdout",
     "output_type": "stream",
     "text": [
      "/content/drive/My Drive/upwork/Martin followers/tomorrowswig_followers\n"
     ]
    }
   ],
   "source": [
    "#hide\n",
    "from pathlib import Path\n",
    "path = Path(\"/content/drive/My Drive/upwork/Martin followers/tomorrowswig_followers\")\n",
    "%cd \"{path}\""
   ]
  },
  {
   "cell_type": "code",
   "execution_count": null,
   "metadata": {},
   "outputs": [],
   "source": [
    "#hide\n",
    "#not deps but we need them to use nbdev and run tests\n",
    "from nbdev import * \n",
    "from nbdev.showdoc import *\n",
    "from fastcore.test import *"
   ]
  },
  {
   "cell_type": "markdown",
   "metadata": {},
   "source": [
    "## Facebook Auth"
   ]
  },
  {
   "cell_type": "code",
   "execution_count": null,
   "metadata": {},
   "outputs": [],
   "source": [
    "#hide\n",
    "%%capture\n",
    "\n",
    "import yaml\n",
    "with open(path.parent/\"facebook_creds.yml\") as f:\n",
    "    data = yaml.safe_load(f)\n",
    "    %env APP_ID {data.get(\"APP_ID\")}\n",
    "    %env APP_SECRET {data.get(\"APP_SECRET\")}\n",
    "    %env TOKEN {data.get(\"TOKEN\")}\n",
    "    %env AD_ACC_ID {data.get(\"AD_ACC_ID\")}\n",
    "    %env USER_ID {data.get(\"USER_ID\")}"
   ]
  },
  {
   "cell_type": "code",
   "execution_count": null,
   "metadata": {},
   "outputs": [],
   "source": [
    "#export\n",
    "from tomorrowswig_followers.core import *\n",
    "from tomorrowswig_followers.followers import get_new_followers"
   ]
  },
  {
   "cell_type": "code",
   "execution_count": null,
   "metadata": {},
   "outputs": [],
   "source": [
    "#export\n",
    "import os\n",
    "from typing import *\n",
    "\n",
    "from datetime import datetime, timedelta\n",
    "from functools import partial\n",
    "\n",
    "import pandas as pd\n",
    "import numpy as np\n",
    "from facebook_business.api import FacebookAdsApi\n",
    "from facebook_business.adobjects.adaccount import AdAccount\n",
    "import pycountry\n",
    "\n",
    "AD_ACC_ID = os.environ.get(\"AD_ACC_ID\")"
   ]
  },
  {
   "cell_type": "code",
   "execution_count": null,
   "metadata": {},
   "outputs": [],
   "source": [
    "APP_ID = os.environ.get(\"APP_ID\")\n",
    "APP_SECRET = os.environ.get(\"APP_SECRET\")\n",
    "TOKEN = os.environ.get(\"TOKEN\")\n",
    "USER_ID = os.environ.get(\"USER_ID\")"
   ]
  },
  {
   "cell_type": "markdown",
   "metadata": {},
   "source": [
    "## Ads reporting"
   ]
  },
  {
   "cell_type": "code",
   "execution_count": null,
   "metadata": {},
   "outputs": [],
   "source": [
    "#export\n",
    "FacebookAdsApi.init(APP_ID, APP_SECRET, TOKEN)\n",
    "account = AdAccount(AD_ACC_ID)"
   ]
  },
  {
   "cell_type": "code",
   "execution_count": null,
   "metadata": {},
   "outputs": [
    {
     "data": {
      "text/plain": [
       "datetime.datetime(2020, 7, 28, 14, 31, 58)"
      ]
     },
     "execution_count": null,
     "metadata": {
      "tags": []
     },
     "output_type": "execute_result"
    }
   ],
   "source": [
    "datetime.fromtimestamp(1595946718)"
   ]
  },
  {
   "cell_type": "code",
   "execution_count": null,
   "metadata": {},
   "outputs": [
    {
     "data": {
      "application/vnd.google.colaboratory.intrinsic+json": {
       "type": "string"
      },
      "text/plain": [
       "'1595203200'"
      ]
     },
     "execution_count": null,
     "metadata": {
      "tags": []
     },
     "output_type": "execute_result"
    }
   ],
   "source": [
    "datetime(2020,7,20,0,0).strftime('%s')"
   ]
  },
  {
   "cell_type": "code",
   "execution_count": null,
   "metadata": {},
   "outputs": [],
   "source": [
    "insights = account.get_insights(fields=[\n",
    "    \"ad_name\",\n",
    "    \"clicks\",\n",
    "    \"cpc\",\n",
    "    \"ctr\",\n",
    "    \"cpm\",\n",
    "    \"cost_per_action_type\",\n",
    "    # AdsInsights.Field.cost_per_one_thousand_ad_impression, permissions\n",
    "    \"spend\",\n",
    "    # \"adset_budget_value\", permissions\n",
    "    \"impressions\",\n",
    "    \"reach\",\n",
    "    \"actions\",\n",
    "    \"video_avg_time_watched_actions\",\n",
    "    \"video_p50_watched_actions\",\n",
    "    \"video_p75_watched_actions\",\n",
    "    \"video_p95_watched_actions\",\n",
    "\n",
    "], params={\n",
    "    'level': \"ad\",\n",
    "    'date_preset': \"yesterday\",\n",
    "    # \"date_start\": \"1595116800\",\n",
    "    # \"date_stop\": \"1595203200\"\n",
    "})\n"
   ]
  },
  {
   "cell_type": "code",
   "execution_count": null,
   "metadata": {},
   "outputs": [],
   "source": [
    "def get_action(cell, name):\n",
    "    action = [a for a in cell if a[\"action_type\"] == name]\n",
    "    if action:\n",
    "        return action[0][\"value\"]\n",
    "    return 0"
   ]
  },
  {
   "cell_type": "code",
   "execution_count": null,
   "metadata": {},
   "outputs": [],
   "source": [
    "# fields = [f for f in AdsInsights.Field.__dict__ if not f.startswith(\"__\")]"
   ]
  },
  {
   "cell_type": "code",
   "execution_count": null,
   "metadata": {},
   "outputs": [],
   "source": [
    "# account.get_insights(fields=[fields[53]], params={\n",
    "#     'level': AdsInsights.Level.ad,\n",
    "#     'date_preset': AdsInsights.DatePreset.last_3d,\n",
    "# })[-1]"
   ]
  },
  {
   "cell_type": "code",
   "execution_count": null,
   "metadata": {},
   "outputs": [],
   "source": [
    "# account.get_insights(fields=fields[:53], params={\n",
    "#     'level': AdsInsights.Level.ad,\n",
    "#     'date_preset': AdsInsights.DatePreset.last_3d,\n",
    "# })"
   ]
  },
  {
   "cell_type": "code",
   "execution_count": null,
   "metadata": {},
   "outputs": [],
   "source": [
    "# account.get_insights(\n",
    "#     # fields=fields[:53],\n",
    "#     fields = [\"actions\"],\n",
    "#     params={\n",
    "#     'level': \"ad\",\n",
    "#     'date_preset': \"this_week_sun_today\",\n",
    "# })"
   ]
  },
  {
   "cell_type": "code",
   "execution_count": null,
   "metadata": {},
   "outputs": [],
   "source": [
    "#export\n",
    "def get_dif(df: pd.DataFrame) -> pd.DataFrame:\n",
    "    change_df = df.diff(axis=1, periods=-1)\n",
    "    change_df = change_df.fillna(0).astype(int)\n",
    "    return change_df"
   ]
  },
  {
   "cell_type": "code",
   "execution_count": null,
   "metadata": {},
   "outputs": [],
   "source": [
    "#export\n",
    "# \"Relevance Score\",\n",
    "COLUMNS = [\"Ad Name\", \"New Followers\", \"% (Clicks)\", \"% (Impressions)\", \"Cost Per Follow\",\n",
    "           \"Clicks (All)\", \"Link Clicks\", \"CPC (All)\" , \"CPC (Cost per Link Click)\",\n",
    "           \"CTR (All)\", \"CPM (Cost per 1,000 Impressions)\", \"Amount Spent (USD)\", \"Impressions\", \"Reach\", \"Post Reactions\", \"Post Shares\",\n",
    "           \"Video Average Play Time\", \"Video Plays at 50%\", \"Video Plays at 75%\", \"Video Plays at 95%\"]"
   ]
  },
  {
   "cell_type": "code",
   "execution_count": null,
   "metadata": {},
   "outputs": [],
   "source": [
    "#export\n",
    "get_insights = partial(account.get_insights, fields=[\n",
    "        \"ad_name\",\n",
    "        \"clicks\",\n",
    "        \"cpc\",\n",
    "        \"ctr\",\n",
    "        \"cpm\",\n",
    "        \"cost_per_action_type\",\n",
    "        \"spend\",\n",
    "        \"impressions\",\n",
    "        \"reach\",\n",
    "        \"actions\",\n",
    "        \"video_avg_time_watched_actions\",\n",
    "        \"video_p50_watched_actions\",\n",
    "        \"video_p75_watched_actions\",\n",
    "        \"video_p95_watched_actions\",\n",
    "    ], params={\n",
    "        'level': \"ad\",\n",
    "        'date_preset': \"yesterday\",\n",
    "    })"
   ]
  },
  {
   "cell_type": "code",
   "execution_count": null,
   "metadata": {},
   "outputs": [],
   "source": [
    "#export\n",
    "def get_action(cell, name):\n",
    "    action = [a for a in cell if a[\"action_type\"] == name]\n",
    "    if action:\n",
    "        return action[0][\"value\"]\n",
    "    return 0"
   ]
  },
  {
   "cell_type": "code",
   "execution_count": null,
   "metadata": {},
   "outputs": [],
   "source": [
    "#export\n",
    "def get_followers_change(date: datetime) -> pd.DataFrame:\n",
    "    history_df = get_df(\"History\")\n",
    "    new_followers = get_dif(history_df)\n",
    "    followers_date = (date + timedelta(days=1)).strftime(\"%b %d %Y\")\n",
    "    new_followers = new_followers.iloc[:,new_followers.columns.str.startswith(followers_date)].replace(0, np.nan)\n",
    "    return new_followers.dropna(axis=1, how=\"all\").iloc[:, :1].dropna().astype(int)"
   ]
  },
  {
   "cell_type": "code",
   "execution_count": null,
   "metadata": {},
   "outputs": [],
   "source": [
    "assert get_followers_change(datetime.strptime(\"2020-07-25\", \"%Y-%m-%d\")).columns[0] == \"Jul 26 2020                 2020-07-26 19:10:34\""
   ]
  },
  {
   "cell_type": "code",
   "execution_count": null,
   "metadata": {},
   "outputs": [],
   "source": [
    "#export\n",
    "def match_country(x):\n",
    "    try:\n",
    "        return pycountry.countries.search_fuzzy(x)[0].alpha_2\n",
    "    except LookupError as e:\n",
    "        return \"not found\""
   ]
  },
  {
   "cell_type": "code",
   "execution_count": null,
   "metadata": {},
   "outputs": [],
   "source": [
    "assert match_country(\"brasil\") == \"not found\"\n",
    "assert match_country(\"brazil\") == \"BR\""
   ]
  },
  {
   "cell_type": "code",
   "execution_count": null,
   "metadata": {},
   "outputs": [],
   "source": [
    "#export\n",
    "def add_country_total(df: pd.DataFrame) -> Tuple[pd.DataFrame, str]:\n",
    "    dupes = df[df.index.duplicated(False)]\n",
    "    if not len(dupes):\n",
    "        return\n",
    "\n",
    "    to_mean = [\"cpc\", \"cpm\", \"ctr\", \"CPC (Cost per Link Click)\"]\n",
    "    to_sum = set(df.columns).difference(set(to_mean + [\"ad_name\"]))\n",
    "    total = dupes.iloc[0,:].copy()\n",
    "    index = dupes.index[0]\n",
    "    total[\"ad_name\"] = f\"{index} total\"\n",
    "    total[to_mean] = dupes[to_mean].apply(np.mean)\n",
    "    total[to_sum] = dupes[to_sum].astype(int).apply(sum)\n",
    "    return df.append(total), index"
   ]
  },
  {
   "cell_type": "code",
   "execution_count": null,
   "metadata": {},
   "outputs": [],
   "source": [
    "#export\n",
    "def add_followers(df: pd.DataFrame, date: datetime):\n",
    "    new_followers = get_followers_change(date)\n",
    "    if not new_followers.values.size:\n",
    "        new_followers[\"no change\"] = 0\n",
    "    df[\"New Followers\"] = new_followers\n",
    "    df.fillna(0, inplace=True)\n",
    "    df[\"% (Clicks)\"] = (df[\"New Followers\"] / df[\"clicks\"]* 100).round().astype(int)\n",
    "    df[\"% (Impressions)\"] = (df[\"New Followers\"] / df[\"impressions\"] * 100)\n",
    "    df[\"Cost Per Follow\"] = (df[\"spend\"] / df[\"New Followers\"])\n",
    "    df.replace([np.inf], 0, inplace=True)"
   ]
  },
  {
   "cell_type": "code",
   "execution_count": null,
   "metadata": {},
   "outputs": [],
   "source": [
    "def create_first_part():\n",
    "    df = pd.DataFrame(get_insights())\n",
    "    floats = [\"cpc\", \"cpm\", \"ctr\", \"spend\"]\n",
    "    df[floats] = df[floats].astype(float).round(2)\n",
    "    ints = [\"clicks\", \"impressions\", \"reach\"]\n",
    "    df[ints] = df[ints].astype(int)\n",
    "    index = df[\"ad_name\"].apply(lambda x: match_country(x.split(\"-\")[1].strip()))\n",
    "    index.name = \"countries\"\n",
    "    df.set_index(index, inplace=True)\n",
    "    df.sort_values(\"ad_name\", inplace=True)\n",
    "\n",
    "    date = datetime.strptime(df[\"date_start\"].values[0], \"%Y-%m-%d\")\n",
    "    worksheet_name = date.strftime(\"%b %d %Y\")\n",
    "\n",
    "    df[\"Post Reactions\"] = df[\"actions\"].apply(partial(get_action, name=\"post_reaction\"))\n",
    "    df[\"Post Shares\"] = df[\"actions\"].apply(partial(get_action, name=\"post\"))\n",
    "    df[\"Link Clicks\"] = df[\"actions\"].apply(partial(get_action, name=\"link_click\"))\n",
    "    df[\"CPC (Cost per Link Click)\"] = df[\"cost_per_action_type\"].apply(partial(get_action, name=\"link_click\")).astype(float)\n",
    "    get_video_action = partial(get_action, name=\"video_view\")\n",
    "    df[\"Video Average Play Time\"] = df[\"video_avg_time_watched_actions\"].apply(get_video_action)\n",
    "    df[\"Video Plays at 50%\"] = df[\"video_p50_watched_actions\"].apply(get_video_action)\n",
    "    df[\"Video Plays at 75%\"] = df[\"video_p75_watched_actions\"].apply(get_video_action)\n",
    "    df[\"Video Plays at 95%\"] = df[\"video_p95_watched_actions\"].apply(get_video_action)\n",
    "\n",
    "    df.drop(columns=[\"actions\", \"cost_per_action_type\", \"date_start\", \"date_stop\",\n",
    "                        \"video_avg_time_watched_actions\"] +\n",
    "            [f\"video_p{p}_watched_actions\" for p in [50,75,95]], inplace=True)\n",
    "    \n",
    "    dupes = add_country_total(df)\n",
    "    add_followers(df, date)\n",
    "    return df"
   ]
  },
  {
   "cell_type": "code",
   "execution_count": null,
   "metadata": {},
   "outputs": [],
   "source": [
    "df = create_first_part()"
   ]
  },
  {
   "cell_type": "code",
   "execution_count": null,
   "metadata": {},
   "outputs": [],
   "source": [
    "to_mean = [\"cpc\", \"cpm\", \"ctr\", \"CPC (Cost per Link Click)\", \"Video Average Play Time\",\n",
    "            \"% (Clicks)\", \"% (Impressions)\", \"Cost Per Follow\"]\n",
    "to_sum = set(df.columns).difference(set(to_mean + [\"ad_name\"]))\n",
    "total = pd.Series(name=\"total\", index=df.columns, dtype=float)"
   ]
  },
  {
   "cell_type": "code",
   "execution_count": null,
   "metadata": {},
   "outputs": [],
   "source": [
    "total[to_mean] = df[to_mean].apply(np.mean)"
   ]
  },
  {
   "cell_type": "code",
   "execution_count": null,
   "metadata": {},
   "outputs": [],
   "source": [
    "total[to_sum] = df[to_sum].astype(int).apply(sum)"
   ]
  },
  {
   "cell_type": "code",
   "execution_count": null,
   "metadata": {},
   "outputs": [
    {
     "data": {
      "text/html": [
       "<div>\n",
       "<style scoped>\n",
       "    .dataframe tbody tr th:only-of-type {\n",
       "        vertical-align: middle;\n",
       "    }\n",
       "\n",
       "    .dataframe tbody tr th {\n",
       "        vertical-align: top;\n",
       "    }\n",
       "\n",
       "    .dataframe thead th {\n",
       "        text-align: right;\n",
       "    }\n",
       "</style>\n",
       "<table border=\"1\" class=\"dataframe\">\n",
       "  <thead>\n",
       "    <tr style=\"text-align: right;\">\n",
       "      <th></th>\n",
       "      <th>ad_name</th>\n",
       "      <th>clicks</th>\n",
       "      <th>cpc</th>\n",
       "      <th>cpm</th>\n",
       "      <th>ctr</th>\n",
       "      <th>impressions</th>\n",
       "      <th>reach</th>\n",
       "      <th>spend</th>\n",
       "      <th>Post Reactions</th>\n",
       "      <th>Post Shares</th>\n",
       "      <th>Link Clicks</th>\n",
       "      <th>CPC (Cost per Link Click)</th>\n",
       "      <th>Video Average Play Time</th>\n",
       "      <th>Video Plays at 50%</th>\n",
       "      <th>Video Plays at 75%</th>\n",
       "      <th>Video Plays at 95%</th>\n",
       "      <th>New Followers</th>\n",
       "      <th>% (Clicks)</th>\n",
       "      <th>% (Impressions)</th>\n",
       "      <th>Cost Per Follow</th>\n",
       "    </tr>\n",
       "    <tr>\n",
       "      <th>countries</th>\n",
       "      <th></th>\n",
       "      <th></th>\n",
       "      <th></th>\n",
       "      <th></th>\n",
       "      <th></th>\n",
       "      <th></th>\n",
       "      <th></th>\n",
       "      <th></th>\n",
       "      <th></th>\n",
       "      <th></th>\n",
       "      <th></th>\n",
       "      <th></th>\n",
       "      <th></th>\n",
       "      <th></th>\n",
       "      <th></th>\n",
       "      <th></th>\n",
       "      <th></th>\n",
       "      <th></th>\n",
       "      <th></th>\n",
       "      <th></th>\n",
       "    </tr>\n",
       "  </thead>\n",
       "  <tbody>\n",
       "    <tr>\n",
       "      <th>AU</th>\n",
       "      <td>1 - Australia - General Ad 2-D</td>\n",
       "      <td>89.0</td>\n",
       "      <td>0.190</td>\n",
       "      <td>3.32000</td>\n",
       "      <td>1.72000</td>\n",
       "      <td>5162.0</td>\n",
       "      <td>5162.0</td>\n",
       "      <td>17.15</td>\n",
       "      <td>8</td>\n",
       "      <td>0</td>\n",
       "      <td>47</td>\n",
       "      <td>0.364894</td>\n",
       "      <td>3</td>\n",
       "      <td>1144</td>\n",
       "      <td>507</td>\n",
       "      <td>332</td>\n",
       "      <td>0.0</td>\n",
       "      <td>0.0</td>\n",
       "      <td>0.0</td>\n",
       "      <td>0.0</td>\n",
       "    </tr>\n",
       "    <tr>\n",
       "      <th>CA</th>\n",
       "      <td>1 - Canada - Gen #2 - D</td>\n",
       "      <td>40.0</td>\n",
       "      <td>0.110</td>\n",
       "      <td>2.44000</td>\n",
       "      <td>2.16000</td>\n",
       "      <td>1848.0</td>\n",
       "      <td>1847.0</td>\n",
       "      <td>4.51</td>\n",
       "      <td>1</td>\n",
       "      <td>0</td>\n",
       "      <td>21</td>\n",
       "      <td>0.214762</td>\n",
       "      <td>3</td>\n",
       "      <td>431</td>\n",
       "      <td>181</td>\n",
       "      <td>123</td>\n",
       "      <td>0.0</td>\n",
       "      <td>0.0</td>\n",
       "      <td>0.0</td>\n",
       "      <td>0.0</td>\n",
       "    </tr>\n",
       "    <tr>\n",
       "      <th>US</th>\n",
       "      <td>1 - USA - Gen 2d - STORIES+FEED</td>\n",
       "      <td>52.0</td>\n",
       "      <td>0.210</td>\n",
       "      <td>2.94000</td>\n",
       "      <td>1.40000</td>\n",
       "      <td>3710.0</td>\n",
       "      <td>3700.0</td>\n",
       "      <td>10.90</td>\n",
       "      <td>2</td>\n",
       "      <td>3</td>\n",
       "      <td>33</td>\n",
       "      <td>0.330303</td>\n",
       "      <td>3</td>\n",
       "      <td>786</td>\n",
       "      <td>351</td>\n",
       "      <td>226</td>\n",
       "      <td>0.0</td>\n",
       "      <td>0.0</td>\n",
       "      <td>0.0</td>\n",
       "      <td>0.0</td>\n",
       "    </tr>\n",
       "    <tr>\n",
       "      <th>DE</th>\n",
       "      <td>2 - Germany - General Ad 2-D</td>\n",
       "      <td>29.0</td>\n",
       "      <td>0.090</td>\n",
       "      <td>2.31000</td>\n",
       "      <td>2.51000</td>\n",
       "      <td>1157.0</td>\n",
       "      <td>1156.0</td>\n",
       "      <td>2.67</td>\n",
       "      <td>0</td>\n",
       "      <td>1</td>\n",
       "      <td>17</td>\n",
       "      <td>0.157059</td>\n",
       "      <td>3</td>\n",
       "      <td>283</td>\n",
       "      <td>110</td>\n",
       "      <td>83</td>\n",
       "      <td>0.0</td>\n",
       "      <td>0.0</td>\n",
       "      <td>0.0</td>\n",
       "      <td>0.0</td>\n",
       "    </tr>\n",
       "    <tr>\n",
       "      <th>MX</th>\n",
       "      <td>2 - Mexico - General Ad #2-D</td>\n",
       "      <td>73.0</td>\n",
       "      <td>0.070</td>\n",
       "      <td>0.59000</td>\n",
       "      <td>0.89000</td>\n",
       "      <td>8201.0</td>\n",
       "      <td>8192.0</td>\n",
       "      <td>4.80</td>\n",
       "      <td>4</td>\n",
       "      <td>0</td>\n",
       "      <td>39</td>\n",
       "      <td>0.123077</td>\n",
       "      <td>2</td>\n",
       "      <td>1396</td>\n",
       "      <td>369</td>\n",
       "      <td>249</td>\n",
       "      <td>0.0</td>\n",
       "      <td>0.0</td>\n",
       "      <td>0.0</td>\n",
       "      <td>0.0</td>\n",
       "    </tr>\n",
       "    <tr>\n",
       "      <th>AR</th>\n",
       "      <td>3 - Argentina - General 2-D</td>\n",
       "      <td>40.0</td>\n",
       "      <td>0.090</td>\n",
       "      <td>0.40000</td>\n",
       "      <td>0.43000</td>\n",
       "      <td>9252.0</td>\n",
       "      <td>9134.0</td>\n",
       "      <td>3.73</td>\n",
       "      <td>0</td>\n",
       "      <td>2</td>\n",
       "      <td>24</td>\n",
       "      <td>0.155417</td>\n",
       "      <td>1</td>\n",
       "      <td>1402</td>\n",
       "      <td>286</td>\n",
       "      <td>170</td>\n",
       "      <td>0.0</td>\n",
       "      <td>0.0</td>\n",
       "      <td>0.0</td>\n",
       "      <td>0.0</td>\n",
       "    </tr>\n",
       "    <tr>\n",
       "      <th>not found</th>\n",
       "      <td>3 - Brasil - General Ad 2-D</td>\n",
       "      <td>35.0</td>\n",
       "      <td>0.050</td>\n",
       "      <td>0.49000</td>\n",
       "      <td>0.91000</td>\n",
       "      <td>3863.0</td>\n",
       "      <td>3846.0</td>\n",
       "      <td>1.90</td>\n",
       "      <td>1</td>\n",
       "      <td>0</td>\n",
       "      <td>19</td>\n",
       "      <td>0.100000</td>\n",
       "      <td>2</td>\n",
       "      <td>646</td>\n",
       "      <td>180</td>\n",
       "      <td>114</td>\n",
       "      <td>0.0</td>\n",
       "      <td>0.0</td>\n",
       "      <td>0.0</td>\n",
       "      <td>0.0</td>\n",
       "    </tr>\n",
       "    <tr>\n",
       "      <th>ID</th>\n",
       "      <td>3 - Indonesia - General Ad 2-D</td>\n",
       "      <td>116.0</td>\n",
       "      <td>0.030</td>\n",
       "      <td>0.32000</td>\n",
       "      <td>0.95000</td>\n",
       "      <td>12188.0</td>\n",
       "      <td>12188.0</td>\n",
       "      <td>3.96</td>\n",
       "      <td>3</td>\n",
       "      <td>4</td>\n",
       "      <td>57</td>\n",
       "      <td>0.069474</td>\n",
       "      <td>2</td>\n",
       "      <td>1812</td>\n",
       "      <td>574</td>\n",
       "      <td>379</td>\n",
       "      <td>0.0</td>\n",
       "      <td>0.0</td>\n",
       "      <td>0.0</td>\n",
       "      <td>0.0</td>\n",
       "    </tr>\n",
       "    <tr>\n",
       "      <th>total</th>\n",
       "      <td>NaN</td>\n",
       "      <td>474.0</td>\n",
       "      <td>0.105</td>\n",
       "      <td>1.60125</td>\n",
       "      <td>1.37125</td>\n",
       "      <td>45381.0</td>\n",
       "      <td>45225.0</td>\n",
       "      <td>44.00</td>\n",
       "      <td>19</td>\n",
       "      <td>10</td>\n",
       "      <td>257</td>\n",
       "      <td>0.189373</td>\n",
       "      <td>4.16652e+06</td>\n",
       "      <td>7900</td>\n",
       "      <td>2558</td>\n",
       "      <td>1676</td>\n",
       "      <td>0.0</td>\n",
       "      <td>0.0</td>\n",
       "      <td>0.0</td>\n",
       "      <td>0.0</td>\n",
       "    </tr>\n",
       "  </tbody>\n",
       "</table>\n",
       "</div>"
      ],
      "text/plain": [
       "                                   ad_name  ...  Cost Per Follow\n",
       "countries                                   ...                 \n",
       "AU          1 - Australia - General Ad 2-D  ...              0.0\n",
       "CA                 1 - Canada - Gen #2 - D  ...              0.0\n",
       "US         1 - USA - Gen 2d - STORIES+FEED  ...              0.0\n",
       "DE            2 - Germany - General Ad 2-D  ...              0.0\n",
       "MX            2 - Mexico - General Ad #2-D  ...              0.0\n",
       "AR             3 - Argentina - General 2-D  ...              0.0\n",
       "not found      3 - Brasil - General Ad 2-D  ...              0.0\n",
       "ID          3 - Indonesia - General Ad 2-D  ...              0.0\n",
       "total                                  NaN  ...              0.0\n",
       "\n",
       "[9 rows x 20 columns]"
      ]
     },
     "execution_count": null,
     "metadata": {
      "tags": []
     },
     "output_type": "execute_result"
    }
   ],
   "source": [
    "df.append(total)"
   ]
  },
  {
   "cell_type": "code",
   "execution_count": null,
   "metadata": {},
   "outputs": [],
   "source": [
    "#export\n",
    "def add_total(df: pd.DataFrame) -> pd.DataFrame:\n",
    "    to_mean = [\"cpc\", \"cpm\", \"ctr\", \"CPC (Cost per Link Click)\", \"Video Average Play Time\",\n",
    "                \"% (Clicks)\", \"% (Impressions)\", \"Cost Per Follow\"]\n",
    "    to_sum = set(df.columns).difference(set(to_mean + [\"ad_name\"]))\n",
    "    total = pd.Series(name=\"total\", index=df.columns)\n",
    "    total[to_mean] = df[to_mean].apply(np.mean)\n",
    "    total[to_sum] = df[to_sum].astype(int).apply(sum)\n",
    "    return df.append(total)"
   ]
  },
  {
   "cell_type": "code",
   "execution_count": null,
   "metadata": {},
   "outputs": [],
   "source": [
    "#export\n",
    "def get_insights_df(insights: List) -> Tuple[pd.DataFrame, str]:\n",
    "    df = pd.DataFrame(insights)\n",
    "    floats = [\"cpc\", \"cpm\", \"ctr\", \"spend\"]\n",
    "    df[floats] = df[floats].astype(float).round(2)\n",
    "    ints = [\"clicks\", \"impressions\", \"reach\"]\n",
    "    df[ints] = df[ints].astype(int)\n",
    "    index = df[\"ad_name\"].apply(lambda x: match_country(x.split(\"-\")[1].strip()))\n",
    "    index.name = \"countries\"\n",
    "    df.set_index(index, inplace=True)\n",
    "    df.sort_values(\"ad_name\", inplace=True)\n",
    "\n",
    "    date = datetime.strptime(df[\"date_start\"].values[0], \"%Y-%m-%d\")\n",
    "    worksheet_name = date.strftime(\"%b %d %Y\")\n",
    "\n",
    "    df[\"Post Reactions\"] = df[\"actions\"].apply(partial(get_action, name=\"post_reaction\"))\n",
    "    df[\"Post Shares\"] = df[\"actions\"].apply(partial(get_action, name=\"post\"))\n",
    "    df[\"Link Clicks\"] = df[\"actions\"].apply(partial(get_action, name=\"link_click\"))\n",
    "    df[\"CPC (Cost per Link Click)\"] = df[\"cost_per_action_type\"].apply(partial(get_action, name=\"link_click\")).astype(float)\n",
    "    get_video_action = partial(get_action, name=\"video_view\")\n",
    "    df[\"Video Average Play Time\"] = df[\"video_avg_time_watched_actions\"].apply(get_video_action)\n",
    "    df[\"Video Plays at 50%\"] = df[\"video_p50_watched_actions\"].apply(get_video_action)\n",
    "    df[\"Video Plays at 75%\"] = df[\"video_p75_watched_actions\"].apply(get_video_action)\n",
    "    df[\"Video Plays at 95%\"] = df[\"video_p95_watched_actions\"].apply(get_video_action)\n",
    "\n",
    "    df.drop(columns=[\"actions\", \"cost_per_action_type\", \"date_start\", \"date_stop\",\n",
    "                     \"video_avg_time_watched_actions\"] +\n",
    "            [f\"video_p{p}_watched_actions\" for p in [50,75,95]], inplace=True)\n",
    "    \n",
    "    dupes = add_country_total(df)\n",
    "    add_followers(df, date)\n",
    "    df = add_total(df)\n",
    "    to_round = [\"Cost Per Follow\", \"% (Impressions)\", \"CPC (Cost per Link Click)\"]\n",
    "    df[to_round] = df[to_round].round(2)\n",
    "    df.rename(columns={\"ad_name\": \"Ad Name\", \"clicks\": \"Clicks (All)\", \"cpc\": \"CPC (All)\",\n",
    "                   \"ctr\": \"CTR (All)\", \"cpm\": \"CPM (Cost per 1,000 Impressions)\",\n",
    "                   \"reach\": \"Reach\", \"impressions\": \"Impressions\", \"spend\": \"Amount Spent (USD)\"}, inplace=True)\n",
    "    return df[COLUMNS], worksheet_name"
   ]
  },
  {
   "cell_type": "code",
   "execution_count": null,
   "metadata": {},
   "outputs": [
    {
     "name": "stderr",
     "output_type": "stream",
     "text": [
      "/usr/local/lib/python3.6/dist-packages/ipykernel_launcher.py:6: DeprecationWarning: The default dtype for empty Series will be 'object' instead of 'float64' in a future version. Specify a dtype explicitly to silence this warning.\n",
      "  \n"
     ]
    }
   ],
   "source": [
    "insights = get_insights()\n",
    "df, worksheet_name = get_insights_df(insights)"
   ]
  },
  {
   "cell_type": "code",
   "execution_count": null,
   "metadata": {},
   "outputs": [
    {
     "name": "stderr",
     "output_type": "stream",
     "text": [
      "/usr/local/lib/python3.6/dist-packages/ipykernel_launcher.py:5: RuntimeWarning: divide by zero encountered in double_scalars\n",
      "  \"\"\"\n"
     ]
    }
   ],
   "source": [
    "add_stats = pd.Series(dtype=float)\n",
    "total_new_followers = df.loc[\"total\", \"New Followers\"]\n",
    "spent = df.loc[\"total\", \"Amount Spent (USD)\"]\n",
    "add_stats[\"Conversion Rate\"] = total_new_followers / df.loc[\"total\", \"Clicks (All)\"]\n",
    "add_stats[\"Cost of New Follower\"] = spent / total_new_followers"
   ]
  },
  {
   "cell_type": "code",
   "execution_count": null,
   "metadata": {},
   "outputs": [],
   "source": [
    "add_stats[\"Total Followers\"] = get_new_followers()[1]\n",
    "add_stats[\"Random Followers\"] = add_stats[\"Total Followers\"] - total_new_followers\n",
    "add_stats[\"Cost of New Follower per Total\"] = spent / add_stats[\"Total Followers\"]"
   ]
  },
  {
   "cell_type": "code",
   "execution_count": null,
   "metadata": {},
   "outputs": [],
   "source": [
    "add_stats[\"Unfollowers\"] = add_stats[\"Total Followers\"] - total_new_followers"
   ]
  },
  {
   "cell_type": "code",
   "execution_count": null,
   "metadata": {},
   "outputs": [],
   "source": [
    "add_stats[\"Unconversion Rate\"] = total_new_followers / df.loc[\"total\", \"Clicks (All)\"]"
   ]
  },
  {
   "cell_type": "code",
   "execution_count": null,
   "metadata": {},
   "outputs": [
    {
     "name": "stderr",
     "output_type": "stream",
     "text": [
      "/usr/local/lib/python3.6/dist-packages/ipykernel_launcher.py:2: RuntimeWarning: divide by zero encountered in double_scalars\n",
      "  \n"
     ]
    }
   ],
   "source": [
    "add_stats[\"Followers from ads guess\"] = total_new_followers + add_stats[\"Random Followers\"] - add_stats[\"Unfollowers\"]\n",
    "add_stats[\"Real cost guess\"] = spent / add_stats[\"Followers from ads guess\"]"
   ]
  },
  {
   "cell_type": "code",
   "execution_count": null,
   "metadata": {},
   "outputs": [],
   "source": [
    "#export\n",
    "def more_stats(df: pd.DataFrame) -> pd.Series:\n",
    "    add_stats = pd.Series(dtype=float)\n",
    "    total_new_followers = df.loc[\"total\", \"New Followers\"]\n",
    "    spent = df.loc[\"total\", \"Amount Spent (USD)\"]\n",
    "    add_stats[\"Conversion Rate\"] = total_new_followers / df.loc[\"total\", \"Clicks (All)\"]\n",
    "    add_stats[\"Cost of New Follower\"] = spent / total_new_followers\n",
    "    add_stats[\"Total Followers\"] = get_new_followers()[1]\n",
    "    add_stats[\"Random Followers\"] = add_stats[\"Total Followers\"] - total_new_followers\n",
    "    add_stats[\"Cost of New Follower per Total\"] = spent / add_stats[\"Total Followers\"]\n",
    "    add_stats[\"Unfollowers\"] = add_stats[\"Total Followers\"] - total_new_followers\n",
    "    add_stats[\"Unconversion Rate\"] = total_new_followers / df.loc[\"total\", \"Clicks (All)\"]\n",
    "    add_stats[\"Followers from ads guess\"] = total_new_followers + add_stats[\"Random Followers\"] - add_stats[\"Unfollowers\"]\n",
    "    add_stats[\"Real cost guess\"] = spent / add_stats[\"Followers from ads guess\"]\n",
    "    return add_stats"
   ]
  },
  {
   "cell_type": "code",
   "execution_count": null,
   "metadata": {},
   "outputs": [],
   "source": [
    "#export\n",
    "\n",
    "def create_insights(event: Dict = None, context=None,) -> str:\n",
    "    insights = get_insights()\n",
    "    df, worksheet_name = get_insights_df(insights)\n",
    "    add_stats = more_stats(df)\n",
    "    empty = pd.Series(name=\"\", dtype=str)\n",
    "    df = df.append([empty, empty, empty])\n",
    "    write_df(df, f\"{worksheet_name}\")\n",
    "    write_series(add_stats, f\"{worksheet_name}\", loc=f\"A{len(df)}\")\n",
    "    return f\"Created insights in '{worksheet_name}'\""
   ]
  },
  {
   "cell_type": "code",
   "execution_count": null,
   "metadata": {},
   "outputs": [
    {
     "name": "stderr",
     "output_type": "stream",
     "text": [
      "/usr/local/lib/python3.6/dist-packages/ipykernel_launcher.py:6: DeprecationWarning: The default dtype for empty Series will be 'object' instead of 'float64' in a future version. Specify a dtype explicitly to silence this warning.\n",
      "  \n",
      "/usr/local/lib/python3.6/dist-packages/ipykernel_launcher.py:7: RuntimeWarning: divide by zero encountered in double_scalars\n",
      "  import sys\n",
      "/usr/local/lib/python3.6/dist-packages/ipykernel_launcher.py:14: RuntimeWarning: divide by zero encountered in double_scalars\n",
      "  \n"
     ]
    },
    {
     "data": {
      "application/vnd.google.colaboratory.intrinsic+json": {
       "type": "string"
      },
      "text/plain": [
       "\"Created insights in 'Jul 30 2020'\""
      ]
     },
     "execution_count": null,
     "metadata": {
      "tags": []
     },
     "output_type": "execute_result"
    }
   ],
   "source": [
    "create_insights()"
   ]
  },
  {
   "cell_type": "code",
   "execution_count": null,
   "metadata": {},
   "outputs": [],
   "source": [
    "## TODO\n",
    "## relevance score\n",
    "\n",
    "## Next\n",
    "# Match country - rename ads?"
   ]
  },
  {
   "cell_type": "code",
   "execution_count": null,
   "metadata": {},
   "outputs": [
    {
     "name": "stdout",
     "output_type": "stream",
     "text": [
      "Converted 00_core.ipynb.\n",
      "Converted 01_followers.ipynb.\n",
      "Converted 02_ads.ipynb.\n",
      "Converted index.ipynb.\n"
     ]
    }
   ],
   "source": [
    "#hide\n",
    "from nbdev.export import notebook2script\n",
    "notebook2script()"
   ]
  },
  {
   "cell_type": "code",
   "execution_count": null,
   "metadata": {},
   "outputs": [],
   "source": [
    ""
   ]
  }
 ],
 "metadata": {
  "kernelspec": {
   "display_name": "Python 3",
   "name": "python3"
  }
 },
 "nbformat": 4,
 "nbformat_minor": 0
}
