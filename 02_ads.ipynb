{
 "cells": [
  {
   "cell_type": "code",
   "execution_count": null,
   "metadata": {},
   "outputs": [],
   "source": [
    "# default_exp ads"
   ]
  },
  {
   "cell_type": "code",
   "execution_count": null,
   "metadata": {},
   "outputs": [],
   "source": [
    "%load_ext autoreload\n",
    "%autoreload 2"
   ]
  },
  {
   "cell_type": "code",
   "execution_count": null,
   "metadata": {},
   "outputs": [
    {
     "name": "stdout",
     "output_type": "stream",
     "text": [
      "\u001b[K     |████████████████████████████████| 61kB 1.8MB/s \n",
      "\u001b[K     |████████████████████████████████| 40kB 3.9MB/s \n",
      "\u001b[?25h"
     ]
    }
   ],
   "source": [
    "#hide\n",
    "!pip install -qU nbdev fastcore"
   ]
  },
  {
   "cell_type": "code",
   "execution_count": null,
   "metadata": {},
   "outputs": [],
   "source": [
    "%%capture\n",
    "#hide\n",
    "!pip install -qU gspread facebook_business python-facebook-api"
   ]
  },
  {
   "cell_type": "code",
   "execution_count": null,
   "metadata": {},
   "outputs": [
    {
     "name": "stdout",
     "output_type": "stream",
     "text": [
      "/content/drive/My Drive/upwork/Martin followers/tomorrowswig_followers\n"
     ]
    }
   ],
   "source": [
    "#hide\n",
    "from pathlib import Path\n",
    "path = Path(\"/content/drive/My Drive/upwork/Martin followers/tomorrowswig_followers\")\n",
    "%cd \"{path}\""
   ]
  },
  {
   "cell_type": "code",
   "execution_count": null,
   "metadata": {},
   "outputs": [],
   "source": [
    "#hide\n",
    "from nbdev import * \n",
    "from nbdev.showdoc import *\n",
    "from fastcore.test import *"
   ]
  },
  {
   "cell_type": "markdown",
   "metadata": {},
   "source": [
    "## Facebook Auth"
   ]
  },
  {
   "cell_type": "code",
   "execution_count": null,
   "metadata": {},
   "outputs": [],
   "source": [
    "%%capture\n",
    "#hide\n",
    "\n",
    "import yaml\n",
    "with open(\"facebook_creds.yml\") as f:\n",
    "    data = yaml.safe_load(f)\n",
    "    %env APP_ID {data.get(\"APP_ID\")}\n",
    "    %env APP_SECRET {data.get(\"APP_SECRET\")}\n",
    "    %env TOKEN {data.get(\"TOKEN\")}\n",
    "    %env AD_ACC_ID {data.get(\"AD_ACC_ID\")}\n",
    "    %env USER_ID {data.get(\"USER_ID\")}\n",
    "    %env AWS_ACCESS_KEY_ID {data.get(\"AWS_ACCESS_KEY_ID\")}\n",
    "    %env AWS_SECRET_ACCESS_KEY {data.get(\"AWS_SECRET_ACCESS_KEY\")}\n",
    "    %env BUCKET {data.get(\"BUCKET\")}"
   ]
  },
  {
   "cell_type": "code",
   "execution_count": null,
   "metadata": {},
   "outputs": [],
   "source": [
    "#export\n",
    "from tomorrowswig_followers.core import *"
   ]
  },
  {
   "cell_type": "code",
   "execution_count": null,
   "metadata": {},
   "outputs": [],
   "source": [
    "#export\n",
    "import os\n",
    "from typing import *\n",
    "\n",
    "from datetime import datetime, timedelta\n",
    "from functools import partial\n",
    "\n",
    "import pandas as pd\n",
    "import numpy as np\n",
    "from facebook_business.api import FacebookAdsApi\n",
    "from facebook_business.adobjects.ad import Ad\n",
    "from facebook_business.adobjects.adset import AdSet\n",
    "from facebook_business.adobjects.adaccount import AdAccount\n",
    "\n",
    "AD_ACC_ID = os.environ.get(\"AD_ACC_ID\")"
   ]
  },
  {
   "cell_type": "code",
   "execution_count": null,
   "metadata": {},
   "outputs": [],
   "source": [
    "APP_ID = os.environ.get(\"APP_ID\")\n",
    "APP_SECRET = os.environ.get(\"APP_SECRET\")\n",
    "TOKEN = os.environ.get(\"TOKEN\")\n",
    "USER_ID = os.environ.get(\"USER_ID\")"
   ]
  },
  {
   "cell_type": "markdown",
   "metadata": {},
   "source": [
    "## Ads reporting"
   ]
  },
  {
   "cell_type": "code",
   "execution_count": null,
   "metadata": {},
   "outputs": [],
   "source": [
    "#export\n",
    "FacebookAdsApi.init(APP_ID, APP_SECRET, TOKEN)\n",
    "account = AdAccount(AD_ACC_ID)"
   ]
  },
  {
   "cell_type": "code",
   "execution_count": null,
   "metadata": {},
   "outputs": [],
   "source": [
    "# account.get_campaigns(fields=[\"status\", \"effective_status\", \"name\",], params = {\n",
    "#   'effective_status': ['ACTIVE'], \"is_completed\": False,\n",
    "# })"
   ]
  },
  {
   "cell_type": "code",
   "execution_count": null,
   "metadata": {},
   "outputs": [],
   "source": [
    "# account.get_ad_sets(fields=[\"status\", \"effective_status\", \"name\", \"learning_stage_info\"], )"
   ]
  },
  {
   "cell_type": "markdown",
   "metadata": {},
   "source": [
    "https://github.com/facebook/facebook-python-business-sdk/blob/master/facebook_business/adobjects/adsinsights.py"
   ]
  },
  {
   "cell_type": "code",
   "execution_count": null,
   "metadata": {},
   "outputs": [],
   "source": [
    "insights = account.get_insights(fields=[\n",
    "    \"ad_id\",\n",
    "    \"adset_id\",\n",
    "    \"ad_name\",\n",
    "    \"clicks\",\n",
    "    \"cpc\",\n",
    "    \"ctr\",\n",
    "    \"cpm\",\n",
    "    \"cost_per_action_type\",\n",
    "    \"spend\",\n",
    "    \"impressions\",\n",
    "    \"reach\",\n",
    "    \"actions\",\n",
    "    \"video_avg_time_watched_actions\",\n",
    "    \"video_p50_watched_actions\",\n",
    "    \"video_p75_watched_actions\",\n",
    "    \"video_p95_watched_actions\",\n",
    "\n",
    "], params={\n",
    "    'level': \"ad\",\n",
    "    'date_preset': \"yesterday\",\n",
    "    # \"date_start\": \"1595116800\",\n",
    "    # \"date_stop\": \"1595203200\"\n",
    "})\n"
   ]
  },
  {
   "cell_type": "code",
   "execution_count": null,
   "metadata": {},
   "outputs": [],
   "source": [
    "from facebook_business.adobjects.adsinsights import *\n",
    "fields = [f for f in AdsInsights.Field.__dict__ if not f.startswith(\"__\")]"
   ]
  },
  {
   "cell_type": "code",
   "execution_count": null,
   "metadata": {},
   "outputs": [
    {
     "data": {
      "text/plain": [
       "'cost_per_unique_conversion unique_conversions'"
      ]
     },
     "execution_count": null,
     "metadata": {
      "tags": []
     },
     "output_type": "execute_result"
    }
   ],
   "source": [
    "\" \".join([fields[56], fields[105]])"
   ]
  },
  {
   "cell_type": "code",
   "execution_count": null,
   "metadata": {},
   "outputs": [],
   "source": [
    "# account.get_insights(fields=[\"ad_id\", \"quality_ranking\", \"engagement_rate_ranking\",\n",
    "#                              \"conversion_rate_ranking\", \"ad_name\"], params={\n",
    "#     'level': AdsInsights.Level.ad,\n",
    "#     'date_preset': AdsInsights.DatePreset.yesterday,\n",
    "# })"
   ]
  },
  {
   "cell_type": "code",
   "execution_count": null,
   "metadata": {},
   "outputs": [],
   "source": [
    "#export\n",
    "COLUMNS = [\"Ad Name\", \"Ads Followers Change\", \"% (Clicks)\", \"% (Impressions)\", \"Cost Per Follow\", \"Delivery Type\",\n",
    "           \"Clicks (All)\", \"Link Clicks\", \"CPC (All)\" , \"CPC (Cost per Link Click)\",\n",
    "           \"CTR (All)\", \"CPM (Cost per 1,000 Impressions)\", \"Amount Spent (USD)\", \"Impressions\", \"Reach\", \"Post Reactions\", \"Post Shares\",\n",
    "           \"Video Average Play Time\", \"Video Plays at 50%\", \"Video Plays at 75%\", \"Video Plays at 95%\"]"
   ]
  },
  {
   "cell_type": "code",
   "execution_count": null,
   "metadata": {},
   "outputs": [],
   "source": [
    "#export\n",
    "def get_insights(date: str) -> Dict:\n",
    "    return account.get_insights(fields=[\n",
    "        \"ad_id\",\n",
    "        \"adset_id\",\n",
    "        \"ad_name\",\n",
    "        \"clicks\",\n",
    "        \"cpc\",\n",
    "        \"ctr\",\n",
    "        \"cpm\",\n",
    "        \"cost_per_action_type\",\n",
    "        \"spend\",\n",
    "        \"impressions\",\n",
    "        \"reach\",\n",
    "        \"actions\",\n",
    "        \"video_avg_time_watched_actions\",\n",
    "        \"video_p50_watched_actions\",\n",
    "        \"video_p75_watched_actions\",\n",
    "        \"video_p95_watched_actions\",\n",
    "    ], params={\n",
    "        \"level\": \"ad\",\n",
    "        \"time_range\": {\"since\": date,\n",
    "                       \"until\": date},\n",
    "    })"
   ]
  },
  {
   "cell_type": "code",
   "execution_count": null,
   "metadata": {},
   "outputs": [],
   "source": [
    "#export\n",
    "def get_action(cell, name):\n",
    "    if isinstance(cell, float):\n",
    "        return 0\n",
    "    action = [a for a in cell if a[\"action_type\"] == name]\n",
    "    if action:\n",
    "        return float(action[0][\"value\"])\n",
    "    return 0"
   ]
  },
  {
   "cell_type": "code",
   "execution_count": null,
   "metadata": {},
   "outputs": [],
   "source": [
    "#export\n",
    "def add_country_total(df: pd.DataFrame) -> None:\n",
    "    dupes = df[df.index.duplicated(False)]\n",
    "    if not len(dupes):\n",
    "        return\n",
    "\n",
    "    to_mean = [\"cpc\", \"cpm\", \"ctr\", \"CPC (Cost per Link Click)\"]\n",
    "    to_sum = set(df.columns).difference(set(to_mean + [\"ad_name\", \"Delivery Type\"]))\n",
    "    total = dupes.iloc[0,:].copy()\n",
    "    index = dupes.index[0]\n",
    "    total[\"ad_name\"] = f\"{index} total\"\n",
    "    total[to_mean] = dupes[to_mean].apply(np.mean)\n",
    "    total[to_sum] = dupes[to_sum].astype(int).apply(sum)\n",
    "    df = df.append(total)"
   ]
  },
  {
   "cell_type": "code",
   "execution_count": null,
   "metadata": {},
   "outputs": [],
   "source": [
    "ad = Ad(\"23844751184140691\")"
   ]
  },
  {
   "cell_type": "code",
   "execution_count": null,
   "metadata": {},
   "outputs": [
    {
     "data": {
      "text/plain": [
       "'MX'"
      ]
     },
     "execution_count": null,
     "metadata": {
      "tags": []
     },
     "output_type": "execute_result"
    }
   ],
   "source": [
    "ad = ad.api_get(fields=[\"targeting\"])\n",
    "ad[\"targeting\"][\"geo_locations\"][\"countries\"][0]"
   ]
  },
  {
   "cell_type": "code",
   "execution_count": null,
   "metadata": {},
   "outputs": [
    {
     "data": {
      "text/plain": [
       "<AdSet> {\n",
       "    \"id\": \"23844063827180691\",\n",
       "    \"status\": \"ACTIVE\"\n",
       "}"
      ]
     },
     "execution_count": null,
     "metadata": {
      "tags": []
     },
     "output_type": "execute_result"
    }
   ],
   "source": [
    "AdSet(\"23844063827180691\").api_get(fields=[\"learning_stage_info\", \"status\"])"
   ]
  },
  {
   "cell_type": "code",
   "execution_count": null,
   "metadata": {},
   "outputs": [],
   "source": [
    "#export\n",
    "def get_delivery(ids: List[str]) -> List[Dict]:\n",
    "    deliveries = []\n",
    "    for id in ids:\n",
    "        adset = AdSet(id[0]).api_get(fields=[\"learning_stage_info\", \"status\"])\n",
    "        delivery = adset.get(\"learning_stage_info\")\n",
    "        status = adset.get(\"status\")\n",
    "        if delivery:\n",
    "            delivery = status if delivery.get(\"status\") == \"SUCCESS\" else delivery.get(\"status\")\n",
    "        else:\n",
    "            delivery = status\n",
    "        deliveries.append({\"ad_id\": id[1], \"adset_id\": id[0], \"Delivery Type\": delivery})\n",
    "    return deliveries"
   ]
  },
  {
   "cell_type": "code",
   "execution_count": null,
   "metadata": {},
   "outputs": [],
   "source": [
    "assert get_delivery([[\"23844128955750691\", \"23844703941280691\"],\n",
    "                     [\"23844223938640691\",\"23844703855040691\"],\n",
    "                     [\"23844063827180691\", \"23844751253080691\"]]) == [{'Delivery Type': 'ACTIVE',\n",
    "                                                                       'ad_id': '23844703941280691',\n",
    "                                                                       'adset_id': '23844128955750691'},\n",
    "                                                                      {'Delivery Type': 'PAUSED',\n",
    "                                                                       'ad_id': '23844703855040691',\n",
    "                                                                       'adset_id': '23844223938640691'},\n",
    "                                                                      {'Delivery Type': 'ACTIVE',\n",
    "                                                                       'ad_id': '23844751253080691',\n",
    "                                                                       'adset_id': '23844063827180691'}]"
   ]
  },
  {
   "cell_type": "code",
   "execution_count": null,
   "metadata": {},
   "outputs": [],
   "source": [
    "#export\n",
    "def get_countries() -> pd.DataFrame:\n",
    "    \"\"\"Get countries of all ads\"\"\"\n",
    "    countries = []\n",
    "    ads = account.get_ads(fields=[\"id\", \"targeting\"])\n",
    "    for ad in ads:\n",
    "        # ad = Ad(id).api_get(fields=[\"targeting\"])\n",
    "        locs = ad[\"targeting\"].get(\"geo_locations\")\n",
    "        if locs:\n",
    "            c = locs.get(\"countries\")\n",
    "            if c:\n",
    "                country = c[0]\n",
    "            else:\n",
    "                country = \"US\"\n",
    "            countries.append({\"ad_id\": ad[\"id\"], \"country\": country})\n",
    "    return pd.DataFrame(countries)"
   ]
  },
  {
   "cell_type": "code",
   "execution_count": null,
   "metadata": {},
   "outputs": [],
   "source": [
    "#export\n",
    "def add_total(df: pd.DataFrame) -> pd.DataFrame:\n",
    "    to_mean = [\"cpc\", \"cpm\", \"ctr\", \"CPC (Cost per Link Click)\", \"Video Average Play Time\"]\n",
    "    empty = [\"Ads Followers Change\", \"% (Clicks)\", \"% (Impressions)\", \"Cost Per Follow\", \"ad_name\", \"Delivery Type\"]\n",
    "    to_sum = df.columns.difference(to_mean + empty)\n",
    "    total = pd.Series(name=\"total\", index=df.columns, dtype=float)\n",
    "    total[to_mean] = df[to_mean].apply(np.mean)\n",
    "    total[to_sum] = df[to_sum].apply(sum)\n",
    "    df = df.append(total)\n",
    "    return pd.concat([df.iloc[-1:], df.iloc[:-1]])"
   ]
  },
  {
   "cell_type": "code",
   "execution_count": null,
   "metadata": {},
   "outputs": [],
   "source": [
    "#export\n",
    "def get_insights_df(countries: pd.DataFrame, insights: List) -> pd.DataFrame:\n",
    "    df = pd.DataFrame(insights)\n",
    "    floats = [\"cpc\", \"cpm\", \"ctr\", \"spend\"]\n",
    "    df[floats] = df[floats].astype(float)\n",
    "    ints = [\"clicks\", \"impressions\", \"reach\"]\n",
    "    df[ints] = df[ints].astype(int)\n",
    "\n",
    "    df = df.merge(countries)\n",
    "    df = df.merge(pd.DataFrame(get_delivery(df[[\"adset_id\", \"ad_id\"]].values)))\n",
    "    df.set_index(df[\"country\"], inplace=True)\n",
    "    df.sort_values(\"ad_name\", inplace=True)\n",
    "\n",
    "    df[\"Post Reactions\"] = df[\"actions\"].apply(partial(get_action, name=\"post_reaction\"))\n",
    "    df[\"Post Shares\"] = df[\"actions\"].apply(partial(get_action, name=\"post\"))\n",
    "    df[\"Link Clicks\"] = df[\"actions\"].apply(partial(get_action, name=\"link_click\"))\n",
    "    df[\"CPC (Cost per Link Click)\"] = df[\"cost_per_action_type\"].apply(partial(get_action, name=\"link_click\"))\n",
    "    get_video_action = partial(get_action, name=\"video_view\")\n",
    "    df[\"Video Average Play Time\"] = df[\"video_avg_time_watched_actions\"].apply(get_video_action)\n",
    "    df[\"Video Plays at 50%\"] = df[\"video_p50_watched_actions\"].apply(get_video_action)\n",
    "    df[\"Video Plays at 75%\"] = df[\"video_p75_watched_actions\"].apply(get_video_action)\n",
    "    df[\"Video Plays at 95%\"] = df[\"video_p95_watched_actions\"].apply(get_video_action)\n",
    "\n",
    "    df.drop(columns=[\"actions\", \"cost_per_action_type\", \"date_start\", \"date_stop\",\n",
    "                     \"video_avg_time_watched_actions\", \"ad_id\", \"adset_id\", \"country\"] +\n",
    "            [f\"video_p{p}_watched_actions\" for p in [50,75,95]], inplace=True)\n",
    "    add_country_total(df)\n",
    "    \n",
    "    df = add_total(df)\n",
    "    df.rename(columns={\"ad_name\": \"Ad Name\", \"clicks\": \"Clicks (All)\", \"cpc\": \"CPC (All)\",\n",
    "                       \"ctr\": \"CTR (All)\", \"cpm\": \"CPM (Cost per 1,000 Impressions)\",\n",
    "                       \"reach\": \"Reach\", \"impressions\": \"Impressions\", \"spend\": \"Amount Spent (USD)\"}, inplace=True)\n",
    "    df[\"Ads Followers Change\"] = 0\n",
    "    df[\"% (Clicks)\"] = 0\n",
    "    df[\"% (Impressions)\"] = 0\n",
    "    df[\"Cost Per Follow\"] = 0\n",
    "    return df[COLUMNS].round(2)"
   ]
  },
  {
   "cell_type": "code",
   "execution_count": null,
   "metadata": {},
   "outputs": [],
   "source": [
    "#export\n",
    "def create_insights(event: Dict = None, context=None,) -> str:\n",
    "    yesterday = datetime.today() - timedelta(days=1)\n",
    "    insights = get_insights(yesterday.strftime(\"%Y-%m-%d\"))\n",
    "    if not insights:\n",
    "        return f\"No insights found for {yesterday.strftime('%Y-%m-%d')}\"\n",
    "    countries = get_countries()\n",
    "    df = get_insights_df(countries, insights)\n",
    "    df_size = len(df)\n",
    "\n",
    "    empty = pd.Series(name=\"\", dtype=str)\n",
    "    df = df.append([empty] * 25)\n",
    "\n",
    "    worksheet_name = yesterday.strftime(\"%b %d %Y\")\n",
    "    write_df(df, worksheet_name, worksheet_loc=8)\n",
    "    notes_df = pd.DataFrame([[\"\", \"CONSIDER:\", \"\", \"\", \"TO DO:\"]], index=[\"PERFORMANCE:\"], columns=[\"\"] * 5)\n",
    "    write_df(notes_df, worksheet_name, loc=f\"A{df_size+10}\")\n",
    "\n",
    "    wsh = get_worksheet(worksheet_name)\n",
    "    wsh.format(f\"C1:F{df_size+1}\", {\"textFormat\": {\n",
    "        \"foregroundColor\": {\n",
    "            \"red\": 0.45,\n",
    "            \"green\": 0.0,\n",
    "            \"blue\": 0.0\n",
    "        }}},)\n",
    "    wsh.format(f\"D:E\", {\"numberFormat\": {\"type\": \"PERCENT\"}},)\n",
    "    wsh.format(f\"F\", {\"numberFormat\": {\"type\": \"CURRENCY\"}},)\n",
    "    return f\"Created insights in '{worksheet_name}'\""
   ]
  },
  {
   "cell_type": "code",
   "execution_count": null,
   "metadata": {},
   "outputs": [
    {
     "data": {
      "text/plain": [
       "'No insights found for 2020-09-27'"
      ]
     },
     "execution_count": null,
     "metadata": {
      "tags": []
     },
     "output_type": "execute_result"
    }
   ],
   "source": [
    "create_insights()"
   ]
  },
  {
   "cell_type": "code",
   "execution_count": null,
   "metadata": {},
   "outputs": [],
   "source": [
    "#export\n",
    "def add_followers(df: pd.DataFrame, new_followers: pd.DataFrame):\n",
    "    df[\"Ads Followers Change\"] = new_followers\n",
    "    df.fillna(0, inplace=True)\n",
    "    df[\"% (Clicks)\"] = (df[\"Ads Followers Change\"] / df[\"Clicks (All)\"])\n",
    "    df[\"% (Impressions)\"] = (df[\"Ads Followers Change\"] / df[\"Impressions\"])\n",
    "    df[\"Cost Per Follow\"] = (df[\"Amount Spent (USD)\"] / df[\"Ads Followers Change\"])\n",
    "    df.replace([np.inf], 0, inplace=True)\n",
    "    df[\"% (Impressions)\"] = df[\"% (Impressions)\"].round(4)\n",
    "    df[df.columns.difference([\"% (Impressions)\"])] = df[df.columns.difference([\"% (Impressions)\"])].round(2)"
   ]
  },
  {
   "cell_type": "code",
   "execution_count": null,
   "metadata": {},
   "outputs": [],
   "source": [
    "#export\n",
    "def get_insights_for(date: str, countries: pd.DataFrame, followers_change: pd.DataFrame) -> pd.DataFrame:\n",
    "    iso_date = datetime.strptime(date, \"%b %d %Y\").strftime(\"%Y-%m-%d\")\n",
    "    insights = get_insights(iso_date)\n",
    "    if not insights:\n",
    "        return pd.DataFrame()\n",
    "    df = get_insights_df(countries, insights).drop(\"total\")\n",
    "    add_followers(df, followers_change)\n",
    "    df[\"Ads Followers Change\"] = followers_change\n",
    "    df[\"Date\"] = iso_date\n",
    "    df.reset_index(inplace=True)\n",
    "    df.set_index(df[\"Date\"], inplace=True)\n",
    "    return df.drop(columns=[\"Date\"])"
   ]
  },
  {
   "cell_type": "code",
   "execution_count": null,
   "metadata": {},
   "outputs": [],
   "source": [
    "#export\n",
    "def update_dashboard(date: str, followers_change: pd.DataFrame):\n",
    "    sheet = \"Dashboard - Ad Data\"\n",
    "    df = get_df(sheet)\n",
    "    countries = get_countries()\n",
    "    insights_df = get_insights_for(date, countries, followers_change)\n",
    "    write_df(pd.concat([insights_df, df]), sheet)\n",
    "    return f\"Updated {sheet} with {date} data\""
   ]
  },
  {
   "cell_type": "code",
   "execution_count": null,
   "metadata": {},
   "outputs": [
    {
     "data": {
      "text/html": [
       "<div>\n",
       "<style scoped>\n",
       "    .dataframe tbody tr th:only-of-type {\n",
       "        vertical-align: middle;\n",
       "    }\n",
       "\n",
       "    .dataframe tbody tr th {\n",
       "        vertical-align: top;\n",
       "    }\n",
       "\n",
       "    .dataframe thead th {\n",
       "        text-align: right;\n",
       "    }\n",
       "</style>\n",
       "<table border=\"1\" class=\"dataframe\">\n",
       "  <thead>\n",
       "    <tr style=\"text-align: right;\">\n",
       "      <th></th>\n",
       "      <th>country</th>\n",
       "      <th>Ad Name</th>\n",
       "      <th>Ads Followers Change</th>\n",
       "      <th>% (Clicks)</th>\n",
       "      <th>% (Impressions)</th>\n",
       "      <th>Cost Per Follow</th>\n",
       "      <th>Delivery Type</th>\n",
       "      <th>Clicks (All)</th>\n",
       "      <th>Link Clicks</th>\n",
       "      <th>CPC (All)</th>\n",
       "      <th>CPC (Cost per Link Click)</th>\n",
       "      <th>CTR (All)</th>\n",
       "      <th>CPM (Cost per 1,000 Impressions)</th>\n",
       "      <th>Amount Spent (USD)</th>\n",
       "      <th>Impressions</th>\n",
       "      <th>Reach</th>\n",
       "      <th>Post Reactions</th>\n",
       "      <th>Post Shares</th>\n",
       "      <th>Video Average Play Time</th>\n",
       "      <th>Video Plays at 50%</th>\n",
       "      <th>Video Plays at 75%</th>\n",
       "      <th>Video Plays at 95%</th>\n",
       "    </tr>\n",
       "    <tr>\n",
       "      <th>Date</th>\n",
       "      <th></th>\n",
       "      <th></th>\n",
       "      <th></th>\n",
       "      <th></th>\n",
       "      <th></th>\n",
       "      <th></th>\n",
       "      <th></th>\n",
       "      <th></th>\n",
       "      <th></th>\n",
       "      <th></th>\n",
       "      <th></th>\n",
       "      <th></th>\n",
       "      <th></th>\n",
       "      <th></th>\n",
       "      <th></th>\n",
       "      <th></th>\n",
       "      <th></th>\n",
       "      <th></th>\n",
       "      <th></th>\n",
       "      <th></th>\n",
       "      <th></th>\n",
       "      <th></th>\n",
       "    </tr>\n",
       "  </thead>\n",
       "  <tbody>\n",
       "    <tr>\n",
       "      <th>2020-07-21</th>\n",
       "      <td>MX</td>\n",
       "      <td>2 - Mexico - General Ad #2-D</td>\n",
       "      <td>NaN</td>\n",
       "      <td>0.0</td>\n",
       "      <td>0.0000</td>\n",
       "      <td>0.00</td>\n",
       "      <td>ACTIVE</td>\n",
       "      <td>75.0</td>\n",
       "      <td>36.0</td>\n",
       "      <td>0.04</td>\n",
       "      <td>0.08</td>\n",
       "      <td>1.12</td>\n",
       "      <td>0.44</td>\n",
       "      <td>2.92</td>\n",
       "      <td>6689.0</td>\n",
       "      <td>6584.0</td>\n",
       "      <td>2.0</td>\n",
       "      <td>0.0</td>\n",
       "      <td>2.0</td>\n",
       "      <td>1146.0</td>\n",
       "      <td>283.0</td>\n",
       "      <td>172.0</td>\n",
       "    </tr>\n",
       "    <tr>\n",
       "      <th>2020-07-21</th>\n",
       "      <td>AR</td>\n",
       "      <td>3 - Argentina - General 2-D</td>\n",
       "      <td>100.0</td>\n",
       "      <td>2.0</td>\n",
       "      <td>0.0116</td>\n",
       "      <td>0.03</td>\n",
       "      <td>PAUSED</td>\n",
       "      <td>50.0</td>\n",
       "      <td>25.0</td>\n",
       "      <td>0.06</td>\n",
       "      <td>0.12</td>\n",
       "      <td>0.58</td>\n",
       "      <td>0.34</td>\n",
       "      <td>2.96</td>\n",
       "      <td>8587.0</td>\n",
       "      <td>8587.0</td>\n",
       "      <td>0.0</td>\n",
       "      <td>1.0</td>\n",
       "      <td>1.0</td>\n",
       "      <td>1205.0</td>\n",
       "      <td>250.0</td>\n",
       "      <td>168.0</td>\n",
       "    </tr>\n",
       "    <tr>\n",
       "      <th>2020-07-21</th>\n",
       "      <td>ID</td>\n",
       "      <td>3 - Indonesia - General Ad 2-D</td>\n",
       "      <td>NaN</td>\n",
       "      <td>0.0</td>\n",
       "      <td>0.0000</td>\n",
       "      <td>0.00</td>\n",
       "      <td>ACTIVE</td>\n",
       "      <td>132.0</td>\n",
       "      <td>59.0</td>\n",
       "      <td>0.03</td>\n",
       "      <td>0.08</td>\n",
       "      <td>0.96</td>\n",
       "      <td>0.33</td>\n",
       "      <td>4.52</td>\n",
       "      <td>13740.0</td>\n",
       "      <td>13620.0</td>\n",
       "      <td>4.0</td>\n",
       "      <td>1.0</td>\n",
       "      <td>2.0</td>\n",
       "      <td>2060.0</td>\n",
       "      <td>645.0</td>\n",
       "      <td>409.0</td>\n",
       "    </tr>\n",
       "  </tbody>\n",
       "</table>\n",
       "</div>"
      ],
      "text/plain": [
       "           country  ... Video Plays at 95%\n",
       "Date                ...                   \n",
       "2020-07-21      MX  ...              172.0\n",
       "2020-07-21      AR  ...              168.0\n",
       "2020-07-21      ID  ...              409.0\n",
       "\n",
       "[3 rows x 22 columns]"
      ]
     },
     "execution_count": null,
     "metadata": {
      "tags": []
     },
     "output_type": "execute_result"
    }
   ],
   "source": [
    "countries = get_countries()\n",
    "followers_change = pd.DataFrame({\"2020-07-21\": {'AR': 100, 'AU': 70, 'BD': 0, 'BR': 0, 'CA': 0, 'CL': 0, 'CO': 0}})\n",
    "get_insights_for(\"Jul 21 2020\", countries, followers_change)"
   ]
  },
  {
   "cell_type": "code",
   "execution_count": null,
   "metadata": {},
   "outputs": [
    {
     "name": "stdout",
     "output_type": "stream",
     "text": [
      "Converted 00_core.ipynb.\n",
      "Converted 01_followers.ipynb.\n",
      "Converted 02_ads.ipynb.\n",
      "Converted index.ipynb.\n"
     ]
    }
   ],
   "source": [
    "#hide\n",
    "from nbdev.export import notebook2script\n",
    "notebook2script()"
   ]
  },
  {
   "cell_type": "code",
   "execution_count": null,
   "metadata": {},
   "outputs": [],
   "source": [
    ""
   ]
  }
 ],
 "metadata": {
  "kernelspec": {
   "display_name": "Python 3",
   "name": "python3"
  }
 },
 "nbformat": 4,
 "nbformat_minor": 0
}
