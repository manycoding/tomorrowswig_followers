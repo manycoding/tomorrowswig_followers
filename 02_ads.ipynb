{
 "cells": [
  {
   "cell_type": "code",
   "execution_count": null,
   "metadata": {},
   "outputs": [],
   "source": [
    "# default_exp ads"
   ]
  },
  {
   "cell_type": "code",
   "execution_count": null,
   "metadata": {},
   "outputs": [
    {
     "name": "stdout",
     "output_type": "stream",
     "text": [
      "The autoreload extension is already loaded. To reload it, use:\n",
      "  %reload_ext autoreload\n"
     ]
    }
   ],
   "source": [
    "%load_ext autoreload\n",
    "%autoreload 2"
   ]
  },
  {
   "cell_type": "code",
   "execution_count": null,
   "metadata": {},
   "outputs": [],
   "source": [
    "#hide\n",
    "!pip install -qU nbdev fastcore"
   ]
  },
  {
   "cell_type": "code",
   "execution_count": null,
   "metadata": {},
   "outputs": [],
   "source": [
    "#hide\n",
    "!pip install -qU gspread facebook_business python-facebook-api"
   ]
  },
  {
   "cell_type": "code",
   "execution_count": null,
   "metadata": {},
   "outputs": [
    {
     "name": "stdout",
     "output_type": "stream",
     "text": [
      "/content/drive/My Drive/upwork/Martin followers/tomorrowswig_followers\n"
     ]
    }
   ],
   "source": [
    "#hide\n",
    "from pathlib import Path\n",
    "path = Path(\"/content/drive/My Drive/upwork/Martin followers/tomorrowswig_followers\")\n",
    "%cd \"{path}\""
   ]
  },
  {
   "cell_type": "code",
   "execution_count": null,
   "metadata": {},
   "outputs": [],
   "source": [
    "#hide\n",
    "#not deps but we need them to use nbdev and run tests\n",
    "from nbdev import * \n",
    "from nbdev.showdoc import *\n",
    "from fastcore.test import *"
   ]
  },
  {
   "cell_type": "markdown",
   "metadata": {},
   "source": [
    "## Facebook Auth"
   ]
  },
  {
   "cell_type": "code",
   "execution_count": null,
   "metadata": {},
   "outputs": [],
   "source": [
    "#hide\n",
    "%%capture\n",
    "\n",
    "import yaml\n",
    "with open(path.parent/\"facebook_creds.yml\") as f:\n",
    "    data = yaml.safe_load(f)\n",
    "    %env APP_ID {data.get(\"APP_ID\")}\n",
    "    %env APP_SECRET {data.get(\"APP_SECRET\")}\n",
    "    %env TOKEN {data.get(\"TOKEN\")}\n",
    "    %env AD_ACC_ID {data.get(\"AD_ACC_ID\")}\n",
    "    %env USER_ID {data.get(\"USER_ID\")}"
   ]
  },
  {
   "cell_type": "code",
   "execution_count": null,
   "metadata": {},
   "outputs": [],
   "source": [
    "#export\n",
    "from tomorrowswig_followers.core import *\n",
    "from tomorrowswig_followers.followers import get_new_followers"
   ]
  },
  {
   "cell_type": "code",
   "execution_count": null,
   "metadata": {},
   "outputs": [],
   "source": [
    "#export\n",
    "import os\n",
    "from typing import *\n",
    "\n",
    "from datetime import datetime, timedelta\n",
    "from functools import partial\n",
    "\n",
    "import pandas as pd\n",
    "import numpy as np\n",
    "from facebook_business.api import FacebookAdsApi\n",
    "from facebook_business.adobjects.ad import Ad\n",
    "from facebook_business.adobjects.adaccount import AdAccount\n",
    "\n",
    "AD_ACC_ID = os.environ.get(\"AD_ACC_ID\")"
   ]
  },
  {
   "cell_type": "code",
   "execution_count": null,
   "metadata": {},
   "outputs": [],
   "source": [
    "APP_ID = os.environ.get(\"APP_ID\")\n",
    "APP_SECRET = os.environ.get(\"APP_SECRET\")\n",
    "TOKEN = os.environ.get(\"TOKEN\")\n",
    "USER_ID = os.environ.get(\"USER_ID\")"
   ]
  },
  {
   "cell_type": "markdown",
   "metadata": {},
   "source": [
    "## Ads reporting"
   ]
  },
  {
   "cell_type": "code",
   "execution_count": null,
   "metadata": {},
   "outputs": [],
   "source": [
    "#export\n",
    "FacebookAdsApi.init(APP_ID, APP_SECRET, TOKEN)\n",
    "account = AdAccount(AD_ACC_ID)"
   ]
  },
  {
   "cell_type": "code",
   "execution_count": null,
   "metadata": {},
   "outputs": [
    {
     "data": {
      "text/plain": [
       "datetime.datetime(2020, 7, 28, 14, 31, 58)"
      ]
     },
     "execution_count": null,
     "metadata": {
      "tags": []
     },
     "output_type": "execute_result"
    }
   ],
   "source": [
    "datetime.fromtimestamp(1595946718)"
   ]
  },
  {
   "cell_type": "code",
   "execution_count": null,
   "metadata": {},
   "outputs": [
    {
     "data": {
      "application/vnd.google.colaboratory.intrinsic+json": {
       "type": "string"
      },
      "text/plain": [
       "'1595203200'"
      ]
     },
     "execution_count": null,
     "metadata": {
      "tags": []
     },
     "output_type": "execute_result"
    }
   ],
   "source": [
    "datetime(2020,7,20,0,0).strftime('%s')"
   ]
  },
  {
   "cell_type": "code",
   "execution_count": null,
   "metadata": {},
   "outputs": [],
   "source": [
    "insights = account.get_insights(fields=[\n",
    "    \"ad_id\",\n",
    "    \"ad_name\",\n",
    "    \"clicks\",\n",
    "    \"cpc\",\n",
    "    \"ctr\",\n",
    "    \"cpm\",\n",
    "    \"cost_per_action_type\",\n",
    "    \"spend\",\n",
    "    \"impressions\",\n",
    "    \"reach\",\n",
    "    \"actions\",\n",
    "    \"video_avg_time_watched_actions\",\n",
    "    \"video_p50_watched_actions\",\n",
    "    \"video_p75_watched_actions\",\n",
    "    \"video_p95_watched_actions\",\n",
    "\n",
    "], params={\n",
    "    'level': \"ad\",\n",
    "    'date_preset': \"yesterday\",\n",
    "    # \"date_start\": \"1595116800\",\n",
    "    # \"date_stop\": \"1595203200\"\n",
    "})\n"
   ]
  },
  {
   "cell_type": "code",
   "execution_count": null,
   "metadata": {},
   "outputs": [],
   "source": [
    "from facebook_business.adobjects.adsinsights import *\n",
    "fields = [f for f in AdsInsights.Field.__dict__ if not f.startswith(\"__\")]"
   ]
  },
  {
   "cell_type": "code",
   "execution_count": null,
   "metadata": {},
   "outputs": [
    {
     "data": {
      "application/vnd.google.colaboratory.intrinsic+json": {
       "type": "string"
      },
      "text/plain": [
       "'cost_per_unique_conversion unique_conversions'"
      ]
     },
     "execution_count": null,
     "metadata": {
      "tags": []
     },
     "output_type": "execute_result"
    }
   ],
   "source": [
    "\" \".join([fields[56], fields[105]])"
   ]
  },
  {
   "cell_type": "code",
   "execution_count": null,
   "metadata": {},
   "outputs": [
    {
     "data": {
      "text/plain": [
       "[<AdsInsights> {\n",
       "    \"ad_id\": \"23844703941280691\",\n",
       "    \"ad_name\": \"3 - Indonesia - General Ad 2-D\",\n",
       "    \"conversion_rate_ranking\": \"UNKNOWN\",\n",
       "    \"date_start\": \"2020-08-04\",\n",
       "    \"date_stop\": \"2020-08-04\",\n",
       "    \"engagement_rate_ranking\": \"UNKNOWN\",\n",
       "    \"quality_ranking\": \"UNKNOWN\"\n",
       "}, <AdsInsights> {\n",
       "    \"ad_id\": \"23844751184140691\",\n",
       "    \"ad_name\": \"2 - Mexico - General Ad #2-D\",\n",
       "    \"conversion_rate_ranking\": \"UNKNOWN\",\n",
       "    \"date_start\": \"2020-08-04\",\n",
       "    \"date_stop\": \"2020-08-04\",\n",
       "    \"engagement_rate_ranking\": \"UNKNOWN\",\n",
       "    \"quality_ranking\": \"UNKNOWN\"\n",
       "}, <AdsInsights> {\n",
       "    \"ad_id\": \"23845206704740691\",\n",
       "    \"ad_name\": \"3 - Philippines\",\n",
       "    \"conversion_rate_ranking\": \"UNKNOWN\",\n",
       "    \"date_start\": \"2020-08-04\",\n",
       "    \"date_stop\": \"2020-08-04\",\n",
       "    \"engagement_rate_ranking\": \"UNKNOWN\",\n",
       "    \"quality_ranking\": \"UNKNOWN\"\n",
       "}]"
      ]
     },
     "execution_count": null,
     "metadata": {
      "tags": []
     },
     "output_type": "execute_result"
    }
   ],
   "source": [
    "account.get_insights(fields=[\"ad_id\", \"quality_ranking\", \"engagement_rate_ranking\",\n",
    "                             \"conversion_rate_ranking\", \"ad_name\"], params={\n",
    "    'level': AdsInsights.Level.ad,\n",
    "    'date_preset': AdsInsights.DatePreset.yesterday,\n",
    "})"
   ]
  },
  {
   "cell_type": "code",
   "execution_count": null,
   "metadata": {},
   "outputs": [],
   "source": [
    "# account.get_insights(fields=fields[:56] + fields[57:105] + fields[106:], params={\n",
    "#     'level': AdsInsights.Level.ad,\n",
    "#     'date_preset': AdsInsights.DatePreset.last_3d,\n",
    "# })[2]"
   ]
  },
  {
   "cell_type": "code",
   "execution_count": null,
   "metadata": {},
   "outputs": [],
   "source": [
    "#export\n",
    "def get_dif(df: pd.DataFrame) -> pd.DataFrame:\n",
    "    change_df = df.diff(axis=1, periods=-1)\n",
    "    change_df = change_df.fillna(0).astype(int)\n",
    "    return change_df"
   ]
  },
  {
   "cell_type": "code",
   "execution_count": null,
   "metadata": {},
   "outputs": [],
   "source": [
    "#export\n",
    "COLUMNS = [\"Ad Name\", \"Ads Followers Increase\", \"% (Clicks)\", \"% (Impressions)\", \"Cost Per Follow\",\n",
    "           \"Clicks (All)\", \"Link Clicks\", \"CPC (All)\" , \"CPC (Cost per Link Click)\",\n",
    "           \"CTR (All)\", \"CPM (Cost per 1,000 Impressions)\", \"Amount Spent (USD)\", \"Impressions\", \"Reach\", \"Post Reactions\", \"Post Shares\",\n",
    "           \"Video Average Play Time\", \"Video Plays at 50%\", \"Video Plays at 75%\", \"Video Plays at 95%\"]"
   ]
  },
  {
   "cell_type": "code",
   "execution_count": null,
   "metadata": {},
   "outputs": [],
   "source": [
    "#export\n",
    "get_insights = partial(account.get_insights, fields=[\n",
    "        \"ad_id\",\n",
    "        \"ad_name\",\n",
    "        \"clicks\",\n",
    "        \"cpc\",\n",
    "        \"ctr\",\n",
    "        \"cpm\",\n",
    "        \"cost_per_action_type\",\n",
    "        \"spend\",\n",
    "        \"impressions\",\n",
    "        \"reach\",\n",
    "        \"actions\",\n",
    "        \"video_avg_time_watched_actions\",\n",
    "        \"video_p50_watched_actions\",\n",
    "        \"video_p75_watched_actions\",\n",
    "        \"video_p95_watched_actions\",\n",
    "    ], params={\n",
    "        'level': \"ad\",\n",
    "        'date_preset': \"yesterday\",\n",
    "    })"
   ]
  },
  {
   "cell_type": "code",
   "execution_count": null,
   "metadata": {},
   "outputs": [],
   "source": [
    "#export\n",
    "def get_action(cell, name):\n",
    "    action = [a for a in cell if a[\"action_type\"] == name]\n",
    "    if action:\n",
    "        return float(action[0][\"value\"])\n",
    "    return 0"
   ]
  },
  {
   "cell_type": "code",
   "execution_count": null,
   "metadata": {},
   "outputs": [],
   "source": [
    "#export\n",
    "def get_followers_change(date: datetime) -> pd.DataFrame:\n",
    "    history_df = get_df(\"History\")\n",
    "    new_followers = get_dif(history_df)\n",
    "    followers_date = (date + timedelta(days=1)).strftime(\"%b %d %Y\")\n",
    "    new_followers = new_followers.iloc[:,new_followers.columns.str.startswith(followers_date)].replace(0, np.nan)\n",
    "    new_followers = new_followers.dropna(axis=1, how=\"all\").iloc[:, :1].dropna().astype(int)\n",
    "    if not new_followers.values.size:\n",
    "        new_followers[\"no change\"] = 0\n",
    "    return new_followers"
   ]
  },
  {
   "cell_type": "code",
   "execution_count": null,
   "metadata": {},
   "outputs": [],
   "source": [
    "assert get_followers_change(datetime.strptime(\"2020-07-25\", \"%Y-%m-%d\")).columns[0] == \"Jul 26 2020                 2020-07-26 19:10:34\"\n",
    "assert get_followers_change(datetime.strptime(\"2031-07-25\", \"%Y-%m-%d\")).sum().item() == 0"
   ]
  },
  {
   "cell_type": "code",
   "execution_count": null,
   "metadata": {},
   "outputs": [],
   "source": [
    "#export\n",
    "def add_country_total(df: pd.DataFrame) -> Tuple[pd.DataFrame, str]:\n",
    "    dupes = df[df.index.duplicated(False)]\n",
    "    if not len(dupes):\n",
    "        return\n",
    "\n",
    "    to_mean = [\"cpc\", \"cpm\", \"ctr\", \"CPC (Cost per Link Click)\"]\n",
    "    to_sum = set(df.columns).difference(set(to_mean + [\"ad_name\"]))\n",
    "    total = dupes.iloc[0,:].copy()\n",
    "    index = dupes.index[0]\n",
    "    total[\"ad_name\"] = f\"{index} total\"\n",
    "    total[to_mean] = dupes[to_mean].apply(np.mean)\n",
    "    total[to_sum] = dupes[to_sum].astype(int).apply(sum)\n",
    "    return df.append(total), index"
   ]
  },
  {
   "cell_type": "code",
   "execution_count": null,
   "metadata": {},
   "outputs": [],
   "source": [
    "#export\n",
    "def add_followers(df: pd.DataFrame, date: datetime):\n",
    "    new_followers = get_followers_change(date)\n",
    "    df[\"Ads Followers Increase\"] = new_followers\n",
    "    df.fillna(0, inplace=True)\n",
    "    df[\"% (Clicks)\"] = (df[\"Ads Followers Increase\"] / df[\"clicks\"]* 100).astype(int)\n",
    "    df[\"% (Impressions)\"] = (df[\"Ads Followers Increase\"] / df[\"impressions\"] * 100)\n",
    "    df[\"Cost Per Follow\"] = (df[\"spend\"] / df[\"Ads Followers Increase\"])\n",
    "    df.replace([np.inf], 0, inplace=True)"
   ]
  },
  {
   "cell_type": "code",
   "execution_count": null,
   "metadata": {},
   "outputs": [],
   "source": [
    "ad = Ad(\"23844695610150691\")"
   ]
  },
  {
   "cell_type": "code",
   "execution_count": null,
   "metadata": {},
   "outputs": [
    {
     "data": {
      "application/vnd.google.colaboratory.intrinsic+json": {
       "type": "string"
      },
      "text/plain": [
       "'CA'"
      ]
     },
     "execution_count": null,
     "metadata": {
      "tags": []
     },
     "output_type": "execute_result"
    }
   ],
   "source": [
    "ad = ad.api_get(fields=[\"targeting\"])\n",
    "ad[\"targeting\"][\"geo_locations\"][\"countries\"][0]"
   ]
  },
  {
   "cell_type": "code",
   "execution_count": null,
   "metadata": {},
   "outputs": [],
   "source": [
    "#export\n",
    "def get_countries(ids: List[str]) -> List[Dict]:\n",
    "    countries = []\n",
    "    for id in ids:\n",
    "        ad = Ad(id).api_get(fields=[\"targeting\"])\n",
    "        country = ad[\"targeting\"][\"geo_locations\"][\"countries\"][0]\n",
    "        countries.append({\"ad_id\": id, \"country\": country})\n",
    "    return countries"
   ]
  },
  {
   "cell_type": "code",
   "execution_count": null,
   "metadata": {},
   "outputs": [],
   "source": [
    "assert get_countries([\"23844695610150691\", \"23844698190420691\"]) == [{'ad_id': '23844695610150691', 'country': 'CA'},\n",
    "                                                                     {'ad_id': '23844698190420691', 'country': 'US'}]"
   ]
  },
  {
   "cell_type": "code",
   "execution_count": null,
   "metadata": {},
   "outputs": [],
   "source": [
    "def create_first_part():\n",
    "    df = pd.DataFrame(get_insights())\n",
    "    floats = [\"cpc\", \"cpm\", \"ctr\", \"spend\"]\n",
    "    df[floats] = df[floats].astype(float)\n",
    "    ints = [\"clicks\", \"impressions\", \"reach\"]\n",
    "    df[ints] = df[ints].astype(int)\n",
    "\n",
    "    df = df.merge(pd.DataFrame(get_countries(df[\"ad_id\"].values)))\n",
    "    df.set_index(df[\"country\"], inplace=True)\n",
    "    df.sort_values(\"ad_name\", inplace=True)\n",
    "\n",
    "    date = datetime.strptime(df[\"date_start\"].values[0], \"%Y-%m-%d\")\n",
    "\n",
    "    df[\"Post Reactions\"] = df[\"actions\"].apply(partial(get_action, name=\"post_reaction\"))\n",
    "    df[\"Post Shares\"] = df[\"actions\"].apply(partial(get_action, name=\"post\"))\n",
    "    df[\"Link Clicks\"] = df[\"actions\"].apply(partial(get_action, name=\"link_click\"))\n",
    "    df[\"CPC (Cost per Link Click)\"] = df[\"cost_per_action_type\"].apply(partial(get_action, name=\"link_click\"))\n",
    "    get_video_action = partial(get_action, name=\"video_view\")\n",
    "    df[\"Video Average Play Time\"] = df[\"video_avg_time_watched_actions\"].apply(get_video_action)\n",
    "    df[\"Video Plays at 50%\"] = df[\"video_p50_watched_actions\"].apply(get_video_action)\n",
    "    df[\"Video Plays at 75%\"] = df[\"video_p75_watched_actions\"].apply(get_video_action)\n",
    "    df[\"Video Plays at 95%\"] = df[\"video_p95_watched_actions\"].apply(get_video_action)\n",
    "\n",
    "    df.drop(columns=[\"actions\", \"cost_per_action_type\", \"date_start\", \"date_stop\",\n",
    "                     \"video_avg_time_watched_actions\", \"ad_id\", \"country\"] +\n",
    "            [f\"video_p{p}_watched_actions\" for p in [50,75,95]], inplace=True)\n",
    "    \n",
    "    dupes = add_country_total(df)\n",
    "    add_followers(df, date)\n",
    "    return df.round(2), date"
   ]
  },
  {
   "cell_type": "code",
   "execution_count": null,
   "metadata": {},
   "outputs": [],
   "source": [
    "df, date = create_first_part()"
   ]
  },
  {
   "cell_type": "code",
   "execution_count": null,
   "metadata": {},
   "outputs": [],
   "source": [
    "to_mean = [\"cpc\", \"cpm\", \"ctr\", \"CPC (Cost per Link Click)\", \"Video Average Play Time\",\n",
    "            \"% (Clicks)\", \"% (Impressions)\", \"Cost Per Follow\"]\n",
    "to_sum = set(df.columns).difference(set(to_mean + [\"ad_name\"]))\n",
    "total = pd.Series(name=\"total\", index=df.columns, dtype=float)"
   ]
  },
  {
   "cell_type": "code",
   "execution_count": null,
   "metadata": {},
   "outputs": [],
   "source": [
    "total[to_mean] = df[to_mean].apply(np.mean)\n",
    "total[to_sum] = df[to_sum].apply(sum)"
   ]
  },
  {
   "cell_type": "code",
   "execution_count": null,
   "metadata": {},
   "outputs": [
    {
     "data": {
      "text/html": [
       "<div>\n",
       "<style scoped>\n",
       "    .dataframe tbody tr th:only-of-type {\n",
       "        vertical-align: middle;\n",
       "    }\n",
       "\n",
       "    .dataframe tbody tr th {\n",
       "        vertical-align: top;\n",
       "    }\n",
       "\n",
       "    .dataframe thead th {\n",
       "        text-align: right;\n",
       "    }\n",
       "</style>\n",
       "<table border=\"1\" class=\"dataframe\">\n",
       "  <thead>\n",
       "    <tr style=\"text-align: right;\">\n",
       "      <th></th>\n",
       "      <th>ad_name</th>\n",
       "      <th>clicks</th>\n",
       "      <th>cpc</th>\n",
       "      <th>cpm</th>\n",
       "      <th>ctr</th>\n",
       "      <th>impressions</th>\n",
       "      <th>reach</th>\n",
       "      <th>spend</th>\n",
       "      <th>Post Reactions</th>\n",
       "      <th>Post Shares</th>\n",
       "      <th>Link Clicks</th>\n",
       "      <th>CPC (Cost per Link Click)</th>\n",
       "      <th>Video Average Play Time</th>\n",
       "      <th>Video Plays at 50%</th>\n",
       "      <th>Video Plays at 75%</th>\n",
       "      <th>Video Plays at 95%</th>\n",
       "      <th>Ads Followers Increase</th>\n",
       "      <th>% (Clicks)</th>\n",
       "      <th>% (Impressions)</th>\n",
       "      <th>Cost Per Follow</th>\n",
       "    </tr>\n",
       "    <tr>\n",
       "      <th>country</th>\n",
       "      <th></th>\n",
       "      <th></th>\n",
       "      <th></th>\n",
       "      <th></th>\n",
       "      <th></th>\n",
       "      <th></th>\n",
       "      <th></th>\n",
       "      <th></th>\n",
       "      <th></th>\n",
       "      <th></th>\n",
       "      <th></th>\n",
       "      <th></th>\n",
       "      <th></th>\n",
       "      <th></th>\n",
       "      <th></th>\n",
       "      <th></th>\n",
       "      <th></th>\n",
       "      <th></th>\n",
       "      <th></th>\n",
       "      <th></th>\n",
       "    </tr>\n",
       "  </thead>\n",
       "  <tbody>\n",
       "    <tr>\n",
       "      <th>MX</th>\n",
       "      <td>2 - Mexico - General Ad #2-D</td>\n",
       "      <td>82.0</td>\n",
       "      <td>0.06</td>\n",
       "      <td>0.41</td>\n",
       "      <td>0.70</td>\n",
       "      <td>11757.0</td>\n",
       "      <td>11757.0</td>\n",
       "      <td>4.79</td>\n",
       "      <td>5.0</td>\n",
       "      <td>3.0</td>\n",
       "      <td>47.0</td>\n",
       "      <td>0.10</td>\n",
       "      <td>2.0</td>\n",
       "      <td>1514.0</td>\n",
       "      <td>457.0</td>\n",
       "      <td>265.0</td>\n",
       "      <td>0.0</td>\n",
       "      <td>0.0</td>\n",
       "      <td>0.0</td>\n",
       "      <td>0.0</td>\n",
       "    </tr>\n",
       "    <tr>\n",
       "      <th>ID</th>\n",
       "      <td>3 - Indonesia - General Ad 2-D</td>\n",
       "      <td>263.0</td>\n",
       "      <td>0.03</td>\n",
       "      <td>0.27</td>\n",
       "      <td>1.01</td>\n",
       "      <td>25984.0</td>\n",
       "      <td>25984.0</td>\n",
       "      <td>6.90</td>\n",
       "      <td>7.0</td>\n",
       "      <td>6.0</td>\n",
       "      <td>116.0</td>\n",
       "      <td>0.06</td>\n",
       "      <td>2.0</td>\n",
       "      <td>4020.0</td>\n",
       "      <td>1219.0</td>\n",
       "      <td>747.0</td>\n",
       "      <td>0.0</td>\n",
       "      <td>0.0</td>\n",
       "      <td>0.0</td>\n",
       "      <td>0.0</td>\n",
       "    </tr>\n",
       "    <tr>\n",
       "      <th>PH</th>\n",
       "      <td>3 - Philippines</td>\n",
       "      <td>92.0</td>\n",
       "      <td>0.02</td>\n",
       "      <td>0.36</td>\n",
       "      <td>1.87</td>\n",
       "      <td>4908.0</td>\n",
       "      <td>4895.0</td>\n",
       "      <td>1.76</td>\n",
       "      <td>0.0</td>\n",
       "      <td>0.0</td>\n",
       "      <td>47.0</td>\n",
       "      <td>0.04</td>\n",
       "      <td>2.0</td>\n",
       "      <td>865.0</td>\n",
       "      <td>317.0</td>\n",
       "      <td>192.0</td>\n",
       "      <td>0.0</td>\n",
       "      <td>0.0</td>\n",
       "      <td>0.0</td>\n",
       "      <td>0.0</td>\n",
       "    </tr>\n",
       "    <tr>\n",
       "      <th>total</th>\n",
       "      <td>NaN</td>\n",
       "      <td>437.0</td>\n",
       "      <td>0.04</td>\n",
       "      <td>0.35</td>\n",
       "      <td>1.19</td>\n",
       "      <td>42649.0</td>\n",
       "      <td>42636.0</td>\n",
       "      <td>13.45</td>\n",
       "      <td>12.0</td>\n",
       "      <td>9.0</td>\n",
       "      <td>210.0</td>\n",
       "      <td>0.07</td>\n",
       "      <td>2.0</td>\n",
       "      <td>6399.0</td>\n",
       "      <td>1993.0</td>\n",
       "      <td>1204.0</td>\n",
       "      <td>0.0</td>\n",
       "      <td>0.0</td>\n",
       "      <td>0.0</td>\n",
       "      <td>0.0</td>\n",
       "    </tr>\n",
       "  </tbody>\n",
       "</table>\n",
       "</div>"
      ],
      "text/plain": [
       "                                ad_name  ...  Cost Per Follow\n",
       "country                                  ...                 \n",
       "MX         2 - Mexico - General Ad #2-D  ...              0.0\n",
       "ID       3 - Indonesia - General Ad 2-D  ...              0.0\n",
       "PH                      3 - Philippines  ...              0.0\n",
       "total                               NaN  ...              0.0\n",
       "\n",
       "[4 rows x 20 columns]"
      ]
     },
     "execution_count": null,
     "metadata": {
      "tags": []
     },
     "output_type": "execute_result"
    }
   ],
   "source": [
    "df.append(total).round(2)"
   ]
  },
  {
   "cell_type": "code",
   "execution_count": null,
   "metadata": {},
   "outputs": [],
   "source": [
    "#export\n",
    "def add_total(df: pd.DataFrame) -> pd.DataFrame:\n",
    "    to_mean = [\"cpc\", \"cpm\", \"ctr\", \"CPC (Cost per Link Click)\", \"Video Average Play Time\",\n",
    "                \"% (Clicks)\", \"% (Impressions)\", \"Cost Per Follow\"]\n",
    "    to_sum = set(df.columns).difference(set(to_mean + [\"ad_name\"]))\n",
    "    total = pd.Series(name=\"total\", index=df.columns, dtype=float)\n",
    "    total[to_mean] = df[to_mean].apply(np.mean)\n",
    "    total[to_sum] = df[to_sum].apply(sum)\n",
    "    return df.append(total)"
   ]
  },
  {
   "cell_type": "code",
   "execution_count": null,
   "metadata": {},
   "outputs": [],
   "source": [
    "#export\n",
    "def get_insights_df(insights: List) -> Tuple[pd.DataFrame, datetime]:\n",
    "    df = pd.DataFrame(insights)\n",
    "    floats = [\"cpc\", \"cpm\", \"ctr\", \"spend\"]\n",
    "    df[floats] = df[floats].astype(float)\n",
    "    ints = [\"clicks\", \"impressions\", \"reach\"]\n",
    "    df[ints] = df[ints].astype(int)\n",
    "\n",
    "    df = df.merge(pd.DataFrame(get_countries(df[\"ad_id\"].values)))\n",
    "    df.set_index(df[\"country\"], inplace=True)\n",
    "    df.sort_values(\"ad_name\", inplace=True)\n",
    "    date = datetime.strptime(df[\"date_start\"].values[0], \"%Y-%m-%d\")\n",
    "\n",
    "    df[\"Post Reactions\"] = df[\"actions\"].apply(partial(get_action, name=\"post_reaction\"))\n",
    "    df[\"Post Shares\"] = df[\"actions\"].apply(partial(get_action, name=\"post\"))\n",
    "    df[\"Link Clicks\"] = df[\"actions\"].apply(partial(get_action, name=\"link_click\"))\n",
    "    df[\"CPC (Cost per Link Click)\"] = df[\"cost_per_action_type\"].apply(partial(get_action, name=\"link_click\"))\n",
    "    get_video_action = partial(get_action, name=\"video_view\")\n",
    "    df[\"Video Average Play Time\"] = df[\"video_avg_time_watched_actions\"].apply(get_video_action)\n",
    "    df[\"Video Plays at 50%\"] = df[\"video_p50_watched_actions\"].apply(get_video_action)\n",
    "    df[\"Video Plays at 75%\"] = df[\"video_p75_watched_actions\"].apply(get_video_action)\n",
    "    df[\"Video Plays at 95%\"] = df[\"video_p95_watched_actions\"].apply(get_video_action)\n",
    "\n",
    "    df.drop(columns=[\"actions\", \"cost_per_action_type\", \"date_start\", \"date_stop\",\n",
    "                     \"video_avg_time_watched_actions\", \"ad_id\", \"country\"] +\n",
    "            [f\"video_p{p}_watched_actions\" for p in [50,75,95]], inplace=True)\n",
    "    \n",
    "    dupes = add_country_total(df)\n",
    "    add_followers(df, date)\n",
    "    df = add_total(df)\n",
    "    df.rename(columns={\"ad_name\": \"Ad Name\", \"clicks\": \"Clicks (All)\", \"cpc\": \"CPC (All)\",\n",
    "                       \"ctr\": \"CTR (All)\", \"cpm\": \"CPM (Cost per 1,000 Impressions)\",\n",
    "                       \"reach\": \"Reach\", \"impressions\": \"Impressions\", \"spend\": \"Amount Spent (USD)\"}, inplace=True)\n",
    "    return df[COLUMNS].round(2), date"
   ]
  },
  {
   "cell_type": "code",
   "execution_count": null,
   "metadata": {},
   "outputs": [],
   "source": [
    "insights = get_insights()\n",
    "df, date = get_insights_df(insights)"
   ]
  },
  {
   "cell_type": "code",
   "execution_count": null,
   "metadata": {},
   "outputs": [],
   "source": [
    "stats = pd.Series(dtype=float, name=\"followers\")\n",
    "ads_followers_gain = df.loc[\"total\", \"Ads Followers Increase\"]\n",
    "followers_gain = get_followers_change(date).sum().item()\n",
    "spent = df.loc[\"total\", \"Amount Spent (USD)\"]"
   ]
  },
  {
   "cell_type": "code",
   "execution_count": null,
   "metadata": {},
   "outputs": [],
   "source": [
    "stats[\"Ads Followers Increase\"] = ads_followers_gain\n",
    "stats[\"New Followers\"] = get_new_followers()[1]\n",
    "stats[\"Random Followers\"] = stats[\"New Followers\"] - ads_followers_gain\n",
    "stats[\"Unfollowers\"] = stats[\"New Followers\"] - followers_gain\n",
    "stats[\"Real Ads Followers Increase\"] = ads_followers_gain + stats[\"Random Followers\"] - stats[\"Unfollowers\"]"
   ]
  },
  {
   "cell_type": "code",
   "execution_count": null,
   "metadata": {},
   "outputs": [],
   "source": [
    "stats_df = pd.DataFrame(stats)\n",
    "stats_df.insert(0, \"  \", stats_df.index)"
   ]
  },
  {
   "cell_type": "code",
   "execution_count": null,
   "metadata": {},
   "outputs": [],
   "source": [
    "stats_df[\"Conversion Rate\"] = stats_df[\"followers\"] / df.loc[\"total\", \"Clicks (All)\"]\n",
    "stats_df[\"Cost Per Follower/Increase\"] = spent/ stats_df[\"followers\"]\n",
    "stats_df.iloc[2:5, 2] = 0\n",
    "stats_df.iloc[2:4, 3] = 0"
   ]
  },
  {
   "cell_type": "markdown",
   "metadata": {},
   "source": [
    "random followers + followers from ads - unfollowers = followers gain\n",
    "\n",
    "unfollowers = random followers + followers from ads - followers gain = new followers - followers gain\n",
    "\n",
    "random_followers = new followers - followers from ads"
   ]
  },
  {
   "cell_type": "code",
   "execution_count": null,
   "metadata": {},
   "outputs": [],
   "source": [
    "#export\n",
    "def more_stats(df: pd.DataFrame, date: datetime) -> pd.DataFrame:\n",
    "    stats = pd.Series(dtype=float, name=\"followers\")\n",
    "    ads_followers_gain = df.loc[\"total\", \"Ads Followers Increase\"]\n",
    "    followers_gain = get_followers_change(date).sum().item()\n",
    "    spent = df.loc[\"total\", \"Amount Spent (USD)\"]\n",
    "    stats[\"Ads Followers Increase\"] = ads_followers_gain\n",
    "    stats[\"New Followers\"] = get_new_followers()[1]\n",
    "    stats[\"Random Followers\"] = stats[\"New Followers\"] - ads_followers_gain\n",
    "    stats[\"Unfollowers\"] = stats[\"New Followers\"] - followers_gain\n",
    "    stats[\"Real Ads Followers Increase\"] = ads_followers_gain + stats[\"Random Followers\"] - stats[\"Unfollowers\"]\n",
    "\n",
    "    stats_df = pd.DataFrame(stats)\n",
    "    stats_df.index.name = \"  \"\n",
    "    # stats_df.insert(0, \"  \", stats_df.index)\n",
    "    stats_df[\"Conversion Rate\"] = stats_df[\"followers\"] / df.loc[\"total\", \"Clicks (All)\"]\n",
    "    stats_df[\" \"] = 0\n",
    "    stats_df[\"Cost Per Follower/Increase\"] = spent/ stats_df[\"followers\"]\n",
    "    stats_df.iloc[2:5, 1] = 0\n",
    "    stats_df.iloc[2:4, 3] = 0\n",
    "    return stats_df.round(2)"
   ]
  },
  {
   "cell_type": "code",
   "execution_count": null,
   "metadata": {},
   "outputs": [],
   "source": [
    "#export\n",
    "def create_insights(event: Dict = None, context=None,) -> str:\n",
    "    insights = get_insights()\n",
    "    df, date = get_insights_df(insights)\n",
    "    worksheet_name = date.strftime(\"%b %d %Y\")\n",
    "    stats_df = more_stats(df, date)\n",
    "    empty = pd.Series(name=\"\", dtype=str)\n",
    "    df = df.append([empty, empty, empty])\n",
    "    write_df(df, worksheet_name)\n",
    "    write_df(stats_df, worksheet_name, loc=f\"B{len(df)}\")\n",
    "\n",
    "    wsh = get_worksheet(worksheet_name)\n",
    "    wsh.format(f\"C1:G{len(df)-1}\", {\"textFormat\": {\n",
    "        \"foregroundColor\": {\n",
    "            \"red\": 0.45,\n",
    "            \"green\": 0.0,\n",
    "            \"blue\": 0.0\n",
    "        }}},)\n",
    "    wsh.format(f\"D:E\", {\"numberFormat\": {\"type\": \"PERCENT\"}},)\n",
    "    wsh.format(f\"F\", {\"numberFormat\": {\"type\": \"CURRENCY\"}},)\n",
    "\n",
    "    unf_cell = wsh.find(\"Unfollowers\")\n",
    "    wsh.format(f\"C{wsh.find('Unfollowers').row}\", {\"textFormat\": {\n",
    "        \"foregroundColor\": {\n",
    "            \"red\": 0.0,\n",
    "            \"green\": 0.0,\n",
    "            \"blue\": 1.0\n",
    "        }}},)\n",
    "    return f\"Created insights in '{worksheet_name}'\""
   ]
  },
  {
   "cell_type": "code",
   "execution_count": null,
   "metadata": {},
   "outputs": [
    {
     "data": {
      "application/vnd.google.colaboratory.intrinsic+json": {
       "type": "string"
      },
      "text/plain": [
       "\"Created insights in 'Aug 04 2020'\""
      ]
     },
     "execution_count": null,
     "metadata": {
      "tags": []
     },
     "output_type": "execute_result"
    }
   ],
   "source": [
    "create_insights()"
   ]
  },
  {
   "cell_type": "code",
   "execution_count": null,
   "metadata": {},
   "outputs": [],
   "source": [
    "# DONE estimate, real\n",
    "## Fix unfollowers 30 min, 70 min\n",
    "## relevance score 60 min, 30 min\n",
    "## Match country:\n",
    "# Get country from API 1 hour, 2.5 hours\n",
    "\n",
    "# SHARE\n",
    "# https://www.facebook.com/business/help/403110480493160?id=561906377587030\n",
    "## check all fields data\n",
    "\n",
    "# TODO\n",
    "## Formatting 120 min, 120 min\n"
   ]
  },
  {
   "cell_type": "code",
   "execution_count": null,
   "metadata": {},
   "outputs": [
    {
     "name": "stdout",
     "output_type": "stream",
     "text": [
      "Converted 00_core.ipynb.\n",
      "Converted 01_followers.ipynb.\n",
      "Converted 02_ads.ipynb.\n",
      "Converted index.ipynb.\n"
     ]
    }
   ],
   "source": [
    "#hide\n",
    "from nbdev.export import notebook2script\n",
    "notebook2script()"
   ]
  },
  {
   "cell_type": "code",
   "execution_count": null,
   "metadata": {},
   "outputs": [],
   "source": [
    ""
   ]
  }
 ],
 "metadata": {
  "kernelspec": {
   "display_name": "Python 3",
   "name": "python3"
  }
 },
 "nbformat": 4,
 "nbformat_minor": 0
}
