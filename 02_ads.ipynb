{
 "cells": [
  {
   "cell_type": "code",
   "execution_count": null,
   "metadata": {},
   "outputs": [],
   "source": [
    "# default_exp ads"
   ]
  },
  {
   "cell_type": "code",
   "execution_count": null,
   "metadata": {},
   "outputs": [],
   "source": [
    "%load_ext autoreload\n",
    "%autoreload 2"
   ]
  },
  {
   "cell_type": "code",
   "execution_count": null,
   "metadata": {},
   "outputs": [
    {
     "name": "stdout",
     "output_type": "stream",
     "text": [
      "\u001b[?25l\r\u001b[K     |██████▍                         | 10kB 19.3MB/s eta 0:00:01\r\u001b[K     |████████████▊                   | 20kB 1.5MB/s eta 0:00:01\r\u001b[K     |███████████████████             | 30kB 2.1MB/s eta 0:00:01\r\u001b[K     |█████████████████████████▍      | 40kB 2.3MB/s eta 0:00:01\r\u001b[K     |███████████████████████████████▊| 51kB 1.9MB/s eta 0:00:01\r\u001b[K     |████████████████████████████████| 61kB 1.8MB/s \n",
      "\u001b[?25h"
     ]
    }
   ],
   "source": [
    "#hide\n",
    "!pip install -qU nbdev fastcore"
   ]
  },
  {
   "cell_type": "code",
   "execution_count": null,
   "metadata": {},
   "outputs": [
    {
     "name": "stdout",
     "output_type": "stream",
     "text": [
      "\u001b[K     |████████████████████████████████| 1.0MB 3.9MB/s \n",
      "\u001b[K     |████████████████████████████████| 10.1MB 20.9MB/s \n",
      "\u001b[K     |████████████████████████████████| 51kB 4.2MB/s \n",
      "\u001b[K     |████████████████████████████████| 81kB 8.8MB/s \n",
      "\u001b[?25h  Building wheel for pycountry (setup.py) ... \u001b[?25l\u001b[?25hdone\n",
      "  Building wheel for curlify (setup.py) ... \u001b[?25l\u001b[?25hdone\n",
      "  Building wheel for typing (setup.py) ... \u001b[?25l\u001b[?25hdone\n"
     ]
    }
   ],
   "source": [
    "#hide\n",
    "!pip install -qU gspread facebook_business pycountry python-facebook-api"
   ]
  },
  {
   "cell_type": "code",
   "execution_count": null,
   "metadata": {},
   "outputs": [
    {
     "name": "stdout",
     "output_type": "stream",
     "text": [
      "/content/drive/My Drive/upwork/Martin followers/tomorrowswig_followers\n"
     ]
    }
   ],
   "source": [
    "#hide\n",
    "from pathlib import Path\n",
    "path = Path(\"/content/drive/My Drive/upwork/Martin followers/tomorrowswig_followers\")\n",
    "%cd \"{path}\""
   ]
  },
  {
   "cell_type": "code",
   "execution_count": null,
   "metadata": {},
   "outputs": [],
   "source": [
    "#hide\n",
    "#not deps but we need them to use nbdev and run tests\n",
    "from nbdev import * \n",
    "from nbdev.showdoc import *\n",
    "from fastcore.test import *"
   ]
  },
  {
   "cell_type": "markdown",
   "metadata": {},
   "source": [
    "## Facebook Auth"
   ]
  },
  {
   "cell_type": "code",
   "execution_count": null,
   "metadata": {},
   "outputs": [],
   "source": [
    "#hide\n",
    "%%capture\n",
    "\n",
    "import yaml\n",
    "with open(path.parent/\"facebook_creds.yml\") as f:\n",
    "    data = yaml.safe_load(f)\n",
    "    %env APP_ID {data.get(\"APP_ID\")}\n",
    "    %env APP_SECRET {data.get(\"APP_SECRET\")}\n",
    "    %env TOKEN {data.get(\"TOKEN\")}\n",
    "    %env AD_ACC_ID {data.get(\"AD_ACC_ID\")}\n",
    "    %env USER_ID {data.get(\"USER_ID\")}"
   ]
  },
  {
   "cell_type": "code",
   "execution_count": null,
   "metadata": {},
   "outputs": [],
   "source": [
    "#export\n",
    "from tomorrowswig_followers.core import *\n",
    "from tomorrowswig_followers.followers import get_new_followers"
   ]
  },
  {
   "cell_type": "code",
   "execution_count": null,
   "metadata": {},
   "outputs": [],
   "source": [
    "#export\n",
    "import os\n",
    "from typing import *\n",
    "\n",
    "from datetime import datetime, timedelta\n",
    "from functools import partial\n",
    "\n",
    "import pandas as pd\n",
    "import numpy as np\n",
    "from facebook_business.api import FacebookAdsApi\n",
    "from facebook_business.adobjects.adaccount import AdAccount\n",
    "import pycountry\n",
    "\n",
    "AD_ACC_ID = os.environ.get(\"AD_ACC_ID\")"
   ]
  },
  {
   "cell_type": "code",
   "execution_count": null,
   "metadata": {},
   "outputs": [],
   "source": [
    "APP_ID = os.environ.get(\"APP_ID\")\n",
    "APP_SECRET = os.environ.get(\"APP_SECRET\")\n",
    "TOKEN = os.environ.get(\"TOKEN\")\n",
    "USER_ID = os.environ.get(\"USER_ID\")"
   ]
  },
  {
   "cell_type": "markdown",
   "metadata": {},
   "source": [
    "## Ads reporting"
   ]
  },
  {
   "cell_type": "code",
   "execution_count": null,
   "metadata": {},
   "outputs": [],
   "source": [
    "#export\n",
    "FacebookAdsApi.init(APP_ID, APP_SECRET, TOKEN)\n",
    "account = AdAccount(AD_ACC_ID)"
   ]
  },
  {
   "cell_type": "code",
   "execution_count": null,
   "metadata": {},
   "outputs": [
    {
     "data": {
      "text/plain": [
       "datetime.datetime(2020, 7, 28, 14, 31, 58)"
      ]
     },
     "execution_count": null,
     "metadata": {
      "tags": []
     },
     "output_type": "execute_result"
    }
   ],
   "source": [
    "datetime.fromtimestamp(1595946718)"
   ]
  },
  {
   "cell_type": "code",
   "execution_count": null,
   "metadata": {},
   "outputs": [
    {
     "data": {
      "application/vnd.google.colaboratory.intrinsic+json": {
       "type": "string"
      },
      "text/plain": [
       "'1595203200'"
      ]
     },
     "execution_count": null,
     "metadata": {
      "tags": []
     },
     "output_type": "execute_result"
    }
   ],
   "source": [
    "datetime(2020,7,20,0,0).strftime('%s')"
   ]
  },
  {
   "cell_type": "code",
   "execution_count": null,
   "metadata": {},
   "outputs": [],
   "source": [
    "insights = account.get_insights(fields=[\n",
    "    \"ad_name\",\n",
    "    \"clicks\",\n",
    "    \"cpc\",\n",
    "    \"ctr\",\n",
    "    \"cpm\",\n",
    "    \"cost_per_action_type\",\n",
    "    # AdsInsights.Field.cost_per_one_thousand_ad_impression, permissions\n",
    "    \"spend\",\n",
    "    # \"adset_budget_value\", permissions\n",
    "    \"impressions\",\n",
    "    \"reach\",\n",
    "    \"actions\",\n",
    "    \"video_avg_time_watched_actions\",\n",
    "    \"video_p50_watched_actions\",\n",
    "    \"video_p75_watched_actions\",\n",
    "    \"video_p95_watched_actions\",\n",
    "\n",
    "], params={\n",
    "    'level': \"ad\",\n",
    "    'date_preset': \"yesterday\",\n",
    "    # \"date_start\": \"1595116800\",\n",
    "    # \"date_stop\": \"1595203200\"\n",
    "})\n"
   ]
  },
  {
   "cell_type": "code",
   "execution_count": null,
   "metadata": {},
   "outputs": [],
   "source": [
    "def get_action(cell, name):\n",
    "    action = [a for a in cell if a[\"action_type\"] == name]\n",
    "    if action:\n",
    "        return action[0][\"value\"]\n",
    "    return 0"
   ]
  },
  {
   "cell_type": "code",
   "execution_count": null,
   "metadata": {},
   "outputs": [],
   "source": [
    "# fields = [f for f in AdsInsights.Field.__dict__ if not f.startswith(\"__\")]"
   ]
  },
  {
   "cell_type": "code",
   "execution_count": null,
   "metadata": {},
   "outputs": [],
   "source": [
    "# account.get_insights(fields=[fields[53]], params={\n",
    "#     'level': AdsInsights.Level.ad,\n",
    "#     'date_preset': AdsInsights.DatePreset.last_3d,\n",
    "# })[-1]"
   ]
  },
  {
   "cell_type": "code",
   "execution_count": null,
   "metadata": {},
   "outputs": [],
   "source": [
    "# account.get_insights(fields=fields[:53], params={\n",
    "#     'level': AdsInsights.Level.ad,\n",
    "#     'date_preset': AdsInsights.DatePreset.last_3d,\n",
    "# })"
   ]
  },
  {
   "cell_type": "code",
   "execution_count": null,
   "metadata": {},
   "outputs": [],
   "source": [
    "# account.get_insights(\n",
    "#     # fields=fields[:53],\n",
    "#     fields = [\"actions\"],\n",
    "#     params={\n",
    "#     'level': \"ad\",\n",
    "#     'date_preset': \"this_week_sun_today\",\n",
    "# })"
   ]
  },
  {
   "cell_type": "code",
   "execution_count": null,
   "metadata": {},
   "outputs": [],
   "source": [
    "#export\n",
    "def get_dif(df: pd.DataFrame) -> pd.DataFrame:\n",
    "    change_df = df.diff(axis=1, periods=-1)\n",
    "    change_df = change_df.fillna(0).astype(int)\n",
    "    return change_df"
   ]
  },
  {
   "cell_type": "code",
   "execution_count": null,
   "metadata": {},
   "outputs": [],
   "source": [
    "#export\n",
    "# \"Relevance Score\",\n",
    "COLUMNS = [\"Ad Name\", \"New Followers\", \"% (Clicks)\", \"% (Impressions)\", \"Cost Per Follow\",\n",
    "           \"Clicks (All)\", \"Link Clicks\", \"CPC (All)\" , \"CPC (Cost per Link Click)\",\n",
    "           \"CTR (All)\", \"CPM (Cost per 1,000 Impressions)\", \"Amount Spent (USD)\", \"Impressions\", \"Reach\", \"Post Reactions\", \"Post Shares\",\n",
    "           \"Video Average Play Time\", \"Video Plays at 50%\", \"Video Plays at 75%\", \"Video Plays at 95%\"]"
   ]
  },
  {
   "cell_type": "code",
   "execution_count": null,
   "metadata": {},
   "outputs": [],
   "source": [
    "#export\n",
    "get_insights = partial(account.get_insights, fields=[\n",
    "        \"ad_name\",\n",
    "        \"clicks\",\n",
    "        \"cpc\",\n",
    "        \"ctr\",\n",
    "        \"cpm\",\n",
    "        \"cost_per_action_type\",\n",
    "        \"spend\",\n",
    "        \"impressions\",\n",
    "        \"reach\",\n",
    "        \"actions\",\n",
    "        \"video_avg_time_watched_actions\",\n",
    "        \"video_p50_watched_actions\",\n",
    "        \"video_p75_watched_actions\",\n",
    "        \"video_p95_watched_actions\",\n",
    "    ], params={\n",
    "        'level': \"ad\",\n",
    "        'date_preset': \"yesterday\",\n",
    "    })"
   ]
  },
  {
   "cell_type": "code",
   "execution_count": null,
   "metadata": {},
   "outputs": [],
   "source": [
    "#export\n",
    "def get_action(cell, name):\n",
    "    action = [a for a in cell if a[\"action_type\"] == name]\n",
    "    if action:\n",
    "        return action[0][\"value\"]\n",
    "    return 0"
   ]
  },
  {
   "cell_type": "code",
   "execution_count": null,
   "metadata": {},
   "outputs": [],
   "source": [
    "#export\n",
    "def get_followers_change(date: datetime) -> pd.DataFrame:\n",
    "    history_df = get_df(\"History\")\n",
    "    new_followers = get_dif(history_df)\n",
    "    followers_date = (date + timedelta(days=1)).strftime(\"%b %d %Y\")\n",
    "    new_followers = new_followers.iloc[:,new_followers.columns.str.startswith(followers_date)].replace(0, np.nan)\n",
    "    new_followers = new_followers.dropna(axis=1, how=\"all\").iloc[:, :1].dropna().astype(int)\n",
    "    if not new_followers.values.size:\n",
    "        new_followers[\"no change\"] = 0\n",
    "    return new_followers"
   ]
  },
  {
   "cell_type": "code",
   "execution_count": null,
   "metadata": {},
   "outputs": [],
   "source": [
    "assert get_followers_change(datetime.strptime(\"2020-07-25\", \"%Y-%m-%d\")).columns[0] == \"Jul 26 2020                 2020-07-26 19:10:34\"\n",
    "assert get_followers_change(datetime.strptime(\"2031-07-25\", \"%Y-%m-%d\")).sum().item() == 0"
   ]
  },
  {
   "cell_type": "code",
   "execution_count": null,
   "metadata": {},
   "outputs": [],
   "source": [
    "#export\n",
    "def match_country(x):\n",
    "    try:\n",
    "        return pycountry.countries.search_fuzzy(x)[0].alpha_2\n",
    "    except LookupError as e:\n",
    "        return \"not found\""
   ]
  },
  {
   "cell_type": "code",
   "execution_count": null,
   "metadata": {},
   "outputs": [],
   "source": [
    "assert match_country(\"brasil\") == \"not found\"\n",
    "assert match_country(\"brazil\") == \"BR\""
   ]
  },
  {
   "cell_type": "code",
   "execution_count": null,
   "metadata": {},
   "outputs": [],
   "source": [
    "#export\n",
    "def add_country_total(df: pd.DataFrame) -> Tuple[pd.DataFrame, str]:\n",
    "    dupes = df[df.index.duplicated(False)]\n",
    "    if not len(dupes):\n",
    "        return\n",
    "\n",
    "    to_mean = [\"cpc\", \"cpm\", \"ctr\", \"CPC (Cost per Link Click)\"]\n",
    "    to_sum = set(df.columns).difference(set(to_mean + [\"ad_name\"]))\n",
    "    total = dupes.iloc[0,:].copy()\n",
    "    index = dupes.index[0]\n",
    "    total[\"ad_name\"] = f\"{index} total\"\n",
    "    total[to_mean] = dupes[to_mean].apply(np.mean)\n",
    "    total[to_sum] = dupes[to_sum].astype(int).apply(sum)\n",
    "    return df.append(total), index"
   ]
  },
  {
   "cell_type": "code",
   "execution_count": null,
   "metadata": {},
   "outputs": [],
   "source": [
    "#export\n",
    "def add_followers(df: pd.DataFrame, date: datetime):\n",
    "    new_followers = get_followers_change(date)\n",
    "    df[\"New Followers\"] = new_followers\n",
    "    df.fillna(0, inplace=True)\n",
    "    df[\"% (Clicks)\"] = (df[\"New Followers\"] / df[\"clicks\"]* 100).round().astype(int)\n",
    "    df[\"% (Impressions)\"] = (df[\"New Followers\"] / df[\"impressions\"] * 100)\n",
    "    df[\"Cost Per Follow\"] = (df[\"spend\"] / df[\"New Followers\"])\n",
    "    df.replace([np.inf], 0, inplace=True)"
   ]
  },
  {
   "cell_type": "code",
   "execution_count": null,
   "metadata": {},
   "outputs": [],
   "source": [
    "def create_first_part():\n",
    "    df = pd.DataFrame(get_insights())\n",
    "    floats = [\"cpc\", \"cpm\", \"ctr\", \"spend\"]\n",
    "    df[floats] = df[floats].astype(float).round(2)\n",
    "    ints = [\"clicks\", \"impressions\", \"reach\"]\n",
    "    df[ints] = df[ints].astype(int)\n",
    "    index = df[\"ad_name\"].apply(lambda x: match_country(x.split(\"-\")[1].strip()))\n",
    "    index.name = \"countries\"\n",
    "    df.set_index(index, inplace=True)\n",
    "    df.sort_values(\"ad_name\", inplace=True)\n",
    "\n",
    "    date = datetime.strptime(df[\"date_start\"].values[0], \"%Y-%m-%d\")\n",
    "\n",
    "    df[\"Post Reactions\"] = df[\"actions\"].apply(partial(get_action, name=\"post_reaction\"))\n",
    "    df[\"Post Shares\"] = df[\"actions\"].apply(partial(get_action, name=\"post\"))\n",
    "    df[\"Link Clicks\"] = df[\"actions\"].apply(partial(get_action, name=\"link_click\"))\n",
    "    df[\"CPC (Cost per Link Click)\"] = df[\"cost_per_action_type\"].apply(partial(get_action, name=\"link_click\")).astype(float)\n",
    "    get_video_action = partial(get_action, name=\"video_view\")\n",
    "    df[\"Video Average Play Time\"] = df[\"video_avg_time_watched_actions\"].apply(get_video_action)\n",
    "    df[\"Video Plays at 50%\"] = df[\"video_p50_watched_actions\"].apply(get_video_action)\n",
    "    df[\"Video Plays at 75%\"] = df[\"video_p75_watched_actions\"].apply(get_video_action)\n",
    "    df[\"Video Plays at 95%\"] = df[\"video_p95_watched_actions\"].apply(get_video_action)\n",
    "\n",
    "    df.drop(columns=[\"actions\", \"cost_per_action_type\", \"date_start\", \"date_stop\",\n",
    "                        \"video_avg_time_watched_actions\"] +\n",
    "            [f\"video_p{p}_watched_actions\" for p in [50,75,95]], inplace=True)\n",
    "    \n",
    "    dupes = add_country_total(df)\n",
    "    add_followers(df, date)\n",
    "    return df, date"
   ]
  },
  {
   "cell_type": "code",
   "execution_count": null,
   "metadata": {},
   "outputs": [],
   "source": [
    "df = create_first_part()"
   ]
  },
  {
   "cell_type": "code",
   "execution_count": null,
   "metadata": {},
   "outputs": [
    {
     "ename": "AttributeError",
     "evalue": "ignored",
     "output_type": "error",
     "traceback": [
      "\u001b[0;31m---------------------------------------------------------------------------\u001b[0m",
      "\u001b[0;31mAttributeError\u001b[0m                            Traceback (most recent call last)",
      "\u001b[0;32m<ipython-input-94-3e959387d00f>\u001b[0m in \u001b[0;36m<module>\u001b[0;34m()\u001b[0m\n\u001b[1;32m      1\u001b[0m to_mean = [\"cpc\", \"cpm\", \"ctr\", \"CPC (Cost per Link Click)\", \"Video Average Play Time\",\n\u001b[1;32m      2\u001b[0m             \"% (Clicks)\", \"% (Impressions)\", \"Cost Per Follow\"]\n\u001b[0;32m----> 3\u001b[0;31m \u001b[0mto_sum\u001b[0m \u001b[0;34m=\u001b[0m \u001b[0mset\u001b[0m\u001b[0;34m(\u001b[0m\u001b[0mdf\u001b[0m\u001b[0;34m.\u001b[0m\u001b[0mcolumns\u001b[0m\u001b[0;34m)\u001b[0m\u001b[0;34m.\u001b[0m\u001b[0mdifference\u001b[0m\u001b[0;34m(\u001b[0m\u001b[0mset\u001b[0m\u001b[0;34m(\u001b[0m\u001b[0mto_mean\u001b[0m \u001b[0;34m+\u001b[0m \u001b[0;34m[\u001b[0m\u001b[0;34m\"ad_name\"\u001b[0m\u001b[0;34m]\u001b[0m\u001b[0;34m)\u001b[0m\u001b[0;34m)\u001b[0m\u001b[0;34m\u001b[0m\u001b[0;34m\u001b[0m\u001b[0m\n\u001b[0m\u001b[1;32m      4\u001b[0m \u001b[0mtotal\u001b[0m \u001b[0;34m=\u001b[0m \u001b[0mpd\u001b[0m\u001b[0;34m.\u001b[0m\u001b[0mSeries\u001b[0m\u001b[0;34m(\u001b[0m\u001b[0mname\u001b[0m\u001b[0;34m=\u001b[0m\u001b[0;34m\"total\"\u001b[0m\u001b[0;34m,\u001b[0m \u001b[0mindex\u001b[0m\u001b[0;34m=\u001b[0m\u001b[0mdf\u001b[0m\u001b[0;34m.\u001b[0m\u001b[0mcolumns\u001b[0m\u001b[0;34m,\u001b[0m \u001b[0mdtype\u001b[0m\u001b[0;34m=\u001b[0m\u001b[0mfloat\u001b[0m\u001b[0;34m)\u001b[0m\u001b[0;34m\u001b[0m\u001b[0;34m\u001b[0m\u001b[0m\n",
      "\u001b[0;31mAttributeError\u001b[0m: 'tuple' object has no attribute 'columns'"
     ]
    }
   ],
   "source": [
    "to_mean = [\"cpc\", \"cpm\", \"ctr\", \"CPC (Cost per Link Click)\", \"Video Average Play Time\",\n",
    "            \"% (Clicks)\", \"% (Impressions)\", \"Cost Per Follow\"]\n",
    "to_sum = set(df.columns).difference(set(to_mean + [\"ad_name\"]))\n",
    "total = pd.Series(name=\"total\", index=df.columns, dtype=float)"
   ]
  },
  {
   "cell_type": "code",
   "execution_count": null,
   "metadata": {},
   "outputs": [],
   "source": [
    "total[to_mean] = df[to_mean].apply(np.mean)"
   ]
  },
  {
   "cell_type": "code",
   "execution_count": null,
   "metadata": {},
   "outputs": [],
   "source": [
    "total[to_sum] = df[to_sum].astype(int).apply(sum)"
   ]
  },
  {
   "cell_type": "code",
   "execution_count": null,
   "metadata": {},
   "outputs": [],
   "source": [
    "df.append(total)"
   ]
  },
  {
   "cell_type": "code",
   "execution_count": null,
   "metadata": {},
   "outputs": [],
   "source": [
    "#export\n",
    "def add_total(df: pd.DataFrame) -> pd.DataFrame:\n",
    "    to_mean = [\"cpc\", \"cpm\", \"ctr\", \"CPC (Cost per Link Click)\", \"Video Average Play Time\",\n",
    "                \"% (Clicks)\", \"% (Impressions)\", \"Cost Per Follow\"]\n",
    "    to_sum = set(df.columns).difference(set(to_mean + [\"ad_name\"]))\n",
    "    total = pd.Series(name=\"total\", index=df.columns)\n",
    "    total[to_mean] = df[to_mean].apply(np.mean)\n",
    "    total[to_sum] = df[to_sum].astype(int).apply(sum)\n",
    "    return df.append(total)"
   ]
  },
  {
   "cell_type": "code",
   "execution_count": null,
   "metadata": {},
   "outputs": [],
   "source": [
    "#export\n",
    "def get_insights_df(insights: List) -> Tuple[pd.DataFrame, datetime]:\n",
    "    df = pd.DataFrame(insights)\n",
    "    floats = [\"cpc\", \"cpm\", \"ctr\", \"spend\"]\n",
    "    df[floats] = df[floats].astype(float).round(2)\n",
    "    ints = [\"clicks\", \"impressions\", \"reach\"]\n",
    "    df[ints] = df[ints].astype(int)\n",
    "    index = df[\"ad_name\"].apply(lambda x: match_country(x.split(\"-\")[1].strip()))\n",
    "    index.name = \"countries\"\n",
    "    df.set_index(index, inplace=True)\n",
    "    df.sort_values(\"ad_name\", inplace=True)\n",
    "\n",
    "    date = datetime.strptime(df[\"date_start\"].values[0], \"%Y-%m-%d\")\n",
    "\n",
    "    df[\"Post Reactions\"] = df[\"actions\"].apply(partial(get_action, name=\"post_reaction\"))\n",
    "    df[\"Post Shares\"] = df[\"actions\"].apply(partial(get_action, name=\"post\"))\n",
    "    df[\"Link Clicks\"] = df[\"actions\"].apply(partial(get_action, name=\"link_click\"))\n",
    "    df[\"CPC (Cost per Link Click)\"] = df[\"cost_per_action_type\"].apply(partial(get_action, name=\"link_click\")).astype(float)\n",
    "    get_video_action = partial(get_action, name=\"video_view\")\n",
    "    df[\"Video Average Play Time\"] = df[\"video_avg_time_watched_actions\"].apply(get_video_action)\n",
    "    df[\"Video Plays at 50%\"] = df[\"video_p50_watched_actions\"].apply(get_video_action)\n",
    "    df[\"Video Plays at 75%\"] = df[\"video_p75_watched_actions\"].apply(get_video_action)\n",
    "    df[\"Video Plays at 95%\"] = df[\"video_p95_watched_actions\"].apply(get_video_action)\n",
    "\n",
    "    df.drop(columns=[\"actions\", \"cost_per_action_type\", \"date_start\", \"date_stop\",\n",
    "                     \"video_avg_time_watched_actions\"] +\n",
    "            [f\"video_p{p}_watched_actions\" for p in [50,75,95]], inplace=True)\n",
    "    \n",
    "    dupes = add_country_total(df)\n",
    "    add_followers(df, date)\n",
    "    df = add_total(df)\n",
    "    to_round = [\"Cost Per Follow\", \"% (Impressions)\", \"CPC (Cost per Link Click)\"]\n",
    "    df[to_round] = df[to_round].round(2)\n",
    "    df.rename(columns={\"ad_name\": \"Ad Name\", \"clicks\": \"Clicks (All)\", \"cpc\": \"CPC (All)\",\n",
    "                   \"ctr\": \"CTR (All)\", \"cpm\": \"CPM (Cost per 1,000 Impressions)\",\n",
    "                   \"reach\": \"Reach\", \"impressions\": \"Impressions\", \"spend\": \"Amount Spent (USD)\"}, inplace=True)\n",
    "    return df[COLUMNS], date"
   ]
  },
  {
   "cell_type": "code",
   "execution_count": null,
   "metadata": {},
   "outputs": [
    {
     "name": "stderr",
     "output_type": "stream",
     "text": [
      "/usr/local/lib/python3.6/dist-packages/ipykernel_launcher.py:6: DeprecationWarning: The default dtype for empty Series will be 'object' instead of 'float64' in a future version. Specify a dtype explicitly to silence this warning.\n",
      "  \n"
     ]
    }
   ],
   "source": [
    "insights = get_insights()\n",
    "df, date = get_insights_df(insights)"
   ]
  },
  {
   "cell_type": "code",
   "execution_count": null,
   "metadata": {},
   "outputs": [],
   "source": [
    "add_stats = pd.Series(dtype=float)\n",
    "# ads_followers_gain = df.loc[\"total\", \"New Followers\"]\n",
    "ads_followers_gain = 50\n",
    "spent = df.loc[\"total\", \"Amount Spent (USD)\"]\n",
    "add_stats[\"Conversion Rate\"] = ads_followers_gain / df.loc[\"total\", \"Clicks (All)\"]\n",
    "add_stats[\"Cost of Follower Increase\"] = spent / ads_followers_gain"
   ]
  },
  {
   "cell_type": "code",
   "execution_count": null,
   "metadata": {},
   "outputs": [],
   "source": [
    "add_stats[\"New Followers\"] = get_new_followers()[1]\n",
    "add_stats[\"Random Followers\"] = add_stats[\"New Followers\"] - ads_followers_gain\n",
    "add_stats[\"Cost of New Follower\"] = spent / add_stats[\"New Followers\"]"
   ]
  },
  {
   "cell_type": "markdown",
   "metadata": {},
   "source": [
    "random followers + followers from ads - unfollowers = followers gain\n",
    "\n",
    "unfollowers = random followers + followers from ads - followers gain = new followers - followers gain\n",
    "\n",
    "random_followers = new followers - followers from ads"
   ]
  },
  {
   "cell_type": "code",
   "execution_count": null,
   "metadata": {},
   "outputs": [],
   "source": [
    "followers_gain = get_followers_change(datetime(2020, 8, 1, 0, 0)).sum().item()"
   ]
  },
  {
   "cell_type": "code",
   "execution_count": null,
   "metadata": {},
   "outputs": [],
   "source": [
    "add_stats[\"Unfollowers\"] = add_stats[\"New Followers\"] - followers_gain\n",
    "add_stats[\"Unconversion Rate\"] = add_stats[\"New Followers\"] / df.loc[\"total\", \"Clicks (All)\"]\n",
    "add_stats[\"Ads Followers Increase\"] = ads_followers_gain + add_stats[\"Random Followers\"] - add_stats[\"Unfollowers\"]\n",
    "add_stats[\"Real Followers Increase Cost\"] = spent / add_stats[\"Ads Followers Increase\"]"
   ]
  },
  {
   "cell_type": "code",
   "execution_count": null,
   "metadata": {},
   "outputs": [],
   "source": [
    "#export\n",
    "def more_stats(df: pd.DataFrame, date: datetime) -> pd.Series:\n",
    "    stats = pd.Series(dtype=float)\n",
    "    ads_followers_gain = df.loc[\"total\", \"New Followers\"]\n",
    "    spent = df.loc[\"total\", \"Amount Spent (USD)\"]\n",
    "    stats[\"Conversion Rate\"] = ads_followers_gain / df.loc[\"total\", \"Clicks (All)\"]\n",
    "    stats[\"Cost of Follower Increase\"] = spent / ads_followers_gain\n",
    "    stats[\"New Followers\"] = get_new_followers()[1]\n",
    "    stats[\"Random Followers\"] = stats[\"New Followers\"] - ads_followers_gain\n",
    "    stats[\"Cost of New Follower\"] = spent / stats[\"New Followers\"]\n",
    "\n",
    "    followers_gain = get_followers_change(date).sum().item()\n",
    "    stats[\"Unfollowers\"] = stats[\"New Followers\"] - followers_gain\n",
    "    stats[\"Unconversion Rate\"] = stats[\"New Followers\"] / df.loc[\"total\", \"Clicks (All)\"]\n",
    "    stats[\"Ads Followers Increase\"] = ads_followers_gain + stats[\"Random Followers\"] - stats[\"Unfollowers\"]\n",
    "    stats[\"Real Followers Increase Cost\"] = spent / stats[\"Ads Followers Increase\"]\n",
    "    return stats"
   ]
  },
  {
   "cell_type": "code",
   "execution_count": null,
   "metadata": {},
   "outputs": [],
   "source": [
    "#export\n",
    "\n",
    "def create_insights(event: Dict = None, context=None,) -> str:\n",
    "    insights = get_insights()\n",
    "    df, date = get_insights_df(insights)\n",
    "    worksheet_name = date.strftime(\"%b %d %Y\")\n",
    "    add_stats = more_stats(df, date)\n",
    "    empty = pd.Series(name=\"\", dtype=str)\n",
    "    df = df.append([empty, empty, empty])\n",
    "    write_df(df, f\"{worksheet_name}\")\n",
    "    write_series(add_stats, f\"{worksheet_name}\", loc=f\"A{len(df)}\")\n",
    "    return f\"Created insights in '{worksheet_name}'\""
   ]
  },
  {
   "cell_type": "code",
   "execution_count": null,
   "metadata": {},
   "outputs": [
    {
     "name": "stderr",
     "output_type": "stream",
     "text": [
      "/usr/local/lib/python3.6/dist-packages/ipykernel_launcher.py:6: DeprecationWarning: The default dtype for empty Series will be 'object' instead of 'float64' in a future version. Specify a dtype explicitly to silence this warning.\n",
      "  \n",
      "/usr/local/lib/python3.6/dist-packages/ipykernel_launcher.py:7: RuntimeWarning: divide by zero encountered in double_scalars\n",
      "  import sys\n",
      "/usr/local/lib/python3.6/dist-packages/ipykernel_launcher.py:16: RuntimeWarning: divide by zero encountered in double_scalars\n",
      "  app.launch_new_instance()\n"
     ]
    },
    {
     "data": {
      "application/vnd.google.colaboratory.intrinsic+json": {
       "type": "string"
      },
      "text/plain": [
       "\"Created insights in 'Aug 02 2020'\""
      ]
     },
     "execution_count": null,
     "metadata": {
      "tags": []
     },
     "output_type": "execute_result"
    }
   ],
   "source": [
    "create_insights()"
   ]
  },
  {
   "cell_type": "code",
   "execution_count": null,
   "metadata": {},
   "outputs": [],
   "source": [
    "## TODO estimate\\real\n",
    "## Fix unfollowers 30 min 70 min\n",
    "## relevance score 1\n",
    "## Match country:\n",
    "# Get country from API 1\n",
    "## Formatting 2\n"
   ]
  },
  {
   "cell_type": "code",
   "execution_count": null,
   "metadata": {},
   "outputs": [
    {
     "name": "stdout",
     "output_type": "stream",
     "text": [
      "Converted 00_core.ipynb.\n",
      "Converted 01_followers.ipynb.\n",
      "Converted 02_ads.ipynb.\n",
      "Converted index.ipynb.\n"
     ]
    }
   ],
   "source": [
    "#hide\n",
    "from nbdev.export import notebook2script\n",
    "notebook2script()"
   ]
  },
  {
   "cell_type": "code",
   "execution_count": null,
   "metadata": {},
   "outputs": [],
   "source": [
    ""
   ]
  }
 ],
 "metadata": {
  "kernelspec": {
   "display_name": "Python 3",
   "name": "python3"
  }
 },
 "nbformat": 4,
 "nbformat_minor": 0
}
