{
 "cells": [
  {
   "cell_type": "code",
   "execution_count": null,
   "metadata": {},
   "outputs": [],
   "source": [
    "# default_exp ads"
   ]
  },
  {
   "cell_type": "code",
   "execution_count": null,
   "metadata": {},
   "outputs": [],
   "source": [
    "%load_ext autoreload\n",
    "%autoreload 2"
   ]
  },
  {
   "cell_type": "code",
   "execution_count": null,
   "metadata": {},
   "outputs": [
    {
     "name": "stdout",
     "output_type": "stream",
     "text": [
      "\u001b[K     |████████████████████████████████| 61kB 2.6MB/s \n",
      "\u001b[K     |████████████████████████████████| 40kB 3.4MB/s \n",
      "\u001b[?25h"
     ]
    }
   ],
   "source": [
    "#hide\n",
    "!pip install -qU nbdev fastcore"
   ]
  },
  {
   "cell_type": "code",
   "execution_count": null,
   "metadata": {},
   "outputs": [
    {
     "name": "stdout",
     "output_type": "stream",
     "text": [
      "\u001b[K     |████████████████████████████████| 1.0MB 8.5MB/s \n",
      "\u001b[K     |████████████████████████████████| 51kB 5.9MB/s \n",
      "\u001b[K     |████████████████████████████████| 1.2MB 22.8MB/s \n",
      "\u001b[K     |████████████████████████████████| 10.1MB 15.2MB/s \n",
      "\u001b[K     |████████████████████████████████| 153kB 45.7MB/s \n",
      "\u001b[K     |████████████████████████████████| 266kB 45.8MB/s \n",
      "\u001b[?25h  Building wheel for curlify (setup.py) ... \u001b[?25l\u001b[?25hdone\n",
      "  Building wheel for pycountry (setup.py) ... \u001b[?25l\u001b[?25hdone\n",
      "  Building wheel for idna-ssl (setup.py) ... \u001b[?25l\u001b[?25hdone\n",
      "\u001b[31mERROR: responses 0.11.0 has requirement urllib3>=1.25.10, but you'll have urllib3 1.24.3 which is incompatible.\u001b[0m\n",
      "\u001b[31mERROR: python-facebook-api 0.7.1 has requirement requests<3.0.0,>=2.24.0, but you'll have requests 2.23.0 which is incompatible.\u001b[0m\n"
     ]
    }
   ],
   "source": [
    "#hide\n",
    "!pip install -qU gspread facebook_business python-facebook-api"
   ]
  },
  {
   "cell_type": "code",
   "execution_count": null,
   "metadata": {},
   "outputs": [
    {
     "name": "stdout",
     "output_type": "stream",
     "text": [
      "/content/drive/My Drive/upwork/Martin followers/tomorrowswig_followers\n"
     ]
    }
   ],
   "source": [
    "#hide\n",
    "from pathlib import Path\n",
    "path = Path(\"/content/drive/My Drive/upwork/Martin followers/tomorrowswig_followers\")\n",
    "%cd \"{path}\""
   ]
  },
  {
   "cell_type": "code",
   "execution_count": null,
   "metadata": {},
   "outputs": [],
   "source": [
    "#hide\n",
    "from nbdev import * \n",
    "from nbdev.showdoc import *\n",
    "from fastcore.test import *"
   ]
  },
  {
   "cell_type": "markdown",
   "metadata": {},
   "source": [
    "## Facebook Auth"
   ]
  },
  {
   "cell_type": "code",
   "execution_count": null,
   "metadata": {},
   "outputs": [],
   "source": [
    "%%capture\n",
    "#hide\n",
    "\n",
    "import yaml\n",
    "with open(\"facebook_creds.yml\") as f:\n",
    "    data = yaml.safe_load(f)\n",
    "    %env APP_ID {data.get(\"APP_ID\")}\n",
    "    %env APP_SECRET {data.get(\"APP_SECRET\")}\n",
    "    %env TOKEN {data.get(\"TOKEN\")}\n",
    "    %env AD_ACC_ID {data.get(\"AD_ACC_ID\")}\n",
    "    %env USER_ID {data.get(\"USER_ID\")}"
   ]
  },
  {
   "cell_type": "code",
   "execution_count": null,
   "metadata": {},
   "outputs": [],
   "source": [
    "#export\n",
    "from tomorrowswig_followers.core import *"
   ]
  },
  {
   "cell_type": "code",
   "execution_count": null,
   "metadata": {},
   "outputs": [],
   "source": [
    "#export\n",
    "import os\n",
    "from typing import *\n",
    "\n",
    "from datetime import datetime, timedelta\n",
    "from functools import partial\n",
    "\n",
    "import pandas as pd\n",
    "import numpy as np\n",
    "from facebook_business.api import FacebookAdsApi\n",
    "from facebook_business.adobjects.ad import Ad\n",
    "from facebook_business.adobjects.adset import AdSet\n",
    "from facebook_business.adobjects.adaccount import AdAccount\n",
    "\n",
    "AD_ACC_ID = os.environ.get(\"AD_ACC_ID\")"
   ]
  },
  {
   "cell_type": "code",
   "execution_count": null,
   "metadata": {},
   "outputs": [],
   "source": [
    "APP_ID = os.environ.get(\"APP_ID\")\n",
    "APP_SECRET = os.environ.get(\"APP_SECRET\")\n",
    "TOKEN = os.environ.get(\"TOKEN\")\n",
    "USER_ID = os.environ.get(\"USER_ID\")"
   ]
  },
  {
   "cell_type": "markdown",
   "metadata": {},
   "source": [
    "## Ads reporting"
   ]
  },
  {
   "cell_type": "code",
   "execution_count": null,
   "metadata": {},
   "outputs": [],
   "source": [
    "#export\n",
    "FacebookAdsApi.init(APP_ID, APP_SECRET, TOKEN)\n",
    "account = AdAccount(AD_ACC_ID)"
   ]
  },
  {
   "cell_type": "code",
   "execution_count": null,
   "metadata": {},
   "outputs": [],
   "source": [
    "#export\n",
    "get_active_ads = account.get_ad_sets(fields=[\"status\", \"name\"], params = {\n",
    "  'effective_status': ['ACTIVE'], \"is_completed\": False,\n",
    "})"
   ]
  },
  {
   "cell_type": "code",
   "execution_count": null,
   "metadata": {},
   "outputs": [
    {
     "data": {
      "text/plain": [
       "[<Campaign> {\n",
       "    \"effective_status\": \"ACTIVE\",\n",
       "    \"id\": \"23843360723580691\",\n",
       "    \"name\": \"Tier 1\",\n",
       "    \"status\": \"ACTIVE\"\n",
       "}, <Campaign> {\n",
       "    \"effective_status\": \"ACTIVE\",\n",
       "    \"id\": \"23843352226780691\",\n",
       "    \"name\": \"Tier 2\",\n",
       "    \"status\": \"ACTIVE\"\n",
       "}, <Campaign> {\n",
       "    \"effective_status\": \"ACTIVE\",\n",
       "    \"id\": \"23843321133490691\",\n",
       "    \"name\": \"Tier 3\",\n",
       "    \"status\": \"ACTIVE\"\n",
       "}]"
      ]
     },
     "execution_count": null,
     "metadata": {
      "tags": []
     },
     "output_type": "execute_result"
    }
   ],
   "source": [
    "account.get_campaigns(fields=[\"status\", \"effective_status\", \"name\",], params = {\n",
    "  'effective_status': ['ACTIVE'], \"is_completed\": False,\n",
    "})"
   ]
  },
  {
   "cell_type": "code",
   "execution_count": null,
   "metadata": {},
   "outputs": [
    {
     "data": {
      "text/plain": [
       "[<AdSet> {\n",
       "    \"effective_status\": \"PAUSED\",\n",
       "    \"id\": \"23845059228880691\",\n",
       "    \"name\": \"1 - USA - Sunday Late Night\",\n",
       "    \"status\": \"PAUSED\"\n",
       "}, <AdSet> {\n",
       "    \"effective_status\": \"ACTIVE\",\n",
       "    \"id\": \"23844751493860691\",\n",
       "    \"name\": \"2 - South Korea - Lifetime Budget\",\n",
       "    \"status\": \"ACTIVE\"\n",
       "}, <AdSet> {\n",
       "    \"effective_status\": \"ACTIVE\",\n",
       "    \"id\": \"23844708658450691\",\n",
       "    \"name\": \"2 - Germany - Lifetime Budget\",\n",
       "    \"status\": \"ACTIVE\"\n",
       "}, <AdSet> {\n",
       "    \"effective_status\": \"ACTIVE\",\n",
       "    \"id\": \"23844704027900691\",\n",
       "    \"name\": \"2 - Singapore - Lifetime Budget\",\n",
       "    \"status\": \"ACTIVE\"\n",
       "}, <AdSet> {\n",
       "    \"effective_status\": \"PAUSED\",\n",
       "    \"id\": \"23844223938640691\",\n",
       "    \"name\": \"3 - Argentina - Lifetime Budget\",\n",
       "    \"status\": \"PAUSED\"\n",
       "}, <AdSet> {\n",
       "    \"effective_status\": \"PAUSED\",\n",
       "    \"id\": \"23844212568240691\",\n",
       "    \"name\": \"3 - Chile - Data Gathering Group - Reading NEW Feed\",\n",
       "    \"status\": \"PAUSED\"\n",
       "}, <AdSet> {\n",
       "    \"effective_status\": \"ACTIVE\",\n",
       "    \"id\": \"23844186760760691\",\n",
       "    \"name\": \"2 - Netherlands\",\n",
       "    \"status\": \"ACTIVE\"\n",
       "}, <AdSet> {\n",
       "    \"effective_status\": \"ACTIVE\",\n",
       "    \"id\": \"23844128955750691\",\n",
       "    \"name\": \"3 - Indonesia - Lifetime Budget\",\n",
       "    \"status\": \"ACTIVE\"\n",
       "}, <AdSet> {\n",
       "    \"effective_status\": \"PAUSED\",\n",
       "    \"id\": \"23844104702670691\",\n",
       "    \"name\": \"3 - Brazil - Stories (Scheduled)\",\n",
       "    \"status\": \"PAUSED\"\n",
       "}, <AdSet> {\n",
       "    \"effective_status\": \"ACTIVE\",\n",
       "    \"id\": \"23844073940000691\",\n",
       "    \"name\": \"2 - Italy - Scheduled\",\n",
       "    \"status\": \"ACTIVE\"\n",
       "}, <AdSet> {\n",
       "    \"effective_status\": \"ACTIVE\",\n",
       "    \"id\": \"23844073595490691\",\n",
       "    \"name\": \"1 - Australia - Lifetime Budget\",\n",
       "    \"status\": \"ACTIVE\"\n",
       "}, <AdSet> {\n",
       "    \"effective_status\": \"ACTIVE\",\n",
       "    \"id\": \"23844064339070691\",\n",
       "    \"name\": \"1 - Canada - Lifetime Budget\",\n",
       "    \"status\": \"ACTIVE\"\n",
       "}, <AdSet> {\n",
       "    \"effective_status\": \"ACTIVE\",\n",
       "    \"id\": \"23844063827180691\",\n",
       "    \"learning_stage_info\": {\n",
       "        \"attribution_windows\": [\n",
       "            \"1d_click\"\n",
       "        ],\n",
       "        \"conversions\": 0,\n",
       "        \"last_sig_edit_ts\": 1600181223,\n",
       "        \"status\": \"LEARNING\"\n",
       "    },\n",
       "    \"name\": \"2 - Mexico - Lifetime Budget\",\n",
       "    \"status\": \"ACTIVE\"\n",
       "}, <AdSet> {\n",
       "    \"effective_status\": \"ACTIVE\",\n",
       "    \"id\": \"23844059512210691\",\n",
       "    \"name\": \"3 - Philippines\",\n",
       "    \"status\": \"ACTIVE\"\n",
       "}, <AdSet> {\n",
       "    \"effective_status\": \"PAUSED\",\n",
       "    \"id\": \"23844059501280691\",\n",
       "    \"name\": \"3 - Brasil - Feed 4:5\",\n",
       "    \"status\": \"PAUSED\"\n",
       "}, <AdSet> {\n",
       "    \"effective_status\": \"ACTIVE\",\n",
       "    \"id\": \"23844059423280691\",\n",
       "    \"name\": \"1 - UK - Lifetime Budget\",\n",
       "    \"status\": \"ACTIVE\"\n",
       "}, <AdSet> {\n",
       "    \"effective_status\": \"ACTIVE\",\n",
       "    \"id\": \"23844052310820691\",\n",
       "    \"name\": \"1 - USA - Lifetime Budget\",\n",
       "    \"status\": \"ACTIVE\"\n",
       "}, <AdSet> {\n",
       "    \"effective_status\": \"PAUSED\",\n",
       "    \"id\": \"23844045050820691\",\n",
       "    \"name\": \"1 - UK - Stories - Scheduled\",\n",
       "    \"status\": \"PAUSED\"\n",
       "}, <AdSet> {\n",
       "    \"effective_status\": \"PAUSED\",\n",
       "    \"id\": \"23844045028390691\",\n",
       "    \"name\": \"1 - USA - Feed (1:1)\",\n",
       "    \"status\": \"PAUSED\"\n",
       "}, <AdSet> {\n",
       "    \"effective_status\": \"PAUSED\",\n",
       "    \"id\": \"23844034469850691\",\n",
       "    \"name\": \"1 - NYC - Cupcake HV - (Stories)\",\n",
       "    \"status\": \"PAUSED\"\n",
       "}, <AdSet> {\n",
       "    \"effective_status\": \"PAUSED\",\n",
       "    \"id\": \"23844034463980691\",\n",
       "    \"name\": \"1 - NYC - All Saints HV - (Stories)\",\n",
       "    \"status\": \"PAUSED\"\n",
       "}, <AdSet> {\n",
       "    \"effective_status\": \"PAUSED\",\n",
       "    \"id\": \"23844034461830691\",\n",
       "    \"name\": \"1 - NYC - Hunger HV - (Stories)\",\n",
       "    \"status\": \"PAUSED\"\n",
       "}, <AdSet> {\n",
       "    \"effective_status\": \"PAUSED\",\n",
       "    \"id\": \"23844034410690691\",\n",
       "    \"name\": \"1 - USA - Surrender HV - (Stories)\",\n",
       "    \"status\": \"PAUSED\"\n",
       "}, <AdSet> {\n",
       "    \"effective_status\": \"PAUSED\",\n",
       "    \"id\": \"23844034406850691\",\n",
       "    \"name\": \"1 - USA - Invited HV - (Stories)\",\n",
       "    \"status\": \"PAUSED\"\n",
       "}, <AdSet> {\n",
       "    \"effective_status\": \"PAUSED\",\n",
       "    \"id\": \"23844034401190691\",\n",
       "    \"name\": \"1 - USA - Fetch HV - (Stories)\",\n",
       "    \"status\": \"PAUSED\"\n",
       "}]"
      ]
     },
     "execution_count": null,
     "metadata": {
      "tags": []
     },
     "output_type": "execute_result"
    }
   ],
   "source": [
    "account.get_ad_sets(fields=[\"status\", \"effective_status\", \"name\", \"learning_stage_info\"], )"
   ]
  },
  {
   "cell_type": "code",
   "execution_count": null,
   "metadata": {},
   "outputs": [
    {
     "data": {
      "text/plain": [
       "datetime.datetime(2020, 7, 28, 14, 31, 58)"
      ]
     },
     "execution_count": null,
     "metadata": {
      "tags": []
     },
     "output_type": "execute_result"
    }
   ],
   "source": [
    "datetime.fromtimestamp(1595946718)"
   ]
  },
  {
   "cell_type": "code",
   "execution_count": null,
   "metadata": {},
   "outputs": [
    {
     "data": {
      "text/plain": [
       "'1597103940'"
      ]
     },
     "execution_count": null,
     "metadata": {
      "tags": []
     },
     "output_type": "execute_result"
    }
   ],
   "source": [
    "datetime(2020,8,10,23,59).strftime('%s')"
   ]
  },
  {
   "cell_type": "markdown",
   "metadata": {},
   "source": [
    "https://github.com/facebook/facebook-python-business-sdk/blob/master/facebook_business/adobjects/adsinsights.py"
   ]
  },
  {
   "cell_type": "code",
   "execution_count": null,
   "metadata": {},
   "outputs": [],
   "source": [
    "insights = account.get_insights(fields=[\n",
    "    \"ad_id\",\n",
    "    \"adset_id\",\n",
    "    \"ad_name\",\n",
    "    \"clicks\",\n",
    "    \"cpc\",\n",
    "    \"ctr\",\n",
    "    \"cpm\",\n",
    "    \"cost_per_action_type\",\n",
    "    \"spend\",\n",
    "    \"impressions\",\n",
    "    \"reach\",\n",
    "    \"actions\",\n",
    "    \"video_avg_time_watched_actions\",\n",
    "    \"video_p50_watched_actions\",\n",
    "    \"video_p75_watched_actions\",\n",
    "    \"video_p95_watched_actions\",\n",
    "\n",
    "], params={\n",
    "    'level': \"ad\",\n",
    "    'date_preset': \"yesterday\",\n",
    "    # \"date_start\": \"1595116800\",\n",
    "    # \"date_stop\": \"1595203200\"\n",
    "})\n"
   ]
  },
  {
   "cell_type": "code",
   "execution_count": null,
   "metadata": {},
   "outputs": [],
   "source": [
    "from facebook_business.adobjects.adsinsights import *\n",
    "fields = [f for f in AdsInsights.Field.__dict__ if not f.startswith(\"__\")]"
   ]
  },
  {
   "cell_type": "code",
   "execution_count": null,
   "metadata": {},
   "outputs": [
    {
     "data": {
      "text/plain": [
       "'cost_per_unique_conversion unique_conversions'"
      ]
     },
     "execution_count": null,
     "metadata": {
      "tags": []
     },
     "output_type": "execute_result"
    }
   ],
   "source": [
    "\" \".join([fields[56], fields[105]])"
   ]
  },
  {
   "cell_type": "code",
   "execution_count": null,
   "metadata": {},
   "outputs": [],
   "source": [
    "# account.get_insights(fields=[\"ad_id\", \"quality_ranking\", \"engagement_rate_ranking\",\n",
    "#                              \"conversion_rate_ranking\", \"ad_name\"], params={\n",
    "#     'level': AdsInsights.Level.ad,\n",
    "#     'date_preset': AdsInsights.DatePreset.yesterday,\n",
    "# })"
   ]
  },
  {
   "cell_type": "code",
   "execution_count": null,
   "metadata": {},
   "outputs": [],
   "source": [
    "# account.get_insights(fields=fields[:56] + fields[57:105] + fields[106:], params={\n",
    "#     'level': AdsInsights.Level.ad,\n",
    "#     'date_preset': AdsInsights.DatePreset.last_3d,\n",
    "# })[2]"
   ]
  },
  {
   "cell_type": "code",
   "execution_count": null,
   "metadata": {},
   "outputs": [],
   "source": [
    "#export\n",
    "COLUMNS = [\"Ad Name\", \"Ads Followers Change\", \"% (Clicks)\", \"% (Impressions)\", \"Cost Per Follow\", \"Delivery Type\",\n",
    "           \"Clicks (All)\", \"Link Clicks\", \"CPC (All)\" , \"CPC (Cost per Link Click)\",\n",
    "           \"CTR (All)\", \"CPM (Cost per 1,000 Impressions)\", \"Amount Spent (USD)\", \"Impressions\", \"Reach\", \"Post Reactions\", \"Post Shares\",\n",
    "           \"Video Average Play Time\", \"Video Plays at 50%\", \"Video Plays at 75%\", \"Video Plays at 95%\"]"
   ]
  },
  {
   "cell_type": "code",
   "execution_count": null,
   "metadata": {},
   "outputs": [],
   "source": [
    "#export\n",
    "def get_insights(date: str) -> Dict:\n",
    "    return account.get_insights(fields=[\n",
    "        \"ad_id\",\n",
    "        \"adset_id\",\n",
    "        \"ad_name\",\n",
    "        \"clicks\",\n",
    "        \"cpc\",\n",
    "        \"ctr\",\n",
    "        \"cpm\",\n",
    "        \"cost_per_action_type\",\n",
    "        \"spend\",\n",
    "        \"impressions\",\n",
    "        \"reach\",\n",
    "        \"actions\",\n",
    "        \"video_avg_time_watched_actions\",\n",
    "        \"video_p50_watched_actions\",\n",
    "        \"video_p75_watched_actions\",\n",
    "        \"video_p95_watched_actions\",\n",
    "    ], params={\n",
    "        \"level\": \"ad\",\n",
    "        \"time_range\": {\"since\": date,\n",
    "                       \"until\": date},\n",
    "    })"
   ]
  },
  {
   "cell_type": "code",
   "execution_count": null,
   "metadata": {},
   "outputs": [],
   "source": [
    "#export\n",
    "def get_action(cell, name):\n",
    "    action = [a for a in cell if a[\"action_type\"] == name]\n",
    "    if action:\n",
    "        return float(action[0][\"value\"])\n",
    "    return 0"
   ]
  },
  {
   "cell_type": "code",
   "execution_count": null,
   "metadata": {},
   "outputs": [],
   "source": [
    "#export\n",
    "def add_country_total(df: pd.DataFrame) -> Tuple[pd.DataFrame, str]:\n",
    "    dupes = df[df.index.duplicated(False)]\n",
    "    if not len(dupes):\n",
    "        return\n",
    "\n",
    "    to_mean = [\"cpc\", \"cpm\", \"ctr\", \"CPC (Cost per Link Click)\"]\n",
    "    to_sum = set(df.columns).difference(set(to_mean + [\"ad_name\", \"Delivery Type\"]))\n",
    "    total = dupes.iloc[0,:].copy()\n",
    "    index = dupes.index[0]\n",
    "    total[\"ad_name\"] = f\"{index} total\"\n",
    "    total[to_mean] = dupes[to_mean].apply(np.mean)\n",
    "    total[to_sum] = dupes[to_sum].astype(int).apply(sum)\n",
    "    return df.append(total), index"
   ]
  },
  {
   "cell_type": "code",
   "execution_count": null,
   "metadata": {},
   "outputs": [],
   "source": [
    "ad = Ad(\"23844751184140691\")"
   ]
  },
  {
   "cell_type": "code",
   "execution_count": null,
   "metadata": {},
   "outputs": [
    {
     "data": {
      "text/plain": [
       "'MX'"
      ]
     },
     "execution_count": null,
     "metadata": {
      "tags": []
     },
     "output_type": "execute_result"
    }
   ],
   "source": [
    "ad = ad.api_get(fields=[\"targeting\"])\n",
    "ad[\"targeting\"][\"geo_locations\"][\"countries\"][0]"
   ]
  },
  {
   "cell_type": "code",
   "execution_count": null,
   "metadata": {},
   "outputs": [
    {
     "data": {
      "text/plain": [
       "<AdSet> {\n",
       "    \"id\": \"23844063827180691\",\n",
       "    \"learning_stage_info\": {\n",
       "        \"attribution_windows\": [\n",
       "            \"1d_click\"\n",
       "        ],\n",
       "        \"conversions\": 0,\n",
       "        \"last_sig_edit_ts\": 1600181223,\n",
       "        \"status\": \"LEARNING\"\n",
       "    },\n",
       "    \"status\": \"ACTIVE\"\n",
       "}"
      ]
     },
     "execution_count": null,
     "metadata": {
      "tags": []
     },
     "output_type": "execute_result"
    }
   ],
   "source": [
    "AdSet(\"23844063827180691\").api_get(fields=[\"learning_stage_info\", \"status\"])"
   ]
  },
  {
   "cell_type": "code",
   "execution_count": null,
   "metadata": {},
   "outputs": [],
   "source": [
    "#export\n",
    "def get_delivery(ids: List[str]) -> List[Dict]:\n",
    "    deliveries = []\n",
    "    for id in ids:\n",
    "        adset = AdSet(id[0]).api_get(fields=[\"learning_stage_info\", \"status\"])\n",
    "        delivery = adset.get(\"learning_stage_info\")\n",
    "        if delivery:\n",
    "            delivery = delivery.get(\"status\")\n",
    "        else:\n",
    "            delivery = adset.get(\"status\")\n",
    "        deliveries.append({\"ad_id\": id[1], \"adset_id\": id[0], \"Delivery Type\": delivery})\n",
    "    return deliveries"
   ]
  },
  {
   "cell_type": "code",
   "execution_count": null,
   "metadata": {},
   "outputs": [
    {
     "data": {
      "text/plain": [
       "[{'Delivery Type': 'ACTIVE',\n",
       "  'ad_id': '23844703941280691',\n",
       "  'adset_id': '23844128955750691'},\n",
       " {'Delivery Type': 'PAUSED',\n",
       "  'ad_id': '23844703855040691',\n",
       "  'adset_id': '23844223938640691'},\n",
       " {'Delivery Type': 'LEARNING',\n",
       "  'ad_id': '23844751253080691',\n",
       "  'adset_id': '23844063827180691'}]"
      ]
     },
     "execution_count": null,
     "metadata": {
      "tags": []
     },
     "output_type": "execute_result"
    }
   ],
   "source": [
    "get_delivery([[\"23844128955750691\", \"23844703941280691\"], [\"23844223938640691\",\"23844703855040691\"], [\"23844063827180691\", \"23844751253080691\"]])"
   ]
  },
  {
   "cell_type": "code",
   "execution_count": null,
   "metadata": {},
   "outputs": [],
   "source": [
    "assert get_delivery([[\"23844128955750691\", \"23844703941280691\"],\n",
    "                     [\"23844223938640691\",\"23844703855040691\"],\n",
    "                     [\"23844063827180691\", \"23844751253080691\"]]) == [{'Delivery Type': 'ACTIVE',\n",
    "                                                                       'ad_id': '23844703941280691',\n",
    "                                                                       'adset_id': '23844128955750691'},\n",
    "                                                                      {'Delivery Type': 'PAUSED',\n",
    "                                                                       'ad_id': '23844703855040691',\n",
    "                                                                       'adset_id': '23844223938640691'},\n",
    "                                                                      {'Delivery Type': 'LEARNING',\n",
    "                                                                       'ad_id': '23844751253080691',\n",
    "                                                                       'adset_id': '23844063827180691'}]"
   ]
  },
  {
   "cell_type": "code",
   "execution_count": null,
   "metadata": {},
   "outputs": [],
   "source": [
    "# Ad.Field.__dict__.keys()"
   ]
  },
  {
   "cell_type": "code",
   "execution_count": null,
   "metadata": {},
   "outputs": [],
   "source": [
    "#export\n",
    "def get_countries(ids: List[str]) -> List[Dict]:\n",
    "    countries = []\n",
    "    for id in ids:\n",
    "        ad = Ad(id).api_get(fields=[\"targeting\"])\n",
    "        country = ad[\"targeting\"][\"geo_locations\"][\"countries\"][0]\n",
    "        countries.append({\"ad_id\": id, \"country\": country})\n",
    "    return countries"
   ]
  },
  {
   "cell_type": "code",
   "execution_count": null,
   "metadata": {},
   "outputs": [],
   "source": [
    "assert get_countries([\"23844695610150691\", \"23844698190420691\"]) == [{'ad_id': '23844695610150691', 'country': 'CA'},\n",
    "                                                                     {'ad_id': '23844698190420691', 'country': 'US'}]"
   ]
  },
  {
   "cell_type": "code",
   "execution_count": null,
   "metadata": {},
   "outputs": [],
   "source": [
    "df = pd.DataFrame(get_insights(\"2020-06-10\"))\n",
    "floats = [\"cpc\", \"cpm\", \"ctr\", \"spend\"]\n",
    "df[floats] = df[floats].astype(float)\n",
    "ints = [\"clicks\", \"impressions\", \"reach\"]\n",
    "df[ints] = df[ints].astype(int)\n",
    "\n",
    "df = df.merge(pd.DataFrame(get_countries(df[\"ad_id\"].values)))"
   ]
  },
  {
   "cell_type": "code",
   "execution_count": null,
   "metadata": {},
   "outputs": [
    {
     "data": {
      "text/html": [
       "<div>\n",
       "<style scoped>\n",
       "    .dataframe tbody tr th:only-of-type {\n",
       "        vertical-align: middle;\n",
       "    }\n",
       "\n",
       "    .dataframe tbody tr th {\n",
       "        vertical-align: top;\n",
       "    }\n",
       "\n",
       "    .dataframe thead th {\n",
       "        text-align: right;\n",
       "    }\n",
       "</style>\n",
       "<table border=\"1\" class=\"dataframe\">\n",
       "  <thead>\n",
       "    <tr style=\"text-align: right;\">\n",
       "      <th></th>\n",
       "      <th>actions</th>\n",
       "      <th>ad_id</th>\n",
       "      <th>ad_name</th>\n",
       "      <th>adset_id</th>\n",
       "      <th>clicks</th>\n",
       "      <th>cost_per_action_type</th>\n",
       "      <th>cpc</th>\n",
       "      <th>cpm</th>\n",
       "      <th>ctr</th>\n",
       "      <th>date_start</th>\n",
       "      <th>date_stop</th>\n",
       "      <th>impressions</th>\n",
       "      <th>reach</th>\n",
       "      <th>spend</th>\n",
       "      <th>video_avg_time_watched_actions</th>\n",
       "      <th>video_p50_watched_actions</th>\n",
       "      <th>video_p75_watched_actions</th>\n",
       "      <th>video_p95_watched_actions</th>\n",
       "      <th>country</th>\n",
       "      <th>Delivery Type</th>\n",
       "    </tr>\n",
       "  </thead>\n",
       "  <tbody>\n",
       "    <tr>\n",
       "      <th>0</th>\n",
       "      <td>[{'action_type': 'video_view', 'value': '960'}...</td>\n",
       "      <td>23844703855040691</td>\n",
       "      <td>3 - Argentina - General 2-D</td>\n",
       "      <td>23844223938640691</td>\n",
       "      <td>37</td>\n",
       "      <td>[{'action_type': 'video_view', 'value': '0.002...</td>\n",
       "      <td>0.054865</td>\n",
       "      <td>0.278425</td>\n",
       "      <td>0.507475</td>\n",
       "      <td>2020-06-10</td>\n",
       "      <td>2020-06-10</td>\n",
       "      <td>7291</td>\n",
       "      <td>7230</td>\n",
       "      <td>2.03</td>\n",
       "      <td>[{'action_type': 'video_view', 'value': '2'}]</td>\n",
       "      <td>[{'action_type': 'video_view', 'value': '1435'}]</td>\n",
       "      <td>[{'action_type': 'video_view', 'value': '300'}]</td>\n",
       "      <td>[{'action_type': 'video_view', 'value': '192'}]</td>\n",
       "      <td>AR</td>\n",
       "      <td>PAUSED</td>\n",
       "    </tr>\n",
       "    <tr>\n",
       "      <th>1</th>\n",
       "      <td>[{'action_type': 'video_view', 'value': '1880'...</td>\n",
       "      <td>23844703941280691</td>\n",
       "      <td>3 - Indonesia - General Ad 2-D</td>\n",
       "      <td>23844128955750691</td>\n",
       "      <td>139</td>\n",
       "      <td>[{'action_type': 'video_view', 'value': '0.001...</td>\n",
       "      <td>0.018705</td>\n",
       "      <td>0.216992</td>\n",
       "      <td>1.160073</td>\n",
       "      <td>2020-06-10</td>\n",
       "      <td>2020-06-10</td>\n",
       "      <td>11982</td>\n",
       "      <td>11972</td>\n",
       "      <td>2.60</td>\n",
       "      <td>[{'action_type': 'video_view', 'value': '2'}]</td>\n",
       "      <td>[{'action_type': 'video_view', 'value': '2289'}]</td>\n",
       "      <td>[{'action_type': 'video_view', 'value': '693'}]</td>\n",
       "      <td>[{'action_type': 'video_view', 'value': '442'}]</td>\n",
       "      <td>ID</td>\n",
       "      <td>ACTIVE</td>\n",
       "    </tr>\n",
       "    <tr>\n",
       "      <th>2</th>\n",
       "      <td>[{'action_type': 'video_view', 'value': '206'}...</td>\n",
       "      <td>23844751184140691</td>\n",
       "      <td>2 - Mexico - General Ad #2-D</td>\n",
       "      <td>23844063827180691</td>\n",
       "      <td>17</td>\n",
       "      <td>[{'action_type': 'video_view', 'value': '0.003...</td>\n",
       "      <td>0.038235</td>\n",
       "      <td>0.527597</td>\n",
       "      <td>1.379870</td>\n",
       "      <td>2020-06-10</td>\n",
       "      <td>2020-06-10</td>\n",
       "      <td>1232</td>\n",
       "      <td>1232</td>\n",
       "      <td>0.65</td>\n",
       "      <td>[{'action_type': 'video_view', 'value': '2'}]</td>\n",
       "      <td>[{'action_type': 'video_view', 'value': '252'}]</td>\n",
       "      <td>[{'action_type': 'video_view', 'value': '64'}]</td>\n",
       "      <td>[{'action_type': 'video_view', 'value': '35'}]</td>\n",
       "      <td>MX</td>\n",
       "      <td>LEARNING</td>\n",
       "    </tr>\n",
       "    <tr>\n",
       "      <th>3</th>\n",
       "      <td>[{'action_type': 'video_view', 'value': '354'}...</td>\n",
       "      <td>23844751253080691</td>\n",
       "      <td>2 - Mexico - General Ad 2-I</td>\n",
       "      <td>23844063827180691</td>\n",
       "      <td>30</td>\n",
       "      <td>[{'action_type': 'video_view', 'value': '0.003...</td>\n",
       "      <td>0.035667</td>\n",
       "      <td>0.377425</td>\n",
       "      <td>1.058201</td>\n",
       "      <td>2020-06-10</td>\n",
       "      <td>2020-06-10</td>\n",
       "      <td>2835</td>\n",
       "      <td>2829</td>\n",
       "      <td>1.07</td>\n",
       "      <td>[{'action_type': 'video_view', 'value': '2'}]</td>\n",
       "      <td>[{'action_type': 'video_view', 'value': '570'}]</td>\n",
       "      <td>[{'action_type': 'video_view', 'value': '103'}]</td>\n",
       "      <td>[{'action_type': 'video_view', 'value': '71'}]</td>\n",
       "      <td>MX</td>\n",
       "      <td>LEARNING</td>\n",
       "    </tr>\n",
       "  </tbody>\n",
       "</table>\n",
       "</div>"
      ],
      "text/plain": [
       "                                             actions  ... Delivery Type\n",
       "0  [{'action_type': 'video_view', 'value': '960'}...  ...        PAUSED\n",
       "1  [{'action_type': 'video_view', 'value': '1880'...  ...        ACTIVE\n",
       "2  [{'action_type': 'video_view', 'value': '206'}...  ...      LEARNING\n",
       "3  [{'action_type': 'video_view', 'value': '354'}...  ...      LEARNING\n",
       "\n",
       "[4 rows x 20 columns]"
      ]
     },
     "execution_count": null,
     "metadata": {
      "tags": []
     },
     "output_type": "execute_result"
    }
   ],
   "source": [
    "df.merge(pd.DataFrame(get_delivery(df[[\"adset_id\", \"ad_id\"]].values)))"
   ]
  },
  {
   "cell_type": "code",
   "execution_count": null,
   "metadata": {},
   "outputs": [],
   "source": [
    "def create_first_part(date:str):\n",
    "    df = pd.DataFrame(get_insights(date))\n",
    "    floats = [\"cpc\", \"cpm\", \"ctr\", \"spend\"]\n",
    "    df[floats] = df[floats].astype(float)\n",
    "    ints = [\"clicks\", \"impressions\", \"reach\"]\n",
    "    df[ints] = df[ints].astype(int)\n",
    "\n",
    "    df = df.merge(pd.DataFrame(get_countries(df[\"ad_id\"].values)))\n",
    "    df = df.merge(pd.DataFrame(get_delivery(df[[\"adset_id\", \"ad_id\"]].values)))\n",
    "    df.set_index(df[\"country\"], inplace=True)\n",
    "    df.sort_values(\"ad_name\", inplace=True)\n",
    "\n",
    "    date = datetime.strptime(df[\"date_start\"].values[0], \"%Y-%m-%d\")\n",
    "\n",
    "    df[\"Post Reactions\"] = df[\"actions\"].apply(partial(get_action, name=\"post_reaction\"))\n",
    "    df[\"Post Shares\"] = df[\"actions\"].apply(partial(get_action, name=\"post\"))\n",
    "    df[\"Link Clicks\"] = df[\"actions\"].apply(partial(get_action, name=\"link_click\"))\n",
    "    df[\"CPC (Cost per Link Click)\"] = df[\"cost_per_action_type\"].apply(partial(get_action, name=\"link_click\"))\n",
    "    get_video_action = partial(get_action, name=\"video_view\")\n",
    "    df[\"Video Average Play Time\"] = df[\"video_avg_time_watched_actions\"].apply(get_video_action)\n",
    "    df[\"Video Plays at 50%\"] = df[\"video_p50_watched_actions\"].apply(get_video_action)\n",
    "    df[\"Video Plays at 75%\"] = df[\"video_p75_watched_actions\"].apply(get_video_action)\n",
    "    df[\"Video Plays at 95%\"] = df[\"video_p95_watched_actions\"].apply(get_video_action)\n",
    "\n",
    "    df.drop(columns=[\"actions\", \"cost_per_action_type\", \"date_start\", \"date_stop\",\n",
    "                     \"video_avg_time_watched_actions\", \"ad_id\", \"adset_id\", \"country\"] +\n",
    "            [f\"video_p{p}_watched_actions\" for p in [50,75,95]], inplace=True)\n",
    "    \n",
    "    dupes = add_country_total(df)\n",
    "    return df.round(2)"
   ]
  },
  {
   "cell_type": "code",
   "execution_count": null,
   "metadata": {},
   "outputs": [],
   "source": [
    "df = create_first_part(\"2020-06-10\")"
   ]
  },
  {
   "cell_type": "code",
   "execution_count": null,
   "metadata": {},
   "outputs": [
    {
     "data": {
      "text/html": [
       "<div>\n",
       "<style scoped>\n",
       "    .dataframe tbody tr th:only-of-type {\n",
       "        vertical-align: middle;\n",
       "    }\n",
       "\n",
       "    .dataframe tbody tr th {\n",
       "        vertical-align: top;\n",
       "    }\n",
       "\n",
       "    .dataframe thead th {\n",
       "        text-align: right;\n",
       "    }\n",
       "</style>\n",
       "<table border=\"1\" class=\"dataframe\">\n",
       "  <thead>\n",
       "    <tr style=\"text-align: right;\">\n",
       "      <th></th>\n",
       "      <th>ad_name</th>\n",
       "      <th>clicks</th>\n",
       "      <th>cpc</th>\n",
       "      <th>cpm</th>\n",
       "      <th>ctr</th>\n",
       "      <th>impressions</th>\n",
       "      <th>reach</th>\n",
       "      <th>spend</th>\n",
       "      <th>Delivery Type</th>\n",
       "      <th>Post Reactions</th>\n",
       "      <th>Post Shares</th>\n",
       "      <th>Link Clicks</th>\n",
       "      <th>CPC (Cost per Link Click)</th>\n",
       "      <th>Video Average Play Time</th>\n",
       "      <th>Video Plays at 50%</th>\n",
       "      <th>Video Plays at 75%</th>\n",
       "      <th>Video Plays at 95%</th>\n",
       "    </tr>\n",
       "    <tr>\n",
       "      <th>country</th>\n",
       "      <th></th>\n",
       "      <th></th>\n",
       "      <th></th>\n",
       "      <th></th>\n",
       "      <th></th>\n",
       "      <th></th>\n",
       "      <th></th>\n",
       "      <th></th>\n",
       "      <th></th>\n",
       "      <th></th>\n",
       "      <th></th>\n",
       "      <th></th>\n",
       "      <th></th>\n",
       "      <th></th>\n",
       "      <th></th>\n",
       "      <th></th>\n",
       "      <th></th>\n",
       "    </tr>\n",
       "  </thead>\n",
       "  <tbody>\n",
       "    <tr>\n",
       "      <th>MX</th>\n",
       "      <td>2 - Mexico - General Ad #2-D</td>\n",
       "      <td>17</td>\n",
       "      <td>0.04</td>\n",
       "      <td>0.53</td>\n",
       "      <td>1.38</td>\n",
       "      <td>1232</td>\n",
       "      <td>1232</td>\n",
       "      <td>0.65</td>\n",
       "      <td>LEARNING</td>\n",
       "      <td>0.0</td>\n",
       "      <td>0.0</td>\n",
       "      <td>9.0</td>\n",
       "      <td>0.07</td>\n",
       "      <td>2.0</td>\n",
       "      <td>252.0</td>\n",
       "      <td>64.0</td>\n",
       "      <td>35.0</td>\n",
       "    </tr>\n",
       "    <tr>\n",
       "      <th>MX</th>\n",
       "      <td>2 - Mexico - General Ad 2-I</td>\n",
       "      <td>30</td>\n",
       "      <td>0.04</td>\n",
       "      <td>0.38</td>\n",
       "      <td>1.06</td>\n",
       "      <td>2835</td>\n",
       "      <td>2829</td>\n",
       "      <td>1.07</td>\n",
       "      <td>LEARNING</td>\n",
       "      <td>0.0</td>\n",
       "      <td>0.0</td>\n",
       "      <td>17.0</td>\n",
       "      <td>0.06</td>\n",
       "      <td>2.0</td>\n",
       "      <td>570.0</td>\n",
       "      <td>103.0</td>\n",
       "      <td>71.0</td>\n",
       "    </tr>\n",
       "    <tr>\n",
       "      <th>AR</th>\n",
       "      <td>3 - Argentina - General 2-D</td>\n",
       "      <td>37</td>\n",
       "      <td>0.05</td>\n",
       "      <td>0.28</td>\n",
       "      <td>0.51</td>\n",
       "      <td>7291</td>\n",
       "      <td>7230</td>\n",
       "      <td>2.03</td>\n",
       "      <td>PAUSED</td>\n",
       "      <td>3.0</td>\n",
       "      <td>2.0</td>\n",
       "      <td>18.0</td>\n",
       "      <td>0.11</td>\n",
       "      <td>2.0</td>\n",
       "      <td>1435.0</td>\n",
       "      <td>300.0</td>\n",
       "      <td>192.0</td>\n",
       "    </tr>\n",
       "    <tr>\n",
       "      <th>ID</th>\n",
       "      <td>3 - Indonesia - General Ad 2-D</td>\n",
       "      <td>139</td>\n",
       "      <td>0.02</td>\n",
       "      <td>0.22</td>\n",
       "      <td>1.16</td>\n",
       "      <td>11982</td>\n",
       "      <td>11972</td>\n",
       "      <td>2.60</td>\n",
       "      <td>ACTIVE</td>\n",
       "      <td>4.0</td>\n",
       "      <td>3.0</td>\n",
       "      <td>64.0</td>\n",
       "      <td>0.04</td>\n",
       "      <td>2.0</td>\n",
       "      <td>2289.0</td>\n",
       "      <td>693.0</td>\n",
       "      <td>442.0</td>\n",
       "    </tr>\n",
       "  </tbody>\n",
       "</table>\n",
       "</div>"
      ],
      "text/plain": [
       "                                ad_name  ...  Video Plays at 95%\n",
       "country                                  ...                    \n",
       "MX         2 - Mexico - General Ad #2-D  ...                35.0\n",
       "MX          2 - Mexico - General Ad 2-I  ...                71.0\n",
       "AR          3 - Argentina - General 2-D  ...               192.0\n",
       "ID       3 - Indonesia - General Ad 2-D  ...               442.0\n",
       "\n",
       "[4 rows x 17 columns]"
      ]
     },
     "execution_count": null,
     "metadata": {
      "tags": []
     },
     "output_type": "execute_result"
    }
   ],
   "source": [
    "df"
   ]
  },
  {
   "cell_type": "code",
   "execution_count": null,
   "metadata": {},
   "outputs": [],
   "source": [
    "to_mean = [\"cpc\", \"cpm\", \"ctr\", \"CPC (Cost per Link Click)\", \"Video Average Play Time\"]\n",
    "empty = [\"Ads Followers Change\", \"% (Clicks)\", \"% (Impressions)\", \"Cost Per Follow\", \"ad_name\"]\n",
    "to_sum = df.columns.difference(to_mean + empty)\n",
    "total = pd.Series(name=\"total\", index=df.columns, dtype=float)"
   ]
  },
  {
   "cell_type": "code",
   "execution_count": null,
   "metadata": {},
   "outputs": [],
   "source": [
    "total[to_mean] = df[to_mean].apply(np.mean)\n",
    "total[to_sum] = df[to_sum].apply(sum)"
   ]
  },
  {
   "cell_type": "code",
   "execution_count": null,
   "metadata": {},
   "outputs": [],
   "source": [
    "df = df.append(total)"
   ]
  },
  {
   "cell_type": "code",
   "execution_count": null,
   "metadata": {},
   "outputs": [],
   "source": [
    "#export\n",
    "def add_total(df: pd.DataFrame) -> pd.DataFrame:\n",
    "    to_mean = [\"cpc\", \"cpm\", \"ctr\", \"CPC (Cost per Link Click)\", \"Video Average Play Time\"]\n",
    "    empty = [\"Ads Followers Change\", \"% (Clicks)\", \"% (Impressions)\", \"Cost Per Follow\", \"ad_name\"]\n",
    "    to_sum = df.columns.difference(to_mean + empty)\n",
    "    total = pd.Series(name=\"total\", index=df.columns, dtype=float)\n",
    "    total[to_mean] = df[to_mean].apply(np.mean)\n",
    "    total[to_sum] = df[to_sum].apply(sum)\n",
    "    df = df.append(total)\n",
    "    return pd.concat([df.iloc[-1:], df.iloc[:-1]])"
   ]
  },
  {
   "cell_type": "code",
   "execution_count": null,
   "metadata": {},
   "outputs": [],
   "source": [
    "df = pd.DataFrame(insights)"
   ]
  },
  {
   "cell_type": "code",
   "execution_count": null,
   "metadata": {},
   "outputs": [],
   "source": [
    "#export\n",
    "def get_insights_df(insights: List) -> pd.DataFrame:\n",
    "    df = pd.DataFrame(insights)\n",
    "    floats = [\"cpc\", \"cpm\", \"ctr\", \"spend\"]\n",
    "    df[floats] = df[floats].astype(float)\n",
    "    ints = [\"clicks\", \"impressions\", \"reach\"]\n",
    "    df[ints] = df[ints].astype(int)\n",
    "\n",
    "    df = df.merge(pd.DataFrame(get_countries(df[\"ad_id\"].values)))\n",
    "    df = df.merge(pd.DataFrame(get_delivery(df[[\"adset_id\", \"ad_id\"]].values)))\n",
    "    df.set_index(df[\"country\"], inplace=True)\n",
    "    df.sort_values(\"ad_name\", inplace=True)\n",
    "\n",
    "    df[\"Post Reactions\"] = df[\"actions\"].apply(partial(get_action, name=\"post_reaction\"))\n",
    "    df[\"Post Shares\"] = df[\"actions\"].apply(partial(get_action, name=\"post\"))\n",
    "    df[\"Link Clicks\"] = df[\"actions\"].apply(partial(get_action, name=\"link_click\"))\n",
    "    df[\"CPC (Cost per Link Click)\"] = df[\"cost_per_action_type\"].apply(partial(get_action, name=\"link_click\"))\n",
    "    get_video_action = partial(get_action, name=\"video_view\")\n",
    "    df[\"Video Average Play Time\"] = df[\"video_avg_time_watched_actions\"].apply(get_video_action)\n",
    "    df[\"Video Plays at 50%\"] = df[\"video_p50_watched_actions\"].apply(get_video_action)\n",
    "    df[\"Video Plays at 75%\"] = df[\"video_p75_watched_actions\"].apply(get_video_action)\n",
    "    df[\"Video Plays at 95%\"] = df[\"video_p95_watched_actions\"].apply(get_video_action)\n",
    "\n",
    "    df.drop(columns=[\"actions\", \"cost_per_action_type\", \"date_start\", \"date_stop\",\n",
    "                     \"video_avg_time_watched_actions\", \"ad_id\", \"adset_id\", \"country\"] +\n",
    "            [f\"video_p{p}_watched_actions\" for p in [50,75,95]], inplace=True)\n",
    "    dupes = add_country_total(df)\n",
    "    df = add_total(df)\n",
    "    df.rename(columns={\"ad_name\": \"Ad Name\", \"clicks\": \"Clicks (All)\", \"cpc\": \"CPC (All)\",\n",
    "                       \"ctr\": \"CTR (All)\", \"cpm\": \"CPM (Cost per 1,000 Impressions)\",\n",
    "                       \"reach\": \"Reach\", \"impressions\": \"Impressions\", \"spend\": \"Amount Spent (USD)\"}, inplace=True)\n",
    "    df[\"Ads Followers Change\"] = 0\n",
    "    df[\"% (Clicks)\"] = 0\n",
    "    df[\"% (Impressions)\"] = 0\n",
    "    df[\"Cost Per Follow\"] = 0\n",
    "    return df[COLUMNS].round(2)"
   ]
  },
  {
   "cell_type": "code",
   "execution_count": null,
   "metadata": {},
   "outputs": [],
   "source": [
    "#export\n",
    "def create_insights(event: Dict = None, context=None,) -> str:\n",
    "    yesterday = datetime.today() - timedelta(days=1)\n",
    "    insights = get_insights(yesterday.strftime(\"%Y-%m-%d\"))\n",
    "    if not insights:\n",
    "        return f\"No insights found for {yesterday.strftime('%Y-%m-%d')}\"\n",
    "    df = get_insights_df(insights)\n",
    "    df_size = len(df)\n",
    "\n",
    "    empty = pd.Series(name=\"\", dtype=str)\n",
    "    df = df.append([empty] * 25)\n",
    "\n",
    "    worksheet_name = yesterday.strftime(\"%b %d %Y\")\n",
    "    write_df(df, worksheet_name)\n",
    "    notes_df = pd.DataFrame([[\"\", \"CONSIDER:\", \"\", \"\", \"TO DO:\"]], index=[\"PERFORMANCE:\"], columns=[\"\"] * 5)\n",
    "    write_df(notes_df, worksheet_name, loc=f\"A{df_size+10}\")\n",
    "\n",
    "    wsh = get_worksheet(worksheet_name)\n",
    "    wsh.format(f\"C1:F{df_size+1}\", {\"textFormat\": {\n",
    "        \"foregroundColor\": {\n",
    "            \"red\": 0.45,\n",
    "            \"green\": 0.0,\n",
    "            \"blue\": 0.0\n",
    "        }}},)\n",
    "    wsh.format(f\"D:E\", {\"numberFormat\": {\"type\": \"PERCENT\"}},)\n",
    "    wsh.format(f\"F\", {\"numberFormat\": {\"type\": \"CURRENCY\"}},)\n",
    "    return f\"Created insights in '{worksheet_name}'\""
   ]
  },
  {
   "cell_type": "code",
   "execution_count": null,
   "metadata": {},
   "outputs": [
    {
     "data": {
      "text/plain": [
       "'No insights found for 2020-09-14'"
      ]
     },
     "execution_count": null,
     "metadata": {
      "tags": []
     },
     "output_type": "execute_result"
    }
   ],
   "source": [
    "create_insights()"
   ]
  },
  {
   "cell_type": "code",
   "execution_count": null,
   "metadata": {},
   "outputs": [
    {
     "name": "stdout",
     "output_type": "stream",
     "text": [
      "Converted 00_core.ipynb.\n",
      "Converted 01_followers.ipynb.\n",
      "Converted 02_ads.ipynb.\n",
      "Converted index.ipynb.\n"
     ]
    }
   ],
   "source": [
    "#hide\n",
    "from nbdev.export import notebook2script\n",
    "notebook2script()"
   ]
  },
  {
   "cell_type": "code",
   "execution_count": null,
   "metadata": {},
   "outputs": [],
   "source": [
    ""
   ]
  }
 ],
 "metadata": {
  "kernelspec": {
   "display_name": "Python 3",
   "name": "python3"
  }
 },
 "nbformat": 4,
 "nbformat_minor": 0
}
