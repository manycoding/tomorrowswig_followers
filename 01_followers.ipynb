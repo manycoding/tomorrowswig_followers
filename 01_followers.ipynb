{
 "cells": [
  {
   "cell_type": "code",
   "execution_count": null,
   "metadata": {},
   "outputs": [],
   "source": [
    "# default_exp followers"
   ]
  },
  {
   "cell_type": "code",
   "execution_count": null,
   "metadata": {},
   "outputs": [
    {
     "name": "stdout",
     "output_type": "stream",
     "text": [
      "Go to this URL in a browser: https://accounts.google.com/o/oauth2/auth?client_id=947318989803-6bn6qk8qdgf4n4g3pfee6491hc0brc4i.apps.googleusercontent.com&redirect_uri=urn%3aietf%3awg%3aoauth%3a2.0%3aoob&scope=email%20https%3a%2f%2fwww.googleapis.com%2fauth%2fdocs.test%20https%3a%2f%2fwww.googleapis.com%2fauth%2fdrive%20https%3a%2f%2fwww.googleapis.com%2fauth%2fdrive.photos.readonly%20https%3a%2f%2fwww.googleapis.com%2fauth%2fpeopleapi.readonly&response_type=code\n",
      "\n",
      "Enter your authorization code:\n",
      "4/4QFTmRoY1yy4COvnXYEDlIibcdf58LHdjLK4jrzuArEQ3L1YtAF-NrA\n"
     ]
    }
   ],
   "source": [
    "%%capture\n",
    "#test_flag_colab\n",
    "from google.colab import drive\n",
    "drive.mount('/content/drive')"
   ]
  },
  {
   "cell_type": "code",
   "execution_count": null,
   "metadata": {},
   "outputs": [],
   "source": [
    "%load_ext autoreload\n",
    "%autoreload 2"
   ]
  },
  {
   "cell_type": "code",
   "execution_count": null,
   "metadata": {},
   "outputs": [
    {
     "name": "stdout",
     "output_type": "stream",
     "text": [
      "\u001b[K     |████████████████████████████████| 61kB 1.8MB/s \n",
      "\u001b[K     |████████████████████████████████| 40kB 3.5MB/s \n",
      "\u001b[?25h/content/drive/My Drive/upwork/Martin followers/tomorrowswig_followers\n"
     ]
    }
   ],
   "source": [
    "#hide\n",
    "!pip install -qU nbdev fastcore\n",
    "from pathlib import Path\n",
    "path = Path(\"/content/drive/My Drive/upwork/Martin followers/tomorrowswig_followers\")\n",
    "%cd \"{path}\"\n",
    "from nbdev import *\n",
    "from nbdev.showdoc import *\n",
    "from fastcore.test import *"
   ]
  },
  {
   "cell_type": "markdown",
   "metadata": {},
   "source": [
    "# Instagram followers\n",
    "> Here I'll create a script to fetch new followers for an instagram account. The reason is to track followers change by country, facebook API offers only lifetime numbers which are updated daily.\n",
    "\n",
    "https://developers.facebook.com/tools/explorer/\n",
    "\n",
    "https://developers.facebook.com/docs/facebook-login/access-tokens/"
   ]
  },
  {
   "cell_type": "markdown",
   "metadata": {},
   "source": [
    "## Facebook Auth"
   ]
  },
  {
   "cell_type": "code",
   "execution_count": null,
   "metadata": {},
   "outputs": [
    {
     "name": "stdout",
     "output_type": "stream",
     "text": [
      "\u001b[K     |████████████████████████████████| 1.0MB 6.0MB/s \n",
      "\u001b[K     |████████████████████████████████| 51kB 4.2MB/s \n",
      "\u001b[K     |████████████████████████████████| 10.1MB 17.0MB/s \n",
      "\u001b[K     |████████████████████████████████| 1.2MB 45.6MB/s \n",
      "\u001b[K     |████████████████████████████████| 153kB 40.4MB/s \n",
      "\u001b[K     |████████████████████████████████| 266kB 50.5MB/s \n",
      "\u001b[?25h  Building wheel for pycountry (setup.py) ... \u001b[?25l\u001b[?25hdone\n",
      "  Building wheel for curlify (setup.py) ... \u001b[?25l\u001b[?25hdone\n",
      "  Building wheel for idna-ssl (setup.py) ... \u001b[?25l\u001b[?25hdone\n",
      "\u001b[31mERROR: responses 0.11.0 has requirement urllib3>=1.25.10, but you'll have urllib3 1.24.3 which is incompatible.\u001b[0m\n",
      "\u001b[31mERROR: python-facebook-api 0.7.1 has requirement requests<3.0.0,>=2.24.0, but you'll have requests 2.23.0 which is incompatible.\u001b[0m\n"
     ]
    }
   ],
   "source": [
    "#hide\n",
    "!pip install -qU gspread facebook_business python-facebook-api"
   ]
  },
  {
   "cell_type": "code",
   "execution_count": null,
   "metadata": {},
   "outputs": [],
   "source": [
    "%%capture\n",
    "#hide\n",
    "\n",
    "import yaml\n",
    "with open(\"facebook_creds.yml\") as f:\n",
    "    data = yaml.safe_load(f)\n",
    "    %env APP_ID {data.get(\"APP_ID\")}\n",
    "    %env APP_SECRET {data.get(\"APP_SECRET\")}\n",
    "    %env TOKEN {data.get(\"TOKEN\")}\n",
    "    %env USER_ID {data.get(\"USER_ID\")}"
   ]
  },
  {
   "cell_type": "code",
   "execution_count": null,
   "metadata": {},
   "outputs": [],
   "source": [
    "#export\n",
    "import os\n",
    "from datetime import datetime, timedelta\n",
    "from typing import *\n",
    "\n",
    "import pandas as pd\n",
    "import numpy as np\n",
    "from pyfacebook import IgProApi\n",
    "from pyfacebook.error import *\n",
    "from tomorrowswig_followers.core import *\n",
    "from tomorrowswig_followers.ads import *"
   ]
  },
  {
   "cell_type": "code",
   "execution_count": null,
   "metadata": {},
   "outputs": [],
   "source": [
    "APP_ID = os.environ.get(\"APP_ID\")\n",
    "APP_SECRET = os.environ.get(\"APP_SECRET\")\n",
    "TOKEN = os.environ.get(\"TOKEN\")\n",
    "USER_ID = os.environ.get(\"USER_ID\")"
   ]
  },
  {
   "cell_type": "markdown",
   "metadata": {},
   "source": [
    "## Get new followers with graph api"
   ]
  },
  {
   "cell_type": "code",
   "execution_count": null,
   "metadata": {},
   "outputs": [
    {
     "name": "stdout",
     "output_type": "stream",
     "text": [
      "HTTP/2 200 \r\n",
      "vary: Accept-Encoding\r\n",
      "etag: \"cb398e13d94bc39ba4c9d76605ff17f52e69b2f5\"\r\n",
      "x-business-use-case-usage: {\"17841409206135869\":[{\"type\":\"instagram\",\"call_count\":1,\"total_cputime\":1,\"total_time\":1,\"estimated_time_to_regain_access\":0}]}\r\n",
      "content-type: application/json; charset=UTF-8\r\n",
      "facebook-api-version: v7.0\r\n",
      "strict-transport-security: max-age=15552000; preload\r\n",
      "pragma: no-cache\r\n",
      "x-fb-rev: 1002702600\r\n",
      "access-control-allow-origin: *\r\n",
      "cache-control: private, no-cache, no-store, must-revalidate\r\n",
      "x-fb-trace-id: A3yaTFVrhuP\r\n",
      "x-fb-request-id: A9ISGTv4GBxiNT7YJzc_ORu\r\n",
      "expires: Sat, 01 Jan 2000 00:00:00 GMT\r\n",
      "x-fb-debug: J8SzFvLXR1VGGKj5L+dn/15AZW8Pz8Cktrmv6fZMOCeAZZlUMGpNkrunxKNmPfvnKRZCrjTH0yoDX2w/Okl3ag==\r\n",
      "date: Tue, 22 Sep 2020 14:57:07 GMT\r\n",
      "alt-svc: h3-29=\":443\"; ma=3600,h3-27=\":443\"; ma=3600\r\n",
      "\r\n",
      "{\"data\":[{\"name\":\"audience_country\",\"period\":\"lifetime\",\"values\":[{\"value\":{\"RS\":57,\"DE\":1054,\"PR\":38,\"BD\":52,\"TW\":122,\"PT\":156,\"JO\":39,\"JP\":75,\"UA\":40,\"FR\":55,\"HU\":100,\"BR\":2599,\"MA\":83,\"SG\":759,\"DZ\":103,\"KE\":67,\"ID\":2956,\"GB\":3001,\"IE\":119,\"CA\":1860,\"US\":8597,\"EG\":62,\"IN\":1931,\"ZA\":52,\"IQ\":96,\"CL\":500,\"GR\":79,\"IT\":1685,\"MX\":3194,\"CO\":61,\"MY\":183,\"ES\":145,\"VE\":45,\"CR\":69,\"AR\":1009,\"AU\":930,\"CZ\":53,\"PH\":2849,\"NG\":73,\"TN\":34,\"PK\":280,\"PL\":157,\"RO\":42,\"TR\":108,\"NL\":113},\"end_time\":\"2020-09-22T07:00:00+0000\"}],\"title\":\"Audience Country\",\"description\":\"The countries of this profile's followers\",\"id\":\"17841409206135869\\/insights\\/audience_country\\/lifetime\"}]}"
     ]
    }
   ],
   "source": [
    "#hide\n",
    "!curl -i -X GET \\\n",
    " \"https://graph.facebook.com/v7.0/17841409206135869/insights?metric=audience_country&period=lifetime&access_token={TOKEN}\""
   ]
  },
  {
   "cell_type": "code",
   "execution_count": null,
   "metadata": {},
   "outputs": [],
   "source": [
    "api = IgProApi(app_id=APP_ID, app_secret=APP_SECRET, long_term_token=TOKEN,\n",
    "               version=\"5.0\")"
   ]
  },
  {
   "cell_type": "code",
   "execution_count": null,
   "metadata": {},
   "outputs": [],
   "source": [
    "try:\n",
    "    response = api.get_user_insights(user_id=USER_ID, period=\"lifetime\", metrics=[\"audience_country\"],\n",
    "                                    return_json=True)\n",
    "except PyFacebookException as e:\n",
    "    display(e.message)"
   ]
  },
  {
   "cell_type": "code",
   "execution_count": null,
   "metadata": {},
   "outputs": [],
   "source": [
    "response = response[0][\"values\"][0]"
   ]
  },
  {
   "cell_type": "code",
   "execution_count": null,
   "metadata": {},
   "outputs": [
    {
     "data": {
      "text/plain": [
       "'2020-09-22T07:00:00+0000'"
      ]
     },
     "execution_count": null,
     "metadata": {
      "tags": []
     },
     "output_type": "execute_result"
    }
   ],
   "source": [
    "response[\"end_time\"]"
   ]
  },
  {
   "cell_type": "code",
   "execution_count": null,
   "metadata": {},
   "outputs": [],
   "source": [
    "#export\n",
    "def get_followers() -> Tuple[str, Dict[str, int]]:\n",
    "    api = IgProApi(\n",
    "        app_id=APP_ID, app_secret=APP_SECRET, long_term_token=TOKEN, version=\"5.0\"\n",
    "    )\n",
    "    try:\n",
    "        response = api.get_user_insights(\n",
    "            user_id=USER_ID,\n",
    "            period=\"lifetime\",\n",
    "            metrics=[\"audience_country\"],\n",
    "            return_json=True,\n",
    "        )[0][\"values\"][0]\n",
    "        return response[\"end_time\"].split(\"T\")[0], response[\"value\"]\n",
    "    except PyFacebookException as e:\n",
    "        return (e.message, {0: 0})"
   ]
  },
  {
   "cell_type": "code",
   "execution_count": null,
   "metadata": {},
   "outputs": [],
   "source": [
    "#export\n",
    "def get_new_followers(date: str) -> Tuple[str, Dict[str, int]]:\n",
    "    year, month, d = [int(i) for i in date.split(\"-\")]\n",
    "    api = IgProApi(\n",
    "        app_id=APP_ID, app_secret=APP_SECRET, long_term_token=TOKEN, version=\"5.0\"\n",
    "    )\n",
    "    try:\n",
    "        response = api.get_user_insights(\n",
    "                user_id=USER_ID,\n",
    "                period=\"day\",\n",
    "                metrics=[\"follower_count\"],\n",
    "                since=datetime(year,month,d,0,0).strftime('%s'),\n",
    "                until=datetime(year,month,d,23,59).strftime('%s'),\n",
    "                return_json=True,\n",
    "            )[0][\"values\"][0]\n",
    "        return response[\"end_time\"].split(\"T\")[0], response[\"value\"]\n",
    "    except PyFacebookException as e:\n",
    "        return (e.message, 0)"
   ]
  },
  {
   "cell_type": "code",
   "execution_count": null,
   "metadata": {},
   "outputs": [],
   "source": [
    ""
   ]
  },
  {
   "cell_type": "code",
   "execution_count": null,
   "metadata": {},
   "outputs": [
    {
     "data": {
      "text/plain": [
       "('2020-09-17', 37)"
      ]
     },
     "execution_count": null,
     "metadata": {
      "tags": []
     },
     "output_type": "execute_result"
    }
   ],
   "source": [
    "get_new_followers(\"2020-09-17\")"
   ]
  },
  {
   "cell_type": "markdown",
   "metadata": {},
   "source": [
    "## Google Sheets"
   ]
  },
  {
   "cell_type": "markdown",
   "metadata": {},
   "source": [
    "### Insert new followers to a google sheet "
   ]
  },
  {
   "cell_type": "code",
   "execution_count": null,
   "metadata": {},
   "outputs": [],
   "source": [
    "end_time, followers = get_followers()"
   ]
  },
  {
   "cell_type": "code",
   "execution_count": null,
   "metadata": {},
   "outputs": [],
   "source": [
    "df = get_df(\"History\")"
   ]
  },
  {
   "cell_type": "code",
   "execution_count": null,
   "metadata": {},
   "outputs": [],
   "source": [
    "new_followers = pd.Series(followers)\n",
    "date = (datetime.strptime(end_time, \"%Y-%m-%d\") - timedelta(days=1)).strftime(f\"%b %d %Y{' '*16}\")\n",
    "new_followers.name = f\"{date} {str(datetime.utcnow()).split('.')[0]}\"\n",
    "last_entry = df.iloc[:, 0]"
   ]
  },
  {
   "cell_type": "code",
   "execution_count": null,
   "metadata": {},
   "outputs": [],
   "source": [
    "if np.array_equal(last_entry[last_entry != 0].values, new_followers.sort_index().values):\n",
    "    # return pd.DataFrame()\n",
    "    pass\n",
    "else:\n",
    "    df = pd.concat([df, new_followers], axis=1)\n",
    "    df = df[[df.columns[-1]] + df.columns[:-1].tolist()]\n",
    "    df.index.name = \"countries\" \n",
    "    df.sort_index(inplace=True)"
   ]
  },
  {
   "cell_type": "code",
   "execution_count": null,
   "metadata": {},
   "outputs": [],
   "source": [
    "df = df.fillna(0).astype(int)"
   ]
  },
  {
   "cell_type": "code",
   "execution_count": null,
   "metadata": {},
   "outputs": [],
   "source": [
    "#export\n",
    "def get_dif(df: pd.DataFrame) -> pd.DataFrame:\n",
    "    change_df = df.diff(axis=1, periods=-1)\n",
    "    change_df = change_df.fillna(0).astype(int)\n",
    "    return change_df\n",
    "\n",
    "\n",
    "def get_followers_change(history_df: pd.DataFrame, date: str) -> pd.DataFrame:\n",
    "    new_followers = get_dif(history_df)\n",
    "    if len(date.split()) == 3:\n",
    "        mask = history_df.columns.str.startswith(date)\n",
    "    else:\n",
    "        mask = history_df.columns == (\" \".join(date.split()[:2]))\n",
    "    new_followers = new_followers.iloc[:, mask].iloc[:, :1].replace(0, np.nan)\n",
    "    new_followers = new_followers.dropna(axis=1, how=\"all\").iloc[:, :1].dropna().astype(int)\n",
    "    return new_followers"
   ]
  },
  {
   "cell_type": "code",
   "execution_count": null,
   "metadata": {},
   "outputs": [],
   "source": [
    "#export\n",
    "def get_ads_status(date: str):\n",
    "    if get_df(date).empty:\n",
    "        return \"OFF\"\n",
    "    return \"ON\""
   ]
  },
  {
   "cell_type": "code",
   "execution_count": null,
   "metadata": {},
   "outputs": [],
   "source": [
    "history_df = get_df(\"History\")"
   ]
  },
  {
   "cell_type": "code",
   "execution_count": null,
   "metadata": {},
   "outputs": [],
   "source": [
    "ads_status_df = get_df(\"Ads Status History\")\n",
    "date = history_df.columns[0].split(\"  \")[0]\n",
    "ads_status = get_ads_status(date)\n",
    "change = get_followers_change(history_df, date).sum().item()"
   ]
  },
  {
   "cell_type": "code",
   "execution_count": null,
   "metadata": {},
   "outputs": [
    {
     "data": {
      "text/plain": [
       "Ads Status    OFF\n",
       "Change        -13\n",
       "Followers        \n",
       "Name: Sep 20 2020, dtype: object"
      ]
     },
     "execution_count": null,
     "metadata": {
      "tags": []
     },
     "output_type": "execute_result"
    }
   ],
   "source": [
    "last_status = pd.Series([ads_status, change, \"\"], name=\"\", dtype=str, index=[\"Ads Status\", \"Change\", \"Followers\"])\n",
    "last_status.name = date\n",
    "last_status"
   ]
  },
  {
   "cell_type": "code",
   "execution_count": null,
   "metadata": {},
   "outputs": [
    {
     "data": {
      "text/html": [
       "<div>\n",
       "<style scoped>\n",
       "    .dataframe tbody tr th:only-of-type {\n",
       "        vertical-align: middle;\n",
       "    }\n",
       "\n",
       "    .dataframe tbody tr th {\n",
       "        vertical-align: top;\n",
       "    }\n",
       "\n",
       "    .dataframe thead th {\n",
       "        text-align: right;\n",
       "    }\n",
       "</style>\n",
       "<table border=\"1\" class=\"dataframe\">\n",
       "  <thead>\n",
       "    <tr style=\"text-align: right;\">\n",
       "      <th></th>\n",
       "      <th>Sep 20 2020</th>\n",
       "      <th>Sep 19 2020</th>\n",
       "      <th>Sep 18 2020</th>\n",
       "      <th>Sep 17 2020</th>\n",
       "      <th>Sep 16 2020</th>\n",
       "      <th>Sep 15 2020</th>\n",
       "      <th>Sep 14 2020</th>\n",
       "      <th>Sep 13 2020</th>\n",
       "    </tr>\n",
       "    <tr>\n",
       "      <th></th>\n",
       "      <th></th>\n",
       "      <th></th>\n",
       "      <th></th>\n",
       "      <th></th>\n",
       "      <th></th>\n",
       "      <th></th>\n",
       "      <th></th>\n",
       "      <th></th>\n",
       "    </tr>\n",
       "  </thead>\n",
       "  <tbody>\n",
       "    <tr>\n",
       "      <th>Ads Status</th>\n",
       "      <td>OFF</td>\n",
       "      <td>OFF</td>\n",
       "      <td>ON</td>\n",
       "      <td>ON</td>\n",
       "      <td>OFF</td>\n",
       "      <td>OFF</td>\n",
       "      <td>OFF</td>\n",
       "      <td>OFF</td>\n",
       "    </tr>\n",
       "    <tr>\n",
       "      <th>Change</th>\n",
       "      <td>-13</td>\n",
       "      <td>-19</td>\n",
       "      <td>-17</td>\n",
       "      <td>30</td>\n",
       "      <td>-12</td>\n",
       "      <td>-34</td>\n",
       "      <td>-42</td>\n",
       "      <td>-30</td>\n",
       "    </tr>\n",
       "  </tbody>\n",
       "</table>\n",
       "</div>"
      ],
      "text/plain": [
       "           Sep 20 2020 Sep 19 2020  ... Sep 14 2020 Sep 13 2020\n",
       "                                    ...                        \n",
       "Ads Status         OFF         OFF  ...         OFF         OFF\n",
       "Change             -13         -19  ...         -42         -30\n",
       "\n",
       "[2 rows x 8 columns]"
      ]
     },
     "execution_count": null,
     "metadata": {
      "tags": []
     },
     "output_type": "execute_result"
    }
   ],
   "source": [
    "ads_status_df"
   ]
  },
  {
   "cell_type": "code",
   "execution_count": null,
   "metadata": {},
   "outputs": [
    {
     "data": {
      "text/html": [
       "<div>\n",
       "<style scoped>\n",
       "    .dataframe tbody tr th:only-of-type {\n",
       "        vertical-align: middle;\n",
       "    }\n",
       "\n",
       "    .dataframe tbody tr th {\n",
       "        vertical-align: top;\n",
       "    }\n",
       "\n",
       "    .dataframe thead th {\n",
       "        text-align: right;\n",
       "    }\n",
       "</style>\n",
       "<table border=\"1\" class=\"dataframe\">\n",
       "  <thead>\n",
       "    <tr style=\"text-align: right;\">\n",
       "      <th></th>\n",
       "      <th>Sep 20 2020</th>\n",
       "      <th>Sep 20 2020</th>\n",
       "      <th>Sep 19 2020</th>\n",
       "      <th>Sep 18 2020</th>\n",
       "      <th>Sep 17 2020</th>\n",
       "      <th>Sep 16 2020</th>\n",
       "      <th>Sep 15 2020</th>\n",
       "      <th>Sep 14 2020</th>\n",
       "      <th>Sep 13 2020</th>\n",
       "    </tr>\n",
       "  </thead>\n",
       "  <tbody>\n",
       "    <tr>\n",
       "      <th>Ads Status</th>\n",
       "      <td>OFF</td>\n",
       "      <td>OFF</td>\n",
       "      <td>OFF</td>\n",
       "      <td>ON</td>\n",
       "      <td>ON</td>\n",
       "      <td>OFF</td>\n",
       "      <td>OFF</td>\n",
       "      <td>OFF</td>\n",
       "      <td>OFF</td>\n",
       "    </tr>\n",
       "    <tr>\n",
       "      <th>Change</th>\n",
       "      <td>-13</td>\n",
       "      <td>-13</td>\n",
       "      <td>-19</td>\n",
       "      <td>-17</td>\n",
       "      <td>30</td>\n",
       "      <td>-12</td>\n",
       "      <td>-34</td>\n",
       "      <td>-42</td>\n",
       "      <td>-30</td>\n",
       "    </tr>\n",
       "    <tr>\n",
       "      <th>Followers</th>\n",
       "      <td></td>\n",
       "      <td>NaN</td>\n",
       "      <td>NaN</td>\n",
       "      <td>NaN</td>\n",
       "      <td>NaN</td>\n",
       "      <td>NaN</td>\n",
       "      <td>NaN</td>\n",
       "      <td>NaN</td>\n",
       "      <td>NaN</td>\n",
       "    </tr>\n",
       "  </tbody>\n",
       "</table>\n",
       "</div>"
      ],
      "text/plain": [
       "           Sep 20 2020 Sep 20 2020  ... Sep 14 2020 Sep 13 2020\n",
       "Ads Status         OFF         OFF  ...         OFF         OFF\n",
       "Change             -13         -13  ...         -42         -30\n",
       "Followers                      NaN  ...         NaN         NaN\n",
       "\n",
       "[3 rows x 9 columns]"
      ]
     },
     "execution_count": null,
     "metadata": {
      "tags": []
     },
     "output_type": "execute_result"
    }
   ],
   "source": [
    "pd.concat([last_status, ads_status_df], axis=1)"
   ]
  },
  {
   "cell_type": "code",
   "execution_count": null,
   "metadata": {},
   "outputs": [],
   "source": [
    "#export\n",
    "def save_ads_status(history_df: pd.DataFrame):\n",
    "    worksheet = \"Ads Status History\"\n",
    "    ads_status_df = get_df(worksheet)\n",
    "    date = history_df.columns[0].split(\"  \")[0]\n",
    "    ads_status = get_ads_status(date)\n",
    "    change = get_followers_change(history_df, date).sum().item()\n",
    "    last_status = pd.Series([ads_status, change], name=\"\", dtype=str, index=[\"Ads Status\", \"Change\"])\n",
    "    last_status.name = date\n",
    "    write_df(pd.concat([last_status, ads_status_df], axis=1), worksheet)"
   ]
  },
  {
   "cell_type": "code",
   "execution_count": null,
   "metadata": {},
   "outputs": [],
   "source": [
    "# save_ads_status(get_df(\"History\"))"
   ]
  },
  {
   "cell_type": "code",
   "execution_count": null,
   "metadata": {},
   "outputs": [],
   "source": [
    "#export\n",
    "def get_updated_followers(\n",
    "    df: pd.DataFrame, data: Dict[str, int], end_time: str\n",
    ") -> pd.DataFrame:\n",
    "    new_followers = pd.Series(data)\n",
    "    date = (datetime.strptime(end_time, \"%Y-%m-%d\") - timedelta(days=1)).strftime(f\"%b %d %Y{' '*16}\")\n",
    "    new_followers.name = f\"{date} {str(datetime.utcnow()).split('.')[0]}\"\n",
    "    last_entry = df.iloc[:, 0]\n",
    "    second_last_entry = df.iloc[:, 1]\n",
    "    if np.array_equal(last_entry[last_entry != 0].values, new_followers.sort_index().values) or np.array_equal(second_last_entry[second_last_entry != 0].values, new_followers.sort_index().values):\n",
    "        return pd.DataFrame()\n",
    "    else:\n",
    "        df = pd.concat([df, new_followers], axis=1)\n",
    "        df = df[[df.columns[-1]] + df.columns[:-1].tolist()]\n",
    "        df.index.name = \"countries\" \n",
    "        df.sort_index(inplace=True)\n",
    "        return df.fillna(0).astype(int)"
   ]
  },
  {
   "cell_type": "code",
   "execution_count": null,
   "metadata": {},
   "outputs": [
    {
     "data": {
      "text/html": [
       "<div>\n",
       "<style scoped>\n",
       "    .dataframe tbody tr th:only-of-type {\n",
       "        vertical-align: middle;\n",
       "    }\n",
       "\n",
       "    .dataframe tbody tr th {\n",
       "        vertical-align: top;\n",
       "    }\n",
       "\n",
       "    .dataframe thead th {\n",
       "        text-align: right;\n",
       "    }\n",
       "</style>\n",
       "<table border=\"1\" class=\"dataframe\">\n",
       "  <thead>\n",
       "    <tr style=\"text-align: right;\">\n",
       "      <th></th>\n",
       "    </tr>\n",
       "  </thead>\n",
       "  <tbody>\n",
       "  </tbody>\n",
       "</table>\n",
       "</div>"
      ],
      "text/plain": [
       "Empty DataFrame\n",
       "Columns: []\n",
       "Index: []"
      ]
     },
     "execution_count": null,
     "metadata": {
      "tags": []
     },
     "output_type": "execute_result"
    }
   ],
   "source": [
    "get_updated_followers(history_df, get_followers()[1], get_followers()[0])"
   ]
  },
  {
   "cell_type": "code",
   "execution_count": null,
   "metadata": {},
   "outputs": [],
   "source": [
    "fetched_followers = {'AR': 1001, 'AU': 724, 'BD': 55, 'BR': 2250, 'CA': 1680, 'CL': 526, 'CO': 6}\n",
    "end_time = \"2020-07-21\"\n",
    "old_followers = {end_time: {'AR': 100, 'AU': 70, 'BD': 0, 'BR': 0, 'CA': 0, 'CL': 0, 'CO': 0},\n",
    "                 \"2020-07-20\": {'AR': 100, 'AU': 70, 'BD': 0, 'BR': 0, 'CA': 0, 'CL': 0, 'CO': 1}}\n",
    "followers_df = pd.DataFrame.from_records(old_followers)\n",
    "\n",
    "test_followers_df = get_updated_followers(followers_df, fetched_followers, end_time)\n",
    "\n",
    "test_followers_df.rename(columns={test_followers_df.columns[0]: \"2020-01-01\" }, inplace=True)\n",
    "expected = {'2020-01-01': {'AR': 1001,\n",
    "                            'AU': 724,\n",
    "                            'BD': 55,\n",
    "                            'BR': 2250,\n",
    "                            'CA': 1680,\n",
    "                            'CL': 526,\n",
    "                            'CO': 6},\n",
    " '2020-07-20': {'AR': 100,\n",
    "                'AU': 70,\n",
    "                'BD': 0,\n",
    "                'BR': 0,\n",
    "                'CA': 0,\n",
    "                'CL': 0,\n",
    "                'CO': 1},\n",
    " '2020-07-21': {'AR': 100,\n",
    "                'AU': 70,\n",
    "                'BD': 0,\n",
    "                'BR': 0,\n",
    "                'CA': 0,\n",
    "                'CL': 0,\n",
    "                'CO': 0}}\n",
    "assert test_followers_df.to_dict() == expected\n",
    "\n",
    "test_followers_df = get_updated_followers(followers_df, fetched_followers, end_time)\n",
    "test_followers_df.rename(columns={test_followers_df.columns[0]: \"2020-01-01\" }, inplace=True)\n",
    "assert test_followers_df.to_dict() == expected"
   ]
  },
  {
   "cell_type": "code",
   "execution_count": null,
   "metadata": {},
   "outputs": [],
   "source": [
    "# test the fix for when API returns an old result shortly after it returned an updated one\n",
    "\n",
    "fetched_followers = {'AR': 1001, 'AU': 724, 'BD': 55, 'BR': 2250, 'CA': 1680, 'CL': 526, 'CO': 6}\n",
    "end_time = \"2020-07-21\"\n",
    "old_followers = {\"2020-07-21\": {'AR': 100, 'AU': 70, 'BD': 0, 'BR': 0, 'CA': 0, 'CL': 0, 'CO': 0},\n",
    "                 \"2020-07-20\": {'AR': 1001, 'AU': 724, 'BD': 55, 'BR': 2250, 'CA': 1680, 'CL': 526, 'CO': 6}}\n",
    "followers_df = pd.DataFrame.from_records(old_followers)\n",
    "\n",
    "test_followers_df = get_updated_followers(followers_df, fetched_followers, end_time)\n",
    "assert test_followers_df.empty"
   ]
  },
  {
   "cell_type": "code",
   "execution_count": null,
   "metadata": {},
   "outputs": [],
   "source": [
    ""
   ]
  },
  {
   "cell_type": "markdown",
   "metadata": {},
   "source": [
    "random followers + followers from ads - unfollowers = followers gain\n",
    "\n",
    "unfollowers = random followers + followers from ads - followers gain = new followers - followers gain\n",
    "\n",
    "random_followers = new followers - followers from ads"
   ]
  },
  {
   "cell_type": "code",
   "execution_count": null,
   "metadata": {},
   "outputs": [],
   "source": [
    "#export\n",
    "def more_stats(df: pd.DataFrame, followers_change: pd.DataFrame, date: str) -> pd.DataFrame:\n",
    "    stats = pd.Series(dtype=float, name=\"Followers\")\n",
    "    ads_followers_gain = df[\"Ads Followers Change\"].sum()\n",
    "    followers_gain = followers_change.sum().item()\n",
    "    spent = df.loc[\"total\", \"Amount Spent (USD)\"]\n",
    "    stats[\"Ads Followers Change\"] = ads_followers_gain\n",
    "    new_followers = get_new_followers(date)[1]\n",
    "    stats[\"Random Followers\"] = new_followers - ads_followers_gain\n",
    "    stats[\"New Followers\"] = new_followers\n",
    "    stats[\"Unfollowers\"] = stats[\"New Followers\"] - followers_gain\n",
    "    stats[\"Followers Change\"] = ads_followers_gain + stats[\"Random Followers\"] - stats[\"Unfollowers\"]\n",
    "\n",
    "    stats_df = pd.DataFrame(stats)\n",
    "    stats_df.index.name = \"  \"\n",
    "    stats_df[\"Conversion Rate\"] = stats_df[\"Followers\"] / df.loc[\"total\", \"Clicks (All)\"]\n",
    "    stats_df[\" \"] = 0\n",
    "    stats_df[\"Cost Per Follower/Increase\"] = spent/ stats_df[\"Followers\"]\n",
    "    stats_df.iloc[1:, 1] = 0\n",
    "    stats_df.iloc[[1,3,4], 3] = 0\n",
    "    return stats_df.round(2)"
   ]
  },
  {
   "cell_type": "code",
   "execution_count": null,
   "metadata": {},
   "outputs": [],
   "source": [
    "date = \"Aug 13 2020\"\n",
    "insights_df = get_df(date)\n",
    "history_df = get_df(\"History\")"
   ]
  },
  {
   "cell_type": "code",
   "execution_count": null,
   "metadata": {},
   "outputs": [],
   "source": [
    "followers_change = get_followers_change(history_df, date)\n",
    "df = get_df(date)\n",
    "if \"PERFORMANCE:\" in df.index:\n",
    "    df = df.iloc[:df.index.get_loc(\"PERFORMANCE:\") - 9, :]"
   ]
  },
  {
   "cell_type": "code",
   "execution_count": null,
   "metadata": {},
   "outputs": [],
   "source": [
    "add_followers(df, followers_change)"
   ]
  },
  {
   "cell_type": "code",
   "execution_count": null,
   "metadata": {},
   "outputs": [],
   "source": [
    "stats_df = more_stats(df, followers_change, datetime.strptime(date, \"%b %d %Y\").strftime(\"%Y-%m-%d\"))"
   ]
  },
  {
   "cell_type": "code",
   "execution_count": null,
   "metadata": {},
   "outputs": [
    {
     "data": {
      "text/html": [
       "<div>\n",
       "<style scoped>\n",
       "    .dataframe tbody tr th:only-of-type {\n",
       "        vertical-align: middle;\n",
       "    }\n",
       "\n",
       "    .dataframe tbody tr th {\n",
       "        vertical-align: top;\n",
       "    }\n",
       "\n",
       "    .dataframe thead th {\n",
       "        text-align: right;\n",
       "    }\n",
       "</style>\n",
       "<table border=\"1\" class=\"dataframe\">\n",
       "  <thead>\n",
       "    <tr style=\"text-align: right;\">\n",
       "      <th></th>\n",
       "      <th>Aug 13 2020                 2020-08-14 19:40:33</th>\n",
       "    </tr>\n",
       "    <tr>\n",
       "      <th>countries</th>\n",
       "      <th></th>\n",
       "    </tr>\n",
       "  </thead>\n",
       "  <tbody>\n",
       "    <tr>\n",
       "      <th>AR</th>\n",
       "      <td>-1</td>\n",
       "    </tr>\n",
       "    <tr>\n",
       "      <th>AU</th>\n",
       "      <td>-2</td>\n",
       "    </tr>\n",
       "    <tr>\n",
       "      <th>BD</th>\n",
       "      <td>1</td>\n",
       "    </tr>\n",
       "    <tr>\n",
       "      <th>BR</th>\n",
       "      <td>-4</td>\n",
       "    </tr>\n",
       "    <tr>\n",
       "      <th>CA</th>\n",
       "      <td>3</td>\n",
       "    </tr>\n",
       "    <tr>\n",
       "      <th>DE</th>\n",
       "      <td>4</td>\n",
       "    </tr>\n",
       "    <tr>\n",
       "      <th>GB</th>\n",
       "      <td>-6</td>\n",
       "    </tr>\n",
       "    <tr>\n",
       "      <th>ID</th>\n",
       "      <td>24</td>\n",
       "    </tr>\n",
       "    <tr>\n",
       "      <th>IN</th>\n",
       "      <td>6</td>\n",
       "    </tr>\n",
       "    <tr>\n",
       "      <th>IQ</th>\n",
       "      <td>-1</td>\n",
       "    </tr>\n",
       "    <tr>\n",
       "      <th>MX</th>\n",
       "      <td>30</td>\n",
       "    </tr>\n",
       "    <tr>\n",
       "      <th>NG</th>\n",
       "      <td>1</td>\n",
       "    </tr>\n",
       "    <tr>\n",
       "      <th>PH</th>\n",
       "      <td>29</td>\n",
       "    </tr>\n",
       "    <tr>\n",
       "      <th>PK</th>\n",
       "      <td>-1</td>\n",
       "    </tr>\n",
       "    <tr>\n",
       "      <th>RO</th>\n",
       "      <td>-1</td>\n",
       "    </tr>\n",
       "    <tr>\n",
       "      <th>RS</th>\n",
       "      <td>1</td>\n",
       "    </tr>\n",
       "    <tr>\n",
       "      <th>US</th>\n",
       "      <td>-18</td>\n",
       "    </tr>\n",
       "  </tbody>\n",
       "</table>\n",
       "</div>"
      ],
      "text/plain": [
       "           Aug 13 2020                 2020-08-14 19:40:33\n",
       "countries                                                 \n",
       "AR                                                      -1\n",
       "AU                                                      -2\n",
       "BD                                                       1\n",
       "BR                                                      -4\n",
       "CA                                                       3\n",
       "DE                                                       4\n",
       "GB                                                      -6\n",
       "ID                                                      24\n",
       "IN                                                       6\n",
       "IQ                                                      -1\n",
       "MX                                                      30\n",
       "NG                                                       1\n",
       "PH                                                      29\n",
       "PK                                                      -1\n",
       "RO                                                      -1\n",
       "RS                                                       1\n",
       "US                                                     -18"
      ]
     },
     "execution_count": null,
     "metadata": {
      "tags": []
     },
     "output_type": "execute_result"
    }
   ],
   "source": [
    "get_followers_change(history_df, date)"
   ]
  },
  {
   "cell_type": "code",
   "execution_count": null,
   "metadata": {},
   "outputs": [],
   "source": [
    "#export\n",
    "def update_insights(history_df: pd.DataFrame, date: str):\n",
    "    followers_change = get_followers_change(history_df, date)\n",
    "    df = get_df(date)\n",
    "    if df.empty:\n",
    "        return f\"Nothing to update for {date}\"\n",
    "    if \"PERFORMANCE:\" in df.index:\n",
    "        df = df.iloc[:df.index.get_loc(\"PERFORMANCE:\") - 9, :]\n",
    "\n",
    "    add_followers(df, followers_change)\n",
    "    stats_df = more_stats(df, followers_change, datetime.strptime(date, \"%b %d %Y\").strftime(\"%Y-%m-%d\"))\n",
    "\n",
    "    empty = pd.Series(name=\"\", dtype=str)\n",
    "    df = df.append([empty] * 4)\n",
    "    write_df(df, date)\n",
    "    write_df(stats_df, date, loc=f\"B{len(df)}\")\n",
    "    wsh = get_worksheet(date)\n",
    "    wsh.format(f\"C{wsh.find('Unfollowers').row}\", {\"textFormat\": {\n",
    "        \"foregroundColor\": {\n",
    "            \"red\": 0.0,\n",
    "            \"green\": 0.0,\n",
    "            \"blue\": 1.0\n",
    "        }}},)"
   ]
  },
  {
   "cell_type": "code",
   "execution_count": null,
   "metadata": {},
   "outputs": [],
   "source": [
    "# update_insights(history_df, date)"
   ]
  },
  {
   "cell_type": "code",
   "execution_count": null,
   "metadata": {},
   "outputs": [],
   "source": [
    "#export\n",
    "def save_followers() -> str:\n",
    "    df = get_df(\"History\")\n",
    "    end_time, followers = get_followers()\n",
    "    df = get_updated_followers(df, followers, end_time)\n",
    "    if df.empty:\n",
    "        return f\"No followers change, end_time '{end_time}'\"\n",
    "    date = df.columns[0].split(\"  \")[0]\n",
    "    write_df(df, \"History\")\n",
    "    save_ads_status(df)\n",
    "    followers_change = get_followers_change(df, date)\n",
    "    update_dashboard(date, followers_change)\n",
    "    update_insights(df, date)\n",
    "    return f\"Wrote followers and insights for '{date}'\""
   ]
  },
  {
   "cell_type": "code",
   "execution_count": null,
   "metadata": {},
   "outputs": [
    {
     "data": {
      "text/plain": [
       "\"No followers change, end_time '2020-09-22'\""
      ]
     },
     "execution_count": null,
     "metadata": {
      "tags": []
     },
     "output_type": "execute_result"
    }
   ],
   "source": [
    "save_followers()"
   ]
  },
  {
   "cell_type": "markdown",
   "metadata": {},
   "source": [
    "### Get difference from the previous day"
   ]
  },
  {
   "cell_type": "code",
   "execution_count": null,
   "metadata": {},
   "outputs": [],
   "source": [
    "df = get_df(\"History\")"
   ]
  },
  {
   "cell_type": "code",
   "execution_count": null,
   "metadata": {},
   "outputs": [],
   "source": [
    "change_df = df.diff(axis=1, periods=-1)"
   ]
  },
  {
   "cell_type": "code",
   "execution_count": null,
   "metadata": {},
   "outputs": [],
   "source": [
    "change_df = change_df.fillna(0).astype(int)"
   ]
  },
  {
   "cell_type": "code",
   "execution_count": null,
   "metadata": {},
   "outputs": [],
   "source": [
    "mask = (change_df != 0).any(axis=0)"
   ]
  },
  {
   "cell_type": "code",
   "execution_count": null,
   "metadata": {},
   "outputs": [],
   "source": [
    "change_df = change_df.loc[:, mask]"
   ]
  },
  {
   "cell_type": "code",
   "execution_count": null,
   "metadata": {},
   "outputs": [],
   "source": [
    "change_df = change_df.applymap(lambda x: f\"+{x}\" if x >0 else x)"
   ]
  },
  {
   "cell_type": "code",
   "execution_count": null,
   "metadata": {},
   "outputs": [],
   "source": [
    "change_df = \"(\" + change_df.astype(str) + \")\" + \" \" + df.loc[:, mask].astype(str)"
   ]
  },
  {
   "cell_type": "code",
   "execution_count": null,
   "metadata": {},
   "outputs": [],
   "source": [
    "change_df = change_df.replace([\"\\(0\\) 0\", \"\\(0\\) \"], \"\", regex=True)"
   ]
  },
  {
   "cell_type": "code",
   "execution_count": null,
   "metadata": {},
   "outputs": [],
   "source": [
    "#export\n",
    "def make_change(df: pd.DataFrame) -> pd.DataFrame:\n",
    "    change_df = df.diff(axis=1, periods=-1)\n",
    "    change_df = change_df.fillna(0).astype(int)\n",
    "    zeros_mask  = (change_df != 0).any(axis=0)\n",
    "    change_df = change_df.loc[:, zeros_mask]\n",
    "    change_df = change_df.applymap(lambda x: f\"+{x}\" if x > 0 else x)\n",
    "    change_df = \"(\" + change_df.astype(str) + \")\" + \" \" + df.loc[:, zeros_mask].astype(str)\n",
    "    return change_df.replace([\"\\(0\\) 0\", \"\\(0\\) \"], \"\", regex=True)"
   ]
  },
  {
   "cell_type": "code",
   "execution_count": null,
   "metadata": {},
   "outputs": [],
   "source": [
    "#export\n",
    "def save_change():\n",
    "    df = get_df(\"History\")\n",
    "    change_df = make_change(df)\n",
    "    write_df(change_df, \"Change History\")\n",
    "    ads_status = get_df(\"Ads Status History\")\n",
    "    write_df(ads_status, \"Change History\", f\"A{len(change_df)+3}\", columns=False)"
   ]
  },
  {
   "cell_type": "code",
   "execution_count": null,
   "metadata": {},
   "outputs": [],
   "source": [
    "save_change()"
   ]
  },
  {
   "cell_type": "code",
   "execution_count": null,
   "metadata": {},
   "outputs": [],
   "source": [
    "test_change_df = make_change(pd.DataFrame({\"2020-07-21\": [1001, 724, 55, 2250, 1680],\n",
    "                                           \"2020-07-20\": [1004, 708, 55, 2300, 1600],\n",
    "                                           \"2020-07-19\": [1004, 708, 55, 2300, 1600]},\n",
    "                                          index=[\"AR\", \"AU\", \"BD\", \"BR\", \"CA\"]))\n",
    "assert test_change_df.iloc[4,:].to_list() == [\"(+80) 1680\"]\n",
    "assert test_change_df.iloc[3,:].to_list() == [\"(-50) 2250\"]"
   ]
  },
  {
   "cell_type": "code",
   "execution_count": null,
   "metadata": {},
   "outputs": [],
   "source": [
    "#export\n",
    "def update(event: Dict = None, context=None,):\n",
    "    get_followers()\n",
    "    message = save_followers()\n",
    "    save_change()\n",
    "    return message"
   ]
  },
  {
   "cell_type": "code",
   "execution_count": null,
   "metadata": {},
   "outputs": [
    {
     "data": {
      "text/plain": [
       "\"No followers change, end_time '2020-09-22'\""
      ]
     },
     "execution_count": null,
     "metadata": {
      "tags": []
     },
     "output_type": "execute_result"
    }
   ],
   "source": [
    "update()"
   ]
  },
  {
   "cell_type": "code",
   "execution_count": null,
   "metadata": {},
   "outputs": [
    {
     "name": "stdout",
     "output_type": "stream",
     "text": [
      "Converted 00_core.ipynb.\n",
      "Converted 01_followers.ipynb.\n",
      "Converted 02_ads.ipynb.\n",
      "Converted index.ipynb.\n"
     ]
    }
   ],
   "source": [
    "#hide\n",
    "from nbdev.export import notebook2script\n",
    "notebook2script()"
   ]
  },
  {
   "cell_type": "code",
   "execution_count": null,
   "metadata": {},
   "outputs": [],
   "source": [
    ""
   ]
  }
 ],
 "metadata": {
  "kernelspec": {
   "display_name": "Python 3",
   "name": "python3"
  }
 },
 "nbformat": 4,
 "nbformat_minor": 0
}
