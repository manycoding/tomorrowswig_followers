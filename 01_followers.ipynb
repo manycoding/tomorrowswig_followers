{
 "cells": [
  {
   "cell_type": "code",
   "execution_count": null,
   "metadata": {},
   "outputs": [],
   "source": [
    "# default_exp followers"
   ]
  },
  {
   "cell_type": "code",
   "execution_count": null,
   "metadata": {},
   "outputs": [
    {
     "name": "stdout",
     "output_type": "stream",
     "text": [
      "Go to this URL in a browser: https://accounts.google.com/o/oauth2/auth?client_id=947318989803-6bn6qk8qdgf4n4g3pfee6491hc0brc4i.apps.googleusercontent.com&redirect_uri=urn%3aietf%3awg%3aoauth%3a2.0%3aoob&scope=email%20https%3a%2f%2fwww.googleapis.com%2fauth%2fdocs.test%20https%3a%2f%2fwww.googleapis.com%2fauth%2fdrive%20https%3a%2f%2fwww.googleapis.com%2fauth%2fdrive.photos.readonly%20https%3a%2f%2fwww.googleapis.com%2fauth%2fpeopleapi.readonly&response_type=code\n",
      "\n",
      "Enter your authorization code:\n",
      "··········\n",
      "Mounted at /content/drive\n"
     ]
    }
   ],
   "source": [
    "#test_flag_colab\n",
    "from google.colab import drive\n",
    "drive.mount('/content/drive')"
   ]
  },
  {
   "cell_type": "code",
   "execution_count": null,
   "metadata": {},
   "outputs": [],
   "source": [
    "%load_ext autoreload\n",
    "%autoreload 2"
   ]
  },
  {
   "cell_type": "code",
   "execution_count": null,
   "metadata": {},
   "outputs": [
    {
     "name": "stdout",
     "output_type": "stream",
     "text": [
      "\u001b[?25l\r\u001b[K     |██████▏                         | 10kB 14.4MB/s eta 0:00:01\r\u001b[K     |████████████▍                   | 20kB 6.8MB/s eta 0:00:01\r\u001b[K     |██████████████████▌             | 30kB 7.6MB/s eta 0:00:01\r\u001b[K     |████████████████████████▊       | 40kB 8.2MB/s eta 0:00:01\r\u001b[K     |██████████████████████████████▉ | 51kB 7.3MB/s eta 0:00:01\r\u001b[K     |████████████████████████████████| 61kB 3.8MB/s \n",
      "\u001b[?25h/content/drive/My Drive/upwork/Martin followers/tomorrowswig_followers\n"
     ]
    }
   ],
   "source": [
    "#hide\n",
    "!pip install -qU nbdev fastcore\n",
    "from pathlib import Path\n",
    "path = Path(\"/content/drive/My Drive/upwork/Martin followers/tomorrowswig_followers\")\n",
    "%cd \"{path}\"\n",
    "from nbdev import * \n",
    "from nbdev.showdoc import *\n",
    "from fastcore.test import *"
   ]
  },
  {
   "cell_type": "markdown",
   "metadata": {},
   "source": [
    "# Instagram followers\n",
    "> Here I'll create a script to fetch new followers for an instagram account. The reason is to track followers change by country, facebook API offers only lifetime numbers which are updated daily.\n",
    "\n",
    "https://developers.facebook.com/tools/explorer/\n",
    "\n",
    "https://developers.facebook.com/docs/facebook-login/access-tokens/"
   ]
  },
  {
   "cell_type": "markdown",
   "metadata": {},
   "source": [
    "## Facebook Auth"
   ]
  },
  {
   "cell_type": "code",
   "execution_count": null,
   "metadata": {},
   "outputs": [
    {
     "name": "stdout",
     "output_type": "stream",
     "text": [
      "\u001b[K     |████████████████████████████████| 1.0MB 4.9MB/s \n",
      "\u001b[K     |████████████████████████████████| 10.1MB 18.3MB/s \n",
      "\u001b[?25h  Building wheel for pycountry (setup.py) ... \u001b[?25l\u001b[?25hdone\n",
      "  Building wheel for curlify (setup.py) ... \u001b[?25l\u001b[?25hdone\n"
     ]
    }
   ],
   "source": [
    "#hide\n",
    "!pip install -qU gspread facebook_business python-facebook-api"
   ]
  },
  {
   "cell_type": "code",
   "execution_count": null,
   "metadata": {},
   "outputs": [],
   "source": [
    "#hide\n",
    "#test_flag_colab\n",
    "%%capture\n",
    "\n",
    "import yaml\n",
    "with open(path.parent/\"facebook_creds.yml\") as f:\n",
    "    data = yaml.safe_load(f)\n",
    "    %env APP_ID {data.get(\"APP_ID\")}\n",
    "    %env APP_SECRET {data.get(\"APP_SECRET\")}\n",
    "    %env TOKEN {data.get(\"TOKEN\")}\n",
    "    %env USER_ID {data.get(\"USER_ID\")}"
   ]
  },
  {
   "cell_type": "code",
   "execution_count": null,
   "metadata": {},
   "outputs": [],
   "source": [
    "#export\n",
    "import os\n",
    "from datetime import datetime, timedelta\n",
    "from typing import *\n",
    "\n",
    "import pandas as pd\n",
    "import numpy as np\n",
    "from pyfacebook import IgProApi\n",
    "from pyfacebook.error import *\n",
    "from tomorrowswig_followers.core import *\n",
    "from tomorrowswig_followers.ads import *"
   ]
  },
  {
   "cell_type": "code",
   "execution_count": null,
   "metadata": {},
   "outputs": [],
   "source": [
    "APP_ID = os.environ.get(\"APP_ID\")\n",
    "APP_SECRET = os.environ.get(\"APP_SECRET\")\n",
    "TOKEN = os.environ.get(\"TOKEN\")\n",
    "USER_ID = os.environ.get(\"USER_ID\")"
   ]
  },
  {
   "cell_type": "markdown",
   "metadata": {},
   "source": [
    "## Get new followers with graph api"
   ]
  },
  {
   "cell_type": "code",
   "execution_count": null,
   "metadata": {},
   "outputs": [
    {
     "name": "stdout",
     "output_type": "stream",
     "text": [
      "HTTP/2 200 \r\n",
      "vary: Accept-Encoding\r\n",
      "etag: \"4ca7035649064da000a39d9342473fa3157d045c\"\r\n",
      "x-business-use-case-usage: {\"17841409206135869\":[{\"type\":\"instagram\",\"call_count\":1,\"total_cputime\":1,\"total_time\":1,\"estimated_time_to_regain_access\":0}]}\r\n",
      "content-type: application/json; charset=UTF-8\r\n",
      "facebook-api-version: v7.0\r\n",
      "strict-transport-security: max-age=15552000; preload\r\n",
      "pragma: no-cache\r\n",
      "x-fb-rev: 1002505327\r\n",
      "access-control-allow-origin: *\r\n",
      "cache-control: private, no-cache, no-store, must-revalidate\r\n",
      "x-fb-trace-id: BiWhncYz5DW\r\n",
      "x-fb-request-id: ASj4eBp4ydcmsDi1mERkZk9\r\n",
      "expires: Sat, 01 Jan 2000 00:00:00 GMT\r\n",
      "x-fb-debug: enrFGGhWjae3mSW5W/X1gnEnQuEXtBgZLEh99aPNsVqwv7Kt25cQuJZT9F5URKwhu5U+zMWs8+cBNRxc5A4Gew==\r\n",
      "date: Thu, 13 Aug 2020 01:34:55 GMT\r\n",
      "alt-svc: h3-29=\":443\"; ma=3600,h3-27=\":443\"; ma=3600\r\n",
      "\r\n",
      "{\"data\":[{\"name\":\"audience_country\",\"period\":\"lifetime\",\"values\":[{\"value\":{\"RS\":56,\"DE\":939,\"NP\":37,\"BD\":53,\"TW\":125,\"PT\":155,\"JO\":41,\"JP\":83,\"UA\":39,\"FR\":56,\"HU\":99,\"BR\":2454,\"MA\":85,\"SG\":707,\"DZ\":104,\"KE\":74,\"ID\":2764,\"GB\":2837,\"IE\":121,\"CA\":1825,\"US\":8400,\"EG\":61,\"IN\":1983,\"ZA\":52,\"IQ\":101,\"CL\":521,\"GR\":79,\"IT\":1597,\"MX\":2971,\"CO\":62,\"MY\":185,\"ES\":146,\"VE\":43,\"CR\":70,\"AR\":1042,\"AU\":878,\"CZ\":51,\"PH\":2664,\"NG\":73,\"TN\":35,\"PK\":288,\"PL\":167,\"RO\":43,\"TR\":105,\"NL\":121},\"end_time\":\"2020-08-12T07:00:00+0000\"}],\"title\":\"Audience Country\",\"description\":\"The countries of this profile's followers\",\"id\":\"17841409206135869\\/insights\\/audience_country\\/lifetime\"}]}"
     ]
    }
   ],
   "source": [
    "#hide\n",
    "!curl -i -X GET \\\n",
    " \"https://graph.facebook.com/v7.0/17841409206135869/insights?metric=audience_country&period=lifetime&access_token={TOKEN}\""
   ]
  },
  {
   "cell_type": "code",
   "execution_count": null,
   "metadata": {},
   "outputs": [],
   "source": [
    "api = IgProApi(app_id=APP_ID, app_secret=APP_SECRET, long_term_token=TOKEN,\n",
    "               version=\"5.0\")"
   ]
  },
  {
   "cell_type": "code",
   "execution_count": null,
   "metadata": {},
   "outputs": [],
   "source": [
    "try:\n",
    "    response = api.get_user_insights(user_id=USER_ID, period=\"lifetime\", metrics=[\"audience_country\"],\n",
    "                                    return_json=True)\n",
    "except PyFacebookException as e:\n",
    "    display(e.message)"
   ]
  },
  {
   "cell_type": "code",
   "execution_count": null,
   "metadata": {},
   "outputs": [],
   "source": [
    "response = response[0][\"values\"][0]"
   ]
  },
  {
   "cell_type": "code",
   "execution_count": null,
   "metadata": {},
   "outputs": [
    {
     "data": {
      "application/vnd.google.colaboratory.intrinsic+json": {
       "type": "string"
      },
      "text/plain": [
       "'2020-08-12T07:00:00+0000'"
      ]
     },
     "execution_count": null,
     "metadata": {
      "tags": []
     },
     "output_type": "execute_result"
    }
   ],
   "source": [
    "response[\"end_time\"]"
   ]
  },
  {
   "cell_type": "code",
   "execution_count": null,
   "metadata": {},
   "outputs": [],
   "source": [
    "#export\n",
    "def get_followers() -> Tuple[str, Dict[str, int]]:\n",
    "    api = IgProApi(\n",
    "        app_id=APP_ID, app_secret=APP_SECRET, long_term_token=TOKEN, version=\"5.0\"\n",
    "    )\n",
    "    try:\n",
    "        response = api.get_user_insights(\n",
    "            user_id=USER_ID,\n",
    "            period=\"lifetime\",\n",
    "            metrics=[\"audience_country\"],\n",
    "            return_json=True,\n",
    "        )[0][\"values\"][0]\n",
    "        return response[\"end_time\"].split(\"T\")[0], response[\"value\"]\n",
    "    except PyFacebookException as e:\n",
    "        return (e.message, {0: 0})"
   ]
  },
  {
   "cell_type": "code",
   "execution_count": null,
   "metadata": {},
   "outputs": [],
   "source": [
    "#export\n",
    "def get_new_followers() -> Tuple[str, Dict[str, int]]:\n",
    "    api = IgProApi(\n",
    "        app_id=APP_ID, app_secret=APP_SECRET, long_term_token=TOKEN, version=\"5.0\"\n",
    "    )\n",
    "    try:\n",
    "        response = api.get_user_insights(\n",
    "                user_id=USER_ID,\n",
    "                period=\"day\",\n",
    "                metrics=[\"follower_count\"],\n",
    "                return_json=True,\n",
    "            )[0][\"values\"][0]\n",
    "        return response[\"end_time\"].split(\"T\")[0], response[\"value\"]\n",
    "    except PyFacebookException as e:\n",
    "        return (e.message, 0)"
   ]
  },
  {
   "cell_type": "code",
   "execution_count": null,
   "metadata": {},
   "outputs": [
    {
     "data": {
      "text/plain": [
       "('2020-08-11', 84)"
      ]
     },
     "execution_count": null,
     "metadata": {
      "tags": []
     },
     "output_type": "execute_result"
    }
   ],
   "source": [
    "get_new_followers()"
   ]
  },
  {
   "cell_type": "markdown",
   "metadata": {},
   "source": [
    "## Google Sheets"
   ]
  },
  {
   "cell_type": "markdown",
   "metadata": {},
   "source": [
    "### Insert new followers to a google sheet "
   ]
  },
  {
   "cell_type": "code",
   "execution_count": null,
   "metadata": {},
   "outputs": [],
   "source": [
    "end_time, followers = get_followers()"
   ]
  },
  {
   "cell_type": "code",
   "execution_count": null,
   "metadata": {},
   "outputs": [],
   "source": [
    "df = get_df(\"History\")"
   ]
  },
  {
   "cell_type": "code",
   "execution_count": null,
   "metadata": {},
   "outputs": [],
   "source": [
    "end_time = (datetime.strptime(end_time, \"%Y-%m-%d\") - timedelta(days=1)).strftime(\"%b %d %Y\")"
   ]
  },
  {
   "cell_type": "code",
   "execution_count": null,
   "metadata": {},
   "outputs": [],
   "source": [
    "new_followers = pd.Series(followers)\n",
    "new_followers.name = f\"{end_time} {str(datetime.utcnow()).split('.')[0]}\"\n",
    "last_entry = df.iloc[:, 0]"
   ]
  },
  {
   "cell_type": "code",
   "execution_count": null,
   "metadata": {},
   "outputs": [],
   "source": [
    "if not np.array_equal(last_entry[last_entry != 0].values, new_followers.sort_index().values):\n",
    "    df = pd.concat([df, new_followers], axis=1)\n",
    "    df = df[[df.columns[-1]] + df.columns[:-1].tolist()]\n",
    "df.sort_index(inplace=True)"
   ]
  },
  {
   "cell_type": "code",
   "execution_count": null,
   "metadata": {},
   "outputs": [],
   "source": [
    "df = df.fillna(0).astype(int)"
   ]
  },
  {
   "cell_type": "code",
   "execution_count": null,
   "metadata": {},
   "outputs": [],
   "source": [
    "#export\n",
    "def get_updated_followers(\n",
    "    df: pd.DataFrame, data: Dict[str, int], end_time: str\n",
    ") -> pd.DataFrame:\n",
    "    new_followers = pd.Series(data)\n",
    "    date = (datetime.strptime(end_time, \"%Y-%m-%d\") - timedelta(days=1)).strftime(f\"%b %d %Y{' '*16}\")\n",
    "    new_followers.name = f\"{date} {str(datetime.utcnow()).split('.')[0]}\"\n",
    "    last_entry = df.iloc[:, 0]\n",
    "    if np.array_equal(last_entry[last_entry != 0].values, new_followers.sort_index().values):\n",
    "        return pd.DataFrame()\n",
    "    else:\n",
    "        df = pd.concat([df, new_followers], axis=1)\n",
    "        df = df[[df.columns[-1]] + df.columns[:-1].tolist()]\n",
    "        df.index.name = \"countries\" \n",
    "        df.sort_index(inplace=True)\n",
    "        return df.fillna(0).astype(int)"
   ]
  },
  {
   "cell_type": "code",
   "execution_count": null,
   "metadata": {},
   "outputs": [],
   "source": [
    "fetched_followers = {'AR': 1001, 'AU': 724, 'BD': 55, 'BR': 2250, 'CA': 1680, 'CL': 526, 'CO': 6}\n",
    "end_time = \"2020-07-21\"\n",
    "old_followers = {'AR': 100, 'AU': 70, 'BD': 0, 'BR': 0, 'CA': 0, 'CL': 0, 'CO': 0}\n",
    "followers_df = pd.DataFrame.from_dict(old_followers, orient=\"index\")\n",
    "\n",
    "test_followers_df = get_updated_followers(followers_df, fetched_followers, end_time)\n",
    "\n",
    "test_followers_df.rename(columns={test_followers_df.columns[0]: \"2020-01-01\" }, inplace=True)\n",
    "assert {0: old_followers, '2020-01-01': fetched_followers, } == test_followers_df.to_dict()\n",
    "\n",
    "test_followers_df = get_updated_followers(followers_df, fetched_followers, end_time)\n",
    "test_followers_df.rename(columns={test_followers_df.columns[0]: \"2020-01-02\" }, inplace=True)\n",
    "assert {0: old_followers, '2020-01-02': fetched_followers} == test_followers_df.to_dict()"
   ]
  },
  {
   "cell_type": "code",
   "execution_count": null,
   "metadata": {},
   "outputs": [],
   "source": [
    "#export\n",
    "def get_dif(df: pd.DataFrame) -> pd.DataFrame:\n",
    "    change_df = df.diff(axis=1, periods=-1)\n",
    "    change_df = change_df.fillna(0).astype(int)\n",
    "    return change_df"
   ]
  },
  {
   "cell_type": "code",
   "execution_count": null,
   "metadata": {},
   "outputs": [],
   "source": [
    "#export\n",
    "def get_followers_change(history_df: pd.DataFrame) -> pd.DataFrame:\n",
    "    new_followers = get_dif(history_df)\n",
    "    new_followers = new_followers.iloc[:,[0]].replace(0, np.nan)\n",
    "    new_followers = new_followers.dropna(axis=1, how=\"all\").iloc[:, :1].dropna().astype(int)\n",
    "    return new_followers"
   ]
  },
  {
   "cell_type": "code",
   "execution_count": null,
   "metadata": {},
   "outputs": [],
   "source": [
    "#export\n",
    "def add_followers(df: pd.DataFrame, new_followers: pd.DataFrame):\n",
    "    df[\"Ads Followers Change\"] = new_followers\n",
    "    df.fillna(0, inplace=True)\n",
    "    df[\"% (Clicks)\"] = (df[\"Ads Followers Change\"] / df[\"Clicks (All)\"])\n",
    "    df[\"% (Impressions)\"] = (df[\"Ads Followers Change\"] / df[\"Impressions\"])\n",
    "    df[\"Cost Per Follow\"] = (df[\"Amount Spent (USD)\"] / df[\"Ads Followers Change\"])\n",
    "    df.replace([np.inf], 0, inplace=True)\n",
    "    df[\"% (Impressions)\"] = df[\"% (Impressions)\"].round(4)\n",
    "    df[df.columns.difference([\"% (Impressions)\"])] = df[df.columns.difference([\"% (Impressions)\"])].round(2)"
   ]
  },
  {
   "cell_type": "markdown",
   "metadata": {},
   "source": [
    "random followers + followers from ads - unfollowers = followers gain\n",
    "\n",
    "unfollowers = random followers + followers from ads - followers gain = new followers - followers gain\n",
    "\n",
    "random_followers = new followers - followers from ads"
   ]
  },
  {
   "cell_type": "code",
   "execution_count": null,
   "metadata": {},
   "outputs": [],
   "source": [
    "#export\n",
    "def more_stats(df: pd.DataFrame, followers_change: pd.DataFrame) -> pd.DataFrame:\n",
    "    stats = pd.Series(dtype=float, name=\"Followers\")\n",
    "    ads_followers_gain = df[\"Ads Followers Change\"].sum()\n",
    "    followers_gain = followers_change.sum().item()\n",
    "    spent = df.loc[\"total\", \"Amount Spent (USD)\"]\n",
    "    stats[\"Ads Followers Change\"] = ads_followers_gain\n",
    "    new_followers = get_new_followers()[1]\n",
    "    stats[\"Random Followers\"] = new_followers - ads_followers_gain\n",
    "    stats[\"New Followers\"] = new_followers\n",
    "    stats[\"Unfollowers\"] = stats[\"New Followers\"] - followers_gain\n",
    "    stats[\"Followers Change\"] = ads_followers_gain + stats[\"Random Followers\"] - stats[\"Unfollowers\"]\n",
    "\n",
    "    stats_df = pd.DataFrame(stats)\n",
    "    stats_df.index.name = \"  \"\n",
    "    stats_df[\"Conversion Rate\"] = stats_df[\"Followers\"] / df.loc[\"total\", \"Clicks (All)\"]\n",
    "    stats_df[\" \"] = 0\n",
    "    stats_df[\"Cost Per Follower/Increase\"] = spent/ stats_df[\"Followers\"]\n",
    "    stats_df.iloc[1:, 1] = 0\n",
    "    stats_df.iloc[[1,3,4], 3] = 0\n",
    "    return stats_df.round(2)"
   ]
  },
  {
   "cell_type": "code",
   "execution_count": null,
   "metadata": {},
   "outputs": [],
   "source": [
    "#export\n",
    "def update_insights(history_df: pd.DataFrame, date:str):\n",
    "    followers_change = get_followers_change(history_df)\n",
    "    df = get_df(date)\n",
    "    if df.empty:\n",
    "        create_insights()\n",
    "        df = get_df(date)\n",
    "    if \"PERFORMANCE:\" in df.index:\n",
    "        cut_off = df.reset_index().index[df[\"Ad Name\"] == \"Ads Followers Change\"].item()\n",
    "        df = df[:cut_off - 3]\n",
    "    worksheet_name = date\n",
    "    add_followers(df, followers_change)\n",
    "\n",
    "    stats_df = more_stats(df, followers_change)\n",
    "    empty = pd.Series(name=\"\", dtype=str)\n",
    "    df = df.append([empty] * 4)\n",
    "    write_df(df, worksheet_name)\n",
    "    stats_df = stats_df.append([empty] * 15)\n",
    "    write_df(stats_df, worksheet_name, loc=f\"B{len(df)}\")\n",
    "    notes_df = pd.DataFrame([[\"\", \"CONSIDER:\", \"\", \"\", \"TO DO:\"]], index=[\"PERFORMANCE:\"], columns=[\"\"] * 5)\n",
    "    write_df(notes_df, worksheet_name, loc=f\"A{len(stats_df) + len(df) - 14}\")\n",
    "\n",
    "    wsh = get_worksheet(worksheet_name)\n",
    "    unf_cell = wsh.find(\"Unfollowers\")\n",
    "    wsh.format(f\"C{wsh.find('Unfollowers').row}\", {\"textFormat\": {\n",
    "        \"foregroundColor\": {\n",
    "            \"red\": 0.0,\n",
    "            \"green\": 0.0,\n",
    "            \"blue\": 1.0\n",
    "        }}},)"
   ]
  },
  {
   "cell_type": "code",
   "execution_count": null,
   "metadata": {},
   "outputs": [],
   "source": [
    "#export\n",
    "def save_followers() -> Tuple[pd.DataFrame, str]:\n",
    "    df = get_df(\"History\")\n",
    "    end_time, followers = get_followers()\n",
    "    df = get_updated_followers(df, followers, end_time)\n",
    "    if df.empty:\n",
    "        return end_time, \"No followers change\"\n",
    "    date = df.columns[0].split(\"  \")[0]\n",
    "    update_insights(df, date)\n",
    "    write_df(df, \"History\")\n",
    "    return date, f\"Updated followers and insights for '{date}'\""
   ]
  },
  {
   "cell_type": "code",
   "execution_count": null,
   "metadata": {},
   "outputs": [
    {
     "data": {
      "text/plain": [
       "('2020-08-12', 'No followers change')"
      ]
     },
     "execution_count": null,
     "metadata": {
      "tags": []
     },
     "output_type": "execute_result"
    }
   ],
   "source": [
    "save_followers()"
   ]
  },
  {
   "cell_type": "markdown",
   "metadata": {},
   "source": [
    "### Get difference from the previous day"
   ]
  },
  {
   "cell_type": "code",
   "execution_count": null,
   "metadata": {},
   "outputs": [],
   "source": [
    "df = get_df(\"History\")"
   ]
  },
  {
   "cell_type": "code",
   "execution_count": null,
   "metadata": {},
   "outputs": [],
   "source": [
    "change_df = df.diff(axis=1, periods=-1)"
   ]
  },
  {
   "cell_type": "code",
   "execution_count": null,
   "metadata": {},
   "outputs": [],
   "source": [
    "change_df = change_df.fillna(0).astype(int)"
   ]
  },
  {
   "cell_type": "code",
   "execution_count": null,
   "metadata": {},
   "outputs": [],
   "source": [
    "mask = (change_df != 0).any(axis=0)"
   ]
  },
  {
   "cell_type": "code",
   "execution_count": null,
   "metadata": {},
   "outputs": [],
   "source": [
    "change_df = change_df.loc[:, mask]"
   ]
  },
  {
   "cell_type": "code",
   "execution_count": null,
   "metadata": {},
   "outputs": [],
   "source": [
    "change_df = change_df.applymap(lambda x: f\"+{x}\" if x >0 else x)"
   ]
  },
  {
   "cell_type": "code",
   "execution_count": null,
   "metadata": {},
   "outputs": [],
   "source": [
    "change_df = \"(\" + change_df.astype(str) + \")\" + \" \" + df.loc[:, mask].astype(str)"
   ]
  },
  {
   "cell_type": "code",
   "execution_count": null,
   "metadata": {},
   "outputs": [],
   "source": [
    "change_df = change_df.replace([\"\\(0\\) 0\", \"\\(0\\) \"], \"\", regex=True)"
   ]
  },
  {
   "cell_type": "code",
   "execution_count": null,
   "metadata": {},
   "outputs": [],
   "source": [
    "change_history = get_worksheet(\"Change History\")"
   ]
  },
  {
   "cell_type": "code",
   "execution_count": null,
   "metadata": {},
   "outputs": [],
   "source": [
    "#export\n",
    "def make_change(df: pd.DataFrame) -> pd.DataFrame:\n",
    "    change_df = df.diff(axis=1, periods=-1)\n",
    "    change_df = change_df.fillna(0).astype(int)\n",
    "    zeros_mask  = (change_df != 0).any(axis=0)\n",
    "    change_df = change_df.loc[:, zeros_mask]\n",
    "    change_df = change_df.applymap(lambda x: f\"+{x}\" if x > 0 else x)\n",
    "    change_df = \"(\" + change_df.astype(str) + \")\" + \" \" + df.loc[:, zeros_mask].astype(str)\n",
    "    return change_df.replace([\"\\(0\\) 0\", \"\\(0\\) \"], \"\", regex=True)"
   ]
  },
  {
   "cell_type": "code",
   "execution_count": null,
   "metadata": {},
   "outputs": [],
   "source": [
    "#export\n",
    "def save_change():\n",
    "    df = get_df(\"History\")\n",
    "    change_df = make_change(df)\n",
    "    write_df(change_df, \"Change History\")"
   ]
  },
  {
   "cell_type": "code",
   "execution_count": null,
   "metadata": {},
   "outputs": [],
   "source": [
    "# save_change()"
   ]
  },
  {
   "cell_type": "code",
   "execution_count": null,
   "metadata": {},
   "outputs": [],
   "source": [
    "test_change_df = make_change(pd.DataFrame({\"2020-07-21\": [1001, 724, 55, 2250, 1680],\n",
    "                                           \"2020-07-20\": [1004, 708, 55, 2300, 1600],\n",
    "                                           \"2020-07-19\": [1004, 708, 55, 2300, 1600]},\n",
    "                                          index=[\"AR\", \"AU\", \"BD\", \"BR\", \"CA\"]))\n",
    "assert test_change_df.iloc[4,:].to_list() == [\"(+80) 1680\"]\n",
    "assert test_change_df.iloc[3,:].to_list() == [\"(-50) 2250\"]"
   ]
  },
  {
   "cell_type": "code",
   "execution_count": null,
   "metadata": {},
   "outputs": [],
   "source": [
    "#export\n",
    "def update(event: Dict = None, context=None,):\n",
    "    get_followers()\n",
    "    date, message = save_followers()\n",
    "    save_change()\n",
    "    return message"
   ]
  },
  {
   "cell_type": "code",
   "execution_count": null,
   "metadata": {},
   "outputs": [],
   "source": [
    "update()"
   ]
  },
  {
   "cell_type": "code",
   "execution_count": null,
   "metadata": {},
   "outputs": [
    {
     "name": "stdout",
     "output_type": "stream",
     "text": [
      "Converted 00_core.ipynb.\n",
      "Converted 01_followers.ipynb.\n",
      "Converted 02_ads.ipynb.\n",
      "Converted index.ipynb.\n"
     ]
    }
   ],
   "source": [
    "#hide\n",
    "from nbdev.export import notebook2script\n",
    "notebook2script()"
   ]
  },
  {
   "cell_type": "code",
   "execution_count": null,
   "metadata": {},
   "outputs": [],
   "source": [
    ""
   ]
  }
 ],
 "metadata": {
  "kernelspec": {
   "display_name": "Python 3",
   "name": "python3"
  }
 },
 "nbformat": 4,
 "nbformat_minor": 0
}
