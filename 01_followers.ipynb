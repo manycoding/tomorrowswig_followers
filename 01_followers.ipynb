{
 "cells": [
  {
   "cell_type": "code",
   "execution_count": null,
   "metadata": {},
   "outputs": [],
   "source": [
    "# default_exp followers"
   ]
  },
  {
   "cell_type": "code",
   "execution_count": null,
   "metadata": {},
   "outputs": [
    {
     "name": "stdout",
     "output_type": "stream",
     "text": [
      "Drive already mounted at /content/drive; to attempt to forcibly remount, call drive.mount(\"/content/drive\", force_remount=True).\n"
     ]
    }
   ],
   "source": [
    "#test_flag_colab\n",
    "from google.colab import drive\n",
    "drive.mount('/content/drive')"
   ]
  },
  {
   "cell_type": "code",
   "execution_count": null,
   "metadata": {},
   "outputs": [
    {
     "name": "stdout",
     "output_type": "stream",
     "text": [
      "The autoreload extension is already loaded. To reload it, use:\n",
      "  %reload_ext autoreload\n"
     ]
    }
   ],
   "source": [
    "%load_ext autoreload\n",
    "%autoreload 2"
   ]
  },
  {
   "cell_type": "code",
   "execution_count": null,
   "metadata": {},
   "outputs": [
    {
     "name": "stdout",
     "output_type": "stream",
     "text": [
      "/content/drive/My Drive/upwork/Martin followers/tomorrowswig_followers\n"
     ]
    }
   ],
   "source": [
    "#hide\n",
    "!pip install -qU nbdev fastcore\n",
    "from pathlib import Path\n",
    "path = Path(\"/content/drive/My Drive/upwork/Martin followers/tomorrowswig_followers\")\n",
    "%cd \"{path}\"\n",
    "#not deps but we need them to use nbdev and run tests\n",
    "from nbdev import * \n",
    "from nbdev.showdoc import *\n",
    "from fastcore.test import *"
   ]
  },
  {
   "cell_type": "markdown",
   "metadata": {},
   "source": [
    "# Instagram followers\n",
    "> Here I'll create a script to fetch new followers for an instagram account. The reason is to track followers change by country, facebook API offers only lifetime numbers which are updated daily.\n",
    "\n",
    "https://developers.facebook.com/tools/explorer/\n",
    "\n",
    "https://developers.facebook.com/docs/facebook-login/access-tokens/"
   ]
  },
  {
   "cell_type": "markdown",
   "metadata": {},
   "source": [
    "## Facebook Auth"
   ]
  },
  {
   "cell_type": "code",
   "execution_count": null,
   "metadata": {},
   "outputs": [],
   "source": [
    "#hide\n",
    "!pip install -qU gspread python-facebook-api"
   ]
  },
  {
   "cell_type": "code",
   "execution_count": null,
   "metadata": {},
   "outputs": [],
   "source": [
    "#hide\n",
    "#test_flag_colab\n",
    "%%capture\n",
    "\n",
    "import yaml\n",
    "with open(path.parent/\"facebook_creds.yml\") as f:\n",
    "    data = yaml.safe_load(f)\n",
    "    %env APP_ID {data.get(\"APP_ID\")}\n",
    "    %env APP_SECRET {data.get(\"APP_SECRET\")}\n",
    "    %env TOKEN {data.get(\"TOKEN\")}\n",
    "    %env USER_ID {data.get(\"USER_ID\")}"
   ]
  },
  {
   "cell_type": "code",
   "execution_count": null,
   "metadata": {},
   "outputs": [],
   "source": [
    "#export\n",
    "import os\n",
    "from datetime import datetime\n",
    "from typing import *\n",
    "\n",
    "import pandas as pd\n",
    "import numpy as np\n",
    "from pyfacebook import IgProApi\n",
    "from pyfacebook.error import *\n",
    "from tomorrowswig_followers.core import *"
   ]
  },
  {
   "cell_type": "code",
   "execution_count": null,
   "metadata": {},
   "outputs": [],
   "source": [
    "APP_ID = os.environ.get(\"APP_ID\")\n",
    "APP_SECRET = os.environ.get(\"APP_SECRET\")\n",
    "TOKEN = os.environ.get(\"TOKEN\")\n",
    "USER_ID = os.environ.get(\"USER_ID\")"
   ]
  },
  {
   "cell_type": "markdown",
   "metadata": {},
   "source": [
    "## Get new followers with graph api"
   ]
  },
  {
   "cell_type": "code",
   "execution_count": null,
   "metadata": {},
   "outputs": [
    {
     "name": "stdout",
     "output_type": "stream",
     "text": [
      "HTTP/2 200 \r\n",
      "vary: Accept-Encoding\r\n",
      "etag: \"e60ad12c94b0f4c406e5ea2e15a02333b04193c0\"\r\n",
      "x-business-use-case-usage: {\"17841409206135869\":[{\"type\":\"instagram\",\"call_count\":1,\"total_cputime\":1,\"total_time\":1,\"estimated_time_to_regain_access\":0}]}\r\n",
      "content-type: application/json; charset=UTF-8\r\n",
      "facebook-api-version: v7.0\r\n",
      "strict-transport-security: max-age=15552000; preload\r\n",
      "pragma: no-cache\r\n",
      "x-fb-rev: 1002481480\r\n",
      "access-control-allow-origin: *\r\n",
      "cache-control: private, no-cache, no-store, must-revalidate\r\n",
      "x-fb-trace-id: DCqSJWvkYBg\r\n",
      "x-fb-request-id: AmKfd05lt6Xy1bTpiSAz8St\r\n",
      "expires: Sat, 01 Jan 2000 00:00:00 GMT\r\n",
      "x-fb-debug: OZ5tuMfswfGztGFZnafVcL16hv8mK1FUqWtetGjyZWQZX52WBmDTP3nK46e+3QPUvyAvD1MLd2hHGa3DrRSrQg==\r\n",
      "date: Fri, 07 Aug 2020 15:34:11 GMT\r\n",
      "alt-svc: h3-29=\":443\"; ma=3600,h3-27=\":443\"; ma=3600\r\n",
      "\r\n",
      "{\"data\":[{\"name\":\"audience_country\",\"period\":\"lifetime\",\"values\":[{\"value\":{\"RS\":56,\"DE\":904,\"NP\":37,\"BD\":54,\"TW\":125,\"PT\":154,\"JO\":41,\"JP\":83,\"UA\":39,\"FR\":54,\"HU\":97,\"BR\":2387,\"MA\":86,\"SG\":681,\"DZ\":105,\"KE\":74,\"ID\":2683,\"GB\":2767,\"IE\":122,\"CA\":1782,\"US\":8286,\"EG\":61,\"IN\":1988,\"ZA\":51,\"IQ\":103,\"CL\":520,\"GR\":79,\"IT\":1564,\"MX\":2907,\"CO\":60,\"MY\":184,\"ES\":145,\"VE\":43,\"CR\":70,\"AR\":1055,\"AU\":852,\"CZ\":51,\"PH\":2607,\"NG\":75,\"TN\":35,\"PK\":293,\"PL\":165,\"RO\":44,\"TR\":103,\"NL\":120},\"end_time\":\"2020-08-07T07:00:00+0000\"}],\"title\":\"Audience Country\",\"description\":\"The countries of this profile's followers\",\"id\":\"17841409206135869\\/insights\\/audience_country\\/lifetime\"}]}"
     ]
    }
   ],
   "source": [
    "#hide\n",
    "!curl -i -X GET \\\n",
    " \"https://graph.facebook.com/v7.0/17841409206135869/insights?metric=audience_country&period=lifetime&access_token={TOKEN}\""
   ]
  },
  {
   "cell_type": "code",
   "execution_count": null,
   "metadata": {},
   "outputs": [],
   "source": [
    "api = IgProApi(app_id=APP_ID, app_secret=APP_SECRET, long_term_token=TOKEN,\n",
    "               version=\"5.0\")"
   ]
  },
  {
   "cell_type": "code",
   "execution_count": null,
   "metadata": {},
   "outputs": [],
   "source": [
    "try:\n",
    "    response = api.get_user_insights(user_id=USER_ID, period=\"lifetime\", metrics=[\"audience_country\"],\n",
    "                                    return_json=True)\n",
    "except PyFacebookException as e:\n",
    "    display(e.message)"
   ]
  },
  {
   "cell_type": "code",
   "execution_count": null,
   "metadata": {},
   "outputs": [],
   "source": [
    "response = response[0][\"values\"][0]"
   ]
  },
  {
   "cell_type": "code",
   "execution_count": null,
   "metadata": {},
   "outputs": [
    {
     "data": {
      "application/vnd.google.colaboratory.intrinsic+json": {
       "type": "string"
      },
      "text/plain": [
       "'2020-08-07T07:00:00+0000'"
      ]
     },
     "execution_count": null,
     "metadata": {
      "tags": []
     },
     "output_type": "execute_result"
    }
   ],
   "source": [
    "response[\"end_time\"]"
   ]
  },
  {
   "cell_type": "code",
   "execution_count": null,
   "metadata": {},
   "outputs": [],
   "source": [
    "#export\n",
    "def get_followers() -> Tuple[str, Dict[str, int]]:\n",
    "    api = IgProApi(\n",
    "        app_id=APP_ID, app_secret=APP_SECRET, long_term_token=TOKEN, version=\"5.0\"\n",
    "    )\n",
    "    try:\n",
    "        response = api.get_user_insights(\n",
    "            user_id=USER_ID,\n",
    "            period=\"lifetime\",\n",
    "            metrics=[\"audience_country\"],\n",
    "            return_json=True,\n",
    "        )[0][\"values\"][0]\n",
    "        return response[\"end_time\"].split(\"T\")[0], response[\"value\"]\n",
    "    except PyFacebookException as e:\n",
    "        return (e.message, {0: 0})"
   ]
  },
  {
   "cell_type": "code",
   "execution_count": null,
   "metadata": {},
   "outputs": [],
   "source": [
    "#export\n",
    "def get_new_followers() -> Tuple[str, Dict[str, int]]:\n",
    "    api = IgProApi(\n",
    "        app_id=APP_ID, app_secret=APP_SECRET, long_term_token=TOKEN, version=\"5.0\"\n",
    "    )\n",
    "    try:\n",
    "        response = api.get_user_insights(\n",
    "                user_id=USER_ID,\n",
    "                period=\"day\",\n",
    "                metrics=[\"follower_count\"],\n",
    "                return_json=True,\n",
    "            )[0][\"values\"][0]\n",
    "        return response[\"end_time\"].split(\"T\")[0], response[\"value\"]\n",
    "    except PyFacebookException as e:\n",
    "        return (e.message, 0)"
   ]
  },
  {
   "cell_type": "code",
   "execution_count": null,
   "metadata": {},
   "outputs": [
    {
     "data": {
      "text/plain": [
       "('2020-08-06', 75)"
      ]
     },
     "execution_count": null,
     "metadata": {
      "tags": []
     },
     "output_type": "execute_result"
    }
   ],
   "source": [
    "get_new_followers()"
   ]
  },
  {
   "cell_type": "markdown",
   "metadata": {},
   "source": [
    "## Google Sheets"
   ]
  },
  {
   "cell_type": "markdown",
   "metadata": {},
   "source": [
    "### Insert new followers to a google sheet "
   ]
  },
  {
   "cell_type": "code",
   "execution_count": null,
   "metadata": {},
   "outputs": [],
   "source": [
    "end_time, followers = get_followers()"
   ]
  },
  {
   "cell_type": "code",
   "execution_count": null,
   "metadata": {},
   "outputs": [],
   "source": [
    "df = get_df(\"History\")"
   ]
  },
  {
   "cell_type": "code",
   "execution_count": null,
   "metadata": {},
   "outputs": [],
   "source": [
    "end_time = datetime.strptime(end_time, \"%Y-%m-%d\").strftime(\"%b %d %Y\")"
   ]
  },
  {
   "cell_type": "code",
   "execution_count": null,
   "metadata": {},
   "outputs": [],
   "source": [
    "new_followers = pd.Series(followers)\n",
    "new_followers.name = f\"{end_time} {str(datetime.utcnow()).split('.')[0]}\"\n",
    "last_entry = df.iloc[:, 0]"
   ]
  },
  {
   "cell_type": "code",
   "execution_count": null,
   "metadata": {},
   "outputs": [],
   "source": [
    "if not np.array_equal(last_entry[last_entry != 0].values, new_followers.sort_index().values):\n",
    "    df = pd.concat([df, new_followers], axis=1)\n",
    "    df = df[[df.columns[-1]] + df.columns[:-1].tolist()]\n",
    "df.sort_index(inplace=True)"
   ]
  },
  {
   "cell_type": "code",
   "execution_count": null,
   "metadata": {},
   "outputs": [],
   "source": [
    "df = df.fillna(0).astype(int)"
   ]
  },
  {
   "cell_type": "code",
   "execution_count": null,
   "metadata": {},
   "outputs": [],
   "source": [
    "#export\n",
    "def get_updated_followers(\n",
    "    df: pd.DataFrame, data: Dict[str, int], end_time: str\n",
    ") -> pd.DataFrame:\n",
    "    new_followers = pd.Series(data)\n",
    "    end_time = datetime.strptime(end_time, \"%Y-%m-%d\").strftime(f\"%b %d %Y{' '*16}\")\n",
    "    new_followers.name = f\"{end_time} {str(datetime.utcnow()).split('.')[0]}\"\n",
    "    last_entry = df.iloc[:, 0]\n",
    "    if not np.array_equal(last_entry[last_entry != 0].values, new_followers.sort_index().values):\n",
    "        df = pd.concat([df, new_followers], axis=1)\n",
    "        df = df[[df.columns[-1]] + df.columns[:-1].tolist()]\n",
    "        df.index.name = \"countries\"\n",
    "    df.sort_index(inplace=True)\n",
    "    return df.fillna(0).astype(int)"
   ]
  },
  {
   "cell_type": "code",
   "execution_count": null,
   "metadata": {},
   "outputs": [],
   "source": [
    "fetched_followers = {'AR': 1001, 'AU': 724, 'BD': 55, 'BR': 2250, 'CA': 1680, 'CL': 526, 'CO': 6}\n",
    "end_time = \"2020-07-21\"\n",
    "\n",
    "test_followers_df = get_updated_followers(pd.DataFrame.from_dict(fetched_followers, orient=\"index\"),\n",
    "                                          fetched_followers, end_time)\n",
    "test_followers_df.rename(columns={test_followers_df.columns[0]: \"2020-01-01\" }, inplace=True)\n",
    "assert {'2020-01-01': fetched_followers} == test_followers_df.to_dict()\n",
    "\n",
    "test_followers_df = get_updated_followers(test_followers_df, fetched_followers, end_time)\n",
    "test_followers_df.rename(columns={test_followers_df.columns[0]: \"2020-01-02\" }, inplace=True)\n",
    "assert {'2020-01-02': fetched_followers} == test_followers_df.to_dict()"
   ]
  },
  {
   "cell_type": "code",
   "execution_count": null,
   "metadata": {},
   "outputs": [],
   "source": [
    "#export\n",
    "def save_followers() -> str:\n",
    "    df = get_df(\"History\")\n",
    "    end_time, followers = get_followers()\n",
    "    df = get_updated_followers(df, followers, end_time)\n",
    "    write_df(df, \"History\")\n",
    "    return end_time"
   ]
  },
  {
   "cell_type": "code",
   "execution_count": null,
   "metadata": {},
   "outputs": [
    {
     "data": {
      "application/vnd.google.colaboratory.intrinsic+json": {
       "type": "string"
      },
      "text/plain": [
       "'2020-08-07'"
      ]
     },
     "execution_count": null,
     "metadata": {
      "tags": []
     },
     "output_type": "execute_result"
    }
   ],
   "source": [
    "save_followers()"
   ]
  },
  {
   "cell_type": "markdown",
   "metadata": {},
   "source": [
    "### Get difference from the previous day"
   ]
  },
  {
   "cell_type": "code",
   "execution_count": null,
   "metadata": {},
   "outputs": [],
   "source": [
    "df = get_df(\"History\")"
   ]
  },
  {
   "cell_type": "code",
   "execution_count": null,
   "metadata": {},
   "outputs": [],
   "source": [
    "change_df = df.diff(axis=1, periods=-1)"
   ]
  },
  {
   "cell_type": "code",
   "execution_count": null,
   "metadata": {},
   "outputs": [],
   "source": [
    "change_df = change_df.fillna(0).astype(int)"
   ]
  },
  {
   "cell_type": "code",
   "execution_count": null,
   "metadata": {},
   "outputs": [],
   "source": [
    "mask = (change_df != 0).any(axis=0)"
   ]
  },
  {
   "cell_type": "code",
   "execution_count": null,
   "metadata": {},
   "outputs": [],
   "source": [
    "change_df = change_df.loc[:, mask]"
   ]
  },
  {
   "cell_type": "code",
   "execution_count": null,
   "metadata": {},
   "outputs": [],
   "source": [
    "change_df = change_df.applymap(lambda x: f\"+{x}\" if x >0 else x)"
   ]
  },
  {
   "cell_type": "code",
   "execution_count": null,
   "metadata": {},
   "outputs": [],
   "source": [
    "change_df = \"(\" + change_df.astype(str) + \")\" + \" \" + df.loc[:, mask].astype(str)"
   ]
  },
  {
   "cell_type": "code",
   "execution_count": null,
   "metadata": {},
   "outputs": [],
   "source": [
    "change_df = change_df.replace([\"\\(0\\) 0\", \"\\(0\\) \"], \"\", regex=True)"
   ]
  },
  {
   "cell_type": "code",
   "execution_count": null,
   "metadata": {},
   "outputs": [],
   "source": [
    "change_history = get_worksheet(\"Change History\")"
   ]
  },
  {
   "cell_type": "code",
   "execution_count": null,
   "metadata": {},
   "outputs": [],
   "source": [
    "#export\n",
    "def make_change(df: pd.DataFrame) -> pd.DataFrame:\n",
    "    change_df = df.diff(axis=1, periods=-1)\n",
    "    change_df = change_df.fillna(0).astype(int)\n",
    "    zeros_mask  = (change_df != 0).any(axis=0)\n",
    "    change_df = change_df.loc[:, zeros_mask]\n",
    "    change_df = change_df.applymap(lambda x: f\"+{x}\" if x > 0 else x)\n",
    "    change_df = \"(\" + change_df.astype(str) + \")\" + \" \" + df.loc[:, zeros_mask].astype(str)\n",
    "    return change_df.replace([\"\\(0\\) 0\", \"\\(0\\) \"], \"\", regex=True)"
   ]
  },
  {
   "cell_type": "code",
   "execution_count": null,
   "metadata": {},
   "outputs": [],
   "source": [
    "#export\n",
    "def save_change():\n",
    "    df = get_df(\"History\")\n",
    "    change_df = make_change(df)\n",
    "    write_df(change_df, \"Change History\")"
   ]
  },
  {
   "cell_type": "code",
   "execution_count": null,
   "metadata": {},
   "outputs": [],
   "source": [
    "# save_change()"
   ]
  },
  {
   "cell_type": "code",
   "execution_count": null,
   "metadata": {},
   "outputs": [],
   "source": [
    "test_change_df = make_change(pd.DataFrame({\"2020-07-21\": [1001, 724, 55, 2250, 1680],\n",
    "                                           \"2020-07-20\": [1004, 708, 55, 2300, 1600],\n",
    "                                           \"2020-07-19\": [1004, 708, 55, 2300, 1600]},\n",
    "                                          index=[\"AR\", \"AU\", \"BD\", \"BR\", \"CA\"]))\n",
    "assert test_change_df.iloc[4,:].to_list() == [\"(+80) 1680\"]\n",
    "assert test_change_df.iloc[3,:].to_list() == [\"(-50) 2250\"]"
   ]
  },
  {
   "cell_type": "code",
   "execution_count": null,
   "metadata": {},
   "outputs": [],
   "source": [
    "#export\n",
    "def update(event: Dict = None, context=None,):\n",
    "    get_followers()\n",
    "    time = save_followers()\n",
    "    save_change()\n",
    "    return f\"Updated followers from '{time}' in 'History' and 'Change History'\""
   ]
  },
  {
   "cell_type": "code",
   "execution_count": null,
   "metadata": {},
   "outputs": [
    {
     "name": "stdout",
     "output_type": "stream",
     "text": [
      "Converted 00_core.ipynb.\n",
      "Converted 01_followers.ipynb.\n",
      "Converted 02_ads.ipynb.\n",
      "Converted index.ipynb.\n"
     ]
    }
   ],
   "source": [
    "#hide\n",
    "from nbdev.export import notebook2script\n",
    "notebook2script()"
   ]
  },
  {
   "cell_type": "code",
   "execution_count": null,
   "metadata": {},
   "outputs": [],
   "source": [
    ""
   ]
  }
 ],
 "metadata": {
  "kernelspec": {
   "display_name": "Python 3",
   "name": "python3"
  }
 },
 "nbformat": 4,
 "nbformat_minor": 0
}
