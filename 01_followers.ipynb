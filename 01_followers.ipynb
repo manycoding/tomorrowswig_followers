{
 "cells": [
  {
   "cell_type": "code",
   "execution_count": null,
   "metadata": {},
   "outputs": [],
   "source": [
    "# default_exp followers"
   ]
  },
  {
   "cell_type": "code",
   "execution_count": null,
   "metadata": {},
   "outputs": [
    {
     "name": "stdout",
     "output_type": "stream",
     "text": [
      "Drive already mounted at /content/drive; to attempt to forcibly remount, call drive.mount(\"/content/drive\", force_remount=True).\n"
     ]
    }
   ],
   "source": [
    "#test_flag_colab\n",
    "from google.colab import drive\n",
    "drive.mount('/content/drive')"
   ]
  },
  {
   "cell_type": "code",
   "execution_count": null,
   "metadata": {},
   "outputs": [
    {
     "name": "stdout",
     "output_type": "stream",
     "text": [
      "The autoreload extension is already loaded. To reload it, use:\n",
      "  %reload_ext autoreload\n"
     ]
    }
   ],
   "source": [
    "%load_ext autoreload\n",
    "%autoreload 2"
   ]
  },
  {
   "cell_type": "code",
   "execution_count": null,
   "metadata": {},
   "outputs": [],
   "source": [
    "#hide\n",
    "!pip install -qU nbdev\n",
    "!pip install -qU fastcore"
   ]
  },
  {
   "cell_type": "code",
   "execution_count": null,
   "metadata": {},
   "outputs": [
    {
     "name": "stdout",
     "output_type": "stream",
     "text": [
      "/content/drive/My Drive/upwork/Martin followers/tomorrowswig_followers\n"
     ]
    }
   ],
   "source": [
    "#hide\n",
    "from pathlib import Path\n",
    "path = Path(\"/content/drive/My Drive/upwork/Martin followers/tomorrowswig_followers\")\n",
    "%cd \"{path}\""
   ]
  },
  {
   "cell_type": "code",
   "execution_count": null,
   "metadata": {},
   "outputs": [],
   "source": [
    "#hide\n",
    "#not deps but we need them to use nbdev and run tests\n",
    "from nbdev import * \n",
    "from nbdev.showdoc import *\n",
    "from fastcore.test import *"
   ]
  },
  {
   "cell_type": "markdown",
   "metadata": {},
   "source": [
    "# Instagram followers\n",
    "> Here I'll create a script to fetch new followers for an instagram account. The reason is to track followers change by country, facebook API offers only lifetime numbers which are updated daily.\n",
    "\n",
    "https://developers.facebook.com/tools/explorer/\n",
    "\n",
    "https://developers.facebook.com/docs/facebook-login/access-tokens/"
   ]
  },
  {
   "cell_type": "markdown",
   "metadata": {},
   "source": [
    "## Facebook Auth"
   ]
  },
  {
   "cell_type": "code",
   "execution_count": null,
   "metadata": {},
   "outputs": [],
   "source": [
    "#hide\n",
    "!pip install -qU gspread\n",
    "!pip install -qU python-facebook-api"
   ]
  },
  {
   "cell_type": "code",
   "execution_count": null,
   "metadata": {},
   "outputs": [],
   "source": [
    "#hide\n",
    "#test_flag_colab\n",
    "%%capture\n",
    "\n",
    "import yaml\n",
    "with open(path.parent/\"facebook_creds.yml\") as f:\n",
    "    data = yaml.safe_load(f)\n",
    "    %env APP_ID {data.get(\"APP_ID\")}\n",
    "    %env APP_SECRET {data.get(\"APP_SECRET\")}\n",
    "    %env TOKEN {data.get(\"TOKEN\")}\n",
    "    %env USER_ID {data.get(\"USER_ID\")}"
   ]
  },
  {
   "cell_type": "code",
   "execution_count": null,
   "metadata": {},
   "outputs": [],
   "source": [
    "#export\n",
    "import os\n",
    "from datetime import datetime\n",
    "from typing import *\n",
    "\n",
    "import pandas as pd\n",
    "from pyfacebook import IgProApi\n",
    "from pyfacebook.error import *\n",
    "from tomorrowswig_followers.core import *"
   ]
  },
  {
   "cell_type": "code",
   "execution_count": null,
   "metadata": {},
   "outputs": [],
   "source": [
    "APP_ID = os.environ.get(\"APP_ID\")\n",
    "APP_SECRET = os.environ.get(\"APP_SECRET\")\n",
    "TOKEN = os.environ.get(\"TOKEN\")\n",
    "USER_ID = os.environ.get(\"USER_ID\")"
   ]
  },
  {
   "cell_type": "markdown",
   "metadata": {},
   "source": [
    "## Get new followers with graph api"
   ]
  },
  {
   "cell_type": "code",
   "execution_count": null,
   "metadata": {},
   "outputs": [],
   "source": [
    "#hide\n",
    "!curl -i -X GET \\\n",
    " \"https://graph.facebook.com/v7.0/17841409206135869/insights?metric=audience_country&period=lifetime&access_token={TOKEN}\""
   ]
  },
  {
   "cell_type": "code",
   "execution_count": null,
   "metadata": {},
   "outputs": [],
   "source": [
    "api = IgProApi(app_id=APP_ID, app_secret=APP_SECRET, long_term_token=TOKEN,\n",
    "               version=\"5.0\")"
   ]
  },
  {
   "cell_type": "code",
   "execution_count": null,
   "metadata": {},
   "outputs": [],
   "source": [
    "try:\n",
    "    response = api.get_user_insights(user_id=USER_ID, period=\"lifetime\", metrics=[\"audience_country\"],\n",
    "                                    return_json=True)\n",
    "except PyFacebookException as e:\n",
    "    display(e.message)"
   ]
  },
  {
   "cell_type": "code",
   "execution_count": null,
   "metadata": {},
   "outputs": [],
   "source": [
    "response = response[0][\"values\"][0]"
   ]
  },
  {
   "cell_type": "code",
   "execution_count": null,
   "metadata": {},
   "outputs": [],
   "source": [
    "response[\"end_time\"]"
   ]
  },
  {
   "cell_type": "code",
   "execution_count": null,
   "metadata": {},
   "outputs": [],
   "source": [
    "#export\n",
    "def get_followers() -> Tuple[str, Dict[str, int]]:\n",
    "    api = IgProApi(\n",
    "        app_id=APP_ID, app_secret=APP_SECRET, long_term_token=TOKEN, version=\"5.0\"\n",
    "    )\n",
    "    api.get_token_info()\n",
    "    try:\n",
    "        response = api.get_user_insights(\n",
    "            user_id=USER_ID,\n",
    "            period=\"lifetime\",\n",
    "            metrics=[\"audience_country\"],\n",
    "            return_json=True,\n",
    "        )[0][\"values\"][0]\n",
    "        return response[\"end_time\"].split(\"T\")[0], response[\"value\"]\n",
    "    except PyFacebookException as e:\n",
    "        return (e.message, {0: 0})"
   ]
  },
  {
   "cell_type": "markdown",
   "metadata": {},
   "source": [
    "## Google Sheets"
   ]
  },
  {
   "cell_type": "markdown",
   "metadata": {},
   "source": [
    "### Insert new followers to a google sheet "
   ]
  },
  {
   "cell_type": "code",
   "execution_count": null,
   "metadata": {},
   "outputs": [],
   "source": [
    "end_time, followers = get_followers()"
   ]
  },
  {
   "cell_type": "code",
   "execution_count": null,
   "metadata": {},
   "outputs": [],
   "source": [
    "df = get_df(\"History\")"
   ]
  },
  {
   "cell_type": "code",
   "execution_count": null,
   "metadata": {},
   "outputs": [],
   "source": [
    "end_time = datetime.strptime(end_time, \"%Y-%m-%d\").strftime(\"%b \\t %d\")"
   ]
  },
  {
   "cell_type": "code",
   "execution_count": null,
   "metadata": {},
   "outputs": [],
   "source": [
    "new_followers = pd.Series(followers)\n",
    "new_followers.name = f\"{end_time} {str(datetime.utcnow()).split('.')[0]}\"\n",
    "if new_followers.name not in df.columns:\n",
    "    df = pd.concat([df, new_followers], axis=1)\n",
    "    df = df[[df.columns[-1]] + df.columns[:-1].tolist()]\n",
    "df.sort_index(inplace=True)\n",
    "df = df.fillna(0).astype(int)"
   ]
  },
  {
   "cell_type": "code",
   "execution_count": null,
   "metadata": {},
   "outputs": [],
   "source": [
    "#export\n",
    "def get_updated_followers(\n",
    "    df: pd.DataFrame, data: Dict[str, int], end_time: str\n",
    ") -> pd.DataFrame:\n",
    "    new_followers = pd.Series(data)\n",
    "    end_time = datetime.strptime(end_time, \"%Y-%m-%d\").strftime(f\"%b %d{' '*16}\")\n",
    "    new_followers.name = f\"{end_time} {str(datetime.utcnow()).split('.')[0]}\"\n",
    "    if new_followers.name not in df.columns:\n",
    "        df = pd.concat([df, new_followers], axis=1)\n",
    "        df = df[[df.columns[-1]] + df.columns[:-1].tolist()]\n",
    "    df.sort_index(inplace=True)\n",
    "    return df.fillna(0).astype(int)"
   ]
  },
  {
   "cell_type": "code",
   "execution_count": null,
   "metadata": {},
   "outputs": [],
   "source": [
    "fetched_followers = {'AR': 1001, 'AU': 724, 'BD': 55, 'BR': 2250, 'CA': 1680, 'CL': 526, 'CO': 6}\n",
    "end_time = \"2020-07-21\"\n",
    "\n",
    "test_followers_df = get_updated_followers(pd.DataFrame(), fetched_followers, end_time)\n",
    "test_followers_df.rename(columns={test_followers_df.columns[0]: \"2020-01-01\" }, inplace=True)\n",
    "assert {'2020-01-01': fetched_followers} == test_followers_df.to_dict()\n",
    "\n",
    "test_followers_df = get_updated_followers(test_followers_df, fetched_followers, end_time)\n",
    "test_followers_df.rename(columns={test_followers_df.columns[0]: \"2020-01-02\" }, inplace=True)\n",
    "assert {'2020-01-02': fetched_followers,\n",
    "        '2020-01-01': fetched_followers} == test_followers_df.to_dict()"
   ]
  },
  {
   "cell_type": "code",
   "execution_count": null,
   "metadata": {},
   "outputs": [],
   "source": [
    "#export\n",
    "def save_followers() -> None:\n",
    "    df = get_df(\"History\")\n",
    "    end_time, followers = get_followers()\n",
    "    df = get_updated_followers(df, followers, end_time)\n",
    "    write_df(df, \"History\")"
   ]
  },
  {
   "cell_type": "code",
   "execution_count": null,
   "metadata": {},
   "outputs": [],
   "source": [
    "# save_followers()"
   ]
  },
  {
   "cell_type": "markdown",
   "metadata": {},
   "source": [
    "### Get difference from the previous day"
   ]
  },
  {
   "cell_type": "code",
   "execution_count": null,
   "metadata": {},
   "outputs": [],
   "source": [
    "wsh = SH.worksheet(\"History\")\n",
    "df = pd.DataFrame(wsh.get_all_records())\n",
    "df.set_index(df[\"countries\"], inplace=True)\n",
    "df.drop(columns=\"countries\", inplace=True)"
   ]
  },
  {
   "cell_type": "code",
   "execution_count": null,
   "metadata": {},
   "outputs": [],
   "source": [
    "df.head()"
   ]
  },
  {
   "cell_type": "code",
   "execution_count": null,
   "metadata": {},
   "outputs": [],
   "source": [
    "change_df = df.diff(axis=1, periods=-1)"
   ]
  },
  {
   "cell_type": "code",
   "execution_count": null,
   "metadata": {},
   "outputs": [],
   "source": [
    "change_df = change_df.fillna(0).astype(int)"
   ]
  },
  {
   "cell_type": "code",
   "execution_count": null,
   "metadata": {},
   "outputs": [],
   "source": [
    "change_df = change_df.applymap(lambda x: f\"+{x}\" if x >0 else x)"
   ]
  },
  {
   "cell_type": "code",
   "execution_count": null,
   "metadata": {},
   "outputs": [],
   "source": [
    "change_df = \"(\" + change_df.astype(str) + \")\" + \" \" + df.astype(str)"
   ]
  },
  {
   "cell_type": "code",
   "execution_count": null,
   "metadata": {},
   "outputs": [],
   "source": [
    "change_df = change_df.replace([\"\\(0\\) 0\", \"\\(0\\) \"], \"\", regex=True)"
   ]
  },
  {
   "cell_type": "code",
   "execution_count": null,
   "metadata": {},
   "outputs": [],
   "source": [
    "change_history = get_worksheet(\"Change History\")"
   ]
  },
  {
   "cell_type": "code",
   "execution_count": null,
   "metadata": {},
   "outputs": [],
   "source": [
    "#export\n",
    "def save_change():\n",
    "    df = get_df(\"History\")\n",
    "    change_df = make_change(df)\n",
    "    write_df(change_df, \"Change History\")"
   ]
  },
  {
   "cell_type": "code",
   "execution_count": null,
   "metadata": {},
   "outputs": [],
   "source": [
    "#export\n",
    "def make_change(df: pd.DataFrame) -> pd.DataFrame:\n",
    "    change_df = df.diff(axis=1, periods=-1)\n",
    "    change_df = change_df.fillna(0).astype(int)\n",
    "    change_df = change_df.applymap(lambda x: f\"+{x}\" if x > 0 else x)\n",
    "    change_df = \"(\" + change_df.astype(str) + \")\" + \" \" + df.astype(str)\n",
    "    return change_df.replace([\"\\(0\\) 0\", \"\\(0\\) \"], \"\", regex=True)"
   ]
  },
  {
   "cell_type": "code",
   "execution_count": null,
   "metadata": {},
   "outputs": [],
   "source": [
    "test_change_df = make_change(pd.DataFrame({\"2020-07-21\": [1001, 724, 55, 2250, 1680],\n",
    "                                           \"2020-07-20\": [1004, 708, 55, 2300, 1600]},\n",
    "                                          index=[\"AR\", \"AU\", \"BD\", \"BR\", \"CA\"]))\n",
    "assert test_change_df.iloc[4,:].to_list() == [\"(+80) 1680\", \"1600\"]\n",
    "assert test_change_df.iloc[3,:].to_list() == [\"(-50) 2250\", \"2300\"]"
   ]
  },
  {
   "cell_type": "code",
   "execution_count": null,
   "metadata": {},
   "outputs": [],
   "source": [
    "# save_change()"
   ]
  },
  {
   "cell_type": "code",
   "execution_count": null,
   "metadata": {},
   "outputs": [],
   "source": [
    "#export\n",
    "def lambda_handler(\n",
    "    event: Dict = None, context=None,\n",
    "):\n",
    "    \"\"\"Event and context are for AWS Lambda\"\"\"\n",
    "    get_followers()\n",
    "    save_followers()\n",
    "    save_change()\n",
    "    return \"Success\""
   ]
  },
  {
   "cell_type": "code",
   "execution_count": null,
   "metadata": {},
   "outputs": [],
   "source": [
    "#hide\n",
    "from nbdev.export import notebook2script\n",
    "notebook2script()"
   ]
  }
 ],
 "metadata": {
  "kernelspec": {
   "display_name": "Python 3",
   "name": "python3"
  }
 },
 "nbformat": 4,
 "nbformat_minor": 0
}
