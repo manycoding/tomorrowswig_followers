{
 "cells": [
  {
   "cell_type": "code",
   "execution_count": null,
   "metadata": {},
   "outputs": [],
   "source": [
    "# default_exp ads.api"
   ]
  },
  {
   "cell_type": "code",
   "execution_count": null,
   "metadata": {},
   "outputs": [],
   "source": [
    "%load_ext autoreload\n",
    "%autoreload 2"
   ]
  },
  {
   "cell_type": "code",
   "execution_count": null,
   "metadata": {},
   "outputs": [
    {
     "name": "stdout",
     "output_type": "stream",
     "text": [
      "\u001b[?25l\r\u001b[K     |███████▎                        | 10kB 17.6MB/s eta 0:00:01\r\u001b[K     |██████████████▌                 | 20kB 1.8MB/s eta 0:00:01\r\u001b[K     |█████████████████████▊          | 30kB 2.3MB/s eta 0:00:01\r\u001b[K     |█████████████████████████████   | 40kB 2.5MB/s eta 0:00:01\r\u001b[K     |████████████████████████████████| 51kB 1.7MB/s \n",
      "\u001b[?25h"
     ]
    }
   ],
   "source": [
    "#hide\n",
    "!pip install -qU nbdev\n",
    "!pip install -qU fastcore"
   ]
  },
  {
   "cell_type": "code",
   "execution_count": null,
   "metadata": {},
   "outputs": [
    {
     "name": "stdout",
     "output_type": "stream",
     "text": [
      "/content/drive/My Drive/upwork/Martin followers/tomorrowswig-followers\n"
     ]
    }
   ],
   "source": [
    "#hide\n",
    "from pathlib import Path\n",
    "path = Path(\"/content/drive/My Drive/upwork/Martin followers/tomorrowswig-followers\")\n",
    "%cd \"{path}\""
   ]
  },
  {
   "cell_type": "code",
   "execution_count": null,
   "metadata": {},
   "outputs": [],
   "source": [
    "#hide\n",
    "#not deps but we need them to use nbdev and run tests\n",
    "from nbdev import * \n",
    "from nbdev.showdoc import *\n",
    "from fastcore.test import *"
   ]
  },
  {
   "cell_type": "markdown",
   "metadata": {},
   "source": [
    "## Facebook Auth"
   ]
  },
  {
   "cell_type": "code",
   "execution_count": null,
   "metadata": {},
   "outputs": [
    {
     "name": "stdout",
     "output_type": "stream",
     "text": [
      "\u001b[K     |████████████████████████████████| 1.0MB 2.8MB/s \n",
      "\u001b[K     |████████████████████████████████| 10.1MB 17.3MB/s \n",
      "\u001b[?25h  Building wheel for pycountry (setup.py) ... \u001b[?25l\u001b[?25hdone\n",
      "  Building wheel for curlify (setup.py) ... \u001b[?25l\u001b[?25hdone\n"
     ]
    }
   ],
   "source": [
    "#hide\n",
    "!pip install -qU gspread\n",
    "!pip install -qU facebook_business"
   ]
  },
  {
   "cell_type": "code",
   "execution_count": null,
   "metadata": {},
   "outputs": [],
   "source": [
    "#hide\n",
    "%%capture\n",
    "\n",
    "import yaml\n",
    "with open(path.parent/\"facebook_creds.yml\") as f:\n",
    "    data = yaml.safe_load(f)\n",
    "    %env APP_ID {data.get(\"APP_ID\")}\n",
    "    %env APP_SECRET {data.get(\"APP_SECRET\")}\n",
    "    %env TOKEN {data.get(\"TOKEN\")}\n",
    "    %env AD_ACC_ID {data.get(\"AD_ACC_ID\")}"
   ]
  },
  {
   "cell_type": "code",
   "execution_count": null,
   "metadata": {},
   "outputs": [],
   "source": [
    "#export\n",
    "from datetime import datetime\n",
    "import os\n",
    "from typing import *\n",
    "\n",
    "import click\n",
    "import gspread\n",
    "from gspread.models import *\n",
    "import pandas as pd\n",
    "from pyfacebook import IgProApi\n",
    "from pyfacebook.error import *\n",
    "\n",
    "APP_ID = os.environ.get(\"APP_ID\")\n",
    "APP_SECRET = os.environ.get(\"APP_SECRET\")\n",
    "TOKEN = os.environ.get(\"TOKEN\")\n",
    "USER_ID = os.environ.get(\"USER_ID\")\n",
    "SHEET = os.environ.get(\"SHEET\", \"Followers API\")\n",
    "AD_ACC_ID = os.environ.get(\"AD_ACC_ID\")\n",
    "SH = gspread.service_account(filename=path.parent/\"creds.json\").open(SHEET)\n",
    "# SH = gspread.service_account(filename=path.parent/\"careful-form-283418-d1afb9670368.json\").open(\"Test of Followers API)\n"
   ]
  },
  {
   "cell_type": "markdown",
   "metadata": {},
   "source": [
    ""
   ]
  },
  {
   "cell_type": "code",
   "execution_count": null,
   "metadata": {},
   "outputs": [],
   "source": [
    "from facebook_business.adobjects import *"
   ]
  },
  {
   "cell_type": "code",
   "execution_count": null,
   "metadata": {},
   "outputs": [],
   "source": [
    "from facebook_business.api import FacebookAdsApi\n",
    "from facebook_business.adobjects.adaccount import AdAccount\n",
    "from facebook_business.adobjects.ad import Ad\n"
   ]
  },
  {
   "cell_type": "code",
   "execution_count": null,
   "metadata": {},
   "outputs": [
    {
     "data": {
      "text/plain": [
       "<facebook_business.api.FacebookAdsApi at 0x7f2e1966d278>"
      ]
     },
     "execution_count": null,
     "metadata": {
      "tags": []
     },
     "output_type": "execute_result"
    }
   ],
   "source": [
    "FacebookAdsApi.init(APP_ID, APP_SECRET, TOKEN)"
   ]
  },
  {
   "cell_type": "code",
   "execution_count": null,
   "metadata": {},
   "outputs": [],
   "source": [
    "account = AdAccount(AD_ACC_ID)"
   ]
  },
  {
   "cell_type": "code",
   "execution_count": null,
   "metadata": {},
   "outputs": [],
   "source": [
    "account.get_ads(fields=[\n",
    "    Ad.Field.name,\n",
    "    Ad.Field.configured_status,\n",
    "], params={\"configured_status\": \"ACTIVE\"})"
   ]
  },
  {
   "cell_type": "code",
   "execution_count": null,
   "metadata": {},
   "outputs": [],
   "source": [
    "from facebook_business.adobjects.adsinsights import AdsInsights\n",
    "from "
   ]
  },
  {
   "cell_type": "code",
   "execution_count": null,
   "metadata": {},
   "outputs": [
    {
     "data": {
      "application/vnd.google.colaboratory.intrinsic+json": {
       "type": "string"
      },
      "text/plain": [
       "'1595203200'"
      ]
     },
     "execution_count": null,
     "metadata": {
      "tags": []
     },
     "output_type": "execute_result"
    }
   ],
   "source": [
    "datetime(2020,7,20,0,0).strftime('%s')"
   ]
  },
  {
   "cell_type": "code",
   "execution_count": null,
   "metadata": {},
   "outputs": [],
   "source": [
    "insights = account.get_insights(fields=[\n",
    "    AdsInsights.Field.ad_id,\n",
    "    AdsInsights.Field.ad_name,\n",
    "    AdsInsights.Field.clicks,\n",
    "    AdsInsights.Field.unique_clicks,\n",
    "    AdsInsights.Field.unique_inline_link_clicks,\n",
    "    AdsInsights.Field.cpc,\n",
    "    AdsInsights.Field.cost_per_unique_inline_link_click,\n",
    "    AdsInsights.Field.ctr,\n",
    "    AdsInsights.Field.cost_per_one_thousand_ad_impression,\n",
    "    AdsInsights.Field.spend,\n",
    "    AdsInsights.Field.adset_budget_value,\n",
    "    AdsInsights.Field.impressions,\n",
    "    AdsInsights.Field.reach,\n",
    "    AdsInsights.Field.video_avg_time_watched_actions,\n",
    "    AdsInsights.Field.video_p50_watched_actions,\n",
    "    AdsInsights.Field.video_p75_watched_actions,\n",
    "    AdsInsights.Field.video_p95_watched_actions,\n",
    "\n",
    "], params={\n",
    "    'level': AdsInsights.Level.ad,\n",
    "    'date_preset': AdsInsights.DatePreset.yesterday,\n",
    "    # \"date_start\": \"1595116800\",\n",
    "    # \"date_stop\": \"1595203200\"\n",
    "})"
   ]
  },
  {
   "cell_type": "code",
   "execution_count": null,
   "metadata": {},
   "outputs": [],
   "source": [
    "df = pd.DataFrame(insights)\n",
    "df.set_index(df[\"ad_name\"], inplace=True)"
   ]
  },
  {
   "cell_type": "code",
   "execution_count": null,
   "metadata": {},
   "outputs": [
    {
     "data": {
      "text/html": [
       "<div>\n",
       "<style scoped>\n",
       "    .dataframe tbody tr th:only-of-type {\n",
       "        vertical-align: middle;\n",
       "    }\n",
       "\n",
       "    .dataframe tbody tr th {\n",
       "        vertical-align: top;\n",
       "    }\n",
       "\n",
       "    .dataframe thead th {\n",
       "        text-align: right;\n",
       "    }\n",
       "</style>\n",
       "<table border=\"1\" class=\"dataframe\">\n",
       "  <thead>\n",
       "    <tr style=\"text-align: right;\">\n",
       "      <th></th>\n",
       "      <th>ad_id</th>\n",
       "      <th>ad_name</th>\n",
       "      <th>clicks</th>\n",
       "      <th>cost_per_unique_inline_link_click</th>\n",
       "      <th>cpc</th>\n",
       "      <th>ctr</th>\n",
       "      <th>date_start</th>\n",
       "      <th>date_stop</th>\n",
       "      <th>impressions</th>\n",
       "      <th>reach</th>\n",
       "      <th>spend</th>\n",
       "      <th>unique_clicks</th>\n",
       "      <th>unique_inline_link_clicks</th>\n",
       "      <th>video_avg_time_watched_actions</th>\n",
       "      <th>video_p50_watched_actions</th>\n",
       "      <th>video_p75_watched_actions</th>\n",
       "      <th>video_p95_watched_actions</th>\n",
       "    </tr>\n",
       "    <tr>\n",
       "      <th>ad_name</th>\n",
       "      <th></th>\n",
       "      <th></th>\n",
       "      <th></th>\n",
       "      <th></th>\n",
       "      <th></th>\n",
       "      <th></th>\n",
       "      <th></th>\n",
       "      <th></th>\n",
       "      <th></th>\n",
       "      <th></th>\n",
       "      <th></th>\n",
       "      <th></th>\n",
       "      <th></th>\n",
       "      <th></th>\n",
       "      <th></th>\n",
       "      <th></th>\n",
       "      <th></th>\n",
       "    </tr>\n",
       "  </thead>\n",
       "  <tbody>\n",
       "    <tr>\n",
       "      <th>1 - Canada - Gen #2 - D</th>\n",
       "      <td>23844695610150691</td>\n",
       "      <td>1 - Canada - Gen #2 - D</td>\n",
       "      <td>146</td>\n",
       "      <td>0.164824</td>\n",
       "      <td>0.095959</td>\n",
       "      <td>1.840182</td>\n",
       "      <td>2020-07-26</td>\n",
       "      <td>2020-07-26</td>\n",
       "      <td>7934</td>\n",
       "      <td>7934</td>\n",
       "      <td>14.01</td>\n",
       "      <td>123</td>\n",
       "      <td>85</td>\n",
       "      <td>[{'action_type': 'video_view', 'value': '3'}]</td>\n",
       "      <td>[{'action_type': 'video_view', 'value': '1743'}]</td>\n",
       "      <td>[{'action_type': 'video_view', 'value': '731'}]</td>\n",
       "      <td>[{'action_type': 'video_view', 'value': '483'}]</td>\n",
       "    </tr>\n",
       "    <tr>\n",
       "      <th>1 - UK - General Ad 2-D</th>\n",
       "      <td>23844695719830691</td>\n",
       "      <td>1 - UK - General Ad 2-D</td>\n",
       "      <td>222</td>\n",
       "      <td>0.186711</td>\n",
       "      <td>0.125315</td>\n",
       "      <td>1.836988</td>\n",
       "      <td>2020-07-26</td>\n",
       "      <td>2020-07-26</td>\n",
       "      <td>12085</td>\n",
       "      <td>11904</td>\n",
       "      <td>27.82</td>\n",
       "      <td>201</td>\n",
       "      <td>149</td>\n",
       "      <td>[{'action_type': 'video_view', 'value': '3'}]</td>\n",
       "      <td>[{'action_type': 'video_view', 'value': '2610'}]</td>\n",
       "      <td>[{'action_type': 'video_view', 'value': '1164'}]</td>\n",
       "      <td>[{'action_type': 'video_view', 'value': '689'}]</td>\n",
       "    </tr>\n",
       "    <tr>\n",
       "      <th>1 - USA - Gen 2d - STORIES+FEED</th>\n",
       "      <td>23844698190420691</td>\n",
       "      <td>1 - USA - Gen 2d - STORIES+FEED</td>\n",
       "      <td>712</td>\n",
       "      <td>0.287179</td>\n",
       "      <td>0.160126</td>\n",
       "      <td>1.691854</td>\n",
       "      <td>2020-07-26</td>\n",
       "      <td>2020-07-26</td>\n",
       "      <td>42084</td>\n",
       "      <td>42084</td>\n",
       "      <td>114.01</td>\n",
       "      <td>628</td>\n",
       "      <td>397</td>\n",
       "      <td>[{'action_type': 'video_view', 'value': '3'}]</td>\n",
       "      <td>[{'action_type': 'video_view', 'value': '9173'}]</td>\n",
       "      <td>[{'action_type': 'video_view', 'value': '4205'}]</td>\n",
       "      <td>[{'action_type': 'video_view', 'value': '2689'}]</td>\n",
       "    </tr>\n",
       "    <tr>\n",
       "      <th>3 - Argentina - General 2-D</th>\n",
       "      <td>23844703855040691</td>\n",
       "      <td>3 - Argentina - General 2-D</td>\n",
       "      <td>9</td>\n",
       "      <td>0.096</td>\n",
       "      <td>0.053333</td>\n",
       "      <td>0.531601</td>\n",
       "      <td>2020-07-26</td>\n",
       "      <td>2020-07-26</td>\n",
       "      <td>1693</td>\n",
       "      <td>1690</td>\n",
       "      <td>0.48</td>\n",
       "      <td>7</td>\n",
       "      <td>5</td>\n",
       "      <td>[{'action_type': 'video_view', 'value': '1'}]</td>\n",
       "      <td>[{'action_type': 'video_view', 'value': '211'}]</td>\n",
       "      <td>[{'action_type': 'video_view', 'value': '48'}]</td>\n",
       "      <td>[{'action_type': 'video_view', 'value': '32'}]</td>\n",
       "    </tr>\n",
       "    <tr>\n",
       "      <th>3 - Indonesia - General Ad 2-D</th>\n",
       "      <td>23844703941280691</td>\n",
       "      <td>3 - Indonesia - General Ad 2-D</td>\n",
       "      <td>31</td>\n",
       "      <td>0.082</td>\n",
       "      <td>0.026452</td>\n",
       "      <td>0.969356</td>\n",
       "      <td>2020-07-26</td>\n",
       "      <td>2020-07-26</td>\n",
       "      <td>3198</td>\n",
       "      <td>3190</td>\n",
       "      <td>0.82</td>\n",
       "      <td>28</td>\n",
       "      <td>10</td>\n",
       "      <td>[{'action_type': 'video_view', 'value': '2'}]</td>\n",
       "      <td>[{'action_type': 'video_view', 'value': '445'}]</td>\n",
       "      <td>[{'action_type': 'video_view', 'value': '140'}]</td>\n",
       "      <td>[{'action_type': 'video_view', 'value': '98'}]</td>\n",
       "    </tr>\n",
       "    <tr>\n",
       "      <th>3 - Brasil - General Ad 2-D</th>\n",
       "      <td>23844703991600691</td>\n",
       "      <td>3 - Brasil - General Ad 2-D</td>\n",
       "      <td>146</td>\n",
       "      <td>0.063</td>\n",
       "      <td>0.030205</td>\n",
       "      <td>1.155063</td>\n",
       "      <td>2020-07-26</td>\n",
       "      <td>2020-07-26</td>\n",
       "      <td>12640</td>\n",
       "      <td>12640</td>\n",
       "      <td>4.41</td>\n",
       "      <td>133</td>\n",
       "      <td>70</td>\n",
       "      <td>[{'action_type': 'video_view', 'value': '2'}]</td>\n",
       "      <td>[{'action_type': 'video_view', 'value': '2181'}]</td>\n",
       "      <td>[{'action_type': 'video_view', 'value': '662'}]</td>\n",
       "      <td>[{'action_type': 'video_view', 'value': '425'}]</td>\n",
       "    </tr>\n",
       "    <tr>\n",
       "      <th>1 - Australia - General Ad 2-D</th>\n",
       "      <td>23844704075440691</td>\n",
       "      <td>1 - Australia - General Ad 2-D</td>\n",
       "      <td>129</td>\n",
       "      <td>0.294844</td>\n",
       "      <td>0.146279</td>\n",
       "      <td>1.992586</td>\n",
       "      <td>2020-07-26</td>\n",
       "      <td>2020-07-26</td>\n",
       "      <td>6474</td>\n",
       "      <td>6474</td>\n",
       "      <td>18.87</td>\n",
       "      <td>117</td>\n",
       "      <td>64</td>\n",
       "      <td>[{'action_type': 'video_view', 'value': '3'}]</td>\n",
       "      <td>[{'action_type': 'video_view', 'value': '1392'}]</td>\n",
       "      <td>[{'action_type': 'video_view', 'value': '602'}]</td>\n",
       "      <td>[{'action_type': 'video_view', 'value': '405'}]</td>\n",
       "    </tr>\n",
       "    <tr>\n",
       "      <th>2 - Germany - General Ad 2-D</th>\n",
       "      <td>23844708658510691</td>\n",
       "      <td>2 - Germany - General Ad 2-D</td>\n",
       "      <td>131</td>\n",
       "      <td>0.125526</td>\n",
       "      <td>0.072824</td>\n",
       "      <td>2.450889</td>\n",
       "      <td>2020-07-26</td>\n",
       "      <td>2020-07-26</td>\n",
       "      <td>5345</td>\n",
       "      <td>5345</td>\n",
       "      <td>9.54</td>\n",
       "      <td>115</td>\n",
       "      <td>76</td>\n",
       "      <td>[{'action_type': 'video_view', 'value': '3'}]</td>\n",
       "      <td>[{'action_type': 'video_view', 'value': '1284'}]</td>\n",
       "      <td>[{'action_type': 'video_view', 'value': '576'}]</td>\n",
       "      <td>[{'action_type': 'video_view', 'value': '379'}]</td>\n",
       "    </tr>\n",
       "    <tr>\n",
       "      <th>2 - Italy - General Ad 2-D</th>\n",
       "      <td>23844751626890691</td>\n",
       "      <td>2 - Italy - General Ad 2-D</td>\n",
       "      <td>155</td>\n",
       "      <td>0.152083</td>\n",
       "      <td>0.070645</td>\n",
       "      <td>0.994801</td>\n",
       "      <td>2020-07-26</td>\n",
       "      <td>2020-07-26</td>\n",
       "      <td>15581</td>\n",
       "      <td>15312</td>\n",
       "      <td>10.95</td>\n",
       "      <td>137</td>\n",
       "      <td>72</td>\n",
       "      <td>[{'action_type': 'video_view', 'value': '2'}]</td>\n",
       "      <td>[{'action_type': 'video_view', 'value': '2640'}]</td>\n",
       "      <td>[{'action_type': 'video_view', 'value': '747'}]</td>\n",
       "      <td>[{'action_type': 'video_view', 'value': '486'}]</td>\n",
       "    </tr>\n",
       "    <tr>\n",
       "      <th>1 - USA - Sunday Late Night - Gen 2D</th>\n",
       "      <td>23845059228910691</td>\n",
       "      <td>1 - USA - Sunday Late Night - Gen 2D</td>\n",
       "      <td>116</td>\n",
       "      <td>0.498936</td>\n",
       "      <td>0.202155</td>\n",
       "      <td>1.455458</td>\n",
       "      <td>2020-07-26</td>\n",
       "      <td>2020-07-26</td>\n",
       "      <td>7970</td>\n",
       "      <td>7944</td>\n",
       "      <td>23.45</td>\n",
       "      <td>101</td>\n",
       "      <td>47</td>\n",
       "      <td>[{'action_type': 'video_view', 'value': '3'}]</td>\n",
       "      <td>[{'action_type': 'video_view', 'value': '971'}]</td>\n",
       "      <td>[{'action_type': 'video_view', 'value': '647'}]</td>\n",
       "      <td>[{'action_type': 'video_view', 'value': '402'}]</td>\n",
       "    </tr>\n",
       "  </tbody>\n",
       "</table>\n",
       "</div>"
      ],
      "text/plain": [
       "                                                  ad_id  ...                         video_p95_watched_actions\n",
       "ad_name                                                  ...                                                  \n",
       "1 - Canada - Gen #2 - D               23844695610150691  ...   [{'action_type': 'video_view', 'value': '483'}]\n",
       "1 - UK - General Ad 2-D               23844695719830691  ...   [{'action_type': 'video_view', 'value': '689'}]\n",
       "1 - USA - Gen 2d - STORIES+FEED       23844698190420691  ...  [{'action_type': 'video_view', 'value': '2689'}]\n",
       "3 - Argentina - General 2-D           23844703855040691  ...    [{'action_type': 'video_view', 'value': '32'}]\n",
       "3 - Indonesia - General Ad 2-D        23844703941280691  ...    [{'action_type': 'video_view', 'value': '98'}]\n",
       "3 - Brasil - General Ad 2-D           23844703991600691  ...   [{'action_type': 'video_view', 'value': '425'}]\n",
       "1 - Australia - General Ad 2-D        23844704075440691  ...   [{'action_type': 'video_view', 'value': '405'}]\n",
       "2 - Germany - General Ad 2-D          23844708658510691  ...   [{'action_type': 'video_view', 'value': '379'}]\n",
       "2 - Italy - General Ad 2-D            23844751626890691  ...   [{'action_type': 'video_view', 'value': '486'}]\n",
       "1 - USA - Sunday Late Night - Gen 2D  23845059228910691  ...   [{'action_type': 'video_view', 'value': '402'}]\n",
       "\n",
       "[10 rows x 17 columns]"
      ]
     },
     "execution_count": null,
     "metadata": {
      "tags": []
     },
     "output_type": "execute_result"
    }
   ],
   "source": [
    "df"
   ]
  },
  {
   "cell_type": "markdown",
   "metadata": {},
   "source": [
    ""
   ]
  },
  {
   "cell_type": "code",
   "execution_count": null,
   "metadata": {},
   "outputs": [
    {
     "data": {
      "text/plain": [
       "[<AdsInsights> {\n",
       "    \"ad_name\": \"1 - Canada - Gen #2 - D\",\n",
       "    \"date_start\": \"2020-07-26\",\n",
       "    \"date_stop\": \"2020-07-26\"\n",
       "}, <AdsInsights> {\n",
       "    \"ad_name\": \"1 - UK - General Ad 2-D\",\n",
       "    \"date_start\": \"2020-07-26\",\n",
       "    \"date_stop\": \"2020-07-26\"\n",
       "}, <AdsInsights> {\n",
       "    \"ad_name\": \"1 - USA - Gen 2d - STORIES+FEED\",\n",
       "    \"date_start\": \"2020-07-26\",\n",
       "    \"date_stop\": \"2020-07-26\"\n",
       "}, <AdsInsights> {\n",
       "    \"ad_name\": \"3 - Argentina - General 2-D\",\n",
       "    \"date_start\": \"2020-07-26\",\n",
       "    \"date_stop\": \"2020-07-26\"\n",
       "}, <AdsInsights> {\n",
       "    \"ad_name\": \"3 - Indonesia - General Ad 2-D\",\n",
       "    \"date_start\": \"2020-07-26\",\n",
       "    \"date_stop\": \"2020-07-26\"\n",
       "}, <AdsInsights> {\n",
       "    \"ad_name\": \"3 - Brasil - General Ad 2-D\",\n",
       "    \"date_start\": \"2020-07-26\",\n",
       "    \"date_stop\": \"2020-07-26\"\n",
       "}, <AdsInsights> {\n",
       "    \"ad_name\": \"1 - Australia - General Ad 2-D\",\n",
       "    \"date_start\": \"2020-07-26\",\n",
       "    \"date_stop\": \"2020-07-26\"\n",
       "}, <AdsInsights> {\n",
       "    \"ad_name\": \"2 - Germany - General Ad 2-D\",\n",
       "    \"date_start\": \"2020-07-26\",\n",
       "    \"date_stop\": \"2020-07-26\"\n",
       "}, <AdsInsights> {\n",
       "    \"ad_name\": \"2 - Italy - General Ad 2-D\",\n",
       "    \"date_start\": \"2020-07-26\",\n",
       "    \"date_stop\": \"2020-07-26\"\n",
       "}, <AdsInsights> {\n",
       "    \"ad_name\": \"1 - USA - Sunday Late Night - Gen 2D\",\n",
       "    \"date_start\": \"2020-07-26\",\n",
       "    \"date_stop\": \"2020-07-26\"\n",
       "}]"
      ]
     },
     "execution_count": null,
     "metadata": {
      "tags": []
     },
     "output_type": "execute_result"
    }
   ],
   "source": [
    "account.get_insights(fields=[\n",
    "    AdsInsights.Field.ad_name,\n",
    "    AdsInsights.Field.ad_impression_actions,\n",
    "\n",
    "], params={\n",
    "    'level': AdsInsights.Level.ad,\n",
    "    'date_preset': AdsInsights.DatePreset.yesterday,\n",
    "})"
   ]
  },
  {
   "cell_type": "code",
   "execution_count": null,
   "metadata": {},
   "outputs": [],
   "source": [
    ""
   ]
  }
 ],
 "metadata": {
  "kernelspec": {
   "display_name": "Python 3",
   "name": "python3"
  }
 },
 "nbformat": 4,
 "nbformat_minor": 0
}
